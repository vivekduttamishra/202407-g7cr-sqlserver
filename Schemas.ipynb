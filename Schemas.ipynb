{
    "metadata": {
        "kernelspec": {
            "name": "SQL",
            "display_name": "SQL",
            "language": "sql"
        },
        "language_info": {
            "name": "sql",
            "version": ""
        }
    },
    "nbformat_minor": 2,
    "nbformat": 4,
    "cells": [
        {
            "cell_type": "markdown",
            "source": [
                "# Schema\n",
                "\n",
                "- Schema is a group of related DB Elements\n",
                "    - Table\n",
                "    - Views\n",
                "    - Stored Procs\n",
                "- They help us organise our code in different domains defined as schema like\n",
                "    - Sales\n",
                "    - Accounts\n",
                "- Element names must be unqiue within a schema\n",
                "- Two different schema can have table with same name\n",
                "    - Employee.Users\n",
                "    - Customer.Users\n",
                "\n",
                "  \n",
                "\n",
                "### Creating a Schema"
            ],
            "metadata": {
                "azdata_cell_guid": "5cdc292f-ea17-4b09-827d-f0ecfce08188"
            },
            "attachments": {}
        },
        {
            "cell_type": "code",
            "source": [
                "CREATE SCHEMA BMS; "
            ],
            "metadata": {
                "azdata_cell_guid": "a2b36868-3863-4afc-a835-f28d996a11e7",
                "language": "sql",
                "tags": []
            },
            "outputs": [
                {
                    "output_type": "display_data",
                    "data": {
                        "text/html": "Commands completed successfully."
                    },
                    "metadata": {}
                },
                {
                    "output_type": "display_data",
                    "data": {
                        "text/html": "Total execution time: 00:00:00.013"
                    },
                    "metadata": {}
                }
            ],
            "execution_count": 4
        },
        {
            "cell_type": "code",
            "source": [
                "CREATE SCHEMA UMS;"
            ],
            "metadata": {
                "language": "sql",
                "azdata_cell_guid": "1934c89b-06d4-4a61-9857-0c6c3bef9eae"
            },
            "outputs": [
                {
                    "output_type": "display_data",
                    "data": {
                        "text/html": "Commands completed successfully."
                    },
                    "metadata": {}
                },
                {
                    "output_type": "display_data",
                    "data": {
                        "text/html": "Total execution time: 00:00:00.002"
                    },
                    "metadata": {}
                }
            ],
            "execution_count": 5
        },
        {
            "cell_type": "markdown",
            "source": [
                "## How to find out available Schema\n",
                "\n",
                "- A schema doesn't show up in object explorer\n",
                "- But it is stored in a special system table called **sys.schemas**\n",
                "    - **Note:** sys is also a schema.\n",
                "- And we can query against that table to find out available schemas"
            ],
            "metadata": {
                "language": "sql",
                "azdata_cell_guid": "f2f06faf-270a-46f5-82b3-ad4627e3879e"
            },
            "attachments": {}
        },
        {
            "cell_type": "code",
            "source": [
                "SELECT * FROM sys.schemas;"
            ],
            "metadata": {
                "language": "sql",
                "azdata_cell_guid": "055f660b-06ca-467c-9298-10a6de23cb4e"
            },
            "outputs": [
                {
                    "output_type": "display_data",
                    "data": {
                        "text/html": "(15 rows affected)"
                    },
                    "metadata": {}
                },
                {
                    "output_type": "display_data",
                    "data": {
                        "text/html": "Total execution time: 00:00:00.047"
                    },
                    "metadata": {}
                },
                {
                    "output_type": "execute_result",
                    "execution_count": 6,
                    "data": {
                        "application/vnd.dataresource+json": {
                            "schema": {
                                "fields": [
                                    {
                                        "name": "name"
                                    },
                                    {
                                        "name": "schema_id"
                                    },
                                    {
                                        "name": "principal_id"
                                    }
                                ]
                            },
                            "data": [
                                {
                                    "name": "dbo",
                                    "schema_id": "1",
                                    "principal_id": "1"
                                },
                                {
                                    "name": "guest",
                                    "schema_id": "2",
                                    "principal_id": "2"
                                },
                                {
                                    "name": "INFORMATION_SCHEMA",
                                    "schema_id": "3",
                                    "principal_id": "3"
                                },
                                {
                                    "name": "sys",
                                    "schema_id": "4",
                                    "principal_id": "4"
                                },
                                {
                                    "name": "BMS",
                                    "schema_id": "5",
                                    "principal_id": "1"
                                },
                                {
                                    "name": "UMS",
                                    "schema_id": "6",
                                    "principal_id": "1"
                                },
                                {
                                    "name": "db_owner",
                                    "schema_id": "16384",
                                    "principal_id": "16384"
                                },
                                {
                                    "name": "db_accessadmin",
                                    "schema_id": "16385",
                                    "principal_id": "16385"
                                },
                                {
                                    "name": "db_securityadmin",
                                    "schema_id": "16386",
                                    "principal_id": "16386"
                                },
                                {
                                    "name": "db_ddladmin",
                                    "schema_id": "16387",
                                    "principal_id": "16387"
                                },
                                {
                                    "name": "db_backupoperator",
                                    "schema_id": "16389",
                                    "principal_id": "16389"
                                },
                                {
                                    "name": "db_datareader",
                                    "schema_id": "16390",
                                    "principal_id": "16390"
                                },
                                {
                                    "name": "db_datawriter",
                                    "schema_id": "16391",
                                    "principal_id": "16391"
                                },
                                {
                                    "name": "db_denydatareader",
                                    "schema_id": "16392",
                                    "principal_id": "16392"
                                },
                                {
                                    "name": "db_denydatawriter",
                                    "schema_id": "16393",
                                    "principal_id": "16393"
                                }
                            ]
                        },
                        "text/html": "<table><tr><th>name</th><th>schema_id</th><th>principal_id</th></tr><tr><td>dbo</td><td>1</td><td>1</td></tr><tr><td>guest</td><td>2</td><td>2</td></tr><tr><td>INFORMATION_SCHEMA</td><td>3</td><td>3</td></tr><tr><td>sys</td><td>4</td><td>4</td></tr><tr><td>BMS</td><td>5</td><td>1</td></tr><tr><td>UMS</td><td>6</td><td>1</td></tr><tr><td>db_owner</td><td>16384</td><td>16384</td></tr><tr><td>db_accessadmin</td><td>16385</td><td>16385</td></tr><tr><td>db_securityadmin</td><td>16386</td><td>16386</td></tr><tr><td>db_ddladmin</td><td>16387</td><td>16387</td></tr><tr><td>db_backupoperator</td><td>16389</td><td>16389</td></tr><tr><td>db_datareader</td><td>16390</td><td>16390</td></tr><tr><td>db_datawriter</td><td>16391</td><td>16391</td></tr><tr><td>db_denydatareader</td><td>16392</td><td>16392</td></tr><tr><td>db_denydatawriter</td><td>16393</td><td>16393</td></tr></table>"
                    },
                    "metadata": {}
                }
            ],
            "execution_count": 6
        },
        {
            "cell_type": "markdown",
            "source": [
                "## Now we can create tables with their own Schemas"
            ],
            "metadata": {
                "azdata_cell_guid": "bbc91b3b-f629-4203-b5ce-9d542207c766",
                "language": ""
            },
            "attachments": {}
        },
        {
            "cell_type": "code",
            "source": [
                "CREATE TABLE UMS.USERS(\r\n",
                "    EMAIL VARCHAR(50) NOT NULL,\r\n",
                "    PASSWORD VARCHAR(20) NOT NULL\r\n",
                ");\r\n",
                "\r\n",
                "CREATE TABLE BMS.BOOKS(\r\n",
                "    TITLE VARCHAR(100),\r\n",
                "    AUTHOR VARCHAR(100)\r\n",
                ");"
            ],
            "metadata": {
                "azdata_cell_guid": "ac380a07-eed2-4bf9-ac8f-0de46fa3a988",
                "language": "sql"
            },
            "outputs": [
                {
                    "output_type": "display_data",
                    "data": {
                        "text/html": "Commands completed successfully."
                    },
                    "metadata": {}
                },
                {
                    "output_type": "display_data",
                    "data": {
                        "text/html": "Total execution time: 00:00:00.018"
                    },
                    "metadata": {}
                }
            ],
            "execution_count": 7
        },
        {
            "cell_type": "markdown",
            "source": [
                "### **Note:** By Default, Tables are created with **dbo** schema"
            ],
            "metadata": {
                "azdata_cell_guid": "d187fb49-f869-4142-b02b-c06025101fc5"
            },
            "attachments": {}
        },
        {
            "cell_type": "code",
            "source": [
                "DROP TABLE BMS.BOOKS;\r\n",
                "DROP TABLE UMS.USERS;"
            ],
            "metadata": {
                "azdata_cell_guid": "01eacb3b-66fe-49a3-abee-47d632efeb25",
                "language": "sql"
            },
            "outputs": [
                {
                    "output_type": "display_data",
                    "data": {
                        "text/html": "Commands completed successfully."
                    },
                    "metadata": {}
                },
                {
                    "output_type": "display_data",
                    "data": {
                        "text/html": "Total execution time: 00:00:00.003"
                    },
                    "metadata": {}
                }
            ],
            "execution_count": 1
        }
    ]
}