{
    "metadata": {
        "kernelspec": {
            "name": "SQL",
            "display_name": "SQL",
            "language": "sql"
        },
        "language_info": {
            "name": "sql",
            "version": ""
        }
    },
    "nbformat_minor": 2,
    "nbformat": 4,
    "cells": [
        {
            "cell_type": "markdown",
            "source": [
                "## Requirement\n",
                "\n",
                "- A Book has the following information\n",
                "    - title\n",
                "    - author\n",
                "    - price\n",
                "    - <span style=\"color: var(--vscode-foreground);\">cover</span>\n",
                "    - reviews\n",
                "        - review1\n",
                "            - name\n",
                "            - rating\n",
                "        - review2\n",
                "            - name\n",
                "            - rating\n",
                "\n",
                "- But A Table cell (reviews) MUST BE atomic\n",
                "    - It can't (SHOUNDN'T) hold list/set etc\n",
                "\n",
                "# Normalization 1 (1NF)\n",
                "\n",
                "- All cells must be atomic \n",
                "    - information that can't be broken further\n",
                "    - single piece of information\n",
                "\n",
                "## Approach #1"
            ],
            "metadata": {
                "azdata_cell_guid": "196ead0a-1d6c-4fe6-9dcc-934b9b4fbc84"
            },
            "attachments": {}
        },
        {
            "cell_type": "code",
            "source": [
                "DROP TABLE IF EXISTS BOOKS;\r\n",
                "    "
            ],
            "metadata": {
                "azdata_cell_guid": "81094e96-7ef2-48f8-b61a-10fcac8ef071",
                "language": "sql"
            },
            "outputs": [
                {
                    "output_type": "display_data",
                    "data": {
                        "text/html": "Commands completed successfully."
                    },
                    "metadata": {}
                },
                {
                    "output_type": "display_data",
                    "data": {
                        "text/html": "Total execution time: 00:00:00.010"
                    },
                    "metadata": {}
                }
            ],
            "execution_count": 4
        },
        {
            "cell_type": "code",
            "source": [
                "CREATE TABLE BOOKS(\r\n",
                "    TITLE VARCHAR(100) NOT NULL,\r\n",
                "    AUTHOR VARCHAR(100) NOT NULL,\r\n",
                "    PRICE DECIMAL(8,2) CHECK(PRICE>=0),\r\n",
                "    --RATING DECIMAL(5,2) CHECK(RATING>=1 AND RATING<=5),\r\n",
                "    COVER VARCHAR(512) DEFAULT('unknown.png'),\r\n",
                "    --RATING RELATED INFO\r\n",
                "    REVIEWER VARCHAR(100),\r\n",
                "    RATING INT CHECK(RATING>=1 AND RATING<=5)\r\n",
                ")"
            ],
            "metadata": {
                "language": "sql",
                "azdata_cell_guid": "07021ebd-22cb-490e-bc93-c79290b921df"
            },
            "outputs": [
                {
                    "output_type": "display_data",
                    "data": {
                        "text/html": "Commands completed successfully."
                    },
                    "metadata": {}
                },
                {
                    "output_type": "display_data",
                    "data": {
                        "text/html": "Total execution time: 00:00:00.011"
                    },
                    "metadata": {}
                }
            ],
            "execution_count": 5
        },
        {
            "cell_type": "code",
            "source": [
                "INSERT \r\n",
                "    INTO BOOKS(TITLE,AUTHOR,PRICE,COVER,REVIEWER,RATING)\r\n",
                "    VALUES    \r\n",
                "    \r\n",
                "    ('The Accursed God','Vivek Dutta Mishra',299, 'tag.png','Sanjay',5),\r\n",
                "    ('The Accursed God','Vivek Dutta Mishra',299, 'tag.png','Shivanshi',3),\r\n",
                "    ('The Accursed God','Vivek Dutta Mishra',299, 'tag.png','Amit',5),\r\n",
                "    ('The Accursed God','Vivek Dutta Mishra',299, 'tag.png','Rajesh',5),\r\n",
                "    \r\n",
                "    ('Manas','Vivek Dutta Mishra',199, 'manas.png','Shivanshi',5),\r\n",
                "    ('Manas','Vivek Dutta Mishra',199, 'manas.png','Reena',4),\r\n",
                "    ('Manas','Vivek Dutta Mishra',199, 'manas.png','Sanjay',4),\r\n",
                "\r\n",
                "    ('Rashmirathi','Ramdhari Singh Dinkar',99, 'rashmirath.png','Shivanshi',4),\r\n",
                "    ('Rashmirathi','Ramdhari Singh Dinkar',99, 'rashmirath.png','Vivek',4),\r\n",
                "    ('Rashmirathi','Ramdhari Singh Dinkar',99, 'rashmirath.png','Reena',4),\r\n",
                "    ('Rashmirathi','Ramdhari Singh Dinkar',99, 'rashmirath.png','Amit',3),\r\n",
                "\r\n",
                "    ('The Count of Monte Cristo','Alexandre Dumas',499, 'cristo.png','Vivek',5),\r\n",
                "    ('The Count of Monte Cristo','Alexandre Dumas',499, 'cristo.png','Reena',4),\r\n",
                "    ('The Count of Monte Cristo','Alexandre Dumas',499, 'cristo.png','Shivanshi',4)\r\n",
                "    \r\n",
                "\r\n",
                "    ;"
            ],
            "metadata": {
                "language": "sql",
                "azdata_cell_guid": "66859daa-f261-4c0f-8189-c341b3e7e058"
            },
            "outputs": [
                {
                    "output_type": "display_data",
                    "data": {
                        "text/html": "(14 rows affected)"
                    },
                    "metadata": {}
                },
                {
                    "output_type": "display_data",
                    "data": {
                        "text/html": "Total execution time: 00:00:00.011"
                    },
                    "metadata": {}
                }
            ],
            "execution_count": 7
        },
        {
            "cell_type": "code",
            "source": [
                "SELECT * FROM BOOKS;"
            ],
            "metadata": {
                "azdata_cell_guid": "c5837ccb-5094-4eb3-a5c2-98e2e0cc4625",
                "language": "sql"
            },
            "outputs": [
                {
                    "output_type": "display_data",
                    "data": {
                        "text/html": "(14 rows affected)"
                    },
                    "metadata": {}
                },
                {
                    "output_type": "display_data",
                    "data": {
                        "text/html": "Total execution time: 00:00:00.019"
                    },
                    "metadata": {}
                },
                {
                    "output_type": "execute_result",
                    "metadata": {},
                    "execution_count": 8,
                    "data": {
                        "application/vnd.dataresource+json": {
                            "schema": {
                                "fields": [
                                    {
                                        "name": "TITLE"
                                    },
                                    {
                                        "name": "AUTHOR"
                                    },
                                    {
                                        "name": "PRICE"
                                    },
                                    {
                                        "name": "COVER"
                                    },
                                    {
                                        "name": "REVIEWER"
                                    },
                                    {
                                        "name": "RATING"
                                    }
                                ]
                            },
                            "data": [
                                {
                                    "TITLE": "The Accursed God",
                                    "AUTHOR": "Vivek Dutta Mishra",
                                    "PRICE": "299.00",
                                    "COVER": "tag.png",
                                    "REVIEWER": "Sanjay",
                                    "RATING": "5"
                                },
                                {
                                    "TITLE": "The Accursed God",
                                    "AUTHOR": "Vivek Dutta Mishra",
                                    "PRICE": "299.00",
                                    "COVER": "tag.png",
                                    "REVIEWER": "Shivanshi",
                                    "RATING": "3"
                                },
                                {
                                    "TITLE": "The Accursed God",
                                    "AUTHOR": "Vivek Dutta Mishra",
                                    "PRICE": "299.00",
                                    "COVER": "tag.png",
                                    "REVIEWER": "Amit",
                                    "RATING": "5"
                                },
                                {
                                    "TITLE": "The Accursed God",
                                    "AUTHOR": "Vivek Dutta Mishra",
                                    "PRICE": "299.00",
                                    "COVER": "tag.png",
                                    "REVIEWER": "Rajesh",
                                    "RATING": "5"
                                },
                                {
                                    "TITLE": "Manas",
                                    "AUTHOR": "Vivek Dutta Mishra",
                                    "PRICE": "199.00",
                                    "COVER": "manas.png",
                                    "REVIEWER": "Shivanshi",
                                    "RATING": "5"
                                },
                                {
                                    "TITLE": "Manas",
                                    "AUTHOR": "Vivek Dutta Mishra",
                                    "PRICE": "199.00",
                                    "COVER": "manas.png",
                                    "REVIEWER": "Reena",
                                    "RATING": "4"
                                },
                                {
                                    "TITLE": "Manas",
                                    "AUTHOR": "Vivek Dutta Mishra",
                                    "PRICE": "199.00",
                                    "COVER": "manas.png",
                                    "REVIEWER": "Sanjay",
                                    "RATING": "4"
                                },
                                {
                                    "TITLE": "Rashmirathi",
                                    "AUTHOR": "Ramdhari Singh Dinkar",
                                    "PRICE": "99.00",
                                    "COVER": "rashmirath.png",
                                    "REVIEWER": "Shivanshi",
                                    "RATING": "4"
                                },
                                {
                                    "TITLE": "Rashmirathi",
                                    "AUTHOR": "Ramdhari Singh Dinkar",
                                    "PRICE": "99.00",
                                    "COVER": "rashmirath.png",
                                    "REVIEWER": "Vivek",
                                    "RATING": "4"
                                },
                                {
                                    "TITLE": "Rashmirathi",
                                    "AUTHOR": "Ramdhari Singh Dinkar",
                                    "PRICE": "99.00",
                                    "COVER": "rashmirath.png",
                                    "REVIEWER": "Reena",
                                    "RATING": "4"
                                },
                                {
                                    "TITLE": "Rashmirathi",
                                    "AUTHOR": "Ramdhari Singh Dinkar",
                                    "PRICE": "99.00",
                                    "COVER": "rashmirath.png",
                                    "REVIEWER": "Amit",
                                    "RATING": "3"
                                },
                                {
                                    "TITLE": "The Count of Monte Cristo",
                                    "AUTHOR": "Alexandre Dumas",
                                    "PRICE": "499.00",
                                    "COVER": "cristo.png",
                                    "REVIEWER": "Vivek",
                                    "RATING": "5"
                                },
                                {
                                    "TITLE": "The Count of Monte Cristo",
                                    "AUTHOR": "Alexandre Dumas",
                                    "PRICE": "499.00",
                                    "COVER": "cristo.png",
                                    "REVIEWER": "Reena",
                                    "RATING": "4"
                                },
                                {
                                    "TITLE": "The Count of Monte Cristo",
                                    "AUTHOR": "Alexandre Dumas",
                                    "PRICE": "499.00",
                                    "COVER": "cristo.png",
                                    "REVIEWER": "Shivanshi",
                                    "RATING": "4"
                                }
                            ]
                        },
                        "text/html": [
                            "<table>",
                            "<tr><th>TITLE</th><th>AUTHOR</th><th>PRICE</th><th>COVER</th><th>REVIEWER</th><th>RATING</th></tr>",
                            "<tr><td>The Accursed God</td><td>Vivek Dutta Mishra</td><td>299.00</td><td>tag.png</td><td>Sanjay</td><td>5</td></tr>",
                            "<tr><td>The Accursed God</td><td>Vivek Dutta Mishra</td><td>299.00</td><td>tag.png</td><td>Shivanshi</td><td>3</td></tr>",
                            "<tr><td>The Accursed God</td><td>Vivek Dutta Mishra</td><td>299.00</td><td>tag.png</td><td>Amit</td><td>5</td></tr>",
                            "<tr><td>The Accursed God</td><td>Vivek Dutta Mishra</td><td>299.00</td><td>tag.png</td><td>Rajesh</td><td>5</td></tr>",
                            "<tr><td>Manas</td><td>Vivek Dutta Mishra</td><td>199.00</td><td>manas.png</td><td>Shivanshi</td><td>5</td></tr>",
                            "<tr><td>Manas</td><td>Vivek Dutta Mishra</td><td>199.00</td><td>manas.png</td><td>Reena</td><td>4</td></tr>",
                            "<tr><td>Manas</td><td>Vivek Dutta Mishra</td><td>199.00</td><td>manas.png</td><td>Sanjay</td><td>4</td></tr>",
                            "<tr><td>Rashmirathi</td><td>Ramdhari Singh Dinkar</td><td>99.00</td><td>rashmirath.png</td><td>Shivanshi</td><td>4</td></tr>",
                            "<tr><td>Rashmirathi</td><td>Ramdhari Singh Dinkar</td><td>99.00</td><td>rashmirath.png</td><td>Vivek</td><td>4</td></tr>",
                            "<tr><td>Rashmirathi</td><td>Ramdhari Singh Dinkar</td><td>99.00</td><td>rashmirath.png</td><td>Reena</td><td>4</td></tr>",
                            "<tr><td>Rashmirathi</td><td>Ramdhari Singh Dinkar</td><td>99.00</td><td>rashmirath.png</td><td>Amit</td><td>3</td></tr>",
                            "<tr><td>The Count of Monte Cristo</td><td>Alexandre Dumas</td><td>499.00</td><td>cristo.png</td><td>Vivek</td><td>5</td></tr>",
                            "<tr><td>The Count of Monte Cristo</td><td>Alexandre Dumas</td><td>499.00</td><td>cristo.png</td><td>Reena</td><td>4</td></tr>",
                            "<tr><td>The Count of Monte Cristo</td><td>Alexandre Dumas</td><td>499.00</td><td>cristo.png</td><td>Shivanshi</td><td>4</td></tr>",
                            "</table>"
                        ]
                    }
                }
            ],
            "execution_count": 8
        },
        {
            "cell_type": "code",
            "source": [
                ""
            ],
            "metadata": {
                "azdata_cell_guid": "c504f227-0873-4677-b045-87fda12e7808",
                "language": "sql"
            },
            "outputs": [],
            "execution_count": null
        },
        {
            "cell_type": "markdown",
            "source": [
                "## Assement 2.1 Create a Summary for all books to include \n",
                "\n",
                "1. Title\n",
                "2. Author\n",
                "3. Price\n",
                "4. Rating\n",
                "5. Votes (number of reviews)"
            ],
            "metadata": {
                "azdata_cell_guid": "37b96c23-2963-4723-a9ac-37f6f10ff948"
            },
            "attachments": {}
        },
        {
            "cell_type": "code",
            "source": [
                "SELECT \r\n",
                "    TITLE,\r\n",
                "    AUTHOR,\r\n",
                "    AVG(PRICE) AS PRICE,\r\n",
                "    AVG(RATING) AS RATING,\r\n",
                "    COUNT(*) AS VOTES\r\n",
                "\r\n",
                "FROM\r\n",
                "    BOOKS\r\n",
                "\r\n",
                "GROUP BY \r\n",
                "    TITLE,\r\n",
                "    AUTHOR"
            ],
            "metadata": {
                "azdata_cell_guid": "35c226aa-8f02-443b-8c33-122114c451ce",
                "language": "sql"
            },
            "outputs": [
                {
                    "output_type": "display_data",
                    "data": {
                        "text/html": "(4 rows affected)"
                    },
                    "metadata": {}
                },
                {
                    "output_type": "display_data",
                    "data": {
                        "text/html": "Total execution time: 00:00:00.028"
                    },
                    "metadata": {}
                },
                {
                    "output_type": "execute_result",
                    "metadata": {},
                    "execution_count": 14,
                    "data": {
                        "application/vnd.dataresource+json": {
                            "schema": {
                                "fields": [
                                    {
                                        "name": "TITLE"
                                    },
                                    {
                                        "name": "AUTHOR"
                                    },
                                    {
                                        "name": "PRICE"
                                    },
                                    {
                                        "name": "RATING"
                                    },
                                    {
                                        "name": "VOTES"
                                    }
                                ]
                            },
                            "data": [
                                {
                                    "TITLE": "The Count of Monte Cristo",
                                    "AUTHOR": "Alexandre Dumas",
                                    "PRICE": "499.000000",
                                    "RATING": "4",
                                    "VOTES": "3"
                                },
                                {
                                    "TITLE": "Rashmirathi",
                                    "AUTHOR": "Ramdhari Singh Dinkar",
                                    "PRICE": "99.000000",
                                    "RATING": "3",
                                    "VOTES": "4"
                                },
                                {
                                    "TITLE": "Manas",
                                    "AUTHOR": "Vivek Dutta Mishra",
                                    "PRICE": "199.000000",
                                    "RATING": "4",
                                    "VOTES": "3"
                                },
                                {
                                    "TITLE": "The Accursed God",
                                    "AUTHOR": "Vivek Dutta Mishra",
                                    "PRICE": "299.000000",
                                    "RATING": "4",
                                    "VOTES": "4"
                                }
                            ]
                        },
                        "text/html": [
                            "<table>",
                            "<tr><th>TITLE</th><th>AUTHOR</th><th>PRICE</th><th>RATING</th><th>VOTES</th></tr>",
                            "<tr><td>The Count of Monte Cristo</td><td>Alexandre Dumas</td><td>499.000000</td><td>4</td><td>3</td></tr>",
                            "<tr><td>Rashmirathi</td><td>Ramdhari Singh Dinkar</td><td>99.000000</td><td>3</td><td>4</td></tr>",
                            "<tr><td>Manas</td><td>Vivek Dutta Mishra</td><td>199.000000</td><td>4</td><td>3</td></tr>",
                            "<tr><td>The Accursed God</td><td>Vivek Dutta Mishra</td><td>299.000000</td><td>4</td><td>4</td></tr>",
                            "</table>"
                        ]
                    }
                }
            ],
            "execution_count": 14
        },
        {
            "cell_type": "markdown",
            "source": [
                "## Handling Decimal Values and Casting\n",
                "\n",
                "## Problems\n",
                "\n",
                "1. Price is given 5 places acurate. We need 2 decimal places only\n",
                "2. Rating is averaged as INT and decimal part is missing. we again need 2 decimal places.\n",
                "\n",
                "## Solution\n",
                "\n",
                "1\\. We can use the Round function to round a value to given decimal places\n",
                "\n",
                "- ROUND( VALUE, DECIMAL\\_PLACES)\n",
                "    - works with float/double data\n",
                "- FORMAT(VALUE, FORMAT\\_TYPE)\n",
                "    - Check for documentation for various formats.\n",
                "\n",
                "2\\. We can use **cast** function to conver an int int float before average"
            ],
            "metadata": {
                "azdata_cell_guid": "e03dea6b-744e-405c-b6db-fc7deb6ddc3d"
            },
            "attachments": {}
        },
        {
            "cell_type": "code",
            "source": [
                "SELECT \r\n",
                "    TITLE,\r\n",
                "    AUTHOR,\r\n",
                "    FORMAT(AVG(PRICE),'N2') AS PRICE, --ROUND DOESN'T WORK ON DECIMAL\r\n",
                "    ROUND(AVG(CAST(RATING as float)),2) AS RATING,\r\n",
                "    COUNT(*) AS VOTES\r\n",
                "\r\n",
                "FROM\r\n",
                "    BOOKS\r\n",
                "\r\n",
                "GROUP BY \r\n",
                "    TITLE,\r\n",
                "    AUTHOR"
            ],
            "metadata": {
                "azdata_cell_guid": "89e386dd-fd3a-42ae-a262-52aaa4cac856",
                "language": "sql"
            },
            "outputs": [
                {
                    "output_type": "display_data",
                    "data": {
                        "text/html": "(4 rows affected)"
                    },
                    "metadata": {}
                },
                {
                    "output_type": "display_data",
                    "data": {
                        "text/html": "Total execution time: 00:00:00.009"
                    },
                    "metadata": {}
                },
                {
                    "output_type": "execute_result",
                    "metadata": {},
                    "execution_count": 23,
                    "data": {
                        "application/vnd.dataresource+json": {
                            "schema": {
                                "fields": [
                                    {
                                        "name": "TITLE"
                                    },
                                    {
                                        "name": "AUTHOR"
                                    },
                                    {
                                        "name": "PRICE"
                                    },
                                    {
                                        "name": "RATING"
                                    },
                                    {
                                        "name": "VOTES"
                                    }
                                ]
                            },
                            "data": [
                                {
                                    "TITLE": "The Count of Monte Cristo",
                                    "AUTHOR": "Alexandre Dumas",
                                    "PRICE": "499.00",
                                    "RATING": "4.33",
                                    "VOTES": "3"
                                },
                                {
                                    "TITLE": "Rashmirathi",
                                    "AUTHOR": "Ramdhari Singh Dinkar",
                                    "PRICE": "99.00",
                                    "RATING": "3.75",
                                    "VOTES": "4"
                                },
                                {
                                    "TITLE": "Manas",
                                    "AUTHOR": "Vivek Dutta Mishra",
                                    "PRICE": "199.00",
                                    "RATING": "4.33",
                                    "VOTES": "3"
                                },
                                {
                                    "TITLE": "The Accursed God",
                                    "AUTHOR": "Vivek Dutta Mishra",
                                    "PRICE": "299.00",
                                    "RATING": "4.5",
                                    "VOTES": "4"
                                }
                            ]
                        },
                        "text/html": [
                            "<table>",
                            "<tr><th>TITLE</th><th>AUTHOR</th><th>PRICE</th><th>RATING</th><th>VOTES</th></tr>",
                            "<tr><td>The Count of Monte Cristo</td><td>Alexandre Dumas</td><td>499.00</td><td>4.33</td><td>3</td></tr>",
                            "<tr><td>Rashmirathi</td><td>Ramdhari Singh Dinkar</td><td>99.00</td><td>3.75</td><td>4</td></tr>",
                            "<tr><td>Manas</td><td>Vivek Dutta Mishra</td><td>199.00</td><td>4.33</td><td>3</td></tr>",
                            "<tr><td>The Accursed God</td><td>Vivek Dutta Mishra</td><td>299.00</td><td>4.5</td><td>4</td></tr>",
                            "</table>"
                        ]
                    }
                }
            ],
            "execution_count": 23
        },
        {
            "cell_type": "markdown",
            "source": [
                "## Assignment 2.2\n",
                "\n",
                "1. Create an Author review and info summary to include\n",
                "- decide what you can include\n",
                "    - author-name\n",
                "    - review count\n",
                "    - average rating\n",
                "    - books\\_written\n",
                "    - total\\_sales\\_value\n",
                "    - average\\_book\\_price\n",
                "\n",
                "3. Create a Reviewer-wise review and info summary to include\n",
                "- decide what you can include\n",
                "    - reviewer\n",
                "    - books\\_reviewed\n",
                "    - average\\_rating\\_given\n",
                "    - money\\_spent\n",
                "\n",
                "##"
            ],
            "metadata": {
                "azdata_cell_guid": "002cbc85-c2dc-4ff1-9ac4-baec6e1482fc",
                "language": ""
            },
            "attachments": {}
        },
        {
            "cell_type": "markdown",
            "source": [
                "# We can split the table to avoid redundancy.\n",
                "\n",
                "- <span style=\"color: var(--vscode-foreground);\">We can avoid redundancy by spliting it in two tables</span>\n",
                "1. <span style=\"color: var(--vscode-foreground);\">books</span>\n",
                "- <span style=\"color: var(--vscode-foreground);\">include unique properties of the book that can fit in a single record/row</span>\n",
                "    - <span style=\"color: var(--vscode-foreground);\">title</span>\n",
                "    - <span style=\"color: var(--vscode-foreground);\">author</span>\n",
                "    - <span style=\"color: var(--vscode-foreground);\">price</span>\n",
                "    - <span style=\"color: var(--vscode-foreground);\">cover</span>\n",
                "\n",
                "3. reviews\n",
                "- <span style=\"color: var(--vscode-foreground);\">should include review related information</span>\n",
                "    - <span style=\"color: var(--vscode-foreground);\">reviewer</span>\n",
                "    - <span style=\"color: var(--vscode-foreground);\">rating</span>\n",
                "- it should also include some information to relate it back to corresponding book\n",
                "    - TITLE"
            ],
            "metadata": {
                "azdata_cell_guid": "75038270-f8a3-47d6-80c4-2bc768b1df42"
            },
            "attachments": {}
        },
        {
            "cell_type": "code",
            "source": [
                "DROP TABLE IF EXISTS BOOKS;\r\n",
                "DROP TABLE IF EXISTS REVIEWS;\r\n",
                "\r\n",
                "CREATE TABLE BOOKS(\r\n",
                "    \r\n",
                "    TITLE VARCHAR(100) NOT NULL,\r\n",
                "    AUTHOR VARCHAR(100) NOT NULL,\r\n",
                "    PRICE DECIMAL(8,2) CHECK(PRICE>=0),\r\n",
                "    --RATING DECIMAL(5,2) CHECK(RATING>=1 AND RATING<=5),\r\n",
                "    COVER VARCHAR(512) DEFAULT('unknown.png')\r\n",
                ");\r\n",
                "\r\n",
                "CREATE TABLE REVIEWS(\r\n",
                "    -- RELATIONAL COLUMN RELATES TO TITLE OF THE BOOK\r\n",
                "    BOOK_TITLE VARCHAR(100) NOT NULL, \r\n",
                "\r\n",
                "    --RATING RELATED INFO\r\n",
                "    REVIEWER VARCHAR(100),\r\n",
                "    RATING INT CHECK(RATING>=1 AND RATING<=5)\r\n",
                "    \r\n",
                ");"
            ],
            "metadata": {
                "azdata_cell_guid": "8c97de73-d71d-4a8b-a699-d5a8a2625698",
                "language": "sql"
            },
            "outputs": [
                {
                    "output_type": "display_data",
                    "data": {
                        "text/html": "Commands completed successfully."
                    },
                    "metadata": {}
                },
                {
                    "output_type": "display_data",
                    "data": {
                        "text/html": "Total execution time: 00:00:00.036"
                    },
                    "metadata": {}
                }
            ],
            "execution_count": 101
        },
        {
            "cell_type": "code",
            "source": [
                "INSERT \r\n",
                "    INTO BOOKS(TITLE,AUTHOR,PRICE,COVER)\r\n",
                "    VALUES    \r\n",
                "    \r\n",
                "    ('The Accursed God','Vivek Dutta Mishra',299, 'tag.png'),\r\n",
                "    ('Manas','Vivek Dutta Mishra',199, 'manas.png'),\r\n",
                "    ('Rashmirathi','Ramdhari Singh Dinkar',99, 'rashmirath.png'),\r\n",
                "    ('The Count of Monte Cristo','Alexandre Dumas',499, 'cristo.png')\r\n",
                "    \r\n",
                "\r\n",
                "    ;"
            ],
            "metadata": {
                "language": "sql",
                "azdata_cell_guid": "1add3e34-9658-4cf2-a59e-895ab05a2000"
            },
            "outputs": [
                {
                    "output_type": "display_data",
                    "data": {
                        "text/html": "(4 rows affected)"
                    },
                    "metadata": {}
                },
                {
                    "output_type": "display_data",
                    "data": {
                        "text/html": "Total execution time: 00:00:00.012"
                    },
                    "metadata": {}
                }
            ],
            "execution_count": 102
        },
        {
            "cell_type": "code",
            "source": [
                "INSERT \r\n",
                "    INTO REVIEWS(BOOK_TITLE,REVIEWER,RATING)\r\n",
                "    VALUES    \r\n",
                "    \r\n",
                "    ('The Accursed God','Sanjay',5),\r\n",
                "    ('The Accursed God','Shivanshi',3),\r\n",
                "    ('The Accursed God','Amit',5),\r\n",
                "    ('The Accursed God','Rajesh',5),\r\n",
                "    \r\n",
                "    ('Manas','Shivanshi',5),\r\n",
                "    ('Manas','Reena',4),\r\n",
                "    ('Manas','Sanjay',4),\r\n",
                "\r\n",
                "    ('Rashmirathi','Shivanshi',4),\r\n",
                "    ('Rashmirathi','Vivek',4),\r\n",
                "    ('Rashmirathi','Reena',4),\r\n",
                "    ('Rashmirathi','Amit',3),\r\n",
                "\r\n",
                "    ('The Count of Monte Cristo','Vivek',5),\r\n",
                "    ('The Count of Monte Cristo','Reena',4),\r\n",
                "    ('The Count of Monte Cristo','Shivanshi',4)\r\n",
                "    \r\n",
                "\r\n",
                "    ;"
            ],
            "metadata": {
                "language": "sql",
                "azdata_cell_guid": "6f6d457e-39bd-4ddd-bf8e-17ddbf7c8eb6"
            },
            "outputs": [
                {
                    "output_type": "display_data",
                    "data": {
                        "text/html": "(14 rows affected)"
                    },
                    "metadata": {}
                },
                {
                    "output_type": "display_data",
                    "data": {
                        "text/html": "Total execution time: 00:00:00.015"
                    },
                    "metadata": {}
                }
            ],
            "execution_count": 103
        },
        {
            "cell_type": "code",
            "source": [
                "SELECT * FROM BOOKS;\r\n",
                "\r\n",
                "SELECT * FROM REVIEWS;"
            ],
            "metadata": {
                "azdata_cell_guid": "d7999dee-1a87-4ac4-862e-c5b8aa4d4617",
                "language": "sql"
            },
            "outputs": [
                {
                    "output_type": "display_data",
                    "data": {
                        "text/html": "(4 rows affected)"
                    },
                    "metadata": {}
                },
                {
                    "output_type": "display_data",
                    "data": {
                        "text/html": "(14 rows affected)"
                    },
                    "metadata": {}
                },
                {
                    "output_type": "display_data",
                    "data": {
                        "text/html": "Total execution time: 00:00:00.004"
                    },
                    "metadata": {}
                },
                {
                    "output_type": "execute_result",
                    "metadata": {},
                    "execution_count": 104,
                    "data": {
                        "application/vnd.dataresource+json": {
                            "schema": {
                                "fields": [
                                    {
                                        "name": "TITLE"
                                    },
                                    {
                                        "name": "AUTHOR"
                                    },
                                    {
                                        "name": "PRICE"
                                    },
                                    {
                                        "name": "COVER"
                                    }
                                ]
                            },
                            "data": [
                                {
                                    "TITLE": "The Accursed God",
                                    "AUTHOR": "Vivek Dutta Mishra",
                                    "PRICE": "299.00",
                                    "COVER": "tag.png"
                                },
                                {
                                    "TITLE": "Manas",
                                    "AUTHOR": "Vivek Dutta Mishra",
                                    "PRICE": "199.00",
                                    "COVER": "manas.png"
                                },
                                {
                                    "TITLE": "Rashmirathi",
                                    "AUTHOR": "Ramdhari Singh Dinkar",
                                    "PRICE": "99.00",
                                    "COVER": "rashmirath.png"
                                },
                                {
                                    "TITLE": "The Count of Monte Cristo",
                                    "AUTHOR": "Alexandre Dumas",
                                    "PRICE": "499.00",
                                    "COVER": "cristo.png"
                                }
                            ]
                        },
                        "text/html": [
                            "<table>",
                            "<tr><th>TITLE</th><th>AUTHOR</th><th>PRICE</th><th>COVER</th></tr>",
                            "<tr><td>The Accursed God</td><td>Vivek Dutta Mishra</td><td>299.00</td><td>tag.png</td></tr>",
                            "<tr><td>Manas</td><td>Vivek Dutta Mishra</td><td>199.00</td><td>manas.png</td></tr>",
                            "<tr><td>Rashmirathi</td><td>Ramdhari Singh Dinkar</td><td>99.00</td><td>rashmirath.png</td></tr>",
                            "<tr><td>The Count of Monte Cristo</td><td>Alexandre Dumas</td><td>499.00</td><td>cristo.png</td></tr>",
                            "</table>"
                        ]
                    }
                },
                {
                    "output_type": "execute_result",
                    "metadata": {},
                    "execution_count": 104,
                    "data": {
                        "application/vnd.dataresource+json": {
                            "schema": {
                                "fields": [
                                    {
                                        "name": "BOOK_TITLE"
                                    },
                                    {
                                        "name": "REVIEWER"
                                    },
                                    {
                                        "name": "RATING"
                                    }
                                ]
                            },
                            "data": [
                                {
                                    "BOOK_TITLE": "The Accursed God",
                                    "REVIEWER": "Sanjay",
                                    "RATING": "5"
                                },
                                {
                                    "BOOK_TITLE": "The Accursed God",
                                    "REVIEWER": "Shivanshi",
                                    "RATING": "3"
                                },
                                {
                                    "BOOK_TITLE": "The Accursed God",
                                    "REVIEWER": "Amit",
                                    "RATING": "5"
                                },
                                {
                                    "BOOK_TITLE": "The Accursed God",
                                    "REVIEWER": "Rajesh",
                                    "RATING": "5"
                                },
                                {
                                    "BOOK_TITLE": "Manas",
                                    "REVIEWER": "Shivanshi",
                                    "RATING": "5"
                                },
                                {
                                    "BOOK_TITLE": "Manas",
                                    "REVIEWER": "Reena",
                                    "RATING": "4"
                                },
                                {
                                    "BOOK_TITLE": "Manas",
                                    "REVIEWER": "Sanjay",
                                    "RATING": "4"
                                },
                                {
                                    "BOOK_TITLE": "Rashmirathi",
                                    "REVIEWER": "Shivanshi",
                                    "RATING": "4"
                                },
                                {
                                    "BOOK_TITLE": "Rashmirathi",
                                    "REVIEWER": "Vivek",
                                    "RATING": "4"
                                },
                                {
                                    "BOOK_TITLE": "Rashmirathi",
                                    "REVIEWER": "Reena",
                                    "RATING": "4"
                                },
                                {
                                    "BOOK_TITLE": "Rashmirathi",
                                    "REVIEWER": "Amit",
                                    "RATING": "3"
                                },
                                {
                                    "BOOK_TITLE": "The Count of Monte Cristo",
                                    "REVIEWER": "Vivek",
                                    "RATING": "5"
                                },
                                {
                                    "BOOK_TITLE": "The Count of Monte Cristo",
                                    "REVIEWER": "Reena",
                                    "RATING": "4"
                                },
                                {
                                    "BOOK_TITLE": "The Count of Monte Cristo",
                                    "REVIEWER": "Shivanshi",
                                    "RATING": "4"
                                }
                            ]
                        },
                        "text/html": [
                            "<table>",
                            "<tr><th>BOOK_TITLE</th><th>REVIEWER</th><th>RATING</th></tr>",
                            "<tr><td>The Accursed God</td><td>Sanjay</td><td>5</td></tr>",
                            "<tr><td>The Accursed God</td><td>Shivanshi</td><td>3</td></tr>",
                            "<tr><td>The Accursed God</td><td>Amit</td><td>5</td></tr>",
                            "<tr><td>The Accursed God</td><td>Rajesh</td><td>5</td></tr>",
                            "<tr><td>Manas</td><td>Shivanshi</td><td>5</td></tr>",
                            "<tr><td>Manas</td><td>Reena</td><td>4</td></tr>",
                            "<tr><td>Manas</td><td>Sanjay</td><td>4</td></tr>",
                            "<tr><td>Rashmirathi</td><td>Shivanshi</td><td>4</td></tr>",
                            "<tr><td>Rashmirathi</td><td>Vivek</td><td>4</td></tr>",
                            "<tr><td>Rashmirathi</td><td>Reena</td><td>4</td></tr>",
                            "<tr><td>Rashmirathi</td><td>Amit</td><td>3</td></tr>",
                            "<tr><td>The Count of Monte Cristo</td><td>Vivek</td><td>5</td></tr>",
                            "<tr><td>The Count of Monte Cristo</td><td>Reena</td><td>4</td></tr>",
                            "<tr><td>The Count of Monte Cristo</td><td>Shivanshi</td><td>4</td></tr>",
                            "</table>"
                        ]
                    }
                }
            ],
            "execution_count": 104
        },
        {
            "cell_type": "markdown",
            "source": [
                "# We need a result that contains information from both tables\n",
                "\n",
                "  \n",
                "\n",
                "- The information in both tables are related \n",
                "    - We have used them together earlier\n",
                "- We still need to create reports based on results from both tables\n",
                "    - <span style=\"color: var(--vscode-foreground);\">Example</span>\n",
                "1. Book List similar to the original one\n",
                "2. Book List with their average and total rating\n",
                "3. Author List with their book count, rating and average\n",
                "4. Reviewer list with book reviews.\n",
                "\n",
                "  \n",
                "\n",
                "## We can combine the result from two tables by adding them in FROM clause\n",
                "\n",
                "### But result will NOT Be expected one."
            ],
            "metadata": {
                "azdata_cell_guid": "87ae310e-90d8-4f34-959b-cbdacbce7a37",
                "language": ""
            },
            "attachments": {}
        },
        {
            "cell_type": "code",
            "source": [
                "SELECT \r\n",
                "    *\r\n",
                "FROM\r\n",
                "    BOOKS,\r\n",
                "    REVIEWS\r\n",
                "    "
            ],
            "metadata": {
                "azdata_cell_guid": "e841fa1b-da97-4331-9618-31fd7dfcb5db",
                "language": "sql"
            },
            "outputs": [
                {
                    "output_type": "display_data",
                    "data": {
                        "text/html": "(56 rows affected)"
                    },
                    "metadata": {}
                },
                {
                    "output_type": "display_data",
                    "data": {
                        "text/html": "Total execution time: 00:00:00.012"
                    },
                    "metadata": {}
                },
                {
                    "output_type": "execute_result",
                    "metadata": {},
                    "execution_count": 105,
                    "data": {
                        "application/vnd.dataresource+json": {
                            "schema": {
                                "fields": [
                                    {
                                        "name": "TITLE"
                                    },
                                    {
                                        "name": "AUTHOR"
                                    },
                                    {
                                        "name": "PRICE"
                                    },
                                    {
                                        "name": "COVER"
                                    },
                                    {
                                        "name": "BOOK_TITLE"
                                    },
                                    {
                                        "name": "REVIEWER"
                                    },
                                    {
                                        "name": "RATING"
                                    }
                                ]
                            },
                            "data": [
                                {
                                    "TITLE": "The Accursed God",
                                    "AUTHOR": "Vivek Dutta Mishra",
                                    "PRICE": "299.00",
                                    "COVER": "tag.png",
                                    "BOOK_TITLE": "The Accursed God",
                                    "REVIEWER": "Sanjay",
                                    "RATING": "5"
                                },
                                {
                                    "TITLE": "The Accursed God",
                                    "AUTHOR": "Vivek Dutta Mishra",
                                    "PRICE": "299.00",
                                    "COVER": "tag.png",
                                    "BOOK_TITLE": "The Accursed God",
                                    "REVIEWER": "Shivanshi",
                                    "RATING": "3"
                                },
                                {
                                    "TITLE": "The Accursed God",
                                    "AUTHOR": "Vivek Dutta Mishra",
                                    "PRICE": "299.00",
                                    "COVER": "tag.png",
                                    "BOOK_TITLE": "The Accursed God",
                                    "REVIEWER": "Amit",
                                    "RATING": "5"
                                },
                                {
                                    "TITLE": "The Accursed God",
                                    "AUTHOR": "Vivek Dutta Mishra",
                                    "PRICE": "299.00",
                                    "COVER": "tag.png",
                                    "BOOK_TITLE": "The Accursed God",
                                    "REVIEWER": "Rajesh",
                                    "RATING": "5"
                                },
                                {
                                    "TITLE": "The Accursed God",
                                    "AUTHOR": "Vivek Dutta Mishra",
                                    "PRICE": "299.00",
                                    "COVER": "tag.png",
                                    "BOOK_TITLE": "Manas",
                                    "REVIEWER": "Shivanshi",
                                    "RATING": "5"
                                },
                                {
                                    "TITLE": "The Accursed God",
                                    "AUTHOR": "Vivek Dutta Mishra",
                                    "PRICE": "299.00",
                                    "COVER": "tag.png",
                                    "BOOK_TITLE": "Manas",
                                    "REVIEWER": "Reena",
                                    "RATING": "4"
                                },
                                {
                                    "TITLE": "The Accursed God",
                                    "AUTHOR": "Vivek Dutta Mishra",
                                    "PRICE": "299.00",
                                    "COVER": "tag.png",
                                    "BOOK_TITLE": "Manas",
                                    "REVIEWER": "Sanjay",
                                    "RATING": "4"
                                },
                                {
                                    "TITLE": "The Accursed God",
                                    "AUTHOR": "Vivek Dutta Mishra",
                                    "PRICE": "299.00",
                                    "COVER": "tag.png",
                                    "BOOK_TITLE": "Rashmirathi",
                                    "REVIEWER": "Shivanshi",
                                    "RATING": "4"
                                },
                                {
                                    "TITLE": "The Accursed God",
                                    "AUTHOR": "Vivek Dutta Mishra",
                                    "PRICE": "299.00",
                                    "COVER": "tag.png",
                                    "BOOK_TITLE": "Rashmirathi",
                                    "REVIEWER": "Vivek",
                                    "RATING": "4"
                                },
                                {
                                    "TITLE": "The Accursed God",
                                    "AUTHOR": "Vivek Dutta Mishra",
                                    "PRICE": "299.00",
                                    "COVER": "tag.png",
                                    "BOOK_TITLE": "Rashmirathi",
                                    "REVIEWER": "Reena",
                                    "RATING": "4"
                                },
                                {
                                    "TITLE": "The Accursed God",
                                    "AUTHOR": "Vivek Dutta Mishra",
                                    "PRICE": "299.00",
                                    "COVER": "tag.png",
                                    "BOOK_TITLE": "Rashmirathi",
                                    "REVIEWER": "Amit",
                                    "RATING": "3"
                                },
                                {
                                    "TITLE": "The Accursed God",
                                    "AUTHOR": "Vivek Dutta Mishra",
                                    "PRICE": "299.00",
                                    "COVER": "tag.png",
                                    "BOOK_TITLE": "The Count of Monte Cristo",
                                    "REVIEWER": "Vivek",
                                    "RATING": "5"
                                },
                                {
                                    "TITLE": "The Accursed God",
                                    "AUTHOR": "Vivek Dutta Mishra",
                                    "PRICE": "299.00",
                                    "COVER": "tag.png",
                                    "BOOK_TITLE": "The Count of Monte Cristo",
                                    "REVIEWER": "Reena",
                                    "RATING": "4"
                                },
                                {
                                    "TITLE": "The Accursed God",
                                    "AUTHOR": "Vivek Dutta Mishra",
                                    "PRICE": "299.00",
                                    "COVER": "tag.png",
                                    "BOOK_TITLE": "The Count of Monte Cristo",
                                    "REVIEWER": "Shivanshi",
                                    "RATING": "4"
                                },
                                {
                                    "TITLE": "Manas",
                                    "AUTHOR": "Vivek Dutta Mishra",
                                    "PRICE": "199.00",
                                    "COVER": "manas.png",
                                    "BOOK_TITLE": "The Accursed God",
                                    "REVIEWER": "Sanjay",
                                    "RATING": "5"
                                },
                                {
                                    "TITLE": "Manas",
                                    "AUTHOR": "Vivek Dutta Mishra",
                                    "PRICE": "199.00",
                                    "COVER": "manas.png",
                                    "BOOK_TITLE": "The Accursed God",
                                    "REVIEWER": "Shivanshi",
                                    "RATING": "3"
                                },
                                {
                                    "TITLE": "Manas",
                                    "AUTHOR": "Vivek Dutta Mishra",
                                    "PRICE": "199.00",
                                    "COVER": "manas.png",
                                    "BOOK_TITLE": "The Accursed God",
                                    "REVIEWER": "Amit",
                                    "RATING": "5"
                                },
                                {
                                    "TITLE": "Manas",
                                    "AUTHOR": "Vivek Dutta Mishra",
                                    "PRICE": "199.00",
                                    "COVER": "manas.png",
                                    "BOOK_TITLE": "The Accursed God",
                                    "REVIEWER": "Rajesh",
                                    "RATING": "5"
                                },
                                {
                                    "TITLE": "Manas",
                                    "AUTHOR": "Vivek Dutta Mishra",
                                    "PRICE": "199.00",
                                    "COVER": "manas.png",
                                    "BOOK_TITLE": "Manas",
                                    "REVIEWER": "Shivanshi",
                                    "RATING": "5"
                                },
                                {
                                    "TITLE": "Manas",
                                    "AUTHOR": "Vivek Dutta Mishra",
                                    "PRICE": "199.00",
                                    "COVER": "manas.png",
                                    "BOOK_TITLE": "Manas",
                                    "REVIEWER": "Reena",
                                    "RATING": "4"
                                },
                                {
                                    "TITLE": "Manas",
                                    "AUTHOR": "Vivek Dutta Mishra",
                                    "PRICE": "199.00",
                                    "COVER": "manas.png",
                                    "BOOK_TITLE": "Manas",
                                    "REVIEWER": "Sanjay",
                                    "RATING": "4"
                                },
                                {
                                    "TITLE": "Manas",
                                    "AUTHOR": "Vivek Dutta Mishra",
                                    "PRICE": "199.00",
                                    "COVER": "manas.png",
                                    "BOOK_TITLE": "Rashmirathi",
                                    "REVIEWER": "Shivanshi",
                                    "RATING": "4"
                                },
                                {
                                    "TITLE": "Manas",
                                    "AUTHOR": "Vivek Dutta Mishra",
                                    "PRICE": "199.00",
                                    "COVER": "manas.png",
                                    "BOOK_TITLE": "Rashmirathi",
                                    "REVIEWER": "Vivek",
                                    "RATING": "4"
                                },
                                {
                                    "TITLE": "Manas",
                                    "AUTHOR": "Vivek Dutta Mishra",
                                    "PRICE": "199.00",
                                    "COVER": "manas.png",
                                    "BOOK_TITLE": "Rashmirathi",
                                    "REVIEWER": "Reena",
                                    "RATING": "4"
                                },
                                {
                                    "TITLE": "Manas",
                                    "AUTHOR": "Vivek Dutta Mishra",
                                    "PRICE": "199.00",
                                    "COVER": "manas.png",
                                    "BOOK_TITLE": "Rashmirathi",
                                    "REVIEWER": "Amit",
                                    "RATING": "3"
                                },
                                {
                                    "TITLE": "Manas",
                                    "AUTHOR": "Vivek Dutta Mishra",
                                    "PRICE": "199.00",
                                    "COVER": "manas.png",
                                    "BOOK_TITLE": "The Count of Monte Cristo",
                                    "REVIEWER": "Vivek",
                                    "RATING": "5"
                                },
                                {
                                    "TITLE": "Manas",
                                    "AUTHOR": "Vivek Dutta Mishra",
                                    "PRICE": "199.00",
                                    "COVER": "manas.png",
                                    "BOOK_TITLE": "The Count of Monte Cristo",
                                    "REVIEWER": "Reena",
                                    "RATING": "4"
                                },
                                {
                                    "TITLE": "Manas",
                                    "AUTHOR": "Vivek Dutta Mishra",
                                    "PRICE": "199.00",
                                    "COVER": "manas.png",
                                    "BOOK_TITLE": "The Count of Monte Cristo",
                                    "REVIEWER": "Shivanshi",
                                    "RATING": "4"
                                },
                                {
                                    "TITLE": "Rashmirathi",
                                    "AUTHOR": "Ramdhari Singh Dinkar",
                                    "PRICE": "99.00",
                                    "COVER": "rashmirath.png",
                                    "BOOK_TITLE": "The Accursed God",
                                    "REVIEWER": "Sanjay",
                                    "RATING": "5"
                                },
                                {
                                    "TITLE": "Rashmirathi",
                                    "AUTHOR": "Ramdhari Singh Dinkar",
                                    "PRICE": "99.00",
                                    "COVER": "rashmirath.png",
                                    "BOOK_TITLE": "The Accursed God",
                                    "REVIEWER": "Shivanshi",
                                    "RATING": "3"
                                },
                                {
                                    "TITLE": "Rashmirathi",
                                    "AUTHOR": "Ramdhari Singh Dinkar",
                                    "PRICE": "99.00",
                                    "COVER": "rashmirath.png",
                                    "BOOK_TITLE": "The Accursed God",
                                    "REVIEWER": "Amit",
                                    "RATING": "5"
                                },
                                {
                                    "TITLE": "Rashmirathi",
                                    "AUTHOR": "Ramdhari Singh Dinkar",
                                    "PRICE": "99.00",
                                    "COVER": "rashmirath.png",
                                    "BOOK_TITLE": "The Accursed God",
                                    "REVIEWER": "Rajesh",
                                    "RATING": "5"
                                },
                                {
                                    "TITLE": "Rashmirathi",
                                    "AUTHOR": "Ramdhari Singh Dinkar",
                                    "PRICE": "99.00",
                                    "COVER": "rashmirath.png",
                                    "BOOK_TITLE": "Manas",
                                    "REVIEWER": "Shivanshi",
                                    "RATING": "5"
                                },
                                {
                                    "TITLE": "Rashmirathi",
                                    "AUTHOR": "Ramdhari Singh Dinkar",
                                    "PRICE": "99.00",
                                    "COVER": "rashmirath.png",
                                    "BOOK_TITLE": "Manas",
                                    "REVIEWER": "Reena",
                                    "RATING": "4"
                                },
                                {
                                    "TITLE": "Rashmirathi",
                                    "AUTHOR": "Ramdhari Singh Dinkar",
                                    "PRICE": "99.00",
                                    "COVER": "rashmirath.png",
                                    "BOOK_TITLE": "Manas",
                                    "REVIEWER": "Sanjay",
                                    "RATING": "4"
                                },
                                {
                                    "TITLE": "Rashmirathi",
                                    "AUTHOR": "Ramdhari Singh Dinkar",
                                    "PRICE": "99.00",
                                    "COVER": "rashmirath.png",
                                    "BOOK_TITLE": "Rashmirathi",
                                    "REVIEWER": "Shivanshi",
                                    "RATING": "4"
                                },
                                {
                                    "TITLE": "Rashmirathi",
                                    "AUTHOR": "Ramdhari Singh Dinkar",
                                    "PRICE": "99.00",
                                    "COVER": "rashmirath.png",
                                    "BOOK_TITLE": "Rashmirathi",
                                    "REVIEWER": "Vivek",
                                    "RATING": "4"
                                },
                                {
                                    "TITLE": "Rashmirathi",
                                    "AUTHOR": "Ramdhari Singh Dinkar",
                                    "PRICE": "99.00",
                                    "COVER": "rashmirath.png",
                                    "BOOK_TITLE": "Rashmirathi",
                                    "REVIEWER": "Reena",
                                    "RATING": "4"
                                },
                                {
                                    "TITLE": "Rashmirathi",
                                    "AUTHOR": "Ramdhari Singh Dinkar",
                                    "PRICE": "99.00",
                                    "COVER": "rashmirath.png",
                                    "BOOK_TITLE": "Rashmirathi",
                                    "REVIEWER": "Amit",
                                    "RATING": "3"
                                },
                                {
                                    "TITLE": "Rashmirathi",
                                    "AUTHOR": "Ramdhari Singh Dinkar",
                                    "PRICE": "99.00",
                                    "COVER": "rashmirath.png",
                                    "BOOK_TITLE": "The Count of Monte Cristo",
                                    "REVIEWER": "Vivek",
                                    "RATING": "5"
                                },
                                {
                                    "TITLE": "Rashmirathi",
                                    "AUTHOR": "Ramdhari Singh Dinkar",
                                    "PRICE": "99.00",
                                    "COVER": "rashmirath.png",
                                    "BOOK_TITLE": "The Count of Monte Cristo",
                                    "REVIEWER": "Reena",
                                    "RATING": "4"
                                },
                                {
                                    "TITLE": "Rashmirathi",
                                    "AUTHOR": "Ramdhari Singh Dinkar",
                                    "PRICE": "99.00",
                                    "COVER": "rashmirath.png",
                                    "BOOK_TITLE": "The Count of Monte Cristo",
                                    "REVIEWER": "Shivanshi",
                                    "RATING": "4"
                                },
                                {
                                    "TITLE": "The Count of Monte Cristo",
                                    "AUTHOR": "Alexandre Dumas",
                                    "PRICE": "499.00",
                                    "COVER": "cristo.png",
                                    "BOOK_TITLE": "The Accursed God",
                                    "REVIEWER": "Sanjay",
                                    "RATING": "5"
                                },
                                {
                                    "TITLE": "The Count of Monte Cristo",
                                    "AUTHOR": "Alexandre Dumas",
                                    "PRICE": "499.00",
                                    "COVER": "cristo.png",
                                    "BOOK_TITLE": "The Accursed God",
                                    "REVIEWER": "Shivanshi",
                                    "RATING": "3"
                                },
                                {
                                    "TITLE": "The Count of Monte Cristo",
                                    "AUTHOR": "Alexandre Dumas",
                                    "PRICE": "499.00",
                                    "COVER": "cristo.png",
                                    "BOOK_TITLE": "The Accursed God",
                                    "REVIEWER": "Amit",
                                    "RATING": "5"
                                },
                                {
                                    "TITLE": "The Count of Monte Cristo",
                                    "AUTHOR": "Alexandre Dumas",
                                    "PRICE": "499.00",
                                    "COVER": "cristo.png",
                                    "BOOK_TITLE": "The Accursed God",
                                    "REVIEWER": "Rajesh",
                                    "RATING": "5"
                                },
                                {
                                    "TITLE": "The Count of Monte Cristo",
                                    "AUTHOR": "Alexandre Dumas",
                                    "PRICE": "499.00",
                                    "COVER": "cristo.png",
                                    "BOOK_TITLE": "Manas",
                                    "REVIEWER": "Shivanshi",
                                    "RATING": "5"
                                },
                                {
                                    "TITLE": "The Count of Monte Cristo",
                                    "AUTHOR": "Alexandre Dumas",
                                    "PRICE": "499.00",
                                    "COVER": "cristo.png",
                                    "BOOK_TITLE": "Manas",
                                    "REVIEWER": "Reena",
                                    "RATING": "4"
                                },
                                {
                                    "TITLE": "The Count of Monte Cristo",
                                    "AUTHOR": "Alexandre Dumas",
                                    "PRICE": "499.00",
                                    "COVER": "cristo.png",
                                    "BOOK_TITLE": "Manas",
                                    "REVIEWER": "Sanjay",
                                    "RATING": "4"
                                },
                                {
                                    "TITLE": "The Count of Monte Cristo",
                                    "AUTHOR": "Alexandre Dumas",
                                    "PRICE": "499.00",
                                    "COVER": "cristo.png",
                                    "BOOK_TITLE": "Rashmirathi",
                                    "REVIEWER": "Shivanshi",
                                    "RATING": "4"
                                },
                                {
                                    "TITLE": "The Count of Monte Cristo",
                                    "AUTHOR": "Alexandre Dumas",
                                    "PRICE": "499.00",
                                    "COVER": "cristo.png",
                                    "BOOK_TITLE": "Rashmirathi",
                                    "REVIEWER": "Vivek",
                                    "RATING": "4"
                                },
                                {
                                    "TITLE": "The Count of Monte Cristo",
                                    "AUTHOR": "Alexandre Dumas",
                                    "PRICE": "499.00",
                                    "COVER": "cristo.png",
                                    "BOOK_TITLE": "Rashmirathi",
                                    "REVIEWER": "Reena",
                                    "RATING": "4"
                                },
                                {
                                    "TITLE": "The Count of Monte Cristo",
                                    "AUTHOR": "Alexandre Dumas",
                                    "PRICE": "499.00",
                                    "COVER": "cristo.png",
                                    "BOOK_TITLE": "Rashmirathi",
                                    "REVIEWER": "Amit",
                                    "RATING": "3"
                                },
                                {
                                    "TITLE": "The Count of Monte Cristo",
                                    "AUTHOR": "Alexandre Dumas",
                                    "PRICE": "499.00",
                                    "COVER": "cristo.png",
                                    "BOOK_TITLE": "The Count of Monte Cristo",
                                    "REVIEWER": "Vivek",
                                    "RATING": "5"
                                },
                                {
                                    "TITLE": "The Count of Monte Cristo",
                                    "AUTHOR": "Alexandre Dumas",
                                    "PRICE": "499.00",
                                    "COVER": "cristo.png",
                                    "BOOK_TITLE": "The Count of Monte Cristo",
                                    "REVIEWER": "Reena",
                                    "RATING": "4"
                                },
                                {
                                    "TITLE": "The Count of Monte Cristo",
                                    "AUTHOR": "Alexandre Dumas",
                                    "PRICE": "499.00",
                                    "COVER": "cristo.png",
                                    "BOOK_TITLE": "The Count of Monte Cristo",
                                    "REVIEWER": "Shivanshi",
                                    "RATING": "4"
                                }
                            ]
                        },
                        "text/html": [
                            "<table>",
                            "<tr><th>TITLE</th><th>AUTHOR</th><th>PRICE</th><th>COVER</th><th>BOOK_TITLE</th><th>REVIEWER</th><th>RATING</th></tr>",
                            "<tr><td>The Accursed God</td><td>Vivek Dutta Mishra</td><td>299.00</td><td>tag.png</td><td>The Accursed God</td><td>Sanjay</td><td>5</td></tr>",
                            "<tr><td>The Accursed God</td><td>Vivek Dutta Mishra</td><td>299.00</td><td>tag.png</td><td>The Accursed God</td><td>Shivanshi</td><td>3</td></tr>",
                            "<tr><td>The Accursed God</td><td>Vivek Dutta Mishra</td><td>299.00</td><td>tag.png</td><td>The Accursed God</td><td>Amit</td><td>5</td></tr>",
                            "<tr><td>The Accursed God</td><td>Vivek Dutta Mishra</td><td>299.00</td><td>tag.png</td><td>The Accursed God</td><td>Rajesh</td><td>5</td></tr>",
                            "<tr><td>The Accursed God</td><td>Vivek Dutta Mishra</td><td>299.00</td><td>tag.png</td><td>Manas</td><td>Shivanshi</td><td>5</td></tr>",
                            "<tr><td>The Accursed God</td><td>Vivek Dutta Mishra</td><td>299.00</td><td>tag.png</td><td>Manas</td><td>Reena</td><td>4</td></tr>",
                            "<tr><td>The Accursed God</td><td>Vivek Dutta Mishra</td><td>299.00</td><td>tag.png</td><td>Manas</td><td>Sanjay</td><td>4</td></tr>",
                            "<tr><td>The Accursed God</td><td>Vivek Dutta Mishra</td><td>299.00</td><td>tag.png</td><td>Rashmirathi</td><td>Shivanshi</td><td>4</td></tr>",
                            "<tr><td>The Accursed God</td><td>Vivek Dutta Mishra</td><td>299.00</td><td>tag.png</td><td>Rashmirathi</td><td>Vivek</td><td>4</td></tr>",
                            "<tr><td>The Accursed God</td><td>Vivek Dutta Mishra</td><td>299.00</td><td>tag.png</td><td>Rashmirathi</td><td>Reena</td><td>4</td></tr>",
                            "<tr><td>The Accursed God</td><td>Vivek Dutta Mishra</td><td>299.00</td><td>tag.png</td><td>Rashmirathi</td><td>Amit</td><td>3</td></tr>",
                            "<tr><td>The Accursed God</td><td>Vivek Dutta Mishra</td><td>299.00</td><td>tag.png</td><td>The Count of Monte Cristo</td><td>Vivek</td><td>5</td></tr>",
                            "<tr><td>The Accursed God</td><td>Vivek Dutta Mishra</td><td>299.00</td><td>tag.png</td><td>The Count of Monte Cristo</td><td>Reena</td><td>4</td></tr>",
                            "<tr><td>The Accursed God</td><td>Vivek Dutta Mishra</td><td>299.00</td><td>tag.png</td><td>The Count of Monte Cristo</td><td>Shivanshi</td><td>4</td></tr>",
                            "<tr><td>Manas</td><td>Vivek Dutta Mishra</td><td>199.00</td><td>manas.png</td><td>The Accursed God</td><td>Sanjay</td><td>5</td></tr>",
                            "<tr><td>Manas</td><td>Vivek Dutta Mishra</td><td>199.00</td><td>manas.png</td><td>The Accursed God</td><td>Shivanshi</td><td>3</td></tr>",
                            "<tr><td>Manas</td><td>Vivek Dutta Mishra</td><td>199.00</td><td>manas.png</td><td>The Accursed God</td><td>Amit</td><td>5</td></tr>",
                            "<tr><td>Manas</td><td>Vivek Dutta Mishra</td><td>199.00</td><td>manas.png</td><td>The Accursed God</td><td>Rajesh</td><td>5</td></tr>",
                            "<tr><td>Manas</td><td>Vivek Dutta Mishra</td><td>199.00</td><td>manas.png</td><td>Manas</td><td>Shivanshi</td><td>5</td></tr>",
                            "<tr><td>Manas</td><td>Vivek Dutta Mishra</td><td>199.00</td><td>manas.png</td><td>Manas</td><td>Reena</td><td>4</td></tr>",
                            "<tr><td>Manas</td><td>Vivek Dutta Mishra</td><td>199.00</td><td>manas.png</td><td>Manas</td><td>Sanjay</td><td>4</td></tr>",
                            "<tr><td>Manas</td><td>Vivek Dutta Mishra</td><td>199.00</td><td>manas.png</td><td>Rashmirathi</td><td>Shivanshi</td><td>4</td></tr>",
                            "<tr><td>Manas</td><td>Vivek Dutta Mishra</td><td>199.00</td><td>manas.png</td><td>Rashmirathi</td><td>Vivek</td><td>4</td></tr>",
                            "<tr><td>Manas</td><td>Vivek Dutta Mishra</td><td>199.00</td><td>manas.png</td><td>Rashmirathi</td><td>Reena</td><td>4</td></tr>",
                            "<tr><td>Manas</td><td>Vivek Dutta Mishra</td><td>199.00</td><td>manas.png</td><td>Rashmirathi</td><td>Amit</td><td>3</td></tr>",
                            "<tr><td>Manas</td><td>Vivek Dutta Mishra</td><td>199.00</td><td>manas.png</td><td>The Count of Monte Cristo</td><td>Vivek</td><td>5</td></tr>",
                            "<tr><td>Manas</td><td>Vivek Dutta Mishra</td><td>199.00</td><td>manas.png</td><td>The Count of Monte Cristo</td><td>Reena</td><td>4</td></tr>",
                            "<tr><td>Manas</td><td>Vivek Dutta Mishra</td><td>199.00</td><td>manas.png</td><td>The Count of Monte Cristo</td><td>Shivanshi</td><td>4</td></tr>",
                            "<tr><td>Rashmirathi</td><td>Ramdhari Singh Dinkar</td><td>99.00</td><td>rashmirath.png</td><td>The Accursed God</td><td>Sanjay</td><td>5</td></tr>",
                            "<tr><td>Rashmirathi</td><td>Ramdhari Singh Dinkar</td><td>99.00</td><td>rashmirath.png</td><td>The Accursed God</td><td>Shivanshi</td><td>3</td></tr>",
                            "<tr><td>Rashmirathi</td><td>Ramdhari Singh Dinkar</td><td>99.00</td><td>rashmirath.png</td><td>The Accursed God</td><td>Amit</td><td>5</td></tr>",
                            "<tr><td>Rashmirathi</td><td>Ramdhari Singh Dinkar</td><td>99.00</td><td>rashmirath.png</td><td>The Accursed God</td><td>Rajesh</td><td>5</td></tr>",
                            "<tr><td>Rashmirathi</td><td>Ramdhari Singh Dinkar</td><td>99.00</td><td>rashmirath.png</td><td>Manas</td><td>Shivanshi</td><td>5</td></tr>",
                            "<tr><td>Rashmirathi</td><td>Ramdhari Singh Dinkar</td><td>99.00</td><td>rashmirath.png</td><td>Manas</td><td>Reena</td><td>4</td></tr>",
                            "<tr><td>Rashmirathi</td><td>Ramdhari Singh Dinkar</td><td>99.00</td><td>rashmirath.png</td><td>Manas</td><td>Sanjay</td><td>4</td></tr>",
                            "<tr><td>Rashmirathi</td><td>Ramdhari Singh Dinkar</td><td>99.00</td><td>rashmirath.png</td><td>Rashmirathi</td><td>Shivanshi</td><td>4</td></tr>",
                            "<tr><td>Rashmirathi</td><td>Ramdhari Singh Dinkar</td><td>99.00</td><td>rashmirath.png</td><td>Rashmirathi</td><td>Vivek</td><td>4</td></tr>",
                            "<tr><td>Rashmirathi</td><td>Ramdhari Singh Dinkar</td><td>99.00</td><td>rashmirath.png</td><td>Rashmirathi</td><td>Reena</td><td>4</td></tr>",
                            "<tr><td>Rashmirathi</td><td>Ramdhari Singh Dinkar</td><td>99.00</td><td>rashmirath.png</td><td>Rashmirathi</td><td>Amit</td><td>3</td></tr>",
                            "<tr><td>Rashmirathi</td><td>Ramdhari Singh Dinkar</td><td>99.00</td><td>rashmirath.png</td><td>The Count of Monte Cristo</td><td>Vivek</td><td>5</td></tr>",
                            "<tr><td>Rashmirathi</td><td>Ramdhari Singh Dinkar</td><td>99.00</td><td>rashmirath.png</td><td>The Count of Monte Cristo</td><td>Reena</td><td>4</td></tr>",
                            "<tr><td>Rashmirathi</td><td>Ramdhari Singh Dinkar</td><td>99.00</td><td>rashmirath.png</td><td>The Count of Monte Cristo</td><td>Shivanshi</td><td>4</td></tr>",
                            "<tr><td>The Count of Monte Cristo</td><td>Alexandre Dumas</td><td>499.00</td><td>cristo.png</td><td>The Accursed God</td><td>Sanjay</td><td>5</td></tr>",
                            "<tr><td>The Count of Monte Cristo</td><td>Alexandre Dumas</td><td>499.00</td><td>cristo.png</td><td>The Accursed God</td><td>Shivanshi</td><td>3</td></tr>",
                            "<tr><td>The Count of Monte Cristo</td><td>Alexandre Dumas</td><td>499.00</td><td>cristo.png</td><td>The Accursed God</td><td>Amit</td><td>5</td></tr>",
                            "<tr><td>The Count of Monte Cristo</td><td>Alexandre Dumas</td><td>499.00</td><td>cristo.png</td><td>The Accursed God</td><td>Rajesh</td><td>5</td></tr>",
                            "<tr><td>The Count of Monte Cristo</td><td>Alexandre Dumas</td><td>499.00</td><td>cristo.png</td><td>Manas</td><td>Shivanshi</td><td>5</td></tr>",
                            "<tr><td>The Count of Monte Cristo</td><td>Alexandre Dumas</td><td>499.00</td><td>cristo.png</td><td>Manas</td><td>Reena</td><td>4</td></tr>",
                            "<tr><td>The Count of Monte Cristo</td><td>Alexandre Dumas</td><td>499.00</td><td>cristo.png</td><td>Manas</td><td>Sanjay</td><td>4</td></tr>",
                            "<tr><td>The Count of Monte Cristo</td><td>Alexandre Dumas</td><td>499.00</td><td>cristo.png</td><td>Rashmirathi</td><td>Shivanshi</td><td>4</td></tr>",
                            "<tr><td>The Count of Monte Cristo</td><td>Alexandre Dumas</td><td>499.00</td><td>cristo.png</td><td>Rashmirathi</td><td>Vivek</td><td>4</td></tr>",
                            "<tr><td>The Count of Monte Cristo</td><td>Alexandre Dumas</td><td>499.00</td><td>cristo.png</td><td>Rashmirathi</td><td>Reena</td><td>4</td></tr>",
                            "<tr><td>The Count of Monte Cristo</td><td>Alexandre Dumas</td><td>499.00</td><td>cristo.png</td><td>Rashmirathi</td><td>Amit</td><td>3</td></tr>",
                            "<tr><td>The Count of Monte Cristo</td><td>Alexandre Dumas</td><td>499.00</td><td>cristo.png</td><td>The Count of Monte Cristo</td><td>Vivek</td><td>5</td></tr>",
                            "<tr><td>The Count of Monte Cristo</td><td>Alexandre Dumas</td><td>499.00</td><td>cristo.png</td><td>The Count of Monte Cristo</td><td>Reena</td><td>4</td></tr>",
                            "<tr><td>The Count of Monte Cristo</td><td>Alexandre Dumas</td><td>499.00</td><td>cristo.png</td><td>The Count of Monte Cristo</td><td>Shivanshi</td><td>4</td></tr>",
                            "</table>"
                        ]
                    }
                }
            ],
            "execution_count": 105
        },
        {
            "cell_type": "code",
            "source": [
                "SELECT COUNT(*) AS BOOK_COUNT FROM BOOKS;\r\n",
                "SELECT COUNT(*) AS REVIEWS_COUNT FROM REVIEWS;\r\n",
                "SELECT COUNT(*) AS COMBINED_RESULT FROM BOOKS,REVIEWS;"
            ],
            "metadata": {
                "azdata_cell_guid": "6db766ce-13ad-4f38-b5fe-1e26eb407511",
                "language": "sql"
            },
            "outputs": [
                {
                    "output_type": "display_data",
                    "data": {
                        "text/html": "(1 row affected)"
                    },
                    "metadata": {}
                },
                {
                    "output_type": "display_data",
                    "data": {
                        "text/html": "(1 row affected)"
                    },
                    "metadata": {}
                },
                {
                    "output_type": "display_data",
                    "data": {
                        "text/html": "(1 row affected)"
                    },
                    "metadata": {}
                },
                {
                    "output_type": "display_data",
                    "data": {
                        "text/html": "Total execution time: 00:00:00.006"
                    },
                    "metadata": {}
                },
                {
                    "output_type": "execute_result",
                    "metadata": {},
                    "execution_count": 106,
                    "data": {
                        "application/vnd.dataresource+json": {
                            "schema": {
                                "fields": [
                                    {
                                        "name": "BOOK_COUNT"
                                    }
                                ]
                            },
                            "data": [
                                {
                                    "BOOK_COUNT": "4"
                                }
                            ]
                        },
                        "text/html": [
                            "<table>",
                            "<tr><th>BOOK_COUNT</th></tr>",
                            "<tr><td>4</td></tr>",
                            "</table>"
                        ]
                    }
                },
                {
                    "output_type": "execute_result",
                    "metadata": {},
                    "execution_count": 106,
                    "data": {
                        "application/vnd.dataresource+json": {
                            "schema": {
                                "fields": [
                                    {
                                        "name": "REVIEWS_COUNT"
                                    }
                                ]
                            },
                            "data": [
                                {
                                    "REVIEWS_COUNT": "14"
                                }
                            ]
                        },
                        "text/html": [
                            "<table>",
                            "<tr><th>REVIEWS_COUNT</th></tr>",
                            "<tr><td>14</td></tr>",
                            "</table>"
                        ]
                    }
                },
                {
                    "output_type": "execute_result",
                    "metadata": {},
                    "execution_count": 106,
                    "data": {
                        "application/vnd.dataresource+json": {
                            "schema": {
                                "fields": [
                                    {
                                        "name": "COMBINED_RESULT"
                                    }
                                ]
                            },
                            "data": [
                                {
                                    "COMBINED_RESULT": "56"
                                }
                            ]
                        },
                        "text/html": [
                            "<table>",
                            "<tr><th>COMBINED_RESULT</th></tr>",
                            "<tr><td>56</td></tr>",
                            "</table>"
                        ]
                    }
                }
            ],
            "execution_count": 106
        },
        {
            "cell_type": "markdown",
            "source": [
                "# What have we got?\n",
                "\n",
                "  \n",
                "\n",
                "- Result of any select will always be **Rectangluar** (Tabular)\n",
                "- Each Row will have same number of columns\n",
                "- Now we have two tables with different rows and columns\n",
                "    - Books-\\> 4 rows\n",
                "    - Reviews --\\>14 rows\n",
                "- The overall result will be a cartisian product of two tables\n",
                "    - 14\\*4=56\n",
                "- This result matches each row of first table with each row of second table\n",
                "    - And this result is completely meaningless.\n",
                "\n",
                "  \n",
                "\n",
                "# Solution - We can filter the result using Where Clause on relational column"
            ],
            "metadata": {
                "azdata_cell_guid": "ee550011-37f3-46b9-88db-95e36b1cb80c"
            },
            "attachments": {}
        },
        {
            "cell_type": "code",
            "source": [
                "SELECT\r\n",
                "    TITLE,\r\n",
                "    AUTHOR,\r\n",
                "    PRICE,\r\n",
                "    COVER,\r\n",
                "    REVIEWER,\r\n",
                "    RATING\r\n",
                "FROM\r\n",
                "    BOOKS,\r\n",
                "    REVIEWS\r\n",
                "WHERE\r\n",
                "    TITLE=BOOK_TITLE"
            ],
            "metadata": {
                "azdata_cell_guid": "1119b2fe-e808-4ada-83e6-352df14c4a34",
                "language": "sql"
            },
            "outputs": [
                {
                    "output_type": "display_data",
                    "data": {
                        "text/html": "(14 rows affected)"
                    },
                    "metadata": {}
                },
                {
                    "output_type": "display_data",
                    "data": {
                        "text/html": "Total execution time: 00:00:00.019"
                    },
                    "metadata": {}
                },
                {
                    "output_type": "execute_result",
                    "metadata": {},
                    "execution_count": 107,
                    "data": {
                        "application/vnd.dataresource+json": {
                            "schema": {
                                "fields": [
                                    {
                                        "name": "TITLE"
                                    },
                                    {
                                        "name": "AUTHOR"
                                    },
                                    {
                                        "name": "PRICE"
                                    },
                                    {
                                        "name": "COVER"
                                    },
                                    {
                                        "name": "REVIEWER"
                                    },
                                    {
                                        "name": "RATING"
                                    }
                                ]
                            },
                            "data": [
                                {
                                    "TITLE": "The Accursed God",
                                    "AUTHOR": "Vivek Dutta Mishra",
                                    "PRICE": "299.00",
                                    "COVER": "tag.png",
                                    "REVIEWER": "Sanjay",
                                    "RATING": "5"
                                },
                                {
                                    "TITLE": "The Accursed God",
                                    "AUTHOR": "Vivek Dutta Mishra",
                                    "PRICE": "299.00",
                                    "COVER": "tag.png",
                                    "REVIEWER": "Shivanshi",
                                    "RATING": "3"
                                },
                                {
                                    "TITLE": "The Accursed God",
                                    "AUTHOR": "Vivek Dutta Mishra",
                                    "PRICE": "299.00",
                                    "COVER": "tag.png",
                                    "REVIEWER": "Amit",
                                    "RATING": "5"
                                },
                                {
                                    "TITLE": "The Accursed God",
                                    "AUTHOR": "Vivek Dutta Mishra",
                                    "PRICE": "299.00",
                                    "COVER": "tag.png",
                                    "REVIEWER": "Rajesh",
                                    "RATING": "5"
                                },
                                {
                                    "TITLE": "Manas",
                                    "AUTHOR": "Vivek Dutta Mishra",
                                    "PRICE": "199.00",
                                    "COVER": "manas.png",
                                    "REVIEWER": "Shivanshi",
                                    "RATING": "5"
                                },
                                {
                                    "TITLE": "Manas",
                                    "AUTHOR": "Vivek Dutta Mishra",
                                    "PRICE": "199.00",
                                    "COVER": "manas.png",
                                    "REVIEWER": "Reena",
                                    "RATING": "4"
                                },
                                {
                                    "TITLE": "Manas",
                                    "AUTHOR": "Vivek Dutta Mishra",
                                    "PRICE": "199.00",
                                    "COVER": "manas.png",
                                    "REVIEWER": "Sanjay",
                                    "RATING": "4"
                                },
                                {
                                    "TITLE": "Rashmirathi",
                                    "AUTHOR": "Ramdhari Singh Dinkar",
                                    "PRICE": "99.00",
                                    "COVER": "rashmirath.png",
                                    "REVIEWER": "Shivanshi",
                                    "RATING": "4"
                                },
                                {
                                    "TITLE": "Rashmirathi",
                                    "AUTHOR": "Ramdhari Singh Dinkar",
                                    "PRICE": "99.00",
                                    "COVER": "rashmirath.png",
                                    "REVIEWER": "Vivek",
                                    "RATING": "4"
                                },
                                {
                                    "TITLE": "Rashmirathi",
                                    "AUTHOR": "Ramdhari Singh Dinkar",
                                    "PRICE": "99.00",
                                    "COVER": "rashmirath.png",
                                    "REVIEWER": "Reena",
                                    "RATING": "4"
                                },
                                {
                                    "TITLE": "Rashmirathi",
                                    "AUTHOR": "Ramdhari Singh Dinkar",
                                    "PRICE": "99.00",
                                    "COVER": "rashmirath.png",
                                    "REVIEWER": "Amit",
                                    "RATING": "3"
                                },
                                {
                                    "TITLE": "The Count of Monte Cristo",
                                    "AUTHOR": "Alexandre Dumas",
                                    "PRICE": "499.00",
                                    "COVER": "cristo.png",
                                    "REVIEWER": "Vivek",
                                    "RATING": "5"
                                },
                                {
                                    "TITLE": "The Count of Monte Cristo",
                                    "AUTHOR": "Alexandre Dumas",
                                    "PRICE": "499.00",
                                    "COVER": "cristo.png",
                                    "REVIEWER": "Reena",
                                    "RATING": "4"
                                },
                                {
                                    "TITLE": "The Count of Monte Cristo",
                                    "AUTHOR": "Alexandre Dumas",
                                    "PRICE": "499.00",
                                    "COVER": "cristo.png",
                                    "REVIEWER": "Shivanshi",
                                    "RATING": "4"
                                }
                            ]
                        },
                        "text/html": [
                            "<table>",
                            "<tr><th>TITLE</th><th>AUTHOR</th><th>PRICE</th><th>COVER</th><th>REVIEWER</th><th>RATING</th></tr>",
                            "<tr><td>The Accursed God</td><td>Vivek Dutta Mishra</td><td>299.00</td><td>tag.png</td><td>Sanjay</td><td>5</td></tr>",
                            "<tr><td>The Accursed God</td><td>Vivek Dutta Mishra</td><td>299.00</td><td>tag.png</td><td>Shivanshi</td><td>3</td></tr>",
                            "<tr><td>The Accursed God</td><td>Vivek Dutta Mishra</td><td>299.00</td><td>tag.png</td><td>Amit</td><td>5</td></tr>",
                            "<tr><td>The Accursed God</td><td>Vivek Dutta Mishra</td><td>299.00</td><td>tag.png</td><td>Rajesh</td><td>5</td></tr>",
                            "<tr><td>Manas</td><td>Vivek Dutta Mishra</td><td>199.00</td><td>manas.png</td><td>Shivanshi</td><td>5</td></tr>",
                            "<tr><td>Manas</td><td>Vivek Dutta Mishra</td><td>199.00</td><td>manas.png</td><td>Reena</td><td>4</td></tr>",
                            "<tr><td>Manas</td><td>Vivek Dutta Mishra</td><td>199.00</td><td>manas.png</td><td>Sanjay</td><td>4</td></tr>",
                            "<tr><td>Rashmirathi</td><td>Ramdhari Singh Dinkar</td><td>99.00</td><td>rashmirath.png</td><td>Shivanshi</td><td>4</td></tr>",
                            "<tr><td>Rashmirathi</td><td>Ramdhari Singh Dinkar</td><td>99.00</td><td>rashmirath.png</td><td>Vivek</td><td>4</td></tr>",
                            "<tr><td>Rashmirathi</td><td>Ramdhari Singh Dinkar</td><td>99.00</td><td>rashmirath.png</td><td>Reena</td><td>4</td></tr>",
                            "<tr><td>Rashmirathi</td><td>Ramdhari Singh Dinkar</td><td>99.00</td><td>rashmirath.png</td><td>Amit</td><td>3</td></tr>",
                            "<tr><td>The Count of Monte Cristo</td><td>Alexandre Dumas</td><td>499.00</td><td>cristo.png</td><td>Vivek</td><td>5</td></tr>",
                            "<tr><td>The Count of Monte Cristo</td><td>Alexandre Dumas</td><td>499.00</td><td>cristo.png</td><td>Reena</td><td>4</td></tr>",
                            "<tr><td>The Count of Monte Cristo</td><td>Alexandre Dumas</td><td>499.00</td><td>cristo.png</td><td>Shivanshi</td><td>4</td></tr>",
                            "</table>"
                        ]
                    }
                }
            ],
            "execution_count": 107
        },
        {
            "cell_type": "markdown",
            "source": [
                "# We can now add additional filtering/grouping to get desired data\n",
                "\n",
                "  \n",
                "\n",
                "### Example 1 --\\> Get All Books By a Give Author"
            ],
            "metadata": {
                "azdata_cell_guid": "0355f11b-c207-403c-a5f9-d236ce983cb1",
                "language": ""
            },
            "attachments": {}
        },
        {
            "cell_type": "code",
            "source": [
                "SELECT\r\n",
                "    TITLE,\r\n",
                "    AUTHOR,\r\n",
                "    PRICE,\r\n",
                "    COVER,\r\n",
                "    REVIEWER,\r\n",
                "    RATING\r\n",
                "FROM\r\n",
                "    BOOKS,\r\n",
                "    REVIEWS\r\n",
                "WHERE\r\n",
                "    TITLE=BOOK_TITLE\r\n",
                "    AND\r\n",
                "    AUTHOR LIKE 'Vivek%'\r\n",
                "    \r\n",
                "\r\n",
                "\r\n",
                "\r\n",
                ""
            ],
            "metadata": {
                "azdata_cell_guid": "c1b91c6b-695d-42bf-99bf-e73567bee06f",
                "language": "sql"
            },
            "outputs": [
                {
                    "output_type": "display_data",
                    "data": {
                        "text/html": "(7 rows affected)"
                    },
                    "metadata": {}
                },
                {
                    "output_type": "display_data",
                    "data": {
                        "text/html": "Total execution time: 00:00:00.009"
                    },
                    "metadata": {}
                },
                {
                    "output_type": "execute_result",
                    "metadata": {},
                    "execution_count": 108,
                    "data": {
                        "application/vnd.dataresource+json": {
                            "schema": {
                                "fields": [
                                    {
                                        "name": "TITLE"
                                    },
                                    {
                                        "name": "AUTHOR"
                                    },
                                    {
                                        "name": "PRICE"
                                    },
                                    {
                                        "name": "COVER"
                                    },
                                    {
                                        "name": "REVIEWER"
                                    },
                                    {
                                        "name": "RATING"
                                    }
                                ]
                            },
                            "data": [
                                {
                                    "TITLE": "The Accursed God",
                                    "AUTHOR": "Vivek Dutta Mishra",
                                    "PRICE": "299.00",
                                    "COVER": "tag.png",
                                    "REVIEWER": "Sanjay",
                                    "RATING": "5"
                                },
                                {
                                    "TITLE": "The Accursed God",
                                    "AUTHOR": "Vivek Dutta Mishra",
                                    "PRICE": "299.00",
                                    "COVER": "tag.png",
                                    "REVIEWER": "Shivanshi",
                                    "RATING": "3"
                                },
                                {
                                    "TITLE": "The Accursed God",
                                    "AUTHOR": "Vivek Dutta Mishra",
                                    "PRICE": "299.00",
                                    "COVER": "tag.png",
                                    "REVIEWER": "Amit",
                                    "RATING": "5"
                                },
                                {
                                    "TITLE": "The Accursed God",
                                    "AUTHOR": "Vivek Dutta Mishra",
                                    "PRICE": "299.00",
                                    "COVER": "tag.png",
                                    "REVIEWER": "Rajesh",
                                    "RATING": "5"
                                },
                                {
                                    "TITLE": "Manas",
                                    "AUTHOR": "Vivek Dutta Mishra",
                                    "PRICE": "199.00",
                                    "COVER": "manas.png",
                                    "REVIEWER": "Shivanshi",
                                    "RATING": "5"
                                },
                                {
                                    "TITLE": "Manas",
                                    "AUTHOR": "Vivek Dutta Mishra",
                                    "PRICE": "199.00",
                                    "COVER": "manas.png",
                                    "REVIEWER": "Reena",
                                    "RATING": "4"
                                },
                                {
                                    "TITLE": "Manas",
                                    "AUTHOR": "Vivek Dutta Mishra",
                                    "PRICE": "199.00",
                                    "COVER": "manas.png",
                                    "REVIEWER": "Sanjay",
                                    "RATING": "4"
                                }
                            ]
                        },
                        "text/html": [
                            "<table>",
                            "<tr><th>TITLE</th><th>AUTHOR</th><th>PRICE</th><th>COVER</th><th>REVIEWER</th><th>RATING</th></tr>",
                            "<tr><td>The Accursed God</td><td>Vivek Dutta Mishra</td><td>299.00</td><td>tag.png</td><td>Sanjay</td><td>5</td></tr>",
                            "<tr><td>The Accursed God</td><td>Vivek Dutta Mishra</td><td>299.00</td><td>tag.png</td><td>Shivanshi</td><td>3</td></tr>",
                            "<tr><td>The Accursed God</td><td>Vivek Dutta Mishra</td><td>299.00</td><td>tag.png</td><td>Amit</td><td>5</td></tr>",
                            "<tr><td>The Accursed God</td><td>Vivek Dutta Mishra</td><td>299.00</td><td>tag.png</td><td>Rajesh</td><td>5</td></tr>",
                            "<tr><td>Manas</td><td>Vivek Dutta Mishra</td><td>199.00</td><td>manas.png</td><td>Shivanshi</td><td>5</td></tr>",
                            "<tr><td>Manas</td><td>Vivek Dutta Mishra</td><td>199.00</td><td>manas.png</td><td>Reena</td><td>4</td></tr>",
                            "<tr><td>Manas</td><td>Vivek Dutta Mishra</td><td>199.00</td><td>manas.png</td><td>Sanjay</td><td>4</td></tr>",
                            "</table>"
                        ]
                    }
                }
            ],
            "execution_count": 108
        },
        {
            "cell_type": "markdown",
            "source": [
                "### Get All Reviews By Sanjay or Shivanshi"
            ],
            "metadata": {
                "azdata_cell_guid": "5c40bfd2-a1b0-4ae0-b909-faf895508f1a",
                "language": ""
            },
            "attachments": {}
        },
        {
            "cell_type": "code",
            "source": [
                "SELECT\r\n",
                "    TITLE,\r\n",
                "    AUTHOR,\r\n",
                "    PRICE,\r\n",
                "    COVER,\r\n",
                "    REVIEWER,\r\n",
                "    RATING\r\n",
                "FROM\r\n",
                "    BOOKS,\r\n",
                "    REVIEWS\r\n",
                "WHERE\r\n",
                "    TITLE=BOOK_TITLE\r\n",
                "    AND\r\n",
                "    REVIEWER IN ('Sanjay','Shivanshi')\r\n",
                "    \r\n",
                "\r\n",
                "\r\n",
                "\r\n",
                ""
            ],
            "metadata": {
                "azdata_cell_guid": "c70e57f1-07da-4397-b800-6d4ffc5c7b66",
                "language": "sql"
            },
            "outputs": [
                {
                    "output_type": "display_data",
                    "data": {
                        "text/html": "(6 rows affected)"
                    },
                    "metadata": {}
                },
                {
                    "output_type": "display_data",
                    "data": {
                        "text/html": "Total execution time: 00:00:00.017"
                    },
                    "metadata": {}
                },
                {
                    "output_type": "execute_result",
                    "metadata": {},
                    "execution_count": 109,
                    "data": {
                        "application/vnd.dataresource+json": {
                            "schema": {
                                "fields": [
                                    {
                                        "name": "TITLE"
                                    },
                                    {
                                        "name": "AUTHOR"
                                    },
                                    {
                                        "name": "PRICE"
                                    },
                                    {
                                        "name": "COVER"
                                    },
                                    {
                                        "name": "REVIEWER"
                                    },
                                    {
                                        "name": "RATING"
                                    }
                                ]
                            },
                            "data": [
                                {
                                    "TITLE": "The Accursed God",
                                    "AUTHOR": "Vivek Dutta Mishra",
                                    "PRICE": "299.00",
                                    "COVER": "tag.png",
                                    "REVIEWER": "Sanjay",
                                    "RATING": "5"
                                },
                                {
                                    "TITLE": "The Accursed God",
                                    "AUTHOR": "Vivek Dutta Mishra",
                                    "PRICE": "299.00",
                                    "COVER": "tag.png",
                                    "REVIEWER": "Shivanshi",
                                    "RATING": "3"
                                },
                                {
                                    "TITLE": "Manas",
                                    "AUTHOR": "Vivek Dutta Mishra",
                                    "PRICE": "199.00",
                                    "COVER": "manas.png",
                                    "REVIEWER": "Shivanshi",
                                    "RATING": "5"
                                },
                                {
                                    "TITLE": "Manas",
                                    "AUTHOR": "Vivek Dutta Mishra",
                                    "PRICE": "199.00",
                                    "COVER": "manas.png",
                                    "REVIEWER": "Sanjay",
                                    "RATING": "4"
                                },
                                {
                                    "TITLE": "Rashmirathi",
                                    "AUTHOR": "Ramdhari Singh Dinkar",
                                    "PRICE": "99.00",
                                    "COVER": "rashmirath.png",
                                    "REVIEWER": "Shivanshi",
                                    "RATING": "4"
                                },
                                {
                                    "TITLE": "The Count of Monte Cristo",
                                    "AUTHOR": "Alexandre Dumas",
                                    "PRICE": "499.00",
                                    "COVER": "cristo.png",
                                    "REVIEWER": "Shivanshi",
                                    "RATING": "4"
                                }
                            ]
                        },
                        "text/html": [
                            "<table>",
                            "<tr><th>TITLE</th><th>AUTHOR</th><th>PRICE</th><th>COVER</th><th>REVIEWER</th><th>RATING</th></tr>",
                            "<tr><td>The Accursed God</td><td>Vivek Dutta Mishra</td><td>299.00</td><td>tag.png</td><td>Sanjay</td><td>5</td></tr>",
                            "<tr><td>The Accursed God</td><td>Vivek Dutta Mishra</td><td>299.00</td><td>tag.png</td><td>Shivanshi</td><td>3</td></tr>",
                            "<tr><td>Manas</td><td>Vivek Dutta Mishra</td><td>199.00</td><td>manas.png</td><td>Shivanshi</td><td>5</td></tr>",
                            "<tr><td>Manas</td><td>Vivek Dutta Mishra</td><td>199.00</td><td>manas.png</td><td>Sanjay</td><td>4</td></tr>",
                            "<tr><td>Rashmirathi</td><td>Ramdhari Singh Dinkar</td><td>99.00</td><td>rashmirath.png</td><td>Shivanshi</td><td>4</td></tr>",
                            "<tr><td>The Count of Monte Cristo</td><td>Alexandre Dumas</td><td>499.00</td><td>cristo.png</td><td>Shivanshi</td><td>4</td></tr>",
                            "</table>"
                        ]
                    }
                }
            ],
            "execution_count": 109
        },
        {
            "cell_type": "markdown",
            "source": [
                "## Where Clause Revisited\n",
                "\n",
                "- In Our examples We are having Two conditions in the where Clause Joined by AND\n",
                "    - WHERE\n",
                "1. TITLE=BOOK\\_TITLE\n",
                "2. REVIEWER IN ('Shivanshi', 'Sanjay')\n",
                "\n",
                "- Here The **Second** condition is a **Real** Filtering clause\n",
                "    - This is a set of data Business is looking for.\n",
                "- First condition is **NOT**  a condition by the .\n",
                "    - It exists to **JOIN/Combine** Two tables in a meaningful way\n",
                "    - It is always required when we have two fields\n",
                "- This makes where clause ambigous\n",
                "    - What is a relational joiner\n",
                "    - What is a real condition we need.\n",
                "\n",
                "  \n",
                "\n",
                "# JOIN Statement\n",
                "\n",
                "- Join Clause is a part of SELECT for specifically JOINING two or more tables on given condition (Relational)\n",
                "- The main job is to separate the use case of FILTERING (WHERE) AND COMBINING(JOIN)\n",
                "\n",
                "  \n",
                "\n",
                "  \n",
                "\n",
                "  \n",
                "\n",
                "## REPLACING WHERE WITH JOIN TO COMBINE TABLE"
            ],
            "metadata": {
                "azdata_cell_guid": "f5ebdc7b-63dc-43d4-b549-6aeaac4d815e"
            },
            "attachments": {}
        },
        {
            "cell_type": "code",
            "source": [
                "/*\r\n",
                "SELECT\r\n",
                "    TITLE,    \r\n",
                "    REVIEWER,\r\n",
                "    RATING\r\n",
                "FROM\r\n",
                "    BOOKS,\r\n",
                "    REVIEWS\r\n",
                "WHERE\r\n",
                "    TITLE=BOOK_TITLE\r\n",
                "*/\r\n",
                "\r\n",
                "SELECT\r\n",
                "    TITLE,    \r\n",
                "    REVIEWER,\r\n",
                "    RATING\r\n",
                "FROM\r\n",
                "    BOOKS\r\n",
                "JOIN\r\n",
                "    REVIEWS\r\n",
                "ON\r\n",
                "    TITLE=BOOK_TITLE\r\n",
                ""
            ],
            "metadata": {
                "azdata_cell_guid": "952ec798-f3c4-4949-ad19-35587a6c0fbe",
                "language": "sql"
            },
            "outputs": [
                {
                    "output_type": "display_data",
                    "data": {
                        "text/html": "(14 rows affected)"
                    },
                    "metadata": {}
                },
                {
                    "output_type": "display_data",
                    "data": {
                        "text/html": "Total execution time: 00:00:00.005"
                    },
                    "metadata": {}
                },
                {
                    "output_type": "execute_result",
                    "metadata": {},
                    "execution_count": 110,
                    "data": {
                        "application/vnd.dataresource+json": {
                            "schema": {
                                "fields": [
                                    {
                                        "name": "TITLE"
                                    },
                                    {
                                        "name": "REVIEWER"
                                    },
                                    {
                                        "name": "RATING"
                                    }
                                ]
                            },
                            "data": [
                                {
                                    "TITLE": "The Accursed God",
                                    "REVIEWER": "Sanjay",
                                    "RATING": "5"
                                },
                                {
                                    "TITLE": "The Accursed God",
                                    "REVIEWER": "Shivanshi",
                                    "RATING": "3"
                                },
                                {
                                    "TITLE": "The Accursed God",
                                    "REVIEWER": "Amit",
                                    "RATING": "5"
                                },
                                {
                                    "TITLE": "The Accursed God",
                                    "REVIEWER": "Rajesh",
                                    "RATING": "5"
                                },
                                {
                                    "TITLE": "Manas",
                                    "REVIEWER": "Shivanshi",
                                    "RATING": "5"
                                },
                                {
                                    "TITLE": "Manas",
                                    "REVIEWER": "Reena",
                                    "RATING": "4"
                                },
                                {
                                    "TITLE": "Manas",
                                    "REVIEWER": "Sanjay",
                                    "RATING": "4"
                                },
                                {
                                    "TITLE": "Rashmirathi",
                                    "REVIEWER": "Shivanshi",
                                    "RATING": "4"
                                },
                                {
                                    "TITLE": "Rashmirathi",
                                    "REVIEWER": "Vivek",
                                    "RATING": "4"
                                },
                                {
                                    "TITLE": "Rashmirathi",
                                    "REVIEWER": "Reena",
                                    "RATING": "4"
                                },
                                {
                                    "TITLE": "Rashmirathi",
                                    "REVIEWER": "Amit",
                                    "RATING": "3"
                                },
                                {
                                    "TITLE": "The Count of Monte Cristo",
                                    "REVIEWER": "Vivek",
                                    "RATING": "5"
                                },
                                {
                                    "TITLE": "The Count of Monte Cristo",
                                    "REVIEWER": "Reena",
                                    "RATING": "4"
                                },
                                {
                                    "TITLE": "The Count of Monte Cristo",
                                    "REVIEWER": "Shivanshi",
                                    "RATING": "4"
                                }
                            ]
                        },
                        "text/html": [
                            "<table>",
                            "<tr><th>TITLE</th><th>REVIEWER</th><th>RATING</th></tr>",
                            "<tr><td>The Accursed God</td><td>Sanjay</td><td>5</td></tr>",
                            "<tr><td>The Accursed God</td><td>Shivanshi</td><td>3</td></tr>",
                            "<tr><td>The Accursed God</td><td>Amit</td><td>5</td></tr>",
                            "<tr><td>The Accursed God</td><td>Rajesh</td><td>5</td></tr>",
                            "<tr><td>Manas</td><td>Shivanshi</td><td>5</td></tr>",
                            "<tr><td>Manas</td><td>Reena</td><td>4</td></tr>",
                            "<tr><td>Manas</td><td>Sanjay</td><td>4</td></tr>",
                            "<tr><td>Rashmirathi</td><td>Shivanshi</td><td>4</td></tr>",
                            "<tr><td>Rashmirathi</td><td>Vivek</td><td>4</td></tr>",
                            "<tr><td>Rashmirathi</td><td>Reena</td><td>4</td></tr>",
                            "<tr><td>Rashmirathi</td><td>Amit</td><td>3</td></tr>",
                            "<tr><td>The Count of Monte Cristo</td><td>Vivek</td><td>5</td></tr>",
                            "<tr><td>The Count of Monte Cristo</td><td>Reena</td><td>4</td></tr>",
                            "<tr><td>The Count of Monte Cristo</td><td>Shivanshi</td><td>4</td></tr>",
                            "</table>"
                        ]
                    }
                }
            ],
            "execution_count": 110
        },
        {
            "cell_type": "markdown",
            "source": [
                "## Combining Join (combine) and Where (filter)"
            ],
            "metadata": {
                "azdata_cell_guid": "5dd420d5-fe07-4caf-9814-1790b1801b7a"
            },
            "attachments": {}
        },
        {
            "cell_type": "code",
            "source": [
                "SELECT\r\n",
                "    TITLE,    \r\n",
                "    REVIEWER,\r\n",
                "    RATING\r\n",
                "FROM\r\n",
                "    BOOKS\r\n",
                "JOIN\r\n",
                "    REVIEWS\r\n",
                "ON\r\n",
                "    TITLE=BOOK_TITLE\r\n",
                "WHERE\r\n",
                "    RATING=4\r\n",
                "    AND\r\n",
                "    REVIEWER='Shivanshi'"
            ],
            "metadata": {
                "azdata_cell_guid": "439332a1-fca4-47d6-843a-9fc21e7d6009",
                "language": "sql"
            },
            "outputs": [
                {
                    "output_type": "display_data",
                    "data": {
                        "text/html": "(2 rows affected)"
                    },
                    "metadata": {}
                },
                {
                    "output_type": "display_data",
                    "data": {
                        "text/html": "Total execution time: 00:00:00.015"
                    },
                    "metadata": {}
                },
                {
                    "output_type": "execute_result",
                    "metadata": {},
                    "execution_count": 111,
                    "data": {
                        "application/vnd.dataresource+json": {
                            "schema": {
                                "fields": [
                                    {
                                        "name": "TITLE"
                                    },
                                    {
                                        "name": "REVIEWER"
                                    },
                                    {
                                        "name": "RATING"
                                    }
                                ]
                            },
                            "data": [
                                {
                                    "TITLE": "Rashmirathi",
                                    "REVIEWER": "Shivanshi",
                                    "RATING": "4"
                                },
                                {
                                    "TITLE": "The Count of Monte Cristo",
                                    "REVIEWER": "Shivanshi",
                                    "RATING": "4"
                                }
                            ]
                        },
                        "text/html": [
                            "<table>",
                            "<tr><th>TITLE</th><th>REVIEWER</th><th>RATING</th></tr>",
                            "<tr><td>Rashmirathi</td><td>Shivanshi</td><td>4</td></tr>",
                            "<tr><td>The Count of Monte Cristo</td><td>Shivanshi</td><td>4</td></tr>",
                            "</table>"
                        ]
                    }
                }
            ],
            "execution_count": 111
        },
        {
            "cell_type": "markdown",
            "source": [
                "# DIFFERENT TYPE OF JOINS\n",
                "\n",
                "- RDBMS Supports Different Kind of JOINS\n",
                "    - Not all RDBMS supports All Joins\n",
                "- Important Joins\n",
                "1. <span style=\"color: var(--vscode-foreground);\">[INNER] JOIN</span>\n",
                "2. <span style=\"color: var(--vscode-foreground);\">LEFT [OUTER] JOIN</span>\n",
                "3. <span style=\"color: var(--vscode-foreground);\">RIGHT [OUTER] JOIN</span>\n",
                "4. <span style=\"color: var(--vscode-foreground);\">FULL&nbsp; [OUTER] JOIN</span>\n",
                "\n",
                "  \n",
                "\n",
                "### 1\\. INNER JOIN (Default)\n",
                "\n",
                "  \n",
                "\n",
                "- Returns rows only if the key is present on both sides\n",
                "    - It is like intersection\n",
                "\n",
                "  \n",
                "\n",
                "# 2\\. OUTER JOINS\n",
                "\n",
                "- Describes tables as LEFT OR RIGHT\n",
                "    - LEFT --\\> SUPPLIED BY FROM CLAUSE\n",
                "    - RIGHT --\\> SUPPLIED BY JOIN CLAUSE\n",
                "\n",
                "##   \n",
                "\n",
                "## 2.1 LEFT OUTER JOIN\n",
                "\n",
                "- Take all rows from the LEFT\n",
                "- If there is a corresponding row in the RIGHT, JOIN THEM\n",
                "- If there is no corresponding row in the RIGHT, FILL the cells with NULL\n",
                "- This is useful if the LEFT TABLE IS LIKELY TO HAVE VALUES NOT PRESENT IN THE RIGHT\n",
                "    - Example\n",
                "        - I may have books that are not yet reviewed."
            ],
            "metadata": {
                "language": "sql",
                "azdata_cell_guid": "679e7f94-f046-4e24-8965-72fb05ad3fbe"
            },
            "attachments": {}
        },
        {
            "cell_type": "code",
            "source": [
                "INSERT \r\n",
                "    INTO \r\n",
                "        BOOKS (TITLE, AUTHOR, PRICE, COVER)\r\n",
                "        VALUES\r\n",
                "                ('Brethren','John Grisham',350,'brethren.png'),\r\n",
                "                ('Summons', 'John Grishma',400,'summons.png');"
            ],
            "metadata": {
                "azdata_cell_guid": "2ae2cbc8-4116-4fcc-9ec6-8582d48c2bac",
                "language": "sql"
            },
            "outputs": [
                {
                    "output_type": "display_data",
                    "data": {
                        "text/html": "(2 rows affected)"
                    },
                    "metadata": {}
                },
                {
                    "output_type": "display_data",
                    "data": {
                        "text/html": "Total execution time: 00:00:00.004"
                    },
                    "metadata": {}
                }
            ],
            "execution_count": 112
        },
        {
            "cell_type": "markdown",
            "source": [
                "### 1\\. INNER JOIN (INNER WORD IS OPTIONAL)"
            ],
            "metadata": {
                "language": "sql",
                "azdata_cell_guid": "5dd58d8f-c51a-4705-9e79-2d255bf01065"
            },
            "attachments": {}
        },
        {
            "cell_type": "code",
            "source": [
                "SELECT \r\n",
                "    TITLE,\r\n",
                "    AUTHOR,\r\n",
                "    REVIEWER,\r\n",
                "    RATING\r\n",
                "FROM\r\n",
                "    BOOKS\r\n",
                "INNER JOIN\r\n",
                "    REVIEWS\r\n",
                "ON\r\n",
                "    TITLE=BOOK_TITLE\r\n",
                "    "
            ],
            "metadata": {
                "language": "sql",
                "azdata_cell_guid": "a3f7f9b8-5927-4e8f-87c0-aff9f7bd18f6"
            },
            "outputs": [
                {
                    "output_type": "display_data",
                    "data": {
                        "text/html": "(14 rows affected)"
                    },
                    "metadata": {}
                },
                {
                    "output_type": "display_data",
                    "data": {
                        "text/html": "Total execution time: 00:00:00.014"
                    },
                    "metadata": {}
                },
                {
                    "output_type": "execute_result",
                    "metadata": {},
                    "execution_count": 113,
                    "data": {
                        "application/vnd.dataresource+json": {
                            "schema": {
                                "fields": [
                                    {
                                        "name": "TITLE"
                                    },
                                    {
                                        "name": "AUTHOR"
                                    },
                                    {
                                        "name": "REVIEWER"
                                    },
                                    {
                                        "name": "RATING"
                                    }
                                ]
                            },
                            "data": [
                                {
                                    "TITLE": "The Accursed God",
                                    "AUTHOR": "Vivek Dutta Mishra",
                                    "REVIEWER": "Sanjay",
                                    "RATING": "5"
                                },
                                {
                                    "TITLE": "The Accursed God",
                                    "AUTHOR": "Vivek Dutta Mishra",
                                    "REVIEWER": "Shivanshi",
                                    "RATING": "3"
                                },
                                {
                                    "TITLE": "The Accursed God",
                                    "AUTHOR": "Vivek Dutta Mishra",
                                    "REVIEWER": "Amit",
                                    "RATING": "5"
                                },
                                {
                                    "TITLE": "The Accursed God",
                                    "AUTHOR": "Vivek Dutta Mishra",
                                    "REVIEWER": "Rajesh",
                                    "RATING": "5"
                                },
                                {
                                    "TITLE": "Manas",
                                    "AUTHOR": "Vivek Dutta Mishra",
                                    "REVIEWER": "Shivanshi",
                                    "RATING": "5"
                                },
                                {
                                    "TITLE": "Manas",
                                    "AUTHOR": "Vivek Dutta Mishra",
                                    "REVIEWER": "Reena",
                                    "RATING": "4"
                                },
                                {
                                    "TITLE": "Manas",
                                    "AUTHOR": "Vivek Dutta Mishra",
                                    "REVIEWER": "Sanjay",
                                    "RATING": "4"
                                },
                                {
                                    "TITLE": "Rashmirathi",
                                    "AUTHOR": "Ramdhari Singh Dinkar",
                                    "REVIEWER": "Shivanshi",
                                    "RATING": "4"
                                },
                                {
                                    "TITLE": "Rashmirathi",
                                    "AUTHOR": "Ramdhari Singh Dinkar",
                                    "REVIEWER": "Vivek",
                                    "RATING": "4"
                                },
                                {
                                    "TITLE": "Rashmirathi",
                                    "AUTHOR": "Ramdhari Singh Dinkar",
                                    "REVIEWER": "Reena",
                                    "RATING": "4"
                                },
                                {
                                    "TITLE": "Rashmirathi",
                                    "AUTHOR": "Ramdhari Singh Dinkar",
                                    "REVIEWER": "Amit",
                                    "RATING": "3"
                                },
                                {
                                    "TITLE": "The Count of Monte Cristo",
                                    "AUTHOR": "Alexandre Dumas",
                                    "REVIEWER": "Vivek",
                                    "RATING": "5"
                                },
                                {
                                    "TITLE": "The Count of Monte Cristo",
                                    "AUTHOR": "Alexandre Dumas",
                                    "REVIEWER": "Reena",
                                    "RATING": "4"
                                },
                                {
                                    "TITLE": "The Count of Monte Cristo",
                                    "AUTHOR": "Alexandre Dumas",
                                    "REVIEWER": "Shivanshi",
                                    "RATING": "4"
                                }
                            ]
                        },
                        "text/html": [
                            "<table>",
                            "<tr><th>TITLE</th><th>AUTHOR</th><th>REVIEWER</th><th>RATING</th></tr>",
                            "<tr><td>The Accursed God</td><td>Vivek Dutta Mishra</td><td>Sanjay</td><td>5</td></tr>",
                            "<tr><td>The Accursed God</td><td>Vivek Dutta Mishra</td><td>Shivanshi</td><td>3</td></tr>",
                            "<tr><td>The Accursed God</td><td>Vivek Dutta Mishra</td><td>Amit</td><td>5</td></tr>",
                            "<tr><td>The Accursed God</td><td>Vivek Dutta Mishra</td><td>Rajesh</td><td>5</td></tr>",
                            "<tr><td>Manas</td><td>Vivek Dutta Mishra</td><td>Shivanshi</td><td>5</td></tr>",
                            "<tr><td>Manas</td><td>Vivek Dutta Mishra</td><td>Reena</td><td>4</td></tr>",
                            "<tr><td>Manas</td><td>Vivek Dutta Mishra</td><td>Sanjay</td><td>4</td></tr>",
                            "<tr><td>Rashmirathi</td><td>Ramdhari Singh Dinkar</td><td>Shivanshi</td><td>4</td></tr>",
                            "<tr><td>Rashmirathi</td><td>Ramdhari Singh Dinkar</td><td>Vivek</td><td>4</td></tr>",
                            "<tr><td>Rashmirathi</td><td>Ramdhari Singh Dinkar</td><td>Reena</td><td>4</td></tr>",
                            "<tr><td>Rashmirathi</td><td>Ramdhari Singh Dinkar</td><td>Amit</td><td>3</td></tr>",
                            "<tr><td>The Count of Monte Cristo</td><td>Alexandre Dumas</td><td>Vivek</td><td>5</td></tr>",
                            "<tr><td>The Count of Monte Cristo</td><td>Alexandre Dumas</td><td>Reena</td><td>4</td></tr>",
                            "<tr><td>The Count of Monte Cristo</td><td>Alexandre Dumas</td><td>Shivanshi</td><td>4</td></tr>",
                            "</table>"
                        ]
                    }
                }
            ],
            "execution_count": 113
        },
        {
            "cell_type": "markdown",
            "source": [
                "## 2\\. LEFT OUTER JOIN"
            ],
            "metadata": {
                "azdata_cell_guid": "2299fe18-f09e-4679-93b2-8e94851e0c1c"
            },
            "attachments": {}
        },
        {
            "cell_type": "code",
            "source": [
                "SELECT \r\n",
                "    TITLE,\r\n",
                "    AUTHOR,\r\n",
                "    REVIEWER,\r\n",
                "    RATING\r\n",
                "FROM\r\n",
                "    BOOKS\r\n",
                "LEFT OUTER JOIN\r\n",
                "    REVIEWS\r\n",
                "ON\r\n",
                "    TITLE=BOOK_TITLE"
            ],
            "metadata": {
                "azdata_cell_guid": "8adcfc75-0611-4e6f-9318-fa1f7d60642f",
                "language": "sql"
            },
            "outputs": [
                {
                    "output_type": "display_data",
                    "data": {
                        "text/html": "(16 rows affected)"
                    },
                    "metadata": {}
                },
                {
                    "output_type": "display_data",
                    "data": {
                        "text/html": "Total execution time: 00:00:00.006"
                    },
                    "metadata": {}
                },
                {
                    "output_type": "execute_result",
                    "metadata": {},
                    "execution_count": 114,
                    "data": {
                        "application/vnd.dataresource+json": {
                            "schema": {
                                "fields": [
                                    {
                                        "name": "TITLE"
                                    },
                                    {
                                        "name": "AUTHOR"
                                    },
                                    {
                                        "name": "REVIEWER"
                                    },
                                    {
                                        "name": "RATING"
                                    }
                                ]
                            },
                            "data": [
                                {
                                    "TITLE": "The Accursed God",
                                    "AUTHOR": "Vivek Dutta Mishra",
                                    "REVIEWER": "Sanjay",
                                    "RATING": "5"
                                },
                                {
                                    "TITLE": "The Accursed God",
                                    "AUTHOR": "Vivek Dutta Mishra",
                                    "REVIEWER": "Shivanshi",
                                    "RATING": "3"
                                },
                                {
                                    "TITLE": "The Accursed God",
                                    "AUTHOR": "Vivek Dutta Mishra",
                                    "REVIEWER": "Amit",
                                    "RATING": "5"
                                },
                                {
                                    "TITLE": "The Accursed God",
                                    "AUTHOR": "Vivek Dutta Mishra",
                                    "REVIEWER": "Rajesh",
                                    "RATING": "5"
                                },
                                {
                                    "TITLE": "Manas",
                                    "AUTHOR": "Vivek Dutta Mishra",
                                    "REVIEWER": "Shivanshi",
                                    "RATING": "5"
                                },
                                {
                                    "TITLE": "Manas",
                                    "AUTHOR": "Vivek Dutta Mishra",
                                    "REVIEWER": "Reena",
                                    "RATING": "4"
                                },
                                {
                                    "TITLE": "Manas",
                                    "AUTHOR": "Vivek Dutta Mishra",
                                    "REVIEWER": "Sanjay",
                                    "RATING": "4"
                                },
                                {
                                    "TITLE": "Rashmirathi",
                                    "AUTHOR": "Ramdhari Singh Dinkar",
                                    "REVIEWER": "Shivanshi",
                                    "RATING": "4"
                                },
                                {
                                    "TITLE": "Rashmirathi",
                                    "AUTHOR": "Ramdhari Singh Dinkar",
                                    "REVIEWER": "Vivek",
                                    "RATING": "4"
                                },
                                {
                                    "TITLE": "Rashmirathi",
                                    "AUTHOR": "Ramdhari Singh Dinkar",
                                    "REVIEWER": "Reena",
                                    "RATING": "4"
                                },
                                {
                                    "TITLE": "Rashmirathi",
                                    "AUTHOR": "Ramdhari Singh Dinkar",
                                    "REVIEWER": "Amit",
                                    "RATING": "3"
                                },
                                {
                                    "TITLE": "The Count of Monte Cristo",
                                    "AUTHOR": "Alexandre Dumas",
                                    "REVIEWER": "Vivek",
                                    "RATING": "5"
                                },
                                {
                                    "TITLE": "The Count of Monte Cristo",
                                    "AUTHOR": "Alexandre Dumas",
                                    "REVIEWER": "Reena",
                                    "RATING": "4"
                                },
                                {
                                    "TITLE": "The Count of Monte Cristo",
                                    "AUTHOR": "Alexandre Dumas",
                                    "REVIEWER": "Shivanshi",
                                    "RATING": "4"
                                },
                                {
                                    "TITLE": "Brethren",
                                    "AUTHOR": "John Grisham",
                                    "REVIEWER": "NULL",
                                    "RATING": "NULL"
                                },
                                {
                                    "TITLE": "Summons",
                                    "AUTHOR": "John Grishma",
                                    "REVIEWER": "NULL",
                                    "RATING": "NULL"
                                }
                            ]
                        },
                        "text/html": [
                            "<table>",
                            "<tr><th>TITLE</th><th>AUTHOR</th><th>REVIEWER</th><th>RATING</th></tr>",
                            "<tr><td>The Accursed God</td><td>Vivek Dutta Mishra</td><td>Sanjay</td><td>5</td></tr>",
                            "<tr><td>The Accursed God</td><td>Vivek Dutta Mishra</td><td>Shivanshi</td><td>3</td></tr>",
                            "<tr><td>The Accursed God</td><td>Vivek Dutta Mishra</td><td>Amit</td><td>5</td></tr>",
                            "<tr><td>The Accursed God</td><td>Vivek Dutta Mishra</td><td>Rajesh</td><td>5</td></tr>",
                            "<tr><td>Manas</td><td>Vivek Dutta Mishra</td><td>Shivanshi</td><td>5</td></tr>",
                            "<tr><td>Manas</td><td>Vivek Dutta Mishra</td><td>Reena</td><td>4</td></tr>",
                            "<tr><td>Manas</td><td>Vivek Dutta Mishra</td><td>Sanjay</td><td>4</td></tr>",
                            "<tr><td>Rashmirathi</td><td>Ramdhari Singh Dinkar</td><td>Shivanshi</td><td>4</td></tr>",
                            "<tr><td>Rashmirathi</td><td>Ramdhari Singh Dinkar</td><td>Vivek</td><td>4</td></tr>",
                            "<tr><td>Rashmirathi</td><td>Ramdhari Singh Dinkar</td><td>Reena</td><td>4</td></tr>",
                            "<tr><td>Rashmirathi</td><td>Ramdhari Singh Dinkar</td><td>Amit</td><td>3</td></tr>",
                            "<tr><td>The Count of Monte Cristo</td><td>Alexandre Dumas</td><td>Vivek</td><td>5</td></tr>",
                            "<tr><td>The Count of Monte Cristo</td><td>Alexandre Dumas</td><td>Reena</td><td>4</td></tr>",
                            "<tr><td>The Count of Monte Cristo</td><td>Alexandre Dumas</td><td>Shivanshi</td><td>4</td></tr>",
                            "<tr><td>Brethren</td><td>John Grisham</td><td>NULL</td><td>NULL</td></tr>",
                            "<tr><td>Summons</td><td>John Grishma</td><td>NULL</td><td>NULL</td></tr>",
                            "</table>"
                        ]
                    }
                }
            ],
            "execution_count": 114
        },
        {
            "cell_type": "code",
            "source": [
                "INSERT \r\n",
                "    INTO REVIEWS(BOOK_TITLE, REVIEWER, RATING)\r\n",
                "    VALUES      \r\n",
                "            ('Kurukshetra', 'Vivek', 5),\r\n",
                "            ('Kurukshetra', 'Sanjay',3),\r\n",
                "            ('Kurukshetra', 'Shivanshi',4),\r\n",
                "            ('Kane And Abel', 'Reena',4);"
            ],
            "metadata": {
                "azdata_cell_guid": "97a8993c-157c-4301-b43f-ea8d9547963c",
                "language": "sql"
            },
            "outputs": [
                {
                    "output_type": "display_data",
                    "data": {
                        "text/html": "(4 rows affected)"
                    },
                    "metadata": {}
                },
                {
                    "output_type": "display_data",
                    "data": {
                        "text/html": "Total execution time: 00:00:00.010"
                    },
                    "metadata": {}
                }
            ],
            "execution_count": 58
        },
        {
            "cell_type": "markdown",
            "source": [
                "### Left Outer Join will not get unqiue data from right table"
            ],
            "metadata": {
                "azdata_cell_guid": "a3707aae-12db-4b93-b3bc-3d9a0fddc6e0"
            },
            "attachments": {}
        },
        {
            "cell_type": "code",
            "source": [
                "SELECT\r\n",
                "    TITLE,\r\n",
                "    BOOK_TITLE\r\n",
                "FROM\r\n",
                "    BOOKS\r\n",
                "LEFT JOIN \r\n",
                "    REVIEWS\r\n",
                "ON\r\n",
                "    TITLE=BOOK_TITLE\r\n",
                ""
            ],
            "metadata": {
                "language": "sql",
                "azdata_cell_guid": "f4b700ba-d2a7-4258-8cbb-c9af429cc521"
            },
            "outputs": [
                {
                    "output_type": "display_data",
                    "data": {
                        "text/html": "(16 rows affected)"
                    },
                    "metadata": {}
                },
                {
                    "output_type": "display_data",
                    "data": {
                        "text/html": "Total execution time: 00:00:00.003"
                    },
                    "metadata": {}
                },
                {
                    "output_type": "execute_result",
                    "metadata": {},
                    "execution_count": 63,
                    "data": {
                        "application/vnd.dataresource+json": {
                            "schema": {
                                "fields": [
                                    {
                                        "name": "TITLE"
                                    },
                                    {
                                        "name": "BOOK_TITLE"
                                    }
                                ]
                            },
                            "data": [
                                {
                                    "TITLE": "The Accursed God",
                                    "BOOK_TITLE": "The Accursed God"
                                },
                                {
                                    "TITLE": "The Accursed God",
                                    "BOOK_TITLE": "The Accursed God"
                                },
                                {
                                    "TITLE": "The Accursed God",
                                    "BOOK_TITLE": "The Accursed God"
                                },
                                {
                                    "TITLE": "The Accursed God",
                                    "BOOK_TITLE": "The Accursed God"
                                },
                                {
                                    "TITLE": "Manas",
                                    "BOOK_TITLE": "Manas"
                                },
                                {
                                    "TITLE": "Manas",
                                    "BOOK_TITLE": "Manas"
                                },
                                {
                                    "TITLE": "Manas",
                                    "BOOK_TITLE": "Manas"
                                },
                                {
                                    "TITLE": "Rashmirathi",
                                    "BOOK_TITLE": "Rashmirathi"
                                },
                                {
                                    "TITLE": "Rashmirathi",
                                    "BOOK_TITLE": "Rashmirathi"
                                },
                                {
                                    "TITLE": "Rashmirathi",
                                    "BOOK_TITLE": "Rashmirathi"
                                },
                                {
                                    "TITLE": "Rashmirathi",
                                    "BOOK_TITLE": "Rashmirathi"
                                },
                                {
                                    "TITLE": "The Count of Monte Cristo",
                                    "BOOK_TITLE": "The Count of Monte Cristo"
                                },
                                {
                                    "TITLE": "The Count of Monte Cristo",
                                    "BOOK_TITLE": "The Count of Monte Cristo"
                                },
                                {
                                    "TITLE": "The Count of Monte Cristo",
                                    "BOOK_TITLE": "The Count of Monte Cristo"
                                },
                                {
                                    "TITLE": "Brethren",
                                    "BOOK_TITLE": "NULL"
                                },
                                {
                                    "TITLE": "Summons",
                                    "BOOK_TITLE": "NULL"
                                }
                            ]
                        },
                        "text/html": [
                            "<table>",
                            "<tr><th>TITLE</th><th>BOOK_TITLE</th></tr>",
                            "<tr><td>The Accursed God</td><td>The Accursed God</td></tr>",
                            "<tr><td>The Accursed God</td><td>The Accursed God</td></tr>",
                            "<tr><td>The Accursed God</td><td>The Accursed God</td></tr>",
                            "<tr><td>The Accursed God</td><td>The Accursed God</td></tr>",
                            "<tr><td>Manas</td><td>Manas</td></tr>",
                            "<tr><td>Manas</td><td>Manas</td></tr>",
                            "<tr><td>Manas</td><td>Manas</td></tr>",
                            "<tr><td>Rashmirathi</td><td>Rashmirathi</td></tr>",
                            "<tr><td>Rashmirathi</td><td>Rashmirathi</td></tr>",
                            "<tr><td>Rashmirathi</td><td>Rashmirathi</td></tr>",
                            "<tr><td>Rashmirathi</td><td>Rashmirathi</td></tr>",
                            "<tr><td>The Count of Monte Cristo</td><td>The Count of Monte Cristo</td></tr>",
                            "<tr><td>The Count of Monte Cristo</td><td>The Count of Monte Cristo</td></tr>",
                            "<tr><td>The Count of Monte Cristo</td><td>The Count of Monte Cristo</td></tr>",
                            "<tr><td>Brethren</td><td>NULL</td></tr>",
                            "<tr><td>Summons</td><td>NULL</td></tr>",
                            "</table>"
                        ]
                    }
                }
            ],
            "execution_count": 63
        },
        {
            "cell_type": "markdown",
            "source": [
                "# RIGHT OUTPER JOIN"
            ],
            "metadata": {
                "language": "",
                "azdata_cell_guid": "3f6fdddf-e5c2-411d-a972-8ca75c8c6567"
            },
            "attachments": {}
        },
        {
            "cell_type": "code",
            "source": [
                "\r\n",
                "SELECT\r\n",
                "    TITLE,\r\n",
                "    BOOK_TITLE\r\n",
                "FROM\r\n",
                "    BOOKS\r\n",
                "RIGHT JOIN \r\n",
                "    REVIEWS\r\n",
                "ON\r\n",
                "    TITLE=BOOK_TITLE\r\n",
                ""
            ],
            "metadata": {
                "azdata_cell_guid": "510cbbf9-02f4-4317-b34d-be8a7b6963a1",
                "language": "sql"
            },
            "outputs": [
                {
                    "output_type": "display_data",
                    "data": {
                        "text/html": "(18 rows affected)"
                    },
                    "metadata": {}
                },
                {
                    "output_type": "display_data",
                    "data": {
                        "text/html": "Total execution time: 00:00:00.014"
                    },
                    "metadata": {}
                },
                {
                    "output_type": "execute_result",
                    "metadata": {},
                    "execution_count": 64,
                    "data": {
                        "application/vnd.dataresource+json": {
                            "schema": {
                                "fields": [
                                    {
                                        "name": "TITLE"
                                    },
                                    {
                                        "name": "BOOK_TITLE"
                                    }
                                ]
                            },
                            "data": [
                                {
                                    "TITLE": "The Accursed God",
                                    "BOOK_TITLE": "The Accursed God"
                                },
                                {
                                    "TITLE": "The Accursed God",
                                    "BOOK_TITLE": "The Accursed God"
                                },
                                {
                                    "TITLE": "The Accursed God",
                                    "BOOK_TITLE": "The Accursed God"
                                },
                                {
                                    "TITLE": "The Accursed God",
                                    "BOOK_TITLE": "The Accursed God"
                                },
                                {
                                    "TITLE": "Manas",
                                    "BOOK_TITLE": "Manas"
                                },
                                {
                                    "TITLE": "Manas",
                                    "BOOK_TITLE": "Manas"
                                },
                                {
                                    "TITLE": "Manas",
                                    "BOOK_TITLE": "Manas"
                                },
                                {
                                    "TITLE": "Rashmirathi",
                                    "BOOK_TITLE": "Rashmirathi"
                                },
                                {
                                    "TITLE": "Rashmirathi",
                                    "BOOK_TITLE": "Rashmirathi"
                                },
                                {
                                    "TITLE": "Rashmirathi",
                                    "BOOK_TITLE": "Rashmirathi"
                                },
                                {
                                    "TITLE": "Rashmirathi",
                                    "BOOK_TITLE": "Rashmirathi"
                                },
                                {
                                    "TITLE": "The Count of Monte Cristo",
                                    "BOOK_TITLE": "The Count of Monte Cristo"
                                },
                                {
                                    "TITLE": "The Count of Monte Cristo",
                                    "BOOK_TITLE": "The Count of Monte Cristo"
                                },
                                {
                                    "TITLE": "The Count of Monte Cristo",
                                    "BOOK_TITLE": "The Count of Monte Cristo"
                                },
                                {
                                    "TITLE": "NULL",
                                    "BOOK_TITLE": "Kurukshetra"
                                },
                                {
                                    "TITLE": "NULL",
                                    "BOOK_TITLE": "Kurukshetra"
                                },
                                {
                                    "TITLE": "NULL",
                                    "BOOK_TITLE": "Kurukshetra"
                                },
                                {
                                    "TITLE": "NULL",
                                    "BOOK_TITLE": "Kane And Abel"
                                }
                            ]
                        },
                        "text/html": [
                            "<table>",
                            "<tr><th>TITLE</th><th>BOOK_TITLE</th></tr>",
                            "<tr><td>The Accursed God</td><td>The Accursed God</td></tr>",
                            "<tr><td>The Accursed God</td><td>The Accursed God</td></tr>",
                            "<tr><td>The Accursed God</td><td>The Accursed God</td></tr>",
                            "<tr><td>The Accursed God</td><td>The Accursed God</td></tr>",
                            "<tr><td>Manas</td><td>Manas</td></tr>",
                            "<tr><td>Manas</td><td>Manas</td></tr>",
                            "<tr><td>Manas</td><td>Manas</td></tr>",
                            "<tr><td>Rashmirathi</td><td>Rashmirathi</td></tr>",
                            "<tr><td>Rashmirathi</td><td>Rashmirathi</td></tr>",
                            "<tr><td>Rashmirathi</td><td>Rashmirathi</td></tr>",
                            "<tr><td>Rashmirathi</td><td>Rashmirathi</td></tr>",
                            "<tr><td>The Count of Monte Cristo</td><td>The Count of Monte Cristo</td></tr>",
                            "<tr><td>The Count of Monte Cristo</td><td>The Count of Monte Cristo</td></tr>",
                            "<tr><td>The Count of Monte Cristo</td><td>The Count of Monte Cristo</td></tr>",
                            "<tr><td>NULL</td><td>Kurukshetra</td></tr>",
                            "<tr><td>NULL</td><td>Kurukshetra</td></tr>",
                            "<tr><td>NULL</td><td>Kurukshetra</td></tr>",
                            "<tr><td>NULL</td><td>Kane And Abel</td></tr>",
                            "</table>"
                        ]
                    }
                }
            ],
            "execution_count": 64
        },
        {
            "cell_type": "markdown",
            "source": [
                "## FULL OUTER JOIN"
            ],
            "metadata": {
                "azdata_cell_guid": "b3cc580a-1b2c-436e-8b3e-781e34fd87d5"
            },
            "attachments": {}
        },
        {
            "cell_type": "code",
            "source": [
                "SELECT\r\n",
                "    TITLE,\r\n",
                "    BOOK_TITLE\r\n",
                "FROM\r\n",
                "    BOOKS\r\n",
                "FULL JOIN \r\n",
                "    REVIEWS\r\n",
                "ON\r\n",
                "    TITLE=BOOK_TITLE"
            ],
            "metadata": {
                "azdata_cell_guid": "ae417190-8f5e-4961-b15c-5c0f6604079d",
                "language": "sql"
            },
            "outputs": [
                {
                    "output_type": "display_data",
                    "data": {
                        "text/html": "(20 rows affected)"
                    },
                    "metadata": {}
                },
                {
                    "output_type": "display_data",
                    "data": {
                        "text/html": "Total execution time: 00:00:00.017"
                    },
                    "metadata": {}
                },
                {
                    "output_type": "execute_result",
                    "metadata": {},
                    "execution_count": 65,
                    "data": {
                        "application/vnd.dataresource+json": {
                            "schema": {
                                "fields": [
                                    {
                                        "name": "TITLE"
                                    },
                                    {
                                        "name": "BOOK_TITLE"
                                    }
                                ]
                            },
                            "data": [
                                {
                                    "TITLE": "The Accursed God",
                                    "BOOK_TITLE": "The Accursed God"
                                },
                                {
                                    "TITLE": "The Accursed God",
                                    "BOOK_TITLE": "The Accursed God"
                                },
                                {
                                    "TITLE": "The Accursed God",
                                    "BOOK_TITLE": "The Accursed God"
                                },
                                {
                                    "TITLE": "The Accursed God",
                                    "BOOK_TITLE": "The Accursed God"
                                },
                                {
                                    "TITLE": "Manas",
                                    "BOOK_TITLE": "Manas"
                                },
                                {
                                    "TITLE": "Manas",
                                    "BOOK_TITLE": "Manas"
                                },
                                {
                                    "TITLE": "Manas",
                                    "BOOK_TITLE": "Manas"
                                },
                                {
                                    "TITLE": "Rashmirathi",
                                    "BOOK_TITLE": "Rashmirathi"
                                },
                                {
                                    "TITLE": "Rashmirathi",
                                    "BOOK_TITLE": "Rashmirathi"
                                },
                                {
                                    "TITLE": "Rashmirathi",
                                    "BOOK_TITLE": "Rashmirathi"
                                },
                                {
                                    "TITLE": "Rashmirathi",
                                    "BOOK_TITLE": "Rashmirathi"
                                },
                                {
                                    "TITLE": "The Count of Monte Cristo",
                                    "BOOK_TITLE": "The Count of Monte Cristo"
                                },
                                {
                                    "TITLE": "The Count of Monte Cristo",
                                    "BOOK_TITLE": "The Count of Monte Cristo"
                                },
                                {
                                    "TITLE": "The Count of Monte Cristo",
                                    "BOOK_TITLE": "The Count of Monte Cristo"
                                },
                                {
                                    "TITLE": "Brethren",
                                    "BOOK_TITLE": "NULL"
                                },
                                {
                                    "TITLE": "Summons",
                                    "BOOK_TITLE": "NULL"
                                },
                                {
                                    "TITLE": "NULL",
                                    "BOOK_TITLE": "Kurukshetra"
                                },
                                {
                                    "TITLE": "NULL",
                                    "BOOK_TITLE": "Kurukshetra"
                                },
                                {
                                    "TITLE": "NULL",
                                    "BOOK_TITLE": "Kurukshetra"
                                },
                                {
                                    "TITLE": "NULL",
                                    "BOOK_TITLE": "Kane And Abel"
                                }
                            ]
                        },
                        "text/html": [
                            "<table>",
                            "<tr><th>TITLE</th><th>BOOK_TITLE</th></tr>",
                            "<tr><td>The Accursed God</td><td>The Accursed God</td></tr>",
                            "<tr><td>The Accursed God</td><td>The Accursed God</td></tr>",
                            "<tr><td>The Accursed God</td><td>The Accursed God</td></tr>",
                            "<tr><td>The Accursed God</td><td>The Accursed God</td></tr>",
                            "<tr><td>Manas</td><td>Manas</td></tr>",
                            "<tr><td>Manas</td><td>Manas</td></tr>",
                            "<tr><td>Manas</td><td>Manas</td></tr>",
                            "<tr><td>Rashmirathi</td><td>Rashmirathi</td></tr>",
                            "<tr><td>Rashmirathi</td><td>Rashmirathi</td></tr>",
                            "<tr><td>Rashmirathi</td><td>Rashmirathi</td></tr>",
                            "<tr><td>Rashmirathi</td><td>Rashmirathi</td></tr>",
                            "<tr><td>The Count of Monte Cristo</td><td>The Count of Monte Cristo</td></tr>",
                            "<tr><td>The Count of Monte Cristo</td><td>The Count of Monte Cristo</td></tr>",
                            "<tr><td>The Count of Monte Cristo</td><td>The Count of Monte Cristo</td></tr>",
                            "<tr><td>Brethren</td><td>NULL</td></tr>",
                            "<tr><td>Summons</td><td>NULL</td></tr>",
                            "<tr><td>NULL</td><td>Kurukshetra</td></tr>",
                            "<tr><td>NULL</td><td>Kurukshetra</td></tr>",
                            "<tr><td>NULL</td><td>Kurukshetra</td></tr>",
                            "<tr><td>NULL</td><td>Kane And Abel</td></tr>",
                            "</table>"
                        ]
                    }
                }
            ],
            "execution_count": 65
        },
        {
            "cell_type": "markdown",
            "source": [
                "# PROBLEM WITH REVIEW TABLE\n",
                "\n",
                "- We can add reviews even without having a valid book.\n",
                "- In our case we don't have books -- Kuruksehtra and Kane and Able in our application\n",
                "- We can still have reviews for them\n",
                "- The reason database doesn't know the relationship that we have established between books and reviews\n",
                "    - It is all in our logic\n",
                "    - Database can't validate what it doesn't know.\n",
                "\n",
                "  \n",
                "\n",
                "  \n",
                "\n",
                "# PRIMARY KEY\n",
                "\n",
                "- PRIMARY KEY IDENTIFIES THE ID COLUMN(S) FOR A TABLE\n",
                "- A PRIMARY KEY MUST BE NOT NULL AND UNIQUE IN OUR APPLICATION\n",
                "- SEARCH ON PRIMARY KEY IS QUITE FAST BECAUSE OF INDEXING\n",
                "- ENSURES YOU CAN'T ADD DUPLICATE FOR A PRIMARY KEY\n",
                "\n",
                "  \n",
                "\n",
                "# FOREIGN KEY\n",
                "\n",
                "-  Foreign key is generally present in a child/transaction table that refers to another table\n",
                "- The value of foreign key is same as PRIMARY KEY of the original design\n",
                "- Having a foreign key ensures that DB validates the supplied value for the foreign key"
            ],
            "metadata": {
                "azdata_cell_guid": "00794743-68ea-413d-ab40-bd69da5f614f"
            },
            "attachments": {}
        },
        {
            "cell_type": "markdown",
            "source": [
                "# Introducing ISBN Number\n",
                "\n",
                "  \n",
                "\n",
                "- ISBN NUMBER IS A UNIQUE ID ATTACHED TO A GIVEN BOOK PUBLICATION\n",
                "- IT IS UNIQUE FOR A COMBINATION OF\n",
                "    - TITLE\n",
                "    - AUTHOR\n",
                "    - FORMAT\n",
                "    - COVER\n",
                "- WE NEED A NEW ISBN IF WE CHANGE ANY OF THE ABOVE \n",
                "    - SAME BOOK WILL HAVE DIFFERENT ISBN IF WE\n",
                "        - CHANGE HE COVER \n",
                "        - FORMAT: PAPERBACK OR HARDBOUND OR EBOOK\n",
                "    - DIFFERENT PUBLISHERS MAY PUBLISH SAME BOOK WITH DIFFERENT\n",
                "        - COVER\n",
                "        - OR FORMAT\n",
                "\n",
                "## LET US RECREATE BOOK TO INTRODUCE\n",
                "\n",
                "1\\. ISBN\n",
                "\n",
                "2\\. FORMAT (PAPERBACK, HARDBOUND, EBOOK)\n",
                "\n",
                "3\\. PUBLISHER\n",
                "\n",
                "> - NAME\n",
                "> - ADDRESS"
            ],
            "metadata": {
                "azdata_cell_guid": "5980314f-47bf-475c-ad27-0a280ad66c54"
            },
            "attachments": {}
        },
        {
            "cell_type": "code",
            "source": [
                "DROP TABLE IF EXISTS BOOKS;\r\n",
                "\r\n",
                "CREATE TABLE BOOKS(\r\n",
                "    \r\n",
                "    TITLE VARCHAR(100) NOT NULL,\r\n",
                "    DESCRIPTION VARCHAR(2000) ,\r\n",
                "    AUTHOR VARCHAR(100) NOT NULL,\r\n",
                "    AUTHOR_PHOTO VARCHAR(512) DEFAULT('john-doe.png'),\r\n",
                "    AUTHOR_BIOGRAPHY VARCHAR(256),    \r\n",
                "    ISBN VARCHAR(15) NOT NULL,\r\n",
                "    PRICE DECIMAL(8,2) CHECK(PRICE>=0),    \r\n",
                "    COVER VARCHAR(512) DEFAULT('unknown.png'),\r\n",
                "    FORMAT VARCHAR(20) DEFAULT('PAPERBACK')\r\n",
                ");"
            ],
            "metadata": {
                "azdata_cell_guid": "385f4d40-f547-41f2-8ad7-11729aaa3477",
                "language": "sql",
                "tags": []
            },
            "outputs": [
                {
                    "output_type": "display_data",
                    "data": {
                        "text/html": "Commands completed successfully."
                    },
                    "metadata": {}
                },
                {
                    "output_type": "display_data",
                    "data": {
                        "text/html": "Total execution time: 00:00:00.009"
                    },
                    "metadata": {}
                }
            ],
            "execution_count": 71
        },
        {
            "cell_type": "code",
            "source": [
                "INSERT \r\n",
                "    INTO BOOKS(TITLE,AUTHOR,PRICE,COVER,ISBN,FORMAT,AUTHOR_PHOTO)\r\n",
                "    VALUES    \r\n",
                "    \r\n",
                "    ('The Accursed God','Vivek Dutta Mishra',299, 'tag.png','111','PB','vivek.png'),\r\n",
                "    ('Manas','Vivek Dutta Mishra',199, 'manas.png','112','PB','vivek.png'),\r\n",
                "    ('Rashmirathi','Ramdhari Singh Dinkar',99, 'rashmirath.png','113','PB','dinkar.png'),\r\n",
                "    ('The Count of Monte Cristo','Alexandre Dumas',499, 'cristo.png','114','PB','dumas.png'),\r\n",
                "    \r\n",
                "    ('The Accursed God','Vivek Dutta Mishra',99, 'tag.png','115','EB','vivek.png'),\r\n",
                "    ('Manas','Vivek Dutta Mishra',99, 'manas.png','116','EB','vivek.png'),\r\n",
                "    ('Rashmirathi','Ramdhari Singh Dinkar',99, 'rashmirath.png','117','EB','dinkar.png'),\r\n",
                "    ('The Count of Monte Cristo','Alexandre Dumas',199, 'cristo.png','118','EB','dumas.png'),\r\n",
                "\r\n",
                "    ('The Accursed God','Vivek Dutta Mishra',499, 'tag.png','119','HB','vivek.png'),\r\n",
                "    ('Rashmirathi','Ramdhari Singh Dinkar',199, 'rashmirath.png','120','HB','dinkar.png')\r\n",
                "\r\n",
                "    ;"
            ],
            "metadata": {
                "language": "sql",
                "azdata_cell_guid": "65b9ac9c-fdd1-4349-81aa-4c8bf027eb34"
            },
            "outputs": [
                {
                    "output_type": "display_data",
                    "data": {
                        "text/html": "(10 rows affected)"
                    },
                    "metadata": {}
                },
                {
                    "output_type": "display_data",
                    "data": {
                        "text/html": "Total execution time: 00:00:00.018"
                    },
                    "metadata": {}
                }
            ],
            "execution_count": 72
        },
        {
            "cell_type": "code",
            "source": [
                "INSERT \r\n",
                "    INTO BOOKS(TITLE,AUTHOR,PRICE,COVER,ISBN,FORMAT,AUTHOR_PHOTO)\r\n",
                "    VALUES    \r\n",
                "    \r\n",
                "    ('The Accursed God','Manoj Kumar',299, 'cover.png','121','PB','manoj.png'),\r\n",
                "    ('The Accursed God','Manoj Kumar',299, 'cover-2.png','122','PB','manoj.png');\r\n",
                "    "
            ],
            "metadata": {
                "azdata_cell_guid": "2005c1ee-d900-4ca4-b885-e656db3564a1",
                "language": "sql"
            },
            "outputs": [
                {
                    "output_type": "display_data",
                    "data": {
                        "text/html": "(2 rows affected)"
                    },
                    "metadata": {}
                },
                {
                    "output_type": "display_data",
                    "data": {
                        "text/html": "Total execution time: 00:00:00.014"
                    },
                    "metadata": {}
                }
            ],
            "execution_count": 91
        },
        {
            "cell_type": "code",
            "source": [
                "SELECT \r\n",
                "    TITLE,    \r\n",
                "    DESCRIPTION,\r\n",
                "    AUTHOR,\r\n",
                "    AUTHOR_PHOTO,\r\n",
                "    AUTHOR_BIOGRAPHY\r\n",
                "    \r\n",
                "    \r\n",
                "FROM \r\n",
                "    BOOKS\r\n",
                "GROUP BY\r\n",
                "    TITLE,\r\n",
                "    AUTHOR,\r\n",
                "    AUTHOR_PHOTO,\r\n",
                "    DESCRIPTION,\r\n",
                "    AUTHOR_BIOGRAPHY\r\n",
                "    "
            ],
            "metadata": {
                "azdata_cell_guid": "3fffc102-ccfa-47b4-8fd3-1445d2487d7b",
                "language": "sql"
            },
            "outputs": [
                {
                    "output_type": "display_data",
                    "data": {
                        "text/html": "(5 rows affected)"
                    },
                    "metadata": {}
                },
                {
                    "output_type": "display_data",
                    "data": {
                        "text/html": "Total execution time: 00:00:00.019"
                    },
                    "metadata": {}
                },
                {
                    "output_type": "execute_result",
                    "metadata": {},
                    "execution_count": 100,
                    "data": {
                        "application/vnd.dataresource+json": {
                            "schema": {
                                "fields": [
                                    {
                                        "name": "TITLE"
                                    },
                                    {
                                        "name": "DESCRIPTION"
                                    },
                                    {
                                        "name": "AUTHOR"
                                    },
                                    {
                                        "name": "AUTHOR_PHOTO"
                                    },
                                    {
                                        "name": "AUTHOR_BIOGRAPHY"
                                    }
                                ]
                            },
                            "data": [
                                {
                                    "TITLE": "Manas",
                                    "DESCRIPTION": "NULL",
                                    "AUTHOR": "Vivek Dutta Mishra",
                                    "AUTHOR_PHOTO": "vivek.png",
                                    "AUTHOR_BIOGRAPHY": "NULL"
                                },
                                {
                                    "TITLE": "Rashmirathi",
                                    "DESCRIPTION": "NULL",
                                    "AUTHOR": "Ramdhari Singh Dinkar",
                                    "AUTHOR_PHOTO": "dinkar.png",
                                    "AUTHOR_BIOGRAPHY": "NULL"
                                },
                                {
                                    "TITLE": "The Accursed God",
                                    "DESCRIPTION": "NULL",
                                    "AUTHOR": "Manoj Kumar",
                                    "AUTHOR_PHOTO": "manoj.png",
                                    "AUTHOR_BIOGRAPHY": "NULL"
                                },
                                {
                                    "TITLE": "The Accursed God",
                                    "DESCRIPTION": "NULL",
                                    "AUTHOR": "Vivek Dutta Mishra",
                                    "AUTHOR_PHOTO": "vivek.png",
                                    "AUTHOR_BIOGRAPHY": "NULL"
                                },
                                {
                                    "TITLE": "The Count of Monte Cristo",
                                    "DESCRIPTION": "NULL",
                                    "AUTHOR": "Alexandre Dumas",
                                    "AUTHOR_PHOTO": "dumas.png",
                                    "AUTHOR_BIOGRAPHY": "NULL"
                                }
                            ]
                        },
                        "text/html": [
                            "<table>",
                            "<tr><th>TITLE</th><th>DESCRIPTION</th><th>AUTHOR</th><th>AUTHOR_PHOTO</th><th>AUTHOR_BIOGRAPHY</th></tr>",
                            "<tr><td>Manas</td><td>NULL</td><td>Vivek Dutta Mishra</td><td>vivek.png</td><td>NULL</td></tr>",
                            "<tr><td>Rashmirathi</td><td>NULL</td><td>Ramdhari Singh Dinkar</td><td>dinkar.png</td><td>NULL</td></tr>",
                            "<tr><td>The Accursed God</td><td>NULL</td><td>Manoj Kumar</td><td>manoj.png</td><td>NULL</td></tr>",
                            "<tr><td>The Accursed God</td><td>NULL</td><td>Vivek Dutta Mishra</td><td>vivek.png</td><td>NULL</td></tr>",
                            "<tr><td>The Count of Monte Cristo</td><td>NULL</td><td>Alexandre Dumas</td><td>dumas.png</td><td>NULL</td></tr>",
                            "</table>"
                        ]
                    }
                }
            ],
            "execution_count": 100
        },
        {
            "cell_type": "code",
            "source": [
                "DROP TABLE IF EXISTS REVIEWS;\r\n",
                "\r\n",
                "CREATE TABLE REVIEWS(\r\n",
                "    --RELATIONAL FIELD\r\n",
                "    ISBN VARCHAR(15),\r\n",
                "    --REQUIRED FIELD\r\n",
                "    REVIEWER VARCHAR(100) NOT NULL,\r\n",
                "    RATING INT NOT NULL\r\n",
                "\r\n",
                ")"
            ],
            "metadata": {
                "azdata_cell_guid": "87b0107d-9e4f-4dd6-a2a6-4f4daf4fc1dd",
                "language": "sql"
            },
            "outputs": [
                {
                    "output_type": "display_data",
                    "data": {
                        "text/html": "Commands completed successfully."
                    },
                    "metadata": {}
                },
                {
                    "output_type": "display_data",
                    "data": {
                        "text/html": "Total execution time: 00:00:00.014"
                    },
                    "metadata": {}
                }
            ],
            "execution_count": 74
        },
        {
            "cell_type": "code",
            "source": [
                "INSERT \r\n",
                "    INTO REVIEWS(ISBN,REVIEWER,RATING)\r\n",
                "    VALUES    \r\n",
                "    \r\n",
                "    ('111','Sanjay',5),\r\n",
                "    ('111','Shivanshi',3),\r\n",
                "    ('111','Amit',5),\r\n",
                "    ('111','Rajesh',5),\r\n",
                "    \r\n",
                "    ('112','Shivanshi',5),\r\n",
                "    ('112','Reena',4),\r\n",
                "    ('112','Sanjay',4),\r\n",
                "\r\n",
                "    ('113','Shivanshi',4),\r\n",
                "    ('113','Vivek',4),\r\n",
                "    ('113','Reena',4),\r\n",
                "    ('113','Amit',3),\r\n",
                "\r\n",
                "    ('114','Vivek',5),\r\n",
                "    ('114','Reena',4),\r\n",
                "    ('114','Shivanshi',4)\r\n",
                "    \r\n",
                "\r\n",
                "    ;"
            ],
            "metadata": {
                "language": "sql",
                "azdata_cell_guid": "864d4f37-9232-4fa6-be93-86f6e318fff5"
            },
            "outputs": [
                {
                    "output_type": "display_data",
                    "data": {
                        "text/html": "(14 rows affected)"
                    },
                    "metadata": {}
                },
                {
                    "output_type": "display_data",
                    "data": {
                        "text/html": "Total execution time: 00:00:00.015"
                    },
                    "metadata": {}
                }
            ],
            "execution_count": 76
        },
        {
            "cell_type": "markdown",
            "source": [
                "Find All Books AND THEIR REVIEWS"
            ],
            "metadata": {
                "azdata_cell_guid": "221ff711-d300-4dea-9439-c181abadd55b"
            },
            "attachments": {}
        },
        {
            "cell_type": "code",
            "source": [
                "\r\n",
                "SELECT \r\n",
                "    BOOKS.ISBN,\r\n",
                "    TITLE,\r\n",
                "    ROUND(AVG(CAST(RATING AS FLOAT)),2) RATING,\r\n",
                "    COUNT(RATING) VOTES,\r\n",
                "    FORMAT\r\n",
                "FROM\r\n",
                "    BOOKS\r\n",
                "LEFT JOIN\r\n",
                "    REVIEWS\r\n",
                "ON\r\n",
                "    BOOKS.ISBN=REVIEWS.ISBN\r\n",
                "GROUP BY\r\n",
                "    BOOKS.ISBN, TITLE,FORMAT"
            ],
            "metadata": {
                "azdata_cell_guid": "593d78d6-2ae4-43e8-a6ad-3c8787e044a2",
                "language": "sql"
            },
            "outputs": [
                {
                    "output_type": "display_data",
                    "data": {
                        "text/html": "Warning: Null value is eliminated by an aggregate or other SET operation."
                    },
                    "metadata": {}
                },
                {
                    "output_type": "display_data",
                    "data": {
                        "text/html": "(10 rows affected)"
                    },
                    "metadata": {}
                },
                {
                    "output_type": "display_data",
                    "data": {
                        "text/html": "Total execution time: 00:00:00.016"
                    },
                    "metadata": {}
                },
                {
                    "output_type": "execute_result",
                    "metadata": {},
                    "execution_count": 86,
                    "data": {
                        "application/vnd.dataresource+json": {
                            "schema": {
                                "fields": [
                                    {
                                        "name": "ISBN"
                                    },
                                    {
                                        "name": "TITLE"
                                    },
                                    {
                                        "name": "RATING"
                                    },
                                    {
                                        "name": "VOTES"
                                    },
                                    {
                                        "name": "FORMAT"
                                    }
                                ]
                            },
                            "data": [
                                {
                                    "ISBN": "111",
                                    "TITLE": "The Accursed God",
                                    "RATING": "4.5",
                                    "VOTES": "4",
                                    "FORMAT": "PB"
                                },
                                {
                                    "ISBN": "112",
                                    "TITLE": "Manas",
                                    "RATING": "4.33",
                                    "VOTES": "3",
                                    "FORMAT": "PB"
                                },
                                {
                                    "ISBN": "113",
                                    "TITLE": "Rashmirathi",
                                    "RATING": "3.75",
                                    "VOTES": "4",
                                    "FORMAT": "PB"
                                },
                                {
                                    "ISBN": "114",
                                    "TITLE": "The Count of Monte Cristo",
                                    "RATING": "4.33",
                                    "VOTES": "3",
                                    "FORMAT": "PB"
                                },
                                {
                                    "ISBN": "115",
                                    "TITLE": "The Accursed God",
                                    "RATING": "NULL",
                                    "VOTES": "0",
                                    "FORMAT": "EB"
                                },
                                {
                                    "ISBN": "116",
                                    "TITLE": "Manas",
                                    "RATING": "NULL",
                                    "VOTES": "0",
                                    "FORMAT": "EB"
                                },
                                {
                                    "ISBN": "117",
                                    "TITLE": "Rashmirathi",
                                    "RATING": "NULL",
                                    "VOTES": "0",
                                    "FORMAT": "EB"
                                },
                                {
                                    "ISBN": "118",
                                    "TITLE": "The Count of Monte Cristo",
                                    "RATING": "NULL",
                                    "VOTES": "0",
                                    "FORMAT": "EB"
                                },
                                {
                                    "ISBN": "119",
                                    "TITLE": "The Accursed God",
                                    "RATING": "NULL",
                                    "VOTES": "0",
                                    "FORMAT": "HB"
                                },
                                {
                                    "ISBN": "120",
                                    "TITLE": "Rashmirathi",
                                    "RATING": "NULL",
                                    "VOTES": "0",
                                    "FORMAT": "HB"
                                }
                            ]
                        },
                        "text/html": [
                            "<table>",
                            "<tr><th>ISBN</th><th>TITLE</th><th>RATING</th><th>VOTES</th><th>FORMAT</th></tr>",
                            "<tr><td>111</td><td>The Accursed God</td><td>4.5</td><td>4</td><td>PB</td></tr>",
                            "<tr><td>112</td><td>Manas</td><td>4.33</td><td>3</td><td>PB</td></tr>",
                            "<tr><td>113</td><td>Rashmirathi</td><td>3.75</td><td>4</td><td>PB</td></tr>",
                            "<tr><td>114</td><td>The Count of Monte Cristo</td><td>4.33</td><td>3</td><td>PB</td></tr>",
                            "<tr><td>115</td><td>The Accursed God</td><td>NULL</td><td>0</td><td>EB</td></tr>",
                            "<tr><td>116</td><td>Manas</td><td>NULL</td><td>0</td><td>EB</td></tr>",
                            "<tr><td>117</td><td>Rashmirathi</td><td>NULL</td><td>0</td><td>EB</td></tr>",
                            "<tr><td>118</td><td>The Count of Monte Cristo</td><td>NULL</td><td>0</td><td>EB</td></tr>",
                            "<tr><td>119</td><td>The Accursed God</td><td>NULL</td><td>0</td><td>HB</td></tr>",
                            "<tr><td>120</td><td>Rashmirathi</td><td>NULL</td><td>0</td><td>HB</td></tr>",
                            "</table>"
                        ]
                    }
                }
            ],
            "execution_count": 86
        }
    ]
}