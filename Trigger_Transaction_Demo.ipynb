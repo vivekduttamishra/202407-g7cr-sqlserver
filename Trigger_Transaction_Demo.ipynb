{
    "metadata": {
        "kernelspec": {
            "name": "SQL",
            "display_name": "SQL",
            "language": "sql"
        },
        "language_info": {
            "name": "sql",
            "version": ""
        }
    },
    "nbformat_minor": 2,
    "nbformat": 4,
    "cells": [
        {
            "cell_type": "code",
            "source": [
                "DROP TABLE IF EXISTS TRANSACTIONINFO;\r\n",
                "DROP TABLE IF EXISTS BANKACCOUNTS;\r\n",
                ""
            ],
            "metadata": {
                "language": "sql",
                "azdata_cell_guid": "ff215b8e-007e-4a02-bae0-1c008af70302"
            },
            "outputs": [
                {
                    "output_type": "display_data",
                    "data": {
                        "text/html": "Commands completed successfully."
                    },
                    "metadata": {}
                },
                {
                    "output_type": "display_data",
                    "data": {
                        "text/html": "Total execution time: 00:00:00.006"
                    },
                    "metadata": {}
                }
            ],
            "execution_count": 27
        },
        {
            "cell_type": "code",
            "source": [
                "CREATE TABLE BankAccounts(\r\n",
                "    ID INT IDENTITY(1,1) CONSTRAINT PK_BANK_ACCOUNT_ID PRIMARY KEY,\r\n",
                "    NAME VARCHAR(100),\r\n",
                "    PASSWORD VARCHAR(100),\r\n",
                "    AMOUNT FLOAT \r\n",
                ");\r\n",
                "\r\n",
                "CREATE TABLE TransactionInfo(\r\n",
                "    ID INT IDENTITY(1,1) CONSTRAINT PK_TRANSACTION_ID PRIMARY KEY,\r\n",
                "    ACCOUNT_ID INT CONSTRAINT FK__TRANSACTION_INFO__ACCOUNT_ID__BANK_ACCOUNT_ID FOREIGN KEY REFERENCES BANKACCOUNTS(ID),\r\n",
                "    DESCRIPTION VARCHAR(100),\r\n",
                "    TRANSACTION_TYPE INT,  --     CREDIT: 1  DEBIT: -1\r\n",
                "    AMOUNT  FLOAT\r\n",
                ");"
            ],
            "metadata": {
                "azdata_cell_guid": "03df9dbe-1852-4e16-a083-128239974658",
                "language": "sql"
            },
            "outputs": [
                {
                    "output_type": "display_data",
                    "data": {
                        "text/html": "Commands completed successfully."
                    },
                    "metadata": {}
                },
                {
                    "output_type": "display_data",
                    "data": {
                        "text/html": "Total execution time: 00:00:00.020"
                    },
                    "metadata": {}
                }
            ],
            "execution_count": 28
        },
        {
            "cell_type": "code",
            "source": [
                "INSERT \r\n",
                "    INTO BANKACCOUNTS(NAME,AMOUNT,PASSWORD)\r\n",
                "    VALUES\r\n",
                "        ('Vivek', 5000,'P@SS'),\r\n",
                "        ('Sanjay',5000,'P@SS');"
            ],
            "metadata": {
                "language": "sql",
                "azdata_cell_guid": "3ae3f449-43c2-4d93-8cfa-74973aa588cb"
            },
            "outputs": [
                {
                    "output_type": "display_data",
                    "data": {
                        "text/html": "(2 rows affected)"
                    },
                    "metadata": {}
                },
                {
                    "output_type": "display_data",
                    "data": {
                        "text/html": "Total execution time: 00:00:00.015"
                    },
                    "metadata": {}
                }
            ],
            "execution_count": 29
        },
        {
            "cell_type": "code",
            "source": [
                "SELECT * FROM BANKACCOUNTS"
            ],
            "metadata": {
                "language": "sql",
                "azdata_cell_guid": "2fd682de-5d05-49ad-bdc6-aea6d7c01dc6"
            },
            "outputs": [
                {
                    "output_type": "display_data",
                    "data": {
                        "text/html": "(2 rows affected)"
                    },
                    "metadata": {}
                },
                {
                    "output_type": "display_data",
                    "data": {
                        "text/html": "Total execution time: 00:00:00.002"
                    },
                    "metadata": {}
                },
                {
                    "output_type": "execute_result",
                    "metadata": {},
                    "execution_count": 30,
                    "data": {
                        "application/vnd.dataresource+json": {
                            "schema": {
                                "fields": [
                                    {
                                        "name": "ID"
                                    },
                                    {
                                        "name": "NAME"
                                    },
                                    {
                                        "name": "PASSWORD"
                                    },
                                    {
                                        "name": "AMOUNT"
                                    }
                                ]
                            },
                            "data": [
                                {
                                    "ID": "1",
                                    "NAME": "Vivek",
                                    "PASSWORD": "P@SS",
                                    "AMOUNT": "5000"
                                },
                                {
                                    "ID": "2",
                                    "NAME": "Sanjay",
                                    "PASSWORD": "P@SS",
                                    "AMOUNT": "5000"
                                }
                            ]
                        },
                        "text/html": [
                            "<table>",
                            "<tr><th>ID</th><th>NAME</th><th>PASSWORD</th><th>AMOUNT</th></tr>",
                            "<tr><td>1</td><td>Vivek</td><td>P@SS</td><td>5000</td></tr>",
                            "<tr><td>2</td><td>Sanjay</td><td>P@SS</td><td>5000</td></tr>",
                            "</table>"
                        ]
                    }
                }
            ],
            "execution_count": 30
        },
        {
            "cell_type": "code",
            "source": [
                "DROP PROCEDURE IF EXISTS DEPOSIT;"
            ],
            "metadata": {
                "language": "sql",
                "azdata_cell_guid": "84ca8ed8-11a7-4caf-b74d-57de000d2077"
            },
            "outputs": [
                {
                    "output_type": "display_data",
                    "data": {
                        "text/html": "Commands completed successfully."
                    },
                    "metadata": {}
                },
                {
                    "output_type": "display_data",
                    "data": {
                        "text/html": "Total execution time: 00:00:00.011"
                    },
                    "metadata": {}
                }
            ],
            "execution_count": 31
        },
        {
            "cell_type": "code",
            "source": [
                "CREATE PROCEDURE DEPOSIT\r\n",
                "    @ID INT,\r\n",
                "    @AMOUNT FLOAT\r\n",
                "AS\r\n",
                "BEGIN\r\n",
                "\r\n",
                "    DECLARE @BALANCE FLOAT;\r\n",
                "    DECLARE @COUNT INT;\r\n",
                "\r\n",
                "\r\n",
                "\r\n",
                "    SELECT\r\n",
                "        @COUNT= COUNT(*),\r\n",
                "        @BALANCE= MAX(AMOUNT)\r\n",
                "    FROM\r\n",
                "        BANKACCOUNTS\r\n",
                "    WHERE\r\n",
                "        ID=@ID;\r\n",
                "\r\n",
                "    IF @COUNT=0\r\n",
                "    BEGIN\r\n",
                "        RAISERROR('Invalid Account Number',15,1)\r\n",
                "        RETURN \r\n",
                "    END\r\n",
                "\r\n",
                "\r\n",
                "    INSERT \r\n",
                "        INTO TRANSACTIONINFO(ACCOUNT_ID,DESCRIPTION,TRANSACTION_TYPE,AMOUNT)\r\n",
                "        VALUES (@ID, 'Deposit' , 1, @AMOUNT);\r\n",
                "\r\n",
                "\r\n",
                "\r\n",
                "    UPDATE BankAccountS\r\n",
                "    SET AMOUNT= @BALANCE + @AMOUNT\r\n",
                "    WHERE\r\n",
                "    ID=@ID;\r\n",
                "\r\n",
                "    \r\n",
                "\r\n",
                "END\r\n",
                ""
            ],
            "metadata": {
                "language": "sql",
                "azdata_cell_guid": "78867747-e427-4a0e-b04f-8ccf35de9fe8"
            },
            "outputs": [
                {
                    "output_type": "display_data",
                    "data": {
                        "text/html": "Commands completed successfully."
                    },
                    "metadata": {}
                },
                {
                    "output_type": "display_data",
                    "data": {
                        "text/html": "Total execution time: 00:00:00.016"
                    },
                    "metadata": {}
                }
            ],
            "execution_count": 32
        },
        {
            "cell_type": "code",
            "source": [
                ""
            ],
            "metadata": {
                "azdata_cell_guid": "76513021-276a-49ac-9a56-59ac7604269e",
                "language": "sql"
            },
            "outputs": [],
            "execution_count": null
        },
        {
            "cell_type": "code",
            "source": [
                "EXEC DEPOSIT @ID=1, @AMOUNT=1000"
            ],
            "metadata": {
                "azdata_cell_guid": "eaee55dc-f250-42b9-99f1-32a0c57dc1e6",
                "language": "sql"
            },
            "outputs": [
                {
                    "output_type": "display_data",
                    "data": {
                        "text/html": "(1 row affected)"
                    },
                    "metadata": {}
                },
                {
                    "output_type": "display_data",
                    "data": {
                        "text/html": "(1 row affected)"
                    },
                    "metadata": {}
                },
                {
                    "output_type": "display_data",
                    "data": {
                        "text/html": "Total execution time: 00:00:00.018"
                    },
                    "metadata": {}
                }
            ],
            "execution_count": 33
        },
        {
            "cell_type": "code",
            "source": [
                "SELECT * FROM BANKACCOUNTS;\r\n",
                "\r\n",
                "SELECT * FROM TRANSACTIONINFO;"
            ],
            "metadata": {
                "language": "sql",
                "azdata_cell_guid": "59ea9b98-1d4a-4367-908e-73875eebffc3"
            },
            "outputs": [
                {
                    "output_type": "display_data",
                    "data": {
                        "text/html": "(2 rows affected)"
                    },
                    "metadata": {}
                },
                {
                    "output_type": "display_data",
                    "data": {
                        "text/html": "(1 row affected)"
                    },
                    "metadata": {}
                },
                {
                    "output_type": "display_data",
                    "data": {
                        "text/html": "Total execution time: 00:00:00.006"
                    },
                    "metadata": {}
                },
                {
                    "output_type": "execute_result",
                    "metadata": {},
                    "execution_count": 35,
                    "data": {
                        "application/vnd.dataresource+json": {
                            "schema": {
                                "fields": [
                                    {
                                        "name": "ID"
                                    },
                                    {
                                        "name": "NAME"
                                    },
                                    {
                                        "name": "PASSWORD"
                                    },
                                    {
                                        "name": "AMOUNT"
                                    }
                                ]
                            },
                            "data": [
                                {
                                    "ID": "1",
                                    "NAME": "Vivek",
                                    "PASSWORD": "P@SS",
                                    "AMOUNT": "6000"
                                },
                                {
                                    "ID": "2",
                                    "NAME": "Sanjay",
                                    "PASSWORD": "P@SS",
                                    "AMOUNT": "5000"
                                }
                            ]
                        },
                        "text/html": [
                            "<table>",
                            "<tr><th>ID</th><th>NAME</th><th>PASSWORD</th><th>AMOUNT</th></tr>",
                            "<tr><td>1</td><td>Vivek</td><td>P@SS</td><td>6000</td></tr>",
                            "<tr><td>2</td><td>Sanjay</td><td>P@SS</td><td>5000</td></tr>",
                            "</table>"
                        ]
                    }
                },
                {
                    "output_type": "execute_result",
                    "metadata": {},
                    "execution_count": 35,
                    "data": {
                        "application/vnd.dataresource+json": {
                            "schema": {
                                "fields": [
                                    {
                                        "name": "ID"
                                    },
                                    {
                                        "name": "ACCOUNT_ID"
                                    },
                                    {
                                        "name": "DESCRIPTION"
                                    },
                                    {
                                        "name": "TRANSACTION_TYPE"
                                    },
                                    {
                                        "name": "AMOUNT"
                                    }
                                ]
                            },
                            "data": [
                                {
                                    "ID": "1",
                                    "ACCOUNT_ID": "1",
                                    "DESCRIPTION": "Deposit",
                                    "TRANSACTION_TYPE": "1",
                                    "AMOUNT": "1000"
                                }
                            ]
                        },
                        "text/html": [
                            "<table>",
                            "<tr><th>ID</th><th>ACCOUNT_ID</th><th>DESCRIPTION</th><th>TRANSACTION_TYPE</th><th>AMOUNT</th></tr>",
                            "<tr><td>1</td><td>1</td><td>Deposit</td><td>1</td><td>1000</td></tr>",
                            "</table>"
                        ]
                    }
                }
            ],
            "execution_count": 35
        },
        {
            "cell_type": "code",
            "source": [
                "CREATE PROCEDURE WITHDRAW\r\n",
                "    @ID INT,\r\n",
                "    @AMOUNT FLOAT,\r\n",
                "    @PASSWORD VARCHAR(100)\r\n",
                "AS\r\n",
                "BEGIN\r\n",
                "\r\n",
                "    DECLARE @BALANCE FLOAT;\r\n",
                "    DECLARE @COUNT INT;\r\n",
                "    DECLARE @ACCOUNT_PASSWORD VARCHAR(100);\r\n",
                "    \r\n",
                "\r\n",
                "\r\n",
                "\r\n",
                "    SELECT\r\n",
                "        @COUNT= COUNT(*),\r\n",
                "        @BALANCE= MAX(AMOUNT)\r\n",
                "    FROM\r\n",
                "        BANKACCOUNTS\r\n",
                "    WHERE\r\n",
                "        ID=@ID;\r\n",
                "\r\n",
                "    IF @COUNT=0\r\n",
                "    BEGIN\r\n",
                "        RAISERROR('Invalid Account Number',15,1)\r\n",
                "        RETURN \r\n",
                "    END\r\n",
                "\r\n",
                "    SELECT       \r\n",
                "        @ACCOUNT_PASSWORD=PASSWORD\r\n",
                "    FROM\r\n",
                "        BANKACCOUNTS\r\n",
                "\r\n",
                "    WHERE ID=@ID\r\n",
                "\r\n",
                "    GROUP BY ID,PASSWORD;\r\n",
                "\r\n",
                "\r\n",
                "    IF @PASSWORD != @ACCOUNT_PASSWORD\r\n",
                "    BEGIN\r\n",
                "        RAISERROR('Invalid Password',15,2)\r\n",
                "        RETURN\r\n",
                "    END\r\n",
                "\r\n",
                "    IF @BALANCE < @AMOUNT\r\n",
                "    BEGIN\r\n",
                "        RAISERROR('Insufficient Balance',15,3)\r\n",
                "        RETURN\r\n",
                "    END\r\n",
                "\r\n",
                "    \r\n",
                "\r\n",
                "    INSERT \r\n",
                "        INTO TRANSACTIONINFO(ACCOUNT_ID,DESCRIPTION,TRANSACTION_TYPE,AMOUNT)\r\n",
                "        VALUES (@ID, 'Withdraw' , -1, @AMOUNT);\r\n",
                "\r\n",
                "\r\n",
                "\r\n",
                "    UPDATE BankAccountS\r\n",
                "    SET AMOUNT= @BALANCE - @AMOUNT\r\n",
                "    WHERE\r\n",
                "    ID=@ID;\r\n",
                "\r\n",
                "    \r\n",
                "\r\n",
                "END\r\n",
                ""
            ],
            "metadata": {
                "language": "sql",
                "azdata_cell_guid": "e8ef2390-4f7b-46a9-8a80-3047111f7acc"
            },
            "outputs": [
                {
                    "output_type": "display_data",
                    "data": {
                        "text/html": "Commands completed successfully."
                    },
                    "metadata": {}
                },
                {
                    "output_type": "display_data",
                    "data": {
                        "text/html": "Total execution time: 00:00:00.007"
                    },
                    "metadata": {}
                }
            ],
            "execution_count": 36
        },
        {
            "cell_type": "code",
            "source": [
                "EXEC WITHDRAW 1, 1000, 'P@SS'\r\n",
                "\r\n",
                "SELECT * FROM BANKACCOUNTS;\r\n",
                "SELECT * FROM TRANSACTIONINFO;"
            ],
            "metadata": {
                "azdata_cell_guid": "852b15d7-8c7c-424d-8716-7b2b987f151f",
                "language": "sql"
            },
            "outputs": [
                {
                    "output_type": "display_data",
                    "data": {
                        "text/html": "(1 row affected)"
                    },
                    "metadata": {}
                },
                {
                    "output_type": "display_data",
                    "data": {
                        "text/html": "(1 row affected)"
                    },
                    "metadata": {}
                },
                {
                    "output_type": "display_data",
                    "data": {
                        "text/html": "(2 rows affected)"
                    },
                    "metadata": {}
                },
                {
                    "output_type": "display_data",
                    "data": {
                        "text/html": "(2 rows affected)"
                    },
                    "metadata": {}
                },
                {
                    "output_type": "display_data",
                    "data": {
                        "text/html": "Total execution time: 00:00:00.021"
                    },
                    "metadata": {}
                },
                {
                    "output_type": "execute_result",
                    "metadata": {},
                    "execution_count": 37,
                    "data": {
                        "application/vnd.dataresource+json": {
                            "schema": {
                                "fields": [
                                    {
                                        "name": "ID"
                                    },
                                    {
                                        "name": "NAME"
                                    },
                                    {
                                        "name": "PASSWORD"
                                    },
                                    {
                                        "name": "AMOUNT"
                                    }
                                ]
                            },
                            "data": [
                                {
                                    "ID": "1",
                                    "NAME": "Vivek",
                                    "PASSWORD": "P@SS",
                                    "AMOUNT": "5000"
                                },
                                {
                                    "ID": "2",
                                    "NAME": "Sanjay",
                                    "PASSWORD": "P@SS",
                                    "AMOUNT": "5000"
                                }
                            ]
                        },
                        "text/html": [
                            "<table>",
                            "<tr><th>ID</th><th>NAME</th><th>PASSWORD</th><th>AMOUNT</th></tr>",
                            "<tr><td>1</td><td>Vivek</td><td>P@SS</td><td>5000</td></tr>",
                            "<tr><td>2</td><td>Sanjay</td><td>P@SS</td><td>5000</td></tr>",
                            "</table>"
                        ]
                    }
                },
                {
                    "output_type": "execute_result",
                    "metadata": {},
                    "execution_count": 37,
                    "data": {
                        "application/vnd.dataresource+json": {
                            "schema": {
                                "fields": [
                                    {
                                        "name": "ID"
                                    },
                                    {
                                        "name": "ACCOUNT_ID"
                                    },
                                    {
                                        "name": "DESCRIPTION"
                                    },
                                    {
                                        "name": "TRANSACTION_TYPE"
                                    },
                                    {
                                        "name": "AMOUNT"
                                    }
                                ]
                            },
                            "data": [
                                {
                                    "ID": "1",
                                    "ACCOUNT_ID": "1",
                                    "DESCRIPTION": "Deposit",
                                    "TRANSACTION_TYPE": "1",
                                    "AMOUNT": "1000"
                                },
                                {
                                    "ID": "2",
                                    "ACCOUNT_ID": "1",
                                    "DESCRIPTION": "Withdraw",
                                    "TRANSACTION_TYPE": "-1",
                                    "AMOUNT": "1000"
                                }
                            ]
                        },
                        "text/html": [
                            "<table>",
                            "<tr><th>ID</th><th>ACCOUNT_ID</th><th>DESCRIPTION</th><th>TRANSACTION_TYPE</th><th>AMOUNT</th></tr>",
                            "<tr><td>1</td><td>1</td><td>Deposit</td><td>1</td><td>1000</td></tr>",
                            "<tr><td>2</td><td>1</td><td>Withdraw</td><td>-1</td><td>1000</td></tr>",
                            "</table>"
                        ]
                    }
                }
            ],
            "execution_count": 37
        },
        {
            "cell_type": "code",
            "source": [
                "EXEC WITHDRAW 10, 1000, 'PASS'\r\n",
                ""
            ],
            "metadata": {
                "azdata_cell_guid": "3aa1b53f-b121-4958-8502-a652f87a94ad",
                "language": "sql"
            },
            "outputs": [
                {
                    "output_type": "error",
                    "evalue": "Msg 50000, Level 15, State 1, Procedure WITHDRAW, Line 25\r\nInvalid Account Number",
                    "ename": "",
                    "traceback": []
                },
                {
                    "output_type": "display_data",
                    "data": {
                        "text/html": "Total execution time: 00:00:00.018"
                    },
                    "metadata": {}
                }
            ],
            "execution_count": 38
        },
        {
            "cell_type": "code",
            "source": [
                "EXEC WITHDRAW 1, 1000, 'WRONG-PASSWORD'"
            ],
            "metadata": {
                "language": "sql",
                "azdata_cell_guid": "7a9a3ad9-83e8-48d9-9428-9e39d40684ed"
            },
            "outputs": [
                {
                    "output_type": "error",
                    "evalue": "Msg 50000, Level 15, State 2, Procedure WITHDRAW, Line 41\r\nInvalid Password",
                    "ename": "",
                    "traceback": []
                },
                {
                    "output_type": "display_data",
                    "data": {
                        "text/html": "Total execution time: 00:00:00.005"
                    },
                    "metadata": {}
                }
            ],
            "execution_count": 39
        },
        {
            "cell_type": "code",
            "source": [
                "EXEC WITHDRAW 1, 50000, 'P@SS'"
            ],
            "metadata": {
                "language": "sql",
                "azdata_cell_guid": "84f0e14b-285f-4402-a2e8-2c438da23c6f"
            },
            "outputs": [
                {
                    "output_type": "error",
                    "evalue": "Msg 50000, Level 15, State 3, Procedure WITHDRAW, Line 47\r\nInsufficient Balance",
                    "ename": "",
                    "traceback": []
                },
                {
                    "output_type": "display_data",
                    "data": {
                        "text/html": "Total execution time: 00:00:00.013"
                    },
                    "metadata": {}
                }
            ],
            "execution_count": 40
        },
        {
            "cell_type": "markdown",
            "source": [
                "# TRIGGERS\n",
                "\n",
                "- Triggers are special functions that are automatically executed on certain DML/DDL events\n",
                "- They can be executed\n",
                "    - AFTER\n",
                "        - INSERT\n",
                "        - UPDATE\n",
                "        - DELETE\n",
                "        - SELECT\n",
                "        - CREATE\n",
                "        - ALTER\n",
                "        - DROP\n",
                "    - INSTEAD OF\n",
                "        - INSERT\n",
                "        - UPDATE\n",
                "        - ...\n",
                "\n",
                "- We can perform additional tasks when these events occurs\n",
                "    - Remember! They are called automatically\n",
                "\n",
                "  \n",
                "\n",
                "## CREATE A TRIGGER TO LOG ALL THE TRANSACTION TIME AND DETAIL IN A SEPARATE TABLE"
            ],
            "metadata": {
                "language": "sql",
                "azdata_cell_guid": "d446d236-bfcf-401b-b6dd-0b9c2f636cf5"
            },
            "attachments": {}
        },
        {
            "cell_type": "code",
            "source": [
                "CREATE TABLE TRANSACTION_LOG(\r\n",
                "    ID INT IDENTITY CONSTRAINT PK_TRANSACTION_LOG_ID PRIMARY KEY,\r\n",
                "    DATE DATETIME,\r\n",
                "    TRANSACTION_TYPE INT,\r\n",
                "    ACCOUNT_ID INT \r\n",
                "        CONSTRAINT FK__TRANSACTION_LOG__ACCOUNT_ID__BANK_ACCOUNT_ID \r\n",
                "        FOREIGN KEY REFERENCES BANKACCOUNTS(ID),\r\n",
                "    DESCRIPTION VARCHAR(100),\r\n",
                ");"
            ],
            "metadata": {
                "azdata_cell_guid": "47ed7339-6b81-4e4f-9fd8-9ba6e5ee0047",
                "language": "sql"
            },
            "outputs": [
                {
                    "output_type": "display_data",
                    "data": {
                        "text/html": "Commands completed successfully."
                    },
                    "metadata": {}
                },
                {
                    "output_type": "display_data",
                    "data": {
                        "text/html": "Total execution time: 00:00:00.016"
                    },
                    "metadata": {}
                }
            ],
            "execution_count": 42
        },
        {
            "cell_type": "code",
            "source": [
                "CREATE TRIGGER LogTransaction\r\n",
                "ON TransactionInfo\r\n",
                "AFTER INSERT\r\n",
                "AS\r\n",
                "BEGIN\r\n",
                "\r\n",
                "    INSERT \r\n",
                "        INTO TRANSACTION_LOG(ACCOUNT_ID,TRANSACTION_TYPE, DESCRIPTION, DATE)\r\n",
                "        -- GET IT FROM ANOTHER LOCATION\r\n",
                "        SELECT\r\n",
                "            ACCOUNT_ID,\r\n",
                "            TRANSACTION_TYPE,\r\n",
                "            DESCRIPTION,\r\n",
                "            GETDATE()\r\n",
                "        FROM\r\n",
                "            INSERTED --NEWLY INSERTED VALUES ARE PROVIDED AS PSUDO TABLE INSERTED\r\n",
                "\r\n",
                "END\r\n",
                ""
            ],
            "metadata": {
                "language": "sql",
                "azdata_cell_guid": "bbc7f657-b02f-4ec7-961e-eb57f983d6f0",
                "tags": []
            },
            "outputs": [
                {
                    "output_type": "display_data",
                    "data": {
                        "text/html": "Commands completed successfully."
                    },
                    "metadata": {}
                },
                {
                    "output_type": "display_data",
                    "data": {
                        "text/html": "Total execution time: 00:00:00.012"
                    },
                    "metadata": {}
                }
            ],
            "execution_count": 43
        },
        {
            "cell_type": "code",
            "source": [
                "EXEC Deposit 1, 20000\r\n",
                "EXEC Withdraw 1, 15000, 'P@SS'"
            ],
            "metadata": {
                "language": "sql",
                "azdata_cell_guid": "53d8bf1e-4d70-4e3c-a72f-ee4c29fcdd25"
            },
            "outputs": [
                {
                    "output_type": "display_data",
                    "data": {
                        "text/html": "(1 row affected)"
                    },
                    "metadata": {}
                },
                {
                    "output_type": "display_data",
                    "data": {
                        "text/html": "(1 row affected)"
                    },
                    "metadata": {}
                },
                {
                    "output_type": "display_data",
                    "data": {
                        "text/html": "(1 row affected)"
                    },
                    "metadata": {}
                },
                {
                    "output_type": "display_data",
                    "data": {
                        "text/html": "(1 row affected)"
                    },
                    "metadata": {}
                },
                {
                    "output_type": "display_data",
                    "data": {
                        "text/html": "(1 row affected)"
                    },
                    "metadata": {}
                },
                {
                    "output_type": "display_data",
                    "data": {
                        "text/html": "(1 row affected)"
                    },
                    "metadata": {}
                },
                {
                    "output_type": "display_data",
                    "data": {
                        "text/html": "Total execution time: 00:00:00.039"
                    },
                    "metadata": {}
                }
            ],
            "execution_count": 44
        },
        {
            "cell_type": "code",
            "source": [
                "SELECT * FROM TRANSACTION_LOG"
            ],
            "metadata": {
                "language": "sql",
                "azdata_cell_guid": "b1ddc47e-9521-4351-8775-90ac6cf38a6f"
            },
            "outputs": [
                {
                    "output_type": "display_data",
                    "data": {
                        "text/html": "(2 rows affected)"
                    },
                    "metadata": {}
                },
                {
                    "output_type": "display_data",
                    "data": {
                        "text/html": "Total execution time: 00:00:00.003"
                    },
                    "metadata": {}
                },
                {
                    "output_type": "execute_result",
                    "metadata": {},
                    "execution_count": 45,
                    "data": {
                        "application/vnd.dataresource+json": {
                            "schema": {
                                "fields": [
                                    {
                                        "name": "ID"
                                    },
                                    {
                                        "name": "DATE"
                                    },
                                    {
                                        "name": "TRANSACTION_TYPE"
                                    },
                                    {
                                        "name": "ACCOUNT_ID"
                                    },
                                    {
                                        "name": "DESCRIPTION"
                                    }
                                ]
                            },
                            "data": [
                                {
                                    "ID": "1",
                                    "DATE": "2024-07-26 17:18:21.070",
                                    "TRANSACTION_TYPE": "1",
                                    "ACCOUNT_ID": "1",
                                    "DESCRIPTION": "Deposit"
                                },
                                {
                                    "ID": "2",
                                    "DATE": "2024-07-26 17:18:21.080",
                                    "TRANSACTION_TYPE": "-1",
                                    "ACCOUNT_ID": "1",
                                    "DESCRIPTION": "Withdraw"
                                }
                            ]
                        },
                        "text/html": [
                            "<table>",
                            "<tr><th>ID</th><th>DATE</th><th>TRANSACTION_TYPE</th><th>ACCOUNT_ID</th><th>DESCRIPTION</th></tr>",
                            "<tr><td>1</td><td>2024-07-26 17:18:21.070</td><td>1</td><td>1</td><td>Deposit</td></tr>",
                            "<tr><td>2</td><td>2024-07-26 17:18:21.080</td><td>-1</td><td>1</td><td>Withdraw</td></tr>",
                            "</table>"
                        ]
                    }
                }
            ],
            "execution_count": 45
        },
        {
            "cell_type": "markdown",
            "source": [
                "# TRANSACTION\n",
                "\n",
                "- A Transaction is a series of task that should either\n",
                "    - run completely\n",
                "    - not at all.\n",
                "- Consider a Scenario\n",
                "    - We want to transfer fund from one account to another\n",
                "    - It has few basic steps\n",
                "\n",
                "1. Withraw money from source/sender account\n",
                "    \n",
                "2. insert transactioninfo\n",
                "    \n",
                "3. update bankaccounts\n",
                "    \n",
                "4. Deposit money in benificiary/target account\n",
                "    \n",
                "5. insert transactioninfo\n",
                "    \n",
                "6. updatebankaccounts\n",
                "    \n",
                "    - Consider what happens if\n",
                "        - benficiary account is invalid\n",
                "            - money is withdrawn from source\n",
                "            - it reached no where\n",
                "        - there is a exception/crash in any of the step\n",
                "\n",
                "## How transaction works\n",
                "\n",
                "- A transaction has three phases\n",
                "\n",
                "1. BEGIN\n",
                "2. COMMIT \\<--- SUCCESS\n",
                "3. ROLLBACK \\<--- FAILS\n",
                "\n",
                "- EITHER ALL TRANSACTIONS ARE COMMITED OR ALL IS ROLLED BACK\n",
                "\n",
                "## DATBASE FOLLOWS **ACID PRINCIPLE**\n",
                "\n",
                "- **A--\\> ATOMIC**\n",
                "    \n",
                "    - Each step is an atomic step\n",
                "    - transaction is made up of several atomic steps\n",
                "- **C --\\> CONSISTENCY**\n",
                "    \n",
                "    - Database must always maintain a consistent state\n",
                "        - Unless transaction is over, it should not have invalid value at any poit of time\n",
                "        - If we update source account but not beneficiary then state is not consistent\n",
                "            - system is missing some money at this point\n",
                "- **I ---\\> ISOLATION**\n",
                "    \n",
                "    - Each step can be peformed in isolation\n",
                "    - Any row will be part of a single transaction at a time\n",
                "    - if one row is part of one transaction, other must wait for it finish\n",
                "- **D ---\\> Durability**\n",
                "    \n",
                "    - Once a transaction is committed it becomes durable (peristent)\n",
                "        \n",
                "    - must be saved \n",
                "        \n",
                "    - it should be available here onward\n",
                "        \n",
                "    \n",
                "\n",
                "# Advantage of Transaction\n",
                "\n",
                "- We don't maintain state manually\n",
                "    \n",
                "- we can insert/update/delete our records with transaction like normal\n",
                "    \n",
                "- but those transactions will not really make changes to the database\n",
                "    \n",
                "    - they will be stored virtually\n",
                "    - until transaction is \n",
                "        - committed\n",
                "            \n",
                "            - all previous operations are persisted\n",
                "            \n",
                "        - rolledback\n",
                "            - database was never changed in the first place\n",
                "\n",
                "## TRANSFER WITHOUT TRANSACTION"
            ],
            "metadata": {
                "language": "sql",
                "azdata_cell_guid": "0dc7212d-e914-41c2-9012-ceee81d94993"
            },
            "attachments": {}
        },
        {
            "cell_type": "code",
            "source": [
                "CREATE PROCEDURE TRANSFER\r\n",
                "@SOURCE INT,\r\n",
                "@AMOUNT FLOAT,\r\n",
                "@PASSWORD VARCHAR(100),\r\n",
                "@TARGET INT\r\n",
                "AS\r\n",
                "BEGIN\r\n",
                "\r\n",
                "    EXEC Withdraw @SOURCE, @AMOUNT, @PASSWORD;\r\n",
                "    EXEC Deposit @TARGET, @AMOUNT\r\n",
                "END"
            ],
            "metadata": {
                "language": "sql",
                "azdata_cell_guid": "a35a91f4-aa69-443b-91cb-0981c1728f67"
            },
            "outputs": [
                {
                    "output_type": "display_data",
                    "data": {
                        "text/html": "Commands completed successfully."
                    },
                    "metadata": {}
                },
                {
                    "output_type": "display_data",
                    "data": {
                        "text/html": "Total execution time: 00:00:00.012"
                    },
                    "metadata": {}
                }
            ],
            "execution_count": 55
        },
        {
            "cell_type": "code",
            "source": [
                "DROP PROCEDURE SHOW_TABLES;"
            ],
            "metadata": {
                "language": "sql",
                "azdata_cell_guid": "e5041903-de79-4bcd-8d8a-f356776d7791"
            },
            "outputs": [
                {
                    "output_type": "display_data",
                    "data": {
                        "text/html": "Commands completed successfully."
                    },
                    "metadata": {}
                },
                {
                    "output_type": "display_data",
                    "data": {
                        "text/html": "Total execution time: 00:00:00.028"
                    },
                    "metadata": {}
                }
            ],
            "execution_count": 51
        },
        {
            "cell_type": "code",
            "source": [
                "CREATE PROCEDURE SHOW_TABLES\r\n",
                "AS\r\n",
                "BEGIN\r\n",
                "    SELECT * FROM BANKACCOUNTS;\r\n",
                "    SELECT * FROM TRANSACTIONINFO;\r\n",
                "    SELECT * FROM TRANSACTION_LOG;\r\n",
                "END"
            ],
            "metadata": {
                "language": "sql",
                "azdata_cell_guid": "13a6f46a-0709-40d6-9de1-9e2ee91bd4e5"
            },
            "outputs": [
                {
                    "output_type": "display_data",
                    "data": {
                        "text/html": "Commands completed successfully."
                    },
                    "metadata": {}
                },
                {
                    "output_type": "display_data",
                    "data": {
                        "text/html": "Total execution time: 00:00:00.026"
                    },
                    "metadata": {}
                }
            ],
            "execution_count": 52
        },
        {
            "cell_type": "code",
            "source": [
                "EXEC SHOW_TABLES"
            ],
            "metadata": {
                "language": "sql",
                "azdata_cell_guid": "6bcc2559-32b3-47df-8b25-29845db0a0a9"
            },
            "outputs": [
                {
                    "output_type": "display_data",
                    "data": {
                        "text/html": "(2 rows affected)"
                    },
                    "metadata": {}
                },
                {
                    "output_type": "display_data",
                    "data": {
                        "text/html": "(4 rows affected)"
                    },
                    "metadata": {}
                },
                {
                    "output_type": "display_data",
                    "data": {
                        "text/html": "(2 rows affected)"
                    },
                    "metadata": {}
                },
                {
                    "output_type": "display_data",
                    "data": {
                        "text/html": "Total execution time: 00:00:00.017"
                    },
                    "metadata": {}
                },
                {
                    "output_type": "execute_result",
                    "metadata": {},
                    "execution_count": 53,
                    "data": {
                        "application/vnd.dataresource+json": {
                            "schema": {
                                "fields": [
                                    {
                                        "name": "ID"
                                    },
                                    {
                                        "name": "NAME"
                                    },
                                    {
                                        "name": "PASSWORD"
                                    },
                                    {
                                        "name": "AMOUNT"
                                    }
                                ]
                            },
                            "data": [
                                {
                                    "ID": "1",
                                    "NAME": "Vivek",
                                    "PASSWORD": "P@SS",
                                    "AMOUNT": "10000"
                                },
                                {
                                    "ID": "2",
                                    "NAME": "Sanjay",
                                    "PASSWORD": "P@SS",
                                    "AMOUNT": "5000"
                                }
                            ]
                        },
                        "text/html": [
                            "<table>",
                            "<tr><th>ID</th><th>NAME</th><th>PASSWORD</th><th>AMOUNT</th></tr>",
                            "<tr><td>1</td><td>Vivek</td><td>P@SS</td><td>10000</td></tr>",
                            "<tr><td>2</td><td>Sanjay</td><td>P@SS</td><td>5000</td></tr>",
                            "</table>"
                        ]
                    }
                },
                {
                    "output_type": "execute_result",
                    "metadata": {},
                    "execution_count": 53,
                    "data": {
                        "application/vnd.dataresource+json": {
                            "schema": {
                                "fields": [
                                    {
                                        "name": "ID"
                                    },
                                    {
                                        "name": "ACCOUNT_ID"
                                    },
                                    {
                                        "name": "DESCRIPTION"
                                    },
                                    {
                                        "name": "TRANSACTION_TYPE"
                                    },
                                    {
                                        "name": "AMOUNT"
                                    }
                                ]
                            },
                            "data": [
                                {
                                    "ID": "1",
                                    "ACCOUNT_ID": "1",
                                    "DESCRIPTION": "Deposit",
                                    "TRANSACTION_TYPE": "1",
                                    "AMOUNT": "1000"
                                },
                                {
                                    "ID": "2",
                                    "ACCOUNT_ID": "1",
                                    "DESCRIPTION": "Withdraw",
                                    "TRANSACTION_TYPE": "-1",
                                    "AMOUNT": "1000"
                                },
                                {
                                    "ID": "3",
                                    "ACCOUNT_ID": "1",
                                    "DESCRIPTION": "Deposit",
                                    "TRANSACTION_TYPE": "1",
                                    "AMOUNT": "20000"
                                },
                                {
                                    "ID": "4",
                                    "ACCOUNT_ID": "1",
                                    "DESCRIPTION": "Withdraw",
                                    "TRANSACTION_TYPE": "-1",
                                    "AMOUNT": "15000"
                                }
                            ]
                        },
                        "text/html": [
                            "<table>",
                            "<tr><th>ID</th><th>ACCOUNT_ID</th><th>DESCRIPTION</th><th>TRANSACTION_TYPE</th><th>AMOUNT</th></tr>",
                            "<tr><td>1</td><td>1</td><td>Deposit</td><td>1</td><td>1000</td></tr>",
                            "<tr><td>2</td><td>1</td><td>Withdraw</td><td>-1</td><td>1000</td></tr>",
                            "<tr><td>3</td><td>1</td><td>Deposit</td><td>1</td><td>20000</td></tr>",
                            "<tr><td>4</td><td>1</td><td>Withdraw</td><td>-1</td><td>15000</td></tr>",
                            "</table>"
                        ]
                    }
                },
                {
                    "output_type": "execute_result",
                    "metadata": {},
                    "execution_count": 53,
                    "data": {
                        "application/vnd.dataresource+json": {
                            "schema": {
                                "fields": [
                                    {
                                        "name": "ID"
                                    },
                                    {
                                        "name": "DATE"
                                    },
                                    {
                                        "name": "TRANSACTION_TYPE"
                                    },
                                    {
                                        "name": "ACCOUNT_ID"
                                    },
                                    {
                                        "name": "DESCRIPTION"
                                    }
                                ]
                            },
                            "data": [
                                {
                                    "ID": "1",
                                    "DATE": "2024-07-26 17:18:21.070",
                                    "TRANSACTION_TYPE": "1",
                                    "ACCOUNT_ID": "1",
                                    "DESCRIPTION": "Deposit"
                                },
                                {
                                    "ID": "2",
                                    "DATE": "2024-07-26 17:18:21.080",
                                    "TRANSACTION_TYPE": "-1",
                                    "ACCOUNT_ID": "1",
                                    "DESCRIPTION": "Withdraw"
                                }
                            ]
                        },
                        "text/html": [
                            "<table>",
                            "<tr><th>ID</th><th>DATE</th><th>TRANSACTION_TYPE</th><th>ACCOUNT_ID</th><th>DESCRIPTION</th></tr>",
                            "<tr><td>1</td><td>2024-07-26 17:18:21.070</td><td>1</td><td>1</td><td>Deposit</td></tr>",
                            "<tr><td>2</td><td>2024-07-26 17:18:21.080</td><td>-1</td><td>1</td><td>Withdraw</td></tr>",
                            "</table>"
                        ]
                    }
                }
            ],
            "execution_count": 53
        },
        {
            "cell_type": "markdown",
            "source": [
                "### IT WILL WORK IN VALID CASE"
            ],
            "metadata": {
                "language": "sql",
                "azdata_cell_guid": "a2c31278-676c-488f-a3af-eee6077e0ea1"
            },
            "attachments": {}
        },
        {
            "cell_type": "code",
            "source": [
                "EXEC TRANSFER 1, 2000, 'P@SS',2"
            ],
            "metadata": {
                "language": "sql",
                "azdata_cell_guid": "61de27e5-7639-4999-8b2b-a58f6e692b3a"
            },
            "outputs": [
                {
                    "output_type": "display_data",
                    "data": {
                        "text/html": "(1 row affected)"
                    },
                    "metadata": {}
                },
                {
                    "output_type": "display_data",
                    "data": {
                        "text/html": "(1 row affected)"
                    },
                    "metadata": {}
                },
                {
                    "output_type": "display_data",
                    "data": {
                        "text/html": "(1 row affected)"
                    },
                    "metadata": {}
                },
                {
                    "output_type": "display_data",
                    "data": {
                        "text/html": "(1 row affected)"
                    },
                    "metadata": {}
                },
                {
                    "output_type": "display_data",
                    "data": {
                        "text/html": "(1 row affected)"
                    },
                    "metadata": {}
                },
                {
                    "output_type": "display_data",
                    "data": {
                        "text/html": "(1 row affected)"
                    },
                    "metadata": {}
                },
                {
                    "output_type": "display_data",
                    "data": {
                        "text/html": "Total execution time: 00:00:00.029"
                    },
                    "metadata": {}
                }
            ],
            "execution_count": 56
        },
        {
            "cell_type": "code",
            "source": [
                "EXEC SHOW_TABLES"
            ],
            "metadata": {
                "language": "sql",
                "azdata_cell_guid": "d1d9457a-07b4-44ae-bc3f-efbbc9263063"
            },
            "outputs": [
                {
                    "output_type": "display_data",
                    "data": {
                        "text/html": "(2 rows affected)"
                    },
                    "metadata": {}
                },
                {
                    "output_type": "display_data",
                    "data": {
                        "text/html": "(6 rows affected)"
                    },
                    "metadata": {}
                },
                {
                    "output_type": "display_data",
                    "data": {
                        "text/html": "(4 rows affected)"
                    },
                    "metadata": {}
                },
                {
                    "output_type": "display_data",
                    "data": {
                        "text/html": "Total execution time: 00:00:00.023"
                    },
                    "metadata": {}
                },
                {
                    "output_type": "execute_result",
                    "metadata": {},
                    "execution_count": 57,
                    "data": {
                        "application/vnd.dataresource+json": {
                            "schema": {
                                "fields": [
                                    {
                                        "name": "ID"
                                    },
                                    {
                                        "name": "NAME"
                                    },
                                    {
                                        "name": "PASSWORD"
                                    },
                                    {
                                        "name": "AMOUNT"
                                    }
                                ]
                            },
                            "data": [
                                {
                                    "ID": "1",
                                    "NAME": "Vivek",
                                    "PASSWORD": "P@SS",
                                    "AMOUNT": "8000"
                                },
                                {
                                    "ID": "2",
                                    "NAME": "Sanjay",
                                    "PASSWORD": "P@SS",
                                    "AMOUNT": "7000"
                                }
                            ]
                        },
                        "text/html": [
                            "<table>",
                            "<tr><th>ID</th><th>NAME</th><th>PASSWORD</th><th>AMOUNT</th></tr>",
                            "<tr><td>1</td><td>Vivek</td><td>P@SS</td><td>8000</td></tr>",
                            "<tr><td>2</td><td>Sanjay</td><td>P@SS</td><td>7000</td></tr>",
                            "</table>"
                        ]
                    }
                },
                {
                    "output_type": "execute_result",
                    "metadata": {},
                    "execution_count": 57,
                    "data": {
                        "application/vnd.dataresource+json": {
                            "schema": {
                                "fields": [
                                    {
                                        "name": "ID"
                                    },
                                    {
                                        "name": "ACCOUNT_ID"
                                    },
                                    {
                                        "name": "DESCRIPTION"
                                    },
                                    {
                                        "name": "TRANSACTION_TYPE"
                                    },
                                    {
                                        "name": "AMOUNT"
                                    }
                                ]
                            },
                            "data": [
                                {
                                    "ID": "1",
                                    "ACCOUNT_ID": "1",
                                    "DESCRIPTION": "Deposit",
                                    "TRANSACTION_TYPE": "1",
                                    "AMOUNT": "1000"
                                },
                                {
                                    "ID": "2",
                                    "ACCOUNT_ID": "1",
                                    "DESCRIPTION": "Withdraw",
                                    "TRANSACTION_TYPE": "-1",
                                    "AMOUNT": "1000"
                                },
                                {
                                    "ID": "3",
                                    "ACCOUNT_ID": "1",
                                    "DESCRIPTION": "Deposit",
                                    "TRANSACTION_TYPE": "1",
                                    "AMOUNT": "20000"
                                },
                                {
                                    "ID": "4",
                                    "ACCOUNT_ID": "1",
                                    "DESCRIPTION": "Withdraw",
                                    "TRANSACTION_TYPE": "-1",
                                    "AMOUNT": "15000"
                                },
                                {
                                    "ID": "5",
                                    "ACCOUNT_ID": "1",
                                    "DESCRIPTION": "Withdraw",
                                    "TRANSACTION_TYPE": "-1",
                                    "AMOUNT": "2000"
                                },
                                {
                                    "ID": "6",
                                    "ACCOUNT_ID": "2",
                                    "DESCRIPTION": "Deposit",
                                    "TRANSACTION_TYPE": "1",
                                    "AMOUNT": "2000"
                                }
                            ]
                        },
                        "text/html": [
                            "<table>",
                            "<tr><th>ID</th><th>ACCOUNT_ID</th><th>DESCRIPTION</th><th>TRANSACTION_TYPE</th><th>AMOUNT</th></tr>",
                            "<tr><td>1</td><td>1</td><td>Deposit</td><td>1</td><td>1000</td></tr>",
                            "<tr><td>2</td><td>1</td><td>Withdraw</td><td>-1</td><td>1000</td></tr>",
                            "<tr><td>3</td><td>1</td><td>Deposit</td><td>1</td><td>20000</td></tr>",
                            "<tr><td>4</td><td>1</td><td>Withdraw</td><td>-1</td><td>15000</td></tr>",
                            "<tr><td>5</td><td>1</td><td>Withdraw</td><td>-1</td><td>2000</td></tr>",
                            "<tr><td>6</td><td>2</td><td>Deposit</td><td>1</td><td>2000</td></tr>",
                            "</table>"
                        ]
                    }
                },
                {
                    "output_type": "execute_result",
                    "metadata": {},
                    "execution_count": 57,
                    "data": {
                        "application/vnd.dataresource+json": {
                            "schema": {
                                "fields": [
                                    {
                                        "name": "ID"
                                    },
                                    {
                                        "name": "DATE"
                                    },
                                    {
                                        "name": "TRANSACTION_TYPE"
                                    },
                                    {
                                        "name": "ACCOUNT_ID"
                                    },
                                    {
                                        "name": "DESCRIPTION"
                                    }
                                ]
                            },
                            "data": [
                                {
                                    "ID": "1",
                                    "DATE": "2024-07-26 17:18:21.070",
                                    "TRANSACTION_TYPE": "1",
                                    "ACCOUNT_ID": "1",
                                    "DESCRIPTION": "Deposit"
                                },
                                {
                                    "ID": "2",
                                    "DATE": "2024-07-26 17:18:21.080",
                                    "TRANSACTION_TYPE": "-1",
                                    "ACCOUNT_ID": "1",
                                    "DESCRIPTION": "Withdraw"
                                },
                                {
                                    "ID": "3",
                                    "DATE": "2024-07-26 17:38:21.657",
                                    "TRANSACTION_TYPE": "-1",
                                    "ACCOUNT_ID": "1",
                                    "DESCRIPTION": "Withdraw"
                                },
                                {
                                    "ID": "4",
                                    "DATE": "2024-07-26 17:38:21.670",
                                    "TRANSACTION_TYPE": "1",
                                    "ACCOUNT_ID": "2",
                                    "DESCRIPTION": "Deposit"
                                }
                            ]
                        },
                        "text/html": [
                            "<table>",
                            "<tr><th>ID</th><th>DATE</th><th>TRANSACTION_TYPE</th><th>ACCOUNT_ID</th><th>DESCRIPTION</th></tr>",
                            "<tr><td>1</td><td>2024-07-26 17:18:21.070</td><td>1</td><td>1</td><td>Deposit</td></tr>",
                            "<tr><td>2</td><td>2024-07-26 17:18:21.080</td><td>-1</td><td>1</td><td>Withdraw</td></tr>",
                            "<tr><td>3</td><td>2024-07-26 17:38:21.657</td><td>-1</td><td>1</td><td>Withdraw</td></tr>",
                            "<tr><td>4</td><td>2024-07-26 17:38:21.670</td><td>1</td><td>2</td><td>Deposit</td></tr>",
                            "</table>"
                        ]
                    }
                }
            ],
            "execution_count": 57
        },
        {
            "cell_type": "markdown",
            "source": [
                "BUT DATABASE WILL BECOME INCONSITENT IF BENIFICARY ACCOUNT IS WORNG"
            ],
            "metadata": {
                "azdata_cell_guid": "918d6023-ee5a-4133-8723-16407a971233",
                "language": ""
            },
            "attachments": {}
        },
        {
            "cell_type": "code",
            "source": [
                "EXEC TRANSFER 1, 2000, 'P@SS',100"
            ],
            "metadata": {
                "azdata_cell_guid": "f10e2f03-f0cc-49a0-86ef-5db5cbe53dfb",
                "language": "sql"
            },
            "outputs": [
                {
                    "output_type": "display_data",
                    "data": {
                        "text/html": "(1 row affected)"
                    },
                    "metadata": {}
                },
                {
                    "output_type": "display_data",
                    "data": {
                        "text/html": "(1 row affected)"
                    },
                    "metadata": {}
                },
                {
                    "output_type": "display_data",
                    "data": {
                        "text/html": "(1 row affected)"
                    },
                    "metadata": {}
                },
                {
                    "output_type": "error",
                    "evalue": "Msg 50000, Level 15, State 1, Procedure Deposit, Line 22\r\nInvalid Account Number",
                    "ename": "",
                    "traceback": []
                },
                {
                    "output_type": "display_data",
                    "data": {
                        "text/html": "Total execution time: 00:00:00.033"
                    },
                    "metadata": {}
                }
            ],
            "execution_count": 58
        },
        {
            "cell_type": "code",
            "source": [
                "EXEC SHOW_TABLES"
            ],
            "metadata": {
                "language": "sql",
                "azdata_cell_guid": "c24dd4b0-81c4-488a-8b18-578c45ed346a"
            },
            "outputs": [
                {
                    "output_type": "display_data",
                    "data": {
                        "text/html": "(2 rows affected)"
                    },
                    "metadata": {}
                },
                {
                    "output_type": "display_data",
                    "data": {
                        "text/html": "(7 rows affected)"
                    },
                    "metadata": {}
                },
                {
                    "output_type": "display_data",
                    "data": {
                        "text/html": "(5 rows affected)"
                    },
                    "metadata": {}
                },
                {
                    "output_type": "display_data",
                    "data": {
                        "text/html": "Total execution time: 00:00:00.009"
                    },
                    "metadata": {}
                },
                {
                    "output_type": "execute_result",
                    "metadata": {},
                    "execution_count": 60,
                    "data": {
                        "application/vnd.dataresource+json": {
                            "schema": {
                                "fields": [
                                    {
                                        "name": "ID"
                                    },
                                    {
                                        "name": "NAME"
                                    },
                                    {
                                        "name": "PASSWORD"
                                    },
                                    {
                                        "name": "AMOUNT"
                                    }
                                ]
                            },
                            "data": [
                                {
                                    "ID": "1",
                                    "NAME": "Vivek",
                                    "PASSWORD": "P@SS",
                                    "AMOUNT": "6000"
                                },
                                {
                                    "ID": "2",
                                    "NAME": "Sanjay",
                                    "PASSWORD": "P@SS",
                                    "AMOUNT": "7000"
                                }
                            ]
                        },
                        "text/html": [
                            "<table>",
                            "<tr><th>ID</th><th>NAME</th><th>PASSWORD</th><th>AMOUNT</th></tr>",
                            "<tr><td>1</td><td>Vivek</td><td>P@SS</td><td>6000</td></tr>",
                            "<tr><td>2</td><td>Sanjay</td><td>P@SS</td><td>7000</td></tr>",
                            "</table>"
                        ]
                    }
                },
                {
                    "output_type": "execute_result",
                    "metadata": {},
                    "execution_count": 60,
                    "data": {
                        "application/vnd.dataresource+json": {
                            "schema": {
                                "fields": [
                                    {
                                        "name": "ID"
                                    },
                                    {
                                        "name": "ACCOUNT_ID"
                                    },
                                    {
                                        "name": "DESCRIPTION"
                                    },
                                    {
                                        "name": "TRANSACTION_TYPE"
                                    },
                                    {
                                        "name": "AMOUNT"
                                    }
                                ]
                            },
                            "data": [
                                {
                                    "ID": "1",
                                    "ACCOUNT_ID": "1",
                                    "DESCRIPTION": "Deposit",
                                    "TRANSACTION_TYPE": "1",
                                    "AMOUNT": "1000"
                                },
                                {
                                    "ID": "2",
                                    "ACCOUNT_ID": "1",
                                    "DESCRIPTION": "Withdraw",
                                    "TRANSACTION_TYPE": "-1",
                                    "AMOUNT": "1000"
                                },
                                {
                                    "ID": "3",
                                    "ACCOUNT_ID": "1",
                                    "DESCRIPTION": "Deposit",
                                    "TRANSACTION_TYPE": "1",
                                    "AMOUNT": "20000"
                                },
                                {
                                    "ID": "4",
                                    "ACCOUNT_ID": "1",
                                    "DESCRIPTION": "Withdraw",
                                    "TRANSACTION_TYPE": "-1",
                                    "AMOUNT": "15000"
                                },
                                {
                                    "ID": "5",
                                    "ACCOUNT_ID": "1",
                                    "DESCRIPTION": "Withdraw",
                                    "TRANSACTION_TYPE": "-1",
                                    "AMOUNT": "2000"
                                },
                                {
                                    "ID": "6",
                                    "ACCOUNT_ID": "2",
                                    "DESCRIPTION": "Deposit",
                                    "TRANSACTION_TYPE": "1",
                                    "AMOUNT": "2000"
                                },
                                {
                                    "ID": "7",
                                    "ACCOUNT_ID": "1",
                                    "DESCRIPTION": "Withdraw",
                                    "TRANSACTION_TYPE": "-1",
                                    "AMOUNT": "2000"
                                }
                            ]
                        },
                        "text/html": [
                            "<table>",
                            "<tr><th>ID</th><th>ACCOUNT_ID</th><th>DESCRIPTION</th><th>TRANSACTION_TYPE</th><th>AMOUNT</th></tr>",
                            "<tr><td>1</td><td>1</td><td>Deposit</td><td>1</td><td>1000</td></tr>",
                            "<tr><td>2</td><td>1</td><td>Withdraw</td><td>-1</td><td>1000</td></tr>",
                            "<tr><td>3</td><td>1</td><td>Deposit</td><td>1</td><td>20000</td></tr>",
                            "<tr><td>4</td><td>1</td><td>Withdraw</td><td>-1</td><td>15000</td></tr>",
                            "<tr><td>5</td><td>1</td><td>Withdraw</td><td>-1</td><td>2000</td></tr>",
                            "<tr><td>6</td><td>2</td><td>Deposit</td><td>1</td><td>2000</td></tr>",
                            "<tr><td>7</td><td>1</td><td>Withdraw</td><td>-1</td><td>2000</td></tr>",
                            "</table>"
                        ]
                    }
                },
                {
                    "output_type": "execute_result",
                    "metadata": {},
                    "execution_count": 60,
                    "data": {
                        "application/vnd.dataresource+json": {
                            "schema": {
                                "fields": [
                                    {
                                        "name": "ID"
                                    },
                                    {
                                        "name": "DATE"
                                    },
                                    {
                                        "name": "TRANSACTION_TYPE"
                                    },
                                    {
                                        "name": "ACCOUNT_ID"
                                    },
                                    {
                                        "name": "DESCRIPTION"
                                    }
                                ]
                            },
                            "data": [
                                {
                                    "ID": "1",
                                    "DATE": "2024-07-26 17:18:21.070",
                                    "TRANSACTION_TYPE": "1",
                                    "ACCOUNT_ID": "1",
                                    "DESCRIPTION": "Deposit"
                                },
                                {
                                    "ID": "2",
                                    "DATE": "2024-07-26 17:18:21.080",
                                    "TRANSACTION_TYPE": "-1",
                                    "ACCOUNT_ID": "1",
                                    "DESCRIPTION": "Withdraw"
                                },
                                {
                                    "ID": "3",
                                    "DATE": "2024-07-26 17:38:21.657",
                                    "TRANSACTION_TYPE": "-1",
                                    "ACCOUNT_ID": "1",
                                    "DESCRIPTION": "Withdraw"
                                },
                                {
                                    "ID": "4",
                                    "DATE": "2024-07-26 17:38:21.670",
                                    "TRANSACTION_TYPE": "1",
                                    "ACCOUNT_ID": "2",
                                    "DESCRIPTION": "Deposit"
                                },
                                {
                                    "ID": "5",
                                    "DATE": "2024-07-26 17:39:56.270",
                                    "TRANSACTION_TYPE": "-1",
                                    "ACCOUNT_ID": "1",
                                    "DESCRIPTION": "Withdraw"
                                }
                            ]
                        },
                        "text/html": [
                            "<table>",
                            "<tr><th>ID</th><th>DATE</th><th>TRANSACTION_TYPE</th><th>ACCOUNT_ID</th><th>DESCRIPTION</th></tr>",
                            "<tr><td>1</td><td>2024-07-26 17:18:21.070</td><td>1</td><td>1</td><td>Deposit</td></tr>",
                            "<tr><td>2</td><td>2024-07-26 17:18:21.080</td><td>-1</td><td>1</td><td>Withdraw</td></tr>",
                            "<tr><td>3</td><td>2024-07-26 17:38:21.657</td><td>-1</td><td>1</td><td>Withdraw</td></tr>",
                            "<tr><td>4</td><td>2024-07-26 17:38:21.670</td><td>1</td><td>2</td><td>Deposit</td></tr>",
                            "<tr><td>5</td><td>2024-07-26 17:39:56.270</td><td>-1</td><td>1</td><td>Withdraw</td></tr>",
                            "</table>"
                        ]
                    }
                }
            ],
            "execution_count": 60
        },
        {
            "cell_type": "markdown",
            "source": [
                "# APPLYING TRANSACTION"
            ],
            "metadata": {
                "azdata_cell_guid": "aad0c4c6-f0fc-4fc6-b642-2258d83aeee3"
            },
            "attachments": {}
        },
        {
            "cell_type": "code",
            "source": [
                "ALTER PROCEDURE TRANSFER\r\n",
                "@SOURCE INT,\r\n",
                "@AMOUNT FLOAT,\r\n",
                "@PASSWORD VARCHAR(100),\r\n",
                "@TARGET INT\r\n",
                "AS\r\n",
                "BEGIN\r\n",
                "    BEGIN TRANSACTION;\r\n",
                "\r\n",
                "    BEGIN TRY\r\n",
                "        EXEC Withdraw @SOURCE, @AMOUNT, @PASSWORD;\r\n",
                "        EXEC Deposit @TARGET, @AMOUNT\r\n",
                "        COMMIT TRANSACTION\r\n",
                "    END TRY\r\n",
                "    BEGIN CATCH\r\n",
                "        ROLLBACK TRANSACTION\r\n",
                "        RAISERROR('Trnasaction Failed',15,4)\r\n",
                "    END CATCH\r\n",
                "END"
            ],
            "metadata": {
                "azdata_cell_guid": "51097702-a082-46bf-8c94-b9dae3d31815",
                "language": "sql"
            },
            "outputs": [
                {
                    "output_type": "display_data",
                    "data": {
                        "text/html": "Commands completed successfully."
                    },
                    "metadata": {}
                },
                {
                    "output_type": "display_data",
                    "data": {
                        "text/html": "Total execution time: 00:00:00.012"
                    },
                    "metadata": {}
                }
            ],
            "execution_count": 61
        },
        {
            "cell_type": "code",
            "source": [
                "EXEC Transfer 1, 1000, 'P@SS',2"
            ],
            "metadata": {
                "azdata_cell_guid": "13d029ea-e327-487b-9981-6d467dc9b5c7",
                "language": "sql"
            },
            "outputs": [
                {
                    "output_type": "display_data",
                    "data": {
                        "text/html": "(1 row affected)"
                    },
                    "metadata": {}
                },
                {
                    "output_type": "display_data",
                    "data": {
                        "text/html": "(1 row affected)"
                    },
                    "metadata": {}
                },
                {
                    "output_type": "display_data",
                    "data": {
                        "text/html": "(1 row affected)"
                    },
                    "metadata": {}
                },
                {
                    "output_type": "display_data",
                    "data": {
                        "text/html": "(1 row affected)"
                    },
                    "metadata": {}
                },
                {
                    "output_type": "display_data",
                    "data": {
                        "text/html": "(1 row affected)"
                    },
                    "metadata": {}
                },
                {
                    "output_type": "display_data",
                    "data": {
                        "text/html": "(1 row affected)"
                    },
                    "metadata": {}
                },
                {
                    "output_type": "display_data",
                    "data": {
                        "text/html": "Total execution time: 00:00:00.033"
                    },
                    "metadata": {}
                }
            ],
            "execution_count": 62
        },
        {
            "cell_type": "code",
            "source": [
                "EXEC SHOW_TABLES"
            ],
            "metadata": {
                "azdata_cell_guid": "de7e7a12-547a-4e87-9a5f-2fbed722e524",
                "language": "sql"
            },
            "outputs": [
                {
                    "output_type": "display_data",
                    "data": {
                        "text/html": "(2 rows affected)"
                    },
                    "metadata": {}
                },
                {
                    "output_type": "display_data",
                    "data": {
                        "text/html": "(9 rows affected)"
                    },
                    "metadata": {}
                },
                {
                    "output_type": "display_data",
                    "data": {
                        "text/html": "(7 rows affected)"
                    },
                    "metadata": {}
                },
                {
                    "output_type": "display_data",
                    "data": {
                        "text/html": "Total execution time: 00:00:00.009"
                    },
                    "metadata": {}
                },
                {
                    "output_type": "execute_result",
                    "metadata": {},
                    "execution_count": 63,
                    "data": {
                        "application/vnd.dataresource+json": {
                            "schema": {
                                "fields": [
                                    {
                                        "name": "ID"
                                    },
                                    {
                                        "name": "NAME"
                                    },
                                    {
                                        "name": "PASSWORD"
                                    },
                                    {
                                        "name": "AMOUNT"
                                    }
                                ]
                            },
                            "data": [
                                {
                                    "ID": "1",
                                    "NAME": "Vivek",
                                    "PASSWORD": "P@SS",
                                    "AMOUNT": "5000"
                                },
                                {
                                    "ID": "2",
                                    "NAME": "Sanjay",
                                    "PASSWORD": "P@SS",
                                    "AMOUNT": "8000"
                                }
                            ]
                        },
                        "text/html": [
                            "<table>",
                            "<tr><th>ID</th><th>NAME</th><th>PASSWORD</th><th>AMOUNT</th></tr>",
                            "<tr><td>1</td><td>Vivek</td><td>P@SS</td><td>5000</td></tr>",
                            "<tr><td>2</td><td>Sanjay</td><td>P@SS</td><td>8000</td></tr>",
                            "</table>"
                        ]
                    }
                },
                {
                    "output_type": "execute_result",
                    "metadata": {},
                    "execution_count": 63,
                    "data": {
                        "application/vnd.dataresource+json": {
                            "schema": {
                                "fields": [
                                    {
                                        "name": "ID"
                                    },
                                    {
                                        "name": "ACCOUNT_ID"
                                    },
                                    {
                                        "name": "DESCRIPTION"
                                    },
                                    {
                                        "name": "TRANSACTION_TYPE"
                                    },
                                    {
                                        "name": "AMOUNT"
                                    }
                                ]
                            },
                            "data": [
                                {
                                    "ID": "1",
                                    "ACCOUNT_ID": "1",
                                    "DESCRIPTION": "Deposit",
                                    "TRANSACTION_TYPE": "1",
                                    "AMOUNT": "1000"
                                },
                                {
                                    "ID": "2",
                                    "ACCOUNT_ID": "1",
                                    "DESCRIPTION": "Withdraw",
                                    "TRANSACTION_TYPE": "-1",
                                    "AMOUNT": "1000"
                                },
                                {
                                    "ID": "3",
                                    "ACCOUNT_ID": "1",
                                    "DESCRIPTION": "Deposit",
                                    "TRANSACTION_TYPE": "1",
                                    "AMOUNT": "20000"
                                },
                                {
                                    "ID": "4",
                                    "ACCOUNT_ID": "1",
                                    "DESCRIPTION": "Withdraw",
                                    "TRANSACTION_TYPE": "-1",
                                    "AMOUNT": "15000"
                                },
                                {
                                    "ID": "5",
                                    "ACCOUNT_ID": "1",
                                    "DESCRIPTION": "Withdraw",
                                    "TRANSACTION_TYPE": "-1",
                                    "AMOUNT": "2000"
                                },
                                {
                                    "ID": "6",
                                    "ACCOUNT_ID": "2",
                                    "DESCRIPTION": "Deposit",
                                    "TRANSACTION_TYPE": "1",
                                    "AMOUNT": "2000"
                                },
                                {
                                    "ID": "7",
                                    "ACCOUNT_ID": "1",
                                    "DESCRIPTION": "Withdraw",
                                    "TRANSACTION_TYPE": "-1",
                                    "AMOUNT": "2000"
                                },
                                {
                                    "ID": "8",
                                    "ACCOUNT_ID": "1",
                                    "DESCRIPTION": "Withdraw",
                                    "TRANSACTION_TYPE": "-1",
                                    "AMOUNT": "1000"
                                },
                                {
                                    "ID": "9",
                                    "ACCOUNT_ID": "2",
                                    "DESCRIPTION": "Deposit",
                                    "TRANSACTION_TYPE": "1",
                                    "AMOUNT": "1000"
                                }
                            ]
                        },
                        "text/html": [
                            "<table>",
                            "<tr><th>ID</th><th>ACCOUNT_ID</th><th>DESCRIPTION</th><th>TRANSACTION_TYPE</th><th>AMOUNT</th></tr>",
                            "<tr><td>1</td><td>1</td><td>Deposit</td><td>1</td><td>1000</td></tr>",
                            "<tr><td>2</td><td>1</td><td>Withdraw</td><td>-1</td><td>1000</td></tr>",
                            "<tr><td>3</td><td>1</td><td>Deposit</td><td>1</td><td>20000</td></tr>",
                            "<tr><td>4</td><td>1</td><td>Withdraw</td><td>-1</td><td>15000</td></tr>",
                            "<tr><td>5</td><td>1</td><td>Withdraw</td><td>-1</td><td>2000</td></tr>",
                            "<tr><td>6</td><td>2</td><td>Deposit</td><td>1</td><td>2000</td></tr>",
                            "<tr><td>7</td><td>1</td><td>Withdraw</td><td>-1</td><td>2000</td></tr>",
                            "<tr><td>8</td><td>1</td><td>Withdraw</td><td>-1</td><td>1000</td></tr>",
                            "<tr><td>9</td><td>2</td><td>Deposit</td><td>1</td><td>1000</td></tr>",
                            "</table>"
                        ]
                    }
                },
                {
                    "output_type": "execute_result",
                    "metadata": {},
                    "execution_count": 63,
                    "data": {
                        "application/vnd.dataresource+json": {
                            "schema": {
                                "fields": [
                                    {
                                        "name": "ID"
                                    },
                                    {
                                        "name": "DATE"
                                    },
                                    {
                                        "name": "TRANSACTION_TYPE"
                                    },
                                    {
                                        "name": "ACCOUNT_ID"
                                    },
                                    {
                                        "name": "DESCRIPTION"
                                    }
                                ]
                            },
                            "data": [
                                {
                                    "ID": "1",
                                    "DATE": "2024-07-26 17:18:21.070",
                                    "TRANSACTION_TYPE": "1",
                                    "ACCOUNT_ID": "1",
                                    "DESCRIPTION": "Deposit"
                                },
                                {
                                    "ID": "2",
                                    "DATE": "2024-07-26 17:18:21.080",
                                    "TRANSACTION_TYPE": "-1",
                                    "ACCOUNT_ID": "1",
                                    "DESCRIPTION": "Withdraw"
                                },
                                {
                                    "ID": "3",
                                    "DATE": "2024-07-26 17:38:21.657",
                                    "TRANSACTION_TYPE": "-1",
                                    "ACCOUNT_ID": "1",
                                    "DESCRIPTION": "Withdraw"
                                },
                                {
                                    "ID": "4",
                                    "DATE": "2024-07-26 17:38:21.670",
                                    "TRANSACTION_TYPE": "1",
                                    "ACCOUNT_ID": "2",
                                    "DESCRIPTION": "Deposit"
                                },
                                {
                                    "ID": "5",
                                    "DATE": "2024-07-26 17:39:56.270",
                                    "TRANSACTION_TYPE": "-1",
                                    "ACCOUNT_ID": "1",
                                    "DESCRIPTION": "Withdraw"
                                },
                                {
                                    "ID": "6",
                                    "DATE": "2024-07-26 17:46:38.870",
                                    "TRANSACTION_TYPE": "-1",
                                    "ACCOUNT_ID": "1",
                                    "DESCRIPTION": "Withdraw"
                                },
                                {
                                    "ID": "7",
                                    "DATE": "2024-07-26 17:46:38.877",
                                    "TRANSACTION_TYPE": "1",
                                    "ACCOUNT_ID": "2",
                                    "DESCRIPTION": "Deposit"
                                }
                            ]
                        },
                        "text/html": [
                            "<table>",
                            "<tr><th>ID</th><th>DATE</th><th>TRANSACTION_TYPE</th><th>ACCOUNT_ID</th><th>DESCRIPTION</th></tr>",
                            "<tr><td>1</td><td>2024-07-26 17:18:21.070</td><td>1</td><td>1</td><td>Deposit</td></tr>",
                            "<tr><td>2</td><td>2024-07-26 17:18:21.080</td><td>-1</td><td>1</td><td>Withdraw</td></tr>",
                            "<tr><td>3</td><td>2024-07-26 17:38:21.657</td><td>-1</td><td>1</td><td>Withdraw</td></tr>",
                            "<tr><td>4</td><td>2024-07-26 17:38:21.670</td><td>1</td><td>2</td><td>Deposit</td></tr>",
                            "<tr><td>5</td><td>2024-07-26 17:39:56.270</td><td>-1</td><td>1</td><td>Withdraw</td></tr>",
                            "<tr><td>6</td><td>2024-07-26 17:46:38.870</td><td>-1</td><td>1</td><td>Withdraw</td></tr>",
                            "<tr><td>7</td><td>2024-07-26 17:46:38.877</td><td>1</td><td>2</td><td>Deposit</td></tr>",
                            "</table>"
                        ]
                    }
                }
            ],
            "execution_count": 63
        },
        {
            "cell_type": "code",
            "source": [
                "EXEC TRANSFER 2, 5000, 'P@SS', 4"
            ],
            "metadata": {
                "language": "sql",
                "azdata_cell_guid": "2cdec098-67c5-4489-9654-6a9a12a44f8c"
            },
            "outputs": [
                {
                    "output_type": "display_data",
                    "data": {
                        "text/html": "(1 row affected)"
                    },
                    "metadata": {}
                },
                {
                    "output_type": "display_data",
                    "data": {
                        "text/html": "(1 row affected)"
                    },
                    "metadata": {}
                },
                {
                    "output_type": "display_data",
                    "data": {
                        "text/html": "(1 row affected)"
                    },
                    "metadata": {}
                },
                {
                    "output_type": "error",
                    "evalue": "Msg 50000, Level 15, State 4, Procedure TRANSFER, Line 17\r\nTrnasaction Failed",
                    "ename": "",
                    "traceback": []
                },
                {
                    "output_type": "display_data",
                    "data": {
                        "text/html": "Total execution time: 00:00:00.029"
                    },
                    "metadata": {}
                }
            ],
            "execution_count": 64
        },
        {
            "cell_type": "code",
            "source": [
                "EXEC SHOW_TABLES"
            ],
            "metadata": {
                "language": "sql",
                "azdata_cell_guid": "8da25bb6-449d-45fb-bf6f-2c15bf080843"
            },
            "outputs": [
                {
                    "output_type": "display_data",
                    "data": {
                        "text/html": "(2 rows affected)"
                    },
                    "metadata": {}
                },
                {
                    "output_type": "display_data",
                    "data": {
                        "text/html": "(9 rows affected)"
                    },
                    "metadata": {}
                },
                {
                    "output_type": "display_data",
                    "data": {
                        "text/html": "(7 rows affected)"
                    },
                    "metadata": {}
                },
                {
                    "output_type": "display_data",
                    "data": {
                        "text/html": "Total execution time: 00:00:00.008"
                    },
                    "metadata": {}
                },
                {
                    "output_type": "execute_result",
                    "metadata": {},
                    "execution_count": 65,
                    "data": {
                        "application/vnd.dataresource+json": {
                            "schema": {
                                "fields": [
                                    {
                                        "name": "ID"
                                    },
                                    {
                                        "name": "NAME"
                                    },
                                    {
                                        "name": "PASSWORD"
                                    },
                                    {
                                        "name": "AMOUNT"
                                    }
                                ]
                            },
                            "data": [
                                {
                                    "ID": "1",
                                    "NAME": "Vivek",
                                    "PASSWORD": "P@SS",
                                    "AMOUNT": "5000"
                                },
                                {
                                    "ID": "2",
                                    "NAME": "Sanjay",
                                    "PASSWORD": "P@SS",
                                    "AMOUNT": "8000"
                                }
                            ]
                        },
                        "text/html": [
                            "<table>",
                            "<tr><th>ID</th><th>NAME</th><th>PASSWORD</th><th>AMOUNT</th></tr>",
                            "<tr><td>1</td><td>Vivek</td><td>P@SS</td><td>5000</td></tr>",
                            "<tr><td>2</td><td>Sanjay</td><td>P@SS</td><td>8000</td></tr>",
                            "</table>"
                        ]
                    }
                },
                {
                    "output_type": "execute_result",
                    "metadata": {},
                    "execution_count": 65,
                    "data": {
                        "application/vnd.dataresource+json": {
                            "schema": {
                                "fields": [
                                    {
                                        "name": "ID"
                                    },
                                    {
                                        "name": "ACCOUNT_ID"
                                    },
                                    {
                                        "name": "DESCRIPTION"
                                    },
                                    {
                                        "name": "TRANSACTION_TYPE"
                                    },
                                    {
                                        "name": "AMOUNT"
                                    }
                                ]
                            },
                            "data": [
                                {
                                    "ID": "1",
                                    "ACCOUNT_ID": "1",
                                    "DESCRIPTION": "Deposit",
                                    "TRANSACTION_TYPE": "1",
                                    "AMOUNT": "1000"
                                },
                                {
                                    "ID": "2",
                                    "ACCOUNT_ID": "1",
                                    "DESCRIPTION": "Withdraw",
                                    "TRANSACTION_TYPE": "-1",
                                    "AMOUNT": "1000"
                                },
                                {
                                    "ID": "3",
                                    "ACCOUNT_ID": "1",
                                    "DESCRIPTION": "Deposit",
                                    "TRANSACTION_TYPE": "1",
                                    "AMOUNT": "20000"
                                },
                                {
                                    "ID": "4",
                                    "ACCOUNT_ID": "1",
                                    "DESCRIPTION": "Withdraw",
                                    "TRANSACTION_TYPE": "-1",
                                    "AMOUNT": "15000"
                                },
                                {
                                    "ID": "5",
                                    "ACCOUNT_ID": "1",
                                    "DESCRIPTION": "Withdraw",
                                    "TRANSACTION_TYPE": "-1",
                                    "AMOUNT": "2000"
                                },
                                {
                                    "ID": "6",
                                    "ACCOUNT_ID": "2",
                                    "DESCRIPTION": "Deposit",
                                    "TRANSACTION_TYPE": "1",
                                    "AMOUNT": "2000"
                                },
                                {
                                    "ID": "7",
                                    "ACCOUNT_ID": "1",
                                    "DESCRIPTION": "Withdraw",
                                    "TRANSACTION_TYPE": "-1",
                                    "AMOUNT": "2000"
                                },
                                {
                                    "ID": "8",
                                    "ACCOUNT_ID": "1",
                                    "DESCRIPTION": "Withdraw",
                                    "TRANSACTION_TYPE": "-1",
                                    "AMOUNT": "1000"
                                },
                                {
                                    "ID": "9",
                                    "ACCOUNT_ID": "2",
                                    "DESCRIPTION": "Deposit",
                                    "TRANSACTION_TYPE": "1",
                                    "AMOUNT": "1000"
                                }
                            ]
                        },
                        "text/html": [
                            "<table>",
                            "<tr><th>ID</th><th>ACCOUNT_ID</th><th>DESCRIPTION</th><th>TRANSACTION_TYPE</th><th>AMOUNT</th></tr>",
                            "<tr><td>1</td><td>1</td><td>Deposit</td><td>1</td><td>1000</td></tr>",
                            "<tr><td>2</td><td>1</td><td>Withdraw</td><td>-1</td><td>1000</td></tr>",
                            "<tr><td>3</td><td>1</td><td>Deposit</td><td>1</td><td>20000</td></tr>",
                            "<tr><td>4</td><td>1</td><td>Withdraw</td><td>-1</td><td>15000</td></tr>",
                            "<tr><td>5</td><td>1</td><td>Withdraw</td><td>-1</td><td>2000</td></tr>",
                            "<tr><td>6</td><td>2</td><td>Deposit</td><td>1</td><td>2000</td></tr>",
                            "<tr><td>7</td><td>1</td><td>Withdraw</td><td>-1</td><td>2000</td></tr>",
                            "<tr><td>8</td><td>1</td><td>Withdraw</td><td>-1</td><td>1000</td></tr>",
                            "<tr><td>9</td><td>2</td><td>Deposit</td><td>1</td><td>1000</td></tr>",
                            "</table>"
                        ]
                    }
                },
                {
                    "output_type": "execute_result",
                    "metadata": {},
                    "execution_count": 65,
                    "data": {
                        "application/vnd.dataresource+json": {
                            "schema": {
                                "fields": [
                                    {
                                        "name": "ID"
                                    },
                                    {
                                        "name": "DATE"
                                    },
                                    {
                                        "name": "TRANSACTION_TYPE"
                                    },
                                    {
                                        "name": "ACCOUNT_ID"
                                    },
                                    {
                                        "name": "DESCRIPTION"
                                    }
                                ]
                            },
                            "data": [
                                {
                                    "ID": "1",
                                    "DATE": "2024-07-26 17:18:21.070",
                                    "TRANSACTION_TYPE": "1",
                                    "ACCOUNT_ID": "1",
                                    "DESCRIPTION": "Deposit"
                                },
                                {
                                    "ID": "2",
                                    "DATE": "2024-07-26 17:18:21.080",
                                    "TRANSACTION_TYPE": "-1",
                                    "ACCOUNT_ID": "1",
                                    "DESCRIPTION": "Withdraw"
                                },
                                {
                                    "ID": "3",
                                    "DATE": "2024-07-26 17:38:21.657",
                                    "TRANSACTION_TYPE": "-1",
                                    "ACCOUNT_ID": "1",
                                    "DESCRIPTION": "Withdraw"
                                },
                                {
                                    "ID": "4",
                                    "DATE": "2024-07-26 17:38:21.670",
                                    "TRANSACTION_TYPE": "1",
                                    "ACCOUNT_ID": "2",
                                    "DESCRIPTION": "Deposit"
                                },
                                {
                                    "ID": "5",
                                    "DATE": "2024-07-26 17:39:56.270",
                                    "TRANSACTION_TYPE": "-1",
                                    "ACCOUNT_ID": "1",
                                    "DESCRIPTION": "Withdraw"
                                },
                                {
                                    "ID": "6",
                                    "DATE": "2024-07-26 17:46:38.870",
                                    "TRANSACTION_TYPE": "-1",
                                    "ACCOUNT_ID": "1",
                                    "DESCRIPTION": "Withdraw"
                                },
                                {
                                    "ID": "7",
                                    "DATE": "2024-07-26 17:46:38.877",
                                    "TRANSACTION_TYPE": "1",
                                    "ACCOUNT_ID": "2",
                                    "DESCRIPTION": "Deposit"
                                }
                            ]
                        },
                        "text/html": [
                            "<table>",
                            "<tr><th>ID</th><th>DATE</th><th>TRANSACTION_TYPE</th><th>ACCOUNT_ID</th><th>DESCRIPTION</th></tr>",
                            "<tr><td>1</td><td>2024-07-26 17:18:21.070</td><td>1</td><td>1</td><td>Deposit</td></tr>",
                            "<tr><td>2</td><td>2024-07-26 17:18:21.080</td><td>-1</td><td>1</td><td>Withdraw</td></tr>",
                            "<tr><td>3</td><td>2024-07-26 17:38:21.657</td><td>-1</td><td>1</td><td>Withdraw</td></tr>",
                            "<tr><td>4</td><td>2024-07-26 17:38:21.670</td><td>1</td><td>2</td><td>Deposit</td></tr>",
                            "<tr><td>5</td><td>2024-07-26 17:39:56.270</td><td>-1</td><td>1</td><td>Withdraw</td></tr>",
                            "<tr><td>6</td><td>2024-07-26 17:46:38.870</td><td>-1</td><td>1</td><td>Withdraw</td></tr>",
                            "<tr><td>7</td><td>2024-07-26 17:46:38.877</td><td>1</td><td>2</td><td>Deposit</td></tr>",
                            "</table>"
                        ]
                    }
                }
            ],
            "execution_count": 65
        }
    ]
}