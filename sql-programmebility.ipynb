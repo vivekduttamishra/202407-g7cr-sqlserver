{
    "metadata": {
        "kernelspec": {
            "name": "SQL",
            "display_name": "SQL",
            "language": "sql"
        },
        "language_info": {
            "name": "sql",
            "version": ""
        }
    },
    "nbformat_minor": 2,
    "nbformat": 4,
    "cells": [
        {
            "cell_type": "markdown",
            "source": [
                "# VIEWS\n",
                "\n",
                "- We often have to create a complex query and use it multiple times\n",
                "- Example\n",
                "    - Create a Book Summary to include\n",
                "        - Title\n",
                "        - Author\n",
                "        - Price\n",
                "        - Cover\n",
                "        - Votes\n",
                "        - Rating\n",
                "    -"
            ],
            "metadata": {
                "azdata_cell_guid": "474bbc14-05f0-47c7-89f8-acb813d51882"
            },
            "attachments": {}
        },
        {
            "cell_type": "code",
            "source": [
                "SELECT \r\n",
                "    TITLE,\r\n",
                "    AUTHOR,\r\n",
                "    PRICE,\r\n",
                "    COVER,\r\n",
                "    COUNT(RATING) VOTES,\r\n",
                "    ROUND(AVG(CAST(RATING AS FLOAT)),2) AS RATING\r\n",
                "FROM\r\n",
                "    BOOKS\r\n",
                "LEFT JOIN\r\n",
                "    REVIEWS\r\n",
                "ON\r\n",
                "    BOOKS.ID=BOOK_ID\r\n",
                "GROUP BY\r\n",
                "    TITLE,\r\n",
                "    AUTHOR,\r\n",
                "    PRICE,\r\n",
                "    COVER\r\n",
                ""
            ],
            "metadata": {
                "azdata_cell_guid": "7baf972d-603b-490d-b8b0-edb64ad11793",
                "language": "sql",
                "tags": []
            },
            "outputs": [
                {
                    "output_type": "display_data",
                    "data": {
                        "text/html": "Warning: Null value is eliminated by an aggregate or other SET operation."
                    },
                    "metadata": {}
                },
                {
                    "output_type": "display_data",
                    "data": {
                        "text/html": "(5 rows affected)"
                    },
                    "metadata": {}
                },
                {
                    "output_type": "display_data",
                    "data": {
                        "text/html": "Total execution time: 00:00:00.007"
                    },
                    "metadata": {}
                },
                {
                    "output_type": "execute_result",
                    "execution_count": 3,
                    "data": {
                        "application/vnd.dataresource+json": {
                            "schema": {
                                "fields": [
                                    {
                                        "name": "TITLE"
                                    },
                                    {
                                        "name": "AUTHOR"
                                    },
                                    {
                                        "name": "PRICE"
                                    },
                                    {
                                        "name": "COVER"
                                    },
                                    {
                                        "name": "VOTES"
                                    },
                                    {
                                        "name": "RATING"
                                    }
                                ]
                            },
                            "data": [
                                {
                                    "TITLE": "Manas",
                                    "AUTHOR": "Ramdhari Singh Dinkar",
                                    "PRICE": "100.00",
                                    "COVER": "manas-2.png",
                                    "VOTES": "0",
                                    "RATING": "NULL"
                                },
                                {
                                    "TITLE": "Manas",
                                    "AUTHOR": "Vivek Dutta Mishra",
                                    "PRICE": "199.00",
                                    "COVER": "manas.png",
                                    "VOTES": "4",
                                    "RATING": "4.5"
                                },
                                {
                                    "TITLE": "Summons",
                                    "AUTHOR": "John Grishma",
                                    "PRICE": "400.00",
                                    "COVER": "summons.png",
                                    "VOTES": "0",
                                    "RATING": "NULL"
                                },
                                {
                                    "TITLE": "The Accursed God",
                                    "AUTHOR": "Vivek Dutta Mishra",
                                    "PRICE": "299.00",
                                    "COVER": "tag.png",
                                    "VOTES": "5",
                                    "RATING": "4.6"
                                },
                                {
                                    "TITLE": "The Count of Monte Cristo",
                                    "AUTHOR": "Alexandre Dumas",
                                    "PRICE": "499.00",
                                    "COVER": "cristo.png",
                                    "VOTES": "3",
                                    "RATING": "4.33"
                                }
                            ]
                        },
                        "text/html": "<table><tr><th>TITLE</th><th>AUTHOR</th><th>PRICE</th><th>COVER</th><th>VOTES</th><th>RATING</th></tr><tr><td>Manas</td><td>Ramdhari Singh Dinkar</td><td>100.00</td><td>manas-2.png</td><td>0</td><td>NULL</td></tr><tr><td>Manas</td><td>Vivek Dutta Mishra</td><td>199.00</td><td>manas.png</td><td>4</td><td>4.5</td></tr><tr><td>Summons</td><td>John Grishma</td><td>400.00</td><td>summons.png</td><td>0</td><td>NULL</td></tr><tr><td>The Accursed God</td><td>Vivek Dutta Mishra</td><td>299.00</td><td>tag.png</td><td>5</td><td>4.6</td></tr><tr><td>The Count of Monte Cristo</td><td>Alexandre Dumas</td><td>499.00</td><td>cristo.png</td><td>3</td><td>4.33</td></tr></table>"
                    },
                    "metadata": {}
                }
            ],
            "execution_count": 3
        },
        {
            "cell_type": "markdown",
            "source": [
                "## CHALLENGES\n",
                "\n",
                "- We may need this information at multiple places forcing us to rewrite the query\n",
                "- We may need to further customise this query \n",
                "    - sort on title\n",
                "    - sort of rating\n",
                "    - select only the title and rating\n",
                "    - filter all books with ratings\\>4\n",
                "\n",
                "### Example: Filter all books that have at least 3 votes"
            ],
            "metadata": {
                "language": "",
                "azdata_cell_guid": "19761fba-5eb5-4efd-925d-c6832ff9d04d"
            },
            "attachments": {}
        },
        {
            "cell_type": "code",
            "source": [
                "SELECT \r\n",
                "    TITLE,\r\n",
                "    AUTHOR,\r\n",
                "    PRICE,\r\n",
                "    COVER,\r\n",
                "    COUNT(RATING) VOTES,\r\n",
                "    ROUND(AVG(CAST(RATING AS FLOAT)),2) AS RATING\r\n",
                "FROM\r\n",
                "    BOOKS\r\n",
                "\r\n",
                "LEFT JOIN\r\n",
                "    REVIEWS\r\n",
                "ON\r\n",
                "    BOOKS.ID=BOOK_ID\r\n",
                "\r\n",
                "GROUP BY\r\n",
                "    TITLE,\r\n",
                "    AUTHOR,\r\n",
                "    PRICE,\r\n",
                "    COVER\r\n",
                "HAVING\r\n",
                "    COUNT(RATING)>0\r\n",
                "ORDER BY\r\n",
                "    AUTHOR"
            ],
            "metadata": {
                "azdata_cell_guid": "1eacc907-b916-4364-8daa-14254e4ba970",
                "language": "sql"
            },
            "outputs": [
                {
                    "output_type": "display_data",
                    "data": {
                        "text/html": "Warning: Null value is eliminated by an aggregate or other SET operation."
                    },
                    "metadata": {}
                },
                {
                    "output_type": "display_data",
                    "data": {
                        "text/html": "(3 rows affected)"
                    },
                    "metadata": {}
                },
                {
                    "output_type": "display_data",
                    "data": {
                        "text/html": "Total execution time: 00:00:00.010"
                    },
                    "metadata": {}
                },
                {
                    "output_type": "execute_result",
                    "execution_count": 14,
                    "data": {
                        "application/vnd.dataresource+json": {
                            "schema": {
                                "fields": [
                                    {
                                        "name": "TITLE"
                                    },
                                    {
                                        "name": "AUTHOR"
                                    },
                                    {
                                        "name": "PRICE"
                                    },
                                    {
                                        "name": "COVER"
                                    },
                                    {
                                        "name": "VOTES"
                                    },
                                    {
                                        "name": "RATING"
                                    }
                                ]
                            },
                            "data": [
                                {
                                    "TITLE": "The Count of Monte Cristo",
                                    "AUTHOR": "Alexandre Dumas",
                                    "PRICE": "499.00",
                                    "COVER": "cristo.png",
                                    "VOTES": "3",
                                    "RATING": "4.33"
                                },
                                {
                                    "TITLE": "Manas",
                                    "AUTHOR": "Vivek Dutta Mishra",
                                    "PRICE": "199.00",
                                    "COVER": "manas.png",
                                    "VOTES": "4",
                                    "RATING": "4.5"
                                },
                                {
                                    "TITLE": "The Accursed God",
                                    "AUTHOR": "Vivek Dutta Mishra",
                                    "PRICE": "299.00",
                                    "COVER": "tag.png",
                                    "VOTES": "5",
                                    "RATING": "4.6"
                                }
                            ]
                        },
                        "text/html": "<table><tr><th>TITLE</th><th>AUTHOR</th><th>PRICE</th><th>COVER</th><th>VOTES</th><th>RATING</th></tr><tr><td>The Count of Monte Cristo</td><td>Alexandre Dumas</td><td>499.00</td><td>cristo.png</td><td>3</td><td>4.33</td></tr><tr><td>Manas</td><td>Vivek Dutta Mishra</td><td>199.00</td><td>manas.png</td><td>4</td><td>4.5</td></tr><tr><td>The Accursed God</td><td>Vivek Dutta Mishra</td><td>299.00</td><td>tag.png</td><td>5</td><td>4.6</td></tr></table>"
                    },
                    "metadata": {}
                }
            ],
            "execution_count": 14
        },
        {
            "cell_type": "markdown",
            "source": [
                "# View\n",
                "\n",
                "- A View can be considered as a \n",
                "    \n",
                "    - VIRTUAL TABLE\n",
                "        \n",
                "        - acts and works like a table \n",
                "        - but it is actually the result of a query\n",
                "        - View works on data from other table\n",
                "            - It doesn't have its own data\n",
                "    - A NAMED QUERY\n",
                "        \n",
                "        - We specify a name for a query\n",
                "        - we can access the information using the name\n",
                "        \n",
                "- A View unlike a regular query is peristed in the datbase\n",
                "    \n",
                "    - when you write  a query it is fire and forget\n",
                "    - we need to write the query again if we need to use it again\n",
                "    - a view is saved in the database (just like table)\n",
                "- A View is readonly\n",
                "    \n",
                "    - It can only use SELECT query\n",
                "    - It can't update any stored value\n",
                "- A View is dynamic\n",
                "    \n",
                "    - when underlying table changes, view returns updated result\n",
                "\n",
                "## CREATE A VIEW"
            ],
            "metadata": {
                "azdata_cell_guid": "ccdb17cd-3a1a-4692-971e-87aa63738c86"
            },
            "attachments": {}
        },
        {
            "cell_type": "code",
            "source": [
                "DROP VIEW IF EXISTS BOOKS_SUMMARY\r\n",
                "GO\r\n",
                "\r\n",
                "CREATE VIEW BOOKS_SUMMARY\r\n",
                "AS\r\n",
                "SELECT \r\n",
                "    TITLE,\r\n",
                "    AUTHOR,\r\n",
                "    PRICE,\r\n",
                "    COVER,\r\n",
                "    COUNT(RATING) VOTES,\r\n",
                "    ROUND(AVG(CAST(RATING AS FLOAT)),2) AS RATING\r\n",
                "FROM\r\n",
                "    BOOKS\r\n",
                "LEFT JOIN\r\n",
                "    REVIEWS\r\n",
                "ON\r\n",
                "    BOOKS.ID=BOOK_ID\r\n",
                "GROUP BY\r\n",
                "    TITLE,\r\n",
                "    AUTHOR,\r\n",
                "    PRICE,\r\n",
                "    COVER\r\n",
                ""
            ],
            "metadata": {
                "azdata_cell_guid": "a4b6e6c7-39c5-4bb3-8d85-a5327d6345a2",
                "language": "sql"
            },
            "outputs": [
                {
                    "output_type": "display_data",
                    "data": {
                        "text/html": "Commands completed successfully."
                    },
                    "metadata": {}
                },
                {
                    "output_type": "display_data",
                    "data": {
                        "text/html": "Commands completed successfully."
                    },
                    "metadata": {}
                },
                {
                    "output_type": "display_data",
                    "data": {
                        "text/html": "Total execution time: 00:00:00.014"
                    },
                    "metadata": {}
                }
            ],
            "execution_count": 18
        },
        {
            "cell_type": "markdown",
            "source": [
                "### SIDE NOTE ABOUT \"GO\"\n",
                "\n",
                "  \n",
                "\n",
                "- It is NOT  a SqlServer command\n",
                "    - Sql Server doesn't understand it\n",
                "- It is a directive for management toolks like\n",
                "    - SSMS\n",
                "    - Azure studio\n",
                "- It sends all the command before GO in one batch\n",
                "- remainging command following GO will be in the next batch\n",
                "\n",
                "  \n",
                "\n",
                "## Using View\n",
                "\n",
                "- We can use the view in the same way as we use table (or nested query)\n",
                "- We can\n",
                "    - select\n",
                "    - join\n",
                "    - filter\n",
                "    - order\n",
                "-"
            ],
            "metadata": {
                "azdata_cell_guid": "eb8ea18f-30db-498d-9ece-dffe731dd069"
            },
            "attachments": {}
        },
        {
            "cell_type": "code",
            "source": [
                "SELECT * FROM BOOKS_SUMMARY"
            ],
            "metadata": {
                "azdata_cell_guid": "0d5902ed-9e08-48b6-bc6c-e48cef88e5ae",
                "language": "sql"
            },
            "outputs": [
                {
                    "output_type": "display_data",
                    "data": {
                        "text/html": "Warning: Null value is eliminated by an aggregate or other SET operation."
                    },
                    "metadata": {}
                },
                {
                    "output_type": "display_data",
                    "data": {
                        "text/html": "(5 rows affected)"
                    },
                    "metadata": {}
                },
                {
                    "output_type": "display_data",
                    "data": {
                        "text/html": "Total execution time: 00:00:00.018"
                    },
                    "metadata": {}
                },
                {
                    "output_type": "execute_result",
                    "execution_count": 19,
                    "data": {
                        "application/vnd.dataresource+json": {
                            "schema": {
                                "fields": [
                                    {
                                        "name": "TITLE"
                                    },
                                    {
                                        "name": "AUTHOR"
                                    },
                                    {
                                        "name": "PRICE"
                                    },
                                    {
                                        "name": "COVER"
                                    },
                                    {
                                        "name": "VOTES"
                                    },
                                    {
                                        "name": "RATING"
                                    }
                                ]
                            },
                            "data": [
                                {
                                    "TITLE": "Manas",
                                    "AUTHOR": "Ramdhari Singh Dinkar",
                                    "PRICE": "100.00",
                                    "COVER": "manas-2.png",
                                    "VOTES": "0",
                                    "RATING": "NULL"
                                },
                                {
                                    "TITLE": "Manas",
                                    "AUTHOR": "Vivek Dutta Mishra",
                                    "PRICE": "199.00",
                                    "COVER": "manas.png",
                                    "VOTES": "4",
                                    "RATING": "4.5"
                                },
                                {
                                    "TITLE": "Summons",
                                    "AUTHOR": "John Grishma",
                                    "PRICE": "400.00",
                                    "COVER": "summons.png",
                                    "VOTES": "0",
                                    "RATING": "NULL"
                                },
                                {
                                    "TITLE": "The Accursed God",
                                    "AUTHOR": "Vivek Dutta Mishra",
                                    "PRICE": "299.00",
                                    "COVER": "tag.png",
                                    "VOTES": "5",
                                    "RATING": "4.6"
                                },
                                {
                                    "TITLE": "The Count of Monte Cristo",
                                    "AUTHOR": "Alexandre Dumas",
                                    "PRICE": "499.00",
                                    "COVER": "cristo.png",
                                    "VOTES": "3",
                                    "RATING": "4.33"
                                }
                            ]
                        },
                        "text/html": "<table><tr><th>TITLE</th><th>AUTHOR</th><th>PRICE</th><th>COVER</th><th>VOTES</th><th>RATING</th></tr><tr><td>Manas</td><td>Ramdhari Singh Dinkar</td><td>100.00</td><td>manas-2.png</td><td>0</td><td>NULL</td></tr><tr><td>Manas</td><td>Vivek Dutta Mishra</td><td>199.00</td><td>manas.png</td><td>4</td><td>4.5</td></tr><tr><td>Summons</td><td>John Grishma</td><td>400.00</td><td>summons.png</td><td>0</td><td>NULL</td></tr><tr><td>The Accursed God</td><td>Vivek Dutta Mishra</td><td>299.00</td><td>tag.png</td><td>5</td><td>4.6</td></tr><tr><td>The Count of Monte Cristo</td><td>Alexandre Dumas</td><td>499.00</td><td>cristo.png</td><td>3</td><td>4.33</td></tr></table>"
                    },
                    "metadata": {}
                }
            ],
            "execution_count": 19
        },
        {
            "cell_type": "code",
            "source": [
                "SELECT \r\n",
                "    TITLE,\r\n",
                "    AUTHOR,\r\n",
                "    PRICE,\r\n",
                "    VOTES,\r\n",
                "    RATING\r\n",
                "FROM\r\n",
                "    BOOKS_SUMMARY\r\n",
                "WHERE\r\n",
                "    VOTES>0\r\n",
                "ORDER BY\r\n",
                "    RATING DESC"
            ],
            "metadata": {
                "azdata_cell_guid": "81d42d8b-3699-4850-8b14-d177e5c7fe08",
                "language": "sql"
            },
            "outputs": [
                {
                    "output_type": "display_data",
                    "data": {
                        "text/html": "Warning: Null value is eliminated by an aggregate or other SET operation."
                    },
                    "metadata": {}
                },
                {
                    "output_type": "display_data",
                    "data": {
                        "text/html": "(3 rows affected)"
                    },
                    "metadata": {}
                },
                {
                    "output_type": "display_data",
                    "data": {
                        "text/html": "Total execution time: 00:00:00.011"
                    },
                    "metadata": {}
                },
                {
                    "output_type": "execute_result",
                    "execution_count": 21,
                    "data": {
                        "application/vnd.dataresource+json": {
                            "schema": {
                                "fields": [
                                    {
                                        "name": "TITLE"
                                    },
                                    {
                                        "name": "AUTHOR"
                                    },
                                    {
                                        "name": "PRICE"
                                    },
                                    {
                                        "name": "VOTES"
                                    },
                                    {
                                        "name": "RATING"
                                    }
                                ]
                            },
                            "data": [
                                {
                                    "TITLE": "The Accursed God",
                                    "AUTHOR": "Vivek Dutta Mishra",
                                    "PRICE": "299.00",
                                    "VOTES": "5",
                                    "RATING": "4.6"
                                },
                                {
                                    "TITLE": "Manas",
                                    "AUTHOR": "Vivek Dutta Mishra",
                                    "PRICE": "199.00",
                                    "VOTES": "4",
                                    "RATING": "4.5"
                                },
                                {
                                    "TITLE": "The Count of Monte Cristo",
                                    "AUTHOR": "Alexandre Dumas",
                                    "PRICE": "499.00",
                                    "VOTES": "3",
                                    "RATING": "4.33"
                                }
                            ]
                        },
                        "text/html": "<table><tr><th>TITLE</th><th>AUTHOR</th><th>PRICE</th><th>VOTES</th><th>RATING</th></tr><tr><td>The Accursed God</td><td>Vivek Dutta Mishra</td><td>299.00</td><td>5</td><td>4.6</td></tr><tr><td>Manas</td><td>Vivek Dutta Mishra</td><td>199.00</td><td>4</td><td>4.5</td></tr><tr><td>The Count of Monte Cristo</td><td>Alexandre Dumas</td><td>499.00</td><td>3</td><td>4.33</td></tr></table>"
                    },
                    "metadata": {}
                }
            ],
            "execution_count": 21
        },
        {
            "cell_type": "markdown",
            "source": [
                "### View is alsways updated if underlying details changes"
            ],
            "metadata": {
                "azdata_cell_guid": "c018027a-cdcb-46c1-8f6b-55f908ced92b"
            },
            "attachments": {}
        },
        {
            "cell_type": "code",
            "source": [
                "INSERT INTO BOOKS(TITLE, AUTHOR, PRICE, COVER)\r\n",
                "    VALUES('Rashmirathi','Ramdhari Singh Dinkar',99, 'rashmirathi.png');\r\n",
                "\r\n",
                "DECLARE @ID INT -- CREATE A LOCAL VARIABLE ID\r\n",
                "\r\n",
                "SELECT  @ID=MAX(ID) FROM BOOKS -- ASSING THE HIGHEST ID IN BOOKS TO ID VARIABLE\r\n",
                "\r\n",
                "INSERT INTO REVIEWS(BOOK_ID, REVIEWER, RATING)\r\n",
                "            VALUES \r\n",
                "                    (@ID, 'Vivek', 5),\r\n",
                "                    (@ID, 'Sanjay',4),\r\n",
                "                    (@ID, 'Shivanshi',4);\r\n",
                ""
            ],
            "metadata": {
                "azdata_cell_guid": "11579708-3bf2-4077-915c-dba74dd98f99",
                "language": "sql"
            },
            "outputs": [
                {
                    "output_type": "display_data",
                    "data": {
                        "text/html": "(1 row affected)"
                    },
                    "metadata": {}
                },
                {
                    "output_type": "display_data",
                    "data": {
                        "text/html": "(3 rows affected)"
                    },
                    "metadata": {}
                },
                {
                    "output_type": "display_data",
                    "data": {
                        "text/html": "Total execution time: 00:00:00.020"
                    },
                    "metadata": {}
                }
            ],
            "execution_count": 22
        },
        {
            "cell_type": "markdown",
            "source": [
                "### Now our View will include the latest data"
            ],
            "metadata": {
                "azdata_cell_guid": "b34090d7-cd85-4361-ace8-a3ff4d9a043d"
            },
            "attachments": {}
        },
        {
            "cell_type": "code",
            "source": [
                "SELECT  TITLE, RATING, VOTES FROM BOOKS_SUMMARY WHERE VOTES>0"
            ],
            "metadata": {
                "azdata_cell_guid": "abc7ffe0-a6a9-4a72-9185-13901098138b",
                "language": "sql"
            },
            "outputs": [
                {
                    "output_type": "display_data",
                    "data": {
                        "text/html": "Warning: Null value is eliminated by an aggregate or other SET operation."
                    },
                    "metadata": {}
                },
                {
                    "output_type": "display_data",
                    "data": {
                        "text/html": "(4 rows affected)"
                    },
                    "metadata": {}
                },
                {
                    "output_type": "display_data",
                    "data": {
                        "text/html": "Total execution time: 00:00:00.010"
                    },
                    "metadata": {}
                },
                {
                    "output_type": "execute_result",
                    "execution_count": 25,
                    "data": {
                        "application/vnd.dataresource+json": {
                            "schema": {
                                "fields": [
                                    {
                                        "name": "TITLE"
                                    },
                                    {
                                        "name": "RATING"
                                    },
                                    {
                                        "name": "VOTES"
                                    }
                                ]
                            },
                            "data": [
                                {
                                    "TITLE": "Manas",
                                    "RATING": "4.5",
                                    "VOTES": "4"
                                },
                                {
                                    "TITLE": "Rashmirathi",
                                    "RATING": "4.33",
                                    "VOTES": "3"
                                },
                                {
                                    "TITLE": "The Accursed God",
                                    "RATING": "4.6",
                                    "VOTES": "5"
                                },
                                {
                                    "TITLE": "The Count of Monte Cristo",
                                    "RATING": "4.33",
                                    "VOTES": "3"
                                }
                            ]
                        },
                        "text/html": "<table><tr><th>TITLE</th><th>RATING</th><th>VOTES</th></tr><tr><td>Manas</td><td>4.5</td><td>4</td></tr><tr><td>Rashmirathi</td><td>4.33</td><td>3</td></tr><tr><td>The Accursed God</td><td>4.6</td><td>5</td></tr><tr><td>The Count of Monte Cristo</td><td>4.33</td><td>3</td></tr></table>"
                    },
                    "metadata": {}
                }
            ],
            "execution_count": 25
        },
        {
            "cell_type": "code",
            "source": [
                "SELECT\r\n",
                "    VOTES,\r\n",
                "    COUNT(*) AS BOOKS\r\n",
                "FROM\r\n",
                "    BOOKS_SUMMARY\r\n",
                "GROUP BY\r\n",
                "    VOTES\r\n",
                ""
            ],
            "metadata": {
                "azdata_cell_guid": "eebe5602-e3f7-4d5b-b102-916916746e03",
                "language": "sql"
            },
            "outputs": [
                {
                    "output_type": "display_data",
                    "data": {
                        "text/html": "Warning: Null value is eliminated by an aggregate or other SET operation."
                    },
                    "metadata": {}
                },
                {
                    "output_type": "display_data",
                    "data": {
                        "text/html": "(4 rows affected)"
                    },
                    "metadata": {}
                },
                {
                    "output_type": "display_data",
                    "data": {
                        "text/html": "Total execution time: 00:00:00.009"
                    },
                    "metadata": {}
                },
                {
                    "output_type": "execute_result",
                    "execution_count": 26,
                    "data": {
                        "application/vnd.dataresource+json": {
                            "schema": {
                                "fields": [
                                    {
                                        "name": "VOTES"
                                    },
                                    {
                                        "name": "BOOKS"
                                    }
                                ]
                            },
                            "data": [
                                {
                                    "VOTES": "0",
                                    "BOOKS": "2"
                                },
                                {
                                    "VOTES": "3",
                                    "BOOKS": "2"
                                },
                                {
                                    "VOTES": "4",
                                    "BOOKS": "1"
                                },
                                {
                                    "VOTES": "5",
                                    "BOOKS": "1"
                                }
                            ]
                        },
                        "text/html": "<table><tr><th>VOTES</th><th>BOOKS</th></tr><tr><td>0</td><td>2</td></tr><tr><td>3</td><td>2</td></tr><tr><td>4</td><td>1</td></tr><tr><td>5</td><td>1</td></tr></table>"
                    },
                    "metadata": {}
                }
            ],
            "execution_count": 26
        },
        {
            "cell_type": "markdown",
            "source": [
                "## ALTER VIEWS\n",
                "\n",
                "- Alter view can allow us to change the view query\n",
                "- We need to specify the entire View query\n",
                "- It would be almost similar to dropping view and re-creating"
            ],
            "metadata": {
                "azdata_cell_guid": "abbd90ad-f7bd-46a4-bcf2-8200df1ed1ed",
                "language": ""
            },
            "attachments": {}
        },
        {
            "cell_type": "code",
            "source": [
                "ALTER VIEW BOOKS_SUMMARY\r\n",
                "AS\r\n",
                "SELECT \r\n",
                "    TITLE,\r\n",
                "    AUTHOR AS AUTHOR_NAME,\r\n",
                "    PRICE,\r\n",
                "    COVER,\r\n",
                "    COUNT(RATING) VOTES,\r\n",
                "    ROUND(AVG(CAST(RATING AS FLOAT)),2) AS RATING\r\n",
                "FROM\r\n",
                "    BOOKS\r\n",
                "LEFT JOIN\r\n",
                "    REVIEWS\r\n",
                "ON\r\n",
                "    BOOKS.ID=BOOK_ID\r\n",
                "GROUP BY\r\n",
                "    TITLE,\r\n",
                "    AUTHOR,\r\n",
                "    PRICE,\r\n",
                "    COVER\r\n",
                ""
            ],
            "metadata": {
                "azdata_cell_guid": "234fa933-1f90-49dc-89d4-f8f8143ee8c3",
                "language": "sql"
            },
            "outputs": [
                {
                    "output_type": "display_data",
                    "data": {
                        "text/html": "Commands completed successfully."
                    },
                    "metadata": {}
                },
                {
                    "output_type": "display_data",
                    "data": {
                        "text/html": "Total execution time: 00:00:00.010"
                    },
                    "metadata": {}
                }
            ],
            "execution_count": 27
        },
        {
            "cell_type": "code",
            "source": [
                "SELECT DISTINCT(AUTHOR_NAME) FROM BOOKS_SUMMARY"
            ],
            "metadata": {
                "azdata_cell_guid": "13194e5a-bea1-4fd9-9e05-4ebc12abe05e",
                "language": "sql"
            },
            "outputs": [
                {
                    "output_type": "display_data",
                    "data": {
                        "text/html": "(4 rows affected)"
                    },
                    "metadata": {}
                },
                {
                    "output_type": "display_data",
                    "data": {
                        "text/html": "Total execution time: 00:00:00.009"
                    },
                    "metadata": {}
                },
                {
                    "output_type": "execute_result",
                    "execution_count": 28,
                    "data": {
                        "application/vnd.dataresource+json": {
                            "schema": {
                                "fields": [
                                    {
                                        "name": "AUTHOR_NAME"
                                    }
                                ]
                            },
                            "data": [
                                {
                                    "AUTHOR_NAME": "Alexandre Dumas"
                                },
                                {
                                    "AUTHOR_NAME": "John Grishma"
                                },
                                {
                                    "AUTHOR_NAME": "Ramdhari Singh Dinkar"
                                },
                                {
                                    "AUTHOR_NAME": "Vivek Dutta Mishra"
                                }
                            ]
                        },
                        "text/html": "<table><tr><th>AUTHOR_NAME</th></tr><tr><td>Alexandre Dumas</td></tr><tr><td>John Grishma</td></tr><tr><td>Ramdhari Singh Dinkar</td></tr><tr><td>Vivek Dutta Mishra</td></tr></table>"
                    },
                    "metadata": {}
                }
            ],
            "execution_count": 28
        },
        {
            "cell_type": "markdown",
            "source": [
                "### CREATE A AUTHORS VIEW\n",
                "\n",
                "IT SHOULD INCLUDE\n",
                "\n",
                "- AUTHOR NAME\n",
                "- BOOKS WRITTEN\n",
                "- RATING\n",
                "- AVG BOOK PRICE"
            ],
            "metadata": {
                "azdata_cell_guid": "c99f55c4-f1fd-473f-8447-ca5ce8e79138"
            },
            "attachments": {}
        },
        {
            "cell_type": "code",
            "source": [
                "CREATE VIEW AUTHORS_VIEW\r\n",
                "AS\r\n",
                "SELECT\r\n",
                "    AUTHOR AS NAME,\r\n",
                "    COUNT(TITLE) AS BOOKS_WRITTEN,\r\n",
                "    COUNT(RATING) AS VOTES,\r\n",
                "    FORMAT(AVG(CAST(RATING AS FLOAT)),'N2') AS RATING,\r\n",
                "    FORMAT(AVG(CAST(PRICE AS FLOAT)),'N2') AS AVG_PRICE\r\n",
                "FROM\r\n",
                "    BOOKS\r\n",
                "LEFT JOIN\r\n",
                "    REVIEWS\r\n",
                "ON\r\n",
                "    BOOKS.ID=BOOK_ID\r\n",
                "GROUP BY\r\n",
                "    AUTHOR"
            ],
            "metadata": {
                "azdata_cell_guid": "17a7763f-5793-4639-86a0-fb1707d0a110",
                "language": "sql"
            },
            "outputs": [
                {
                    "output_type": "display_data",
                    "data": {
                        "text/html": "Commands completed successfully."
                    },
                    "metadata": {}
                },
                {
                    "output_type": "display_data",
                    "data": {
                        "text/html": "Total execution time: 00:00:00.022"
                    },
                    "metadata": {}
                }
            ],
            "execution_count": 2
        },
        {
            "cell_type": "code",
            "source": [
                "SELECT * FROM AUTHORS_VIEW"
            ],
            "metadata": {
                "azdata_cell_guid": "b4fbd174-d382-48e4-a53c-5dd30d4c043a",
                "language": "sql"
            },
            "outputs": [
                {
                    "output_type": "display_data",
                    "data": {
                        "text/html": "Warning: Null value is eliminated by an aggregate or other SET operation."
                    },
                    "metadata": {}
                },
                {
                    "output_type": "display_data",
                    "data": {
                        "text/html": "(4 rows affected)"
                    },
                    "metadata": {}
                },
                {
                    "output_type": "display_data",
                    "data": {
                        "text/html": "Total execution time: 00:00:00.026"
                    },
                    "metadata": {}
                },
                {
                    "output_type": "execute_result",
                    "metadata": {},
                    "execution_count": 3,
                    "data": {
                        "application/vnd.dataresource+json": {
                            "schema": {
                                "fields": [
                                    {
                                        "name": "NAME"
                                    },
                                    {
                                        "name": "BOOKS_WRITTEN"
                                    },
                                    {
                                        "name": "VOTES"
                                    },
                                    {
                                        "name": "RATING"
                                    },
                                    {
                                        "name": "AVG_PRICE"
                                    }
                                ]
                            },
                            "data": [
                                {
                                    "NAME": "Alexandre Dumas",
                                    "BOOKS_WRITTEN": "3",
                                    "VOTES": "3",
                                    "RATING": "4.33",
                                    "AVG_PRICE": "499.00"
                                },
                                {
                                    "NAME": "John Grishma",
                                    "BOOKS_WRITTEN": "1",
                                    "VOTES": "0",
                                    "RATING": "NULL",
                                    "AVG_PRICE": "400.00"
                                },
                                {
                                    "NAME": "Ramdhari Singh Dinkar",
                                    "BOOKS_WRITTEN": "4",
                                    "VOTES": "3",
                                    "RATING": "4.33",
                                    "AVG_PRICE": "99.25"
                                },
                                {
                                    "NAME": "Vivek Dutta Mishra",
                                    "BOOKS_WRITTEN": "9",
                                    "VOTES": "9",
                                    "RATING": "4.56",
                                    "AVG_PRICE": "254.56"
                                }
                            ]
                        },
                        "text/html": [
                            "<table>",
                            "<tr><th>NAME</th><th>BOOKS_WRITTEN</th><th>VOTES</th><th>RATING</th><th>AVG_PRICE</th></tr>",
                            "<tr><td>Alexandre Dumas</td><td>3</td><td>3</td><td>4.33</td><td>499.00</td></tr>",
                            "<tr><td>John Grishma</td><td>1</td><td>0</td><td>NULL</td><td>400.00</td></tr>",
                            "<tr><td>Ramdhari Singh Dinkar</td><td>4</td><td>3</td><td>4.33</td><td>99.25</td></tr>",
                            "<tr><td>Vivek Dutta Mishra</td><td>9</td><td>9</td><td>4.56</td><td>254.56</td></tr>",
                            "</table>"
                        ]
                    }
                }
            ],
            "execution_count": 3
        },
        {
            "cell_type": "markdown",
            "source": [
                "## CREATE REVIEWER VIEW TO INCLUDE\n",
                "\n",
                "- REVIEWER NAME\n",
                "- TOTAL REVIEWS GIVEN\n",
                "- AVERAGE RATING"
            ],
            "metadata": {
                "azdata_cell_guid": "550e3f3b-5cc2-453c-a4ea-e41da8b2e182"
            },
            "attachments": {}
        },
        {
            "cell_type": "markdown",
            "source": [
                "# STORED PROCEDURE\n",
                "\n",
                "- STORED PROCEDURES ARE LIKE FUNCTIONS IN PROGRAMMING LANGUAGES\n",
                "- AS THE NAME SUGGESTS, THEY ARE STORED INSIDE DATABASE AND CAN BE REUSED.\n",
                "- THEY CAN EXECUTE SOME TASK\n",
                "- UNLIKE VIEW, A STORED PROCEDURE CAN PERFORM ENTIRE SET OF CRUD OPERATIONS\n",
                "- IT IS NOT VIEWED AS A TABLE (UNLIKE VIEW)\n",
                "- IT CAN'T BE USED DIRECTLY INSIDE A SQL QUERY\n",
                "- IT NEEDS TO BE EXECUTED USING EXEC COMMAND\n",
                "\n",
                "### LET'S CREATE A SIMPLE STORED PROCEDURE TO RETURN A REVIEWER SUMMARY"
            ],
            "metadata": {
                "azdata_cell_guid": "1bd54d95-f8fa-4a10-bf7a-fca12c68ae0a"
            },
            "attachments": {}
        },
        {
            "cell_type": "code",
            "source": [
                "CREATE PROCEDURE SP_REVIEWERS\r\n",
                "AS\r\n",
                "BEGIN\r\n",
                "SELECT\r\n",
                "    REVIEWER AS NAME,\r\n",
                "    COUNT(RATING) AS BOOKS_REVIEWED,\r\n",
                "    ROUND(AVG(CAST(RATING AS FLOAT)),2) AS RATING\r\n",
                "FROM\r\n",
                "    BOOKS\r\n",
                "JOIN\r\n",
                "    REVIEWS\r\n",
                "ON\r\n",
                "    BOOKS.ID=BOOK_ID\r\n",
                "GROUP BY\r\n",
                "    REVIEWER\r\n",
                "\r\n",
                "END"
            ],
            "metadata": {
                "azdata_cell_guid": "6dcded3f-f5d4-42df-bbbc-237d6342072b",
                "language": "sql"
            },
            "outputs": [
                {
                    "output_type": "display_data",
                    "data": {
                        "text/html": "Commands completed successfully."
                    },
                    "metadata": {}
                },
                {
                    "output_type": "display_data",
                    "data": {
                        "text/html": "Total execution time: 00:00:00.015"
                    },
                    "metadata": {}
                }
            ],
            "execution_count": 4
        },
        {
            "cell_type": "markdown",
            "source": [
                "INVOKING STORED PROCEDURE\n",
                "\n",
                "- It is different from regular query"
            ],
            "metadata": {
                "azdata_cell_guid": "4da2213a-fbac-4b46-b3fb-2238c18ec5b5"
            },
            "attachments": {}
        },
        {
            "cell_type": "code",
            "source": [
                "EXEC SP_REVIEWERS"
            ],
            "metadata": {
                "azdata_cell_guid": "64f4ab22-2fbc-4dc9-ad41-7fbe06b103d3",
                "language": "sql"
            },
            "outputs": [
                {
                    "output_type": "display_data",
                    "data": {
                        "text/html": "(7 rows affected)"
                    },
                    "metadata": {}
                },
                {
                    "output_type": "display_data",
                    "data": {
                        "text/html": "Total execution time: 00:00:00.018"
                    },
                    "metadata": {}
                },
                {
                    "output_type": "execute_result",
                    "metadata": {},
                    "execution_count": 5,
                    "data": {
                        "application/vnd.dataresource+json": {
                            "schema": {
                                "fields": [
                                    {
                                        "name": "NAME"
                                    },
                                    {
                                        "name": "BOOKS_REVIEWED"
                                    },
                                    {
                                        "name": "RATING"
                                    }
                                ]
                            },
                            "data": [
                                {
                                    "NAME": "Amit",
                                    "BOOKS_REVIEWED": "1",
                                    "RATING": "5"
                                },
                                {
                                    "NAME": "Prabhat",
                                    "BOOKS_REVIEWED": "2",
                                    "RATING": "5"
                                },
                                {
                                    "NAME": "Rajesh",
                                    "BOOKS_REVIEWED": "1",
                                    "RATING": "5"
                                },
                                {
                                    "NAME": "Reena",
                                    "BOOKS_REVIEWED": "2",
                                    "RATING": "4"
                                },
                                {
                                    "NAME": "Sanjay",
                                    "BOOKS_REVIEWED": "3",
                                    "RATING": "4.33"
                                },
                                {
                                    "NAME": "Shivanshi",
                                    "BOOKS_REVIEWED": "4",
                                    "RATING": "4"
                                },
                                {
                                    "NAME": "Vivek",
                                    "BOOKS_REVIEWED": "2",
                                    "RATING": "5"
                                }
                            ]
                        },
                        "text/html": [
                            "<table>",
                            "<tr><th>NAME</th><th>BOOKS_REVIEWED</th><th>RATING</th></tr>",
                            "<tr><td>Amit</td><td>1</td><td>5</td></tr>",
                            "<tr><td>Prabhat</td><td>2</td><td>5</td></tr>",
                            "<tr><td>Rajesh</td><td>1</td><td>5</td></tr>",
                            "<tr><td>Reena</td><td>2</td><td>4</td></tr>",
                            "<tr><td>Sanjay</td><td>3</td><td>4.33</td></tr>",
                            "<tr><td>Shivanshi</td><td>4</td><td>4</td></tr>",
                            "<tr><td>Vivek</td><td>2</td><td>5</td></tr>",
                            "</table>"
                        ]
                    }
                }
            ],
            "execution_count": 5
        },
        {
            "cell_type": "markdown",
            "source": [
                "## SP WITH PARAMETERS\n",
                "\n",
                "- SP Can take parameters\n",
                "\n",
                "  \n",
                "\n",
                "### SP TO FIND ALL BOOKS BY A GIVEN AUTHOR"
            ],
            "metadata": {
                "language": "sql",
                "azdata_cell_guid": "c5a15fee-46d3-423f-aafd-f419f25f1b28"
            },
            "attachments": {}
        },
        {
            "cell_type": "code",
            "source": [
                "CREATE PROCEDURE sp_books_by_author\r\n",
                "@author_name VARCHAR(100)\r\n",
                "\r\n",
                "AS\r\n",
                "BEGIN\r\n",
                "    SELECT\r\n",
                "        * \r\n",
                "    FROM \r\n",
                "        BOOKS\r\n",
                "    WHERE\r\n",
                "        AUTHOR=@author_name\r\n",
                "END"
            ],
            "metadata": {
                "language": "sql",
                "azdata_cell_guid": "6c32adb8-dc81-4974-8a1b-449b721ffde5",
                "tags": []
            },
            "outputs": [
                {
                    "output_type": "display_data",
                    "data": {
                        "text/html": "Commands completed successfully."
                    },
                    "metadata": {}
                },
                {
                    "output_type": "display_data",
                    "data": {
                        "text/html": "Total execution time: 00:00:00.016"
                    },
                    "metadata": {}
                }
            ],
            "execution_count": 6
        },
        {
            "cell_type": "markdown",
            "source": [
                "### Executing Stored Procedure and passing positional parameter"
            ],
            "metadata": {
                "azdata_cell_guid": "438e4762-9ff1-4c6b-9068-33f350a2d8ec"
            },
            "attachments": {}
        },
        {
            "cell_type": "code",
            "source": [
                "EXEC SP_BOOKS_BY_AUTHOR 'Vivek Dutta Mishra'"
            ],
            "metadata": {
                "azdata_cell_guid": "67dad623-0d86-45ad-b9e4-a4ddedbdf788",
                "language": "sql"
            },
            "outputs": [
                {
                    "output_type": "display_data",
                    "data": {
                        "text/html": "(2 rows affected)"
                    },
                    "metadata": {}
                },
                {
                    "output_type": "display_data",
                    "data": {
                        "text/html": "Total execution time: 00:00:00.019"
                    },
                    "metadata": {}
                },
                {
                    "output_type": "execute_result",
                    "metadata": {},
                    "execution_count": 7,
                    "data": {
                        "application/vnd.dataresource+json": {
                            "schema": {
                                "fields": [
                                    {
                                        "name": "TITLE"
                                    },
                                    {
                                        "name": "AUTHOR"
                                    },
                                    {
                                        "name": "PRICE"
                                    },
                                    {
                                        "name": "COVER"
                                    },
                                    {
                                        "name": "ID"
                                    }
                                ]
                            },
                            "data": [
                                {
                                    "TITLE": "Manas",
                                    "AUTHOR": "Vivek Dutta Mishra",
                                    "PRICE": "199.00",
                                    "COVER": "manas.png",
                                    "ID": "2"
                                },
                                {
                                    "TITLE": "The Accursed God",
                                    "AUTHOR": "Vivek Dutta Mishra",
                                    "PRICE": "299.00",
                                    "COVER": "tag.png",
                                    "ID": "5"
                                }
                            ]
                        },
                        "text/html": [
                            "<table>",
                            "<tr><th>TITLE</th><th>AUTHOR</th><th>PRICE</th><th>COVER</th><th>ID</th></tr>",
                            "<tr><td>Manas</td><td>Vivek Dutta Mishra</td><td>199.00</td><td>manas.png</td><td>2</td></tr>",
                            "<tr><td>The Accursed God</td><td>Vivek Dutta Mishra</td><td>299.00</td><td>tag.png</td><td>5</td></tr>",
                            "</table>"
                        ]
                    }
                }
            ],
            "execution_count": 7
        },
        {
            "cell_type": "markdown",
            "source": [
                "## Executing SP and passing named parameter\n",
                "\n",
                "- Useful for passing multiple parameters\n",
                "- we can pass in a order different from how it is specified."
            ],
            "metadata": {
                "language": "sql",
                "azdata_cell_guid": "b858fdeb-9920-4976-a89b-82f50b116009"
            },
            "attachments": {}
        },
        {
            "cell_type": "code",
            "source": [
                "EXEC SP_BOOKS_BY_AUTHOR @author_name='Alexandre Dumas'"
            ],
            "metadata": {
                "language": "sql",
                "azdata_cell_guid": "8147e599-99f1-449b-b80c-6cef77f36f7d"
            },
            "outputs": [
                {
                    "output_type": "display_data",
                    "data": {
                        "text/html": "(1 row affected)"
                    },
                    "metadata": {}
                },
                {
                    "output_type": "display_data",
                    "data": {
                        "text/html": "Total execution time: 00:00:00.007"
                    },
                    "metadata": {}
                },
                {
                    "output_type": "execute_result",
                    "metadata": {},
                    "execution_count": 9,
                    "data": {
                        "application/vnd.dataresource+json": {
                            "schema": {
                                "fields": [
                                    {
                                        "name": "TITLE"
                                    },
                                    {
                                        "name": "AUTHOR"
                                    },
                                    {
                                        "name": "PRICE"
                                    },
                                    {
                                        "name": "COVER"
                                    },
                                    {
                                        "name": "ID"
                                    }
                                ]
                            },
                            "data": [
                                {
                                    "TITLE": "The Count of Monte Cristo",
                                    "AUTHOR": "Alexandre Dumas",
                                    "PRICE": "499.00",
                                    "COVER": "cristo.png",
                                    "ID": "6"
                                }
                            ]
                        },
                        "text/html": [
                            "<table>",
                            "<tr><th>TITLE</th><th>AUTHOR</th><th>PRICE</th><th>COVER</th><th>ID</th></tr>",
                            "<tr><td>The Count of Monte Cristo</td><td>Alexandre Dumas</td><td>499.00</td><td>cristo.png</td><td>6</td></tr>",
                            "</table>"
                        ]
                    }
                }
            ],
            "execution_count": 9
        },
        {
            "cell_type": "markdown",
            "source": [
                "## SP CAN PERFORM FULL CRUD\n",
                "\n",
                "- Unlike Views SP can also insert/update/delete\n",
                "- They can also have conditional values\n",
                "\n",
                "### SP to insert a review\n",
                "\n",
                "- We want to insert the record and return the id of the inserted record."
            ],
            "metadata": {
                "language": "sql",
                "azdata_cell_guid": "b48f4db0-b550-4d40-9ce5-6bc6903160e0"
            },
            "attachments": {}
        },
        {
            "cell_type": "code",
            "source": [
                "CREATE PROCEDURE SP_ADD_REVIEW\r\n",
                "    @BOOK_ID INT, --ID OF THE BOOK\r\n",
                "    @REVIEWER VARCHAR(100),\r\n",
                "    @RATING INT \r\n",
                "AS\r\n",
                "BEGIN\r\n",
                "    INSERT INTO REVIEWS(BOOK_ID, REVIEWER, RATING)\r\n",
                "    VALUES(@BOOK_ID,@REVIEWER,@RATING)\r\n",
                "    return SCOPE_IDENTITY() --THE GENERATED ID FOR THE RECORD\r\n",
                "END"
            ],
            "metadata": {
                "language": "sql",
                "azdata_cell_guid": "b41d06af-e7b5-40c6-836b-f0efd30e3e81",
                "tags": []
            },
            "outputs": [
                {
                    "output_type": "display_data",
                    "data": {
                        "text/html": "Commands completed successfully."
                    },
                    "metadata": {}
                },
                {
                    "output_type": "display_data",
                    "data": {
                        "text/html": "Total execution time: 00:00:00.013"
                    },
                    "metadata": {}
                }
            ],
            "execution_count": 10
        },
        {
            "cell_type": "code",
            "source": [
                "EXEC SP_ADD_REVIEW @BOOK_ID=5, @REVIEWER='Ayaz Khan', @RATING=4"
            ],
            "metadata": {
                "language": "sql",
                "azdata_cell_guid": "5bc67c47-00e0-43cb-95da-54f1cada3256"
            },
            "outputs": [
                {
                    "output_type": "display_data",
                    "data": {
                        "text/html": "(1 row affected)"
                    },
                    "metadata": {}
                },
                {
                    "output_type": "display_data",
                    "data": {
                        "text/html": "Total execution time: 00:00:00.016"
                    },
                    "metadata": {}
                }
            ],
            "execution_count": 17
        },
        {
            "cell_type": "code",
            "source": [
                "EXEC SP_ADD_REVIEW 2, 'Ayaz Khan', 5"
            ],
            "metadata": {
                "language": "sql",
                "azdata_cell_guid": "a6ea28ec-94f4-4303-aa6b-fc2a804e842a"
            },
            "outputs": [
                {
                    "output_type": "display_data",
                    "data": {
                        "text/html": "(1 row affected)"
                    },
                    "metadata": {}
                },
                {
                    "output_type": "display_data",
                    "data": {
                        "text/html": "Total execution time: 00:00:00.017"
                    },
                    "metadata": {}
                }
            ],
            "execution_count": 19
        },
        {
            "cell_type": "markdown",
            "source": [
                "### SHOULD FAIL FOR INVALID BOOKS"
            ],
            "metadata": {
                "language": "sql",
                "azdata_cell_guid": "95ef2592-11a8-4b9c-bc77-dd2ba6d0a8aa"
            },
            "attachments": {}
        },
        {
            "cell_type": "code",
            "source": [
                "EXEC SP_ADD_REVIEW 10, 'Ayaz Khan', 5"
            ],
            "metadata": {
                "language": "sql",
                "azdata_cell_guid": "99ac437d-5e0c-4a14-8198-5e4305522422"
            },
            "outputs": [
                {
                    "output_type": "error",
                    "evalue": "Msg 547, Level 16, State 0, Procedure SP_ADD_REVIEW, Line 7\r\nThe INSERT statement conflicted with the FOREIGN KEY constraint \"FK__BOOK_ID__BOOKS__ID\". The conflict occurred in database \"books_db_g7cr_202407\", table \"dbo.BOOKS\", column 'ID'.",
                    "ename": "",
                    "traceback": []
                },
                {
                    "output_type": "display_data",
                    "data": {
                        "text/html": "The statement has been terminated."
                    },
                    "metadata": {}
                },
                {
                    "output_type": "display_data",
                    "data": {
                        "text/html": "The 'SP_ADD_REVIEW' procedure attempted to return a status of NULL, which is not allowed. A status of 0 will be returned instead."
                    },
                    "metadata": {}
                },
                {
                    "output_type": "display_data",
                    "data": {
                        "text/html": "Total execution time: 00:00:00.010"
                    },
                    "metadata": {}
                }
            ],
            "execution_count": 20
        },
        {
            "cell_type": "markdown",
            "source": [
                "HOW TO CAPTURE THE RETURN VALUE OF A SP"
            ],
            "metadata": {
                "language": "sql",
                "azdata_cell_guid": "6019305c-646c-43bc-8594-39365d9e0b7c"
            },
            "attachments": {}
        },
        {
            "cell_type": "code",
            "source": [
                "DECLARE @new_id INT;\r\n",
                "\r\n",
                "EXEC @new_id = SP_ADD_REVIEW @RATING=4, @BOOK_ID=2, @REVIEWER='Ayaz Khan'\r\n",
                "\r\n",
                "SELECT @new_id as new_id"
            ],
            "metadata": {
                "language": "sql",
                "azdata_cell_guid": "acb79ebb-8377-4570-9a0c-7f554b5c2144"
            },
            "outputs": [
                {
                    "output_type": "display_data",
                    "data": {
                        "text/html": "(1 row affected)"
                    },
                    "metadata": {}
                },
                {
                    "output_type": "display_data",
                    "data": {
                        "text/html": "(1 row affected)"
                    },
                    "metadata": {}
                },
                {
                    "output_type": "display_data",
                    "data": {
                        "text/html": "Total execution time: 00:00:00.005"
                    },
                    "metadata": {}
                },
                {
                    "output_type": "execute_result",
                    "metadata": {},
                    "execution_count": 22,
                    "data": {
                        "application/vnd.dataresource+json": {
                            "schema": {
                                "fields": [
                                    {
                                        "name": "new_id"
                                    }
                                ]
                            },
                            "data": [
                                {
                                    "new_id": "29"
                                }
                            ]
                        },
                        "text/html": [
                            "<table>",
                            "<tr><th>new_id</th></tr>",
                            "<tr><td>29</td></tr>",
                            "</table>"
                        ]
                    }
                }
            ],
            "execution_count": 22
        },
        {
            "cell_type": "code",
            "source": [
                "SELECT \r\n",
                "    TITLE,\r\n",
                "    REVIEWER,\r\n",
                "    RATING \r\n",
                "FROM \r\n",
                "    REVIEWS\r\n",
                "JOIN\r\n",
                "    BOOKS\r\n",
                "ON\r\n",
                "    BOOKS.ID=BOOK_ID\r\n",
                "WHERE\r\n",
                "    REVIEWS.ID=29\r\n",
                ""
            ],
            "metadata": {
                "language": "sql",
                "azdata_cell_guid": "c1f28115-6314-4182-8f43-1fbc674fb2fa"
            },
            "outputs": [
                {
                    "output_type": "display_data",
                    "data": {
                        "text/html": "(1 row affected)"
                    },
                    "metadata": {}
                },
                {
                    "output_type": "display_data",
                    "data": {
                        "text/html": "Total execution time: 00:00:00.005"
                    },
                    "metadata": {}
                },
                {
                    "output_type": "execute_result",
                    "metadata": {},
                    "execution_count": 23,
                    "data": {
                        "application/vnd.dataresource+json": {
                            "schema": {
                                "fields": [
                                    {
                                        "name": "TITLE"
                                    },
                                    {
                                        "name": "REVIEWER"
                                    },
                                    {
                                        "name": "RATING"
                                    }
                                ]
                            },
                            "data": [
                                {
                                    "TITLE": "Manas",
                                    "REVIEWER": "Ayaz Khan",
                                    "RATING": "4"
                                }
                            ]
                        },
                        "text/html": [
                            "<table>",
                            "<tr><th>TITLE</th><th>REVIEWER</th><th>RATING</th></tr>",
                            "<tr><td>Manas</td><td>Ayaz Khan</td><td>4</td></tr>",
                            "</table>"
                        ]
                    }
                }
            ],
            "execution_count": 23
        },
        {
            "cell_type": "code",
            "source": [
                "SELECT @new_id as new_id"
            ],
            "metadata": {
                "language": "sql",
                "azdata_cell_guid": "a9afe01a-976a-4742-a8fd-1b80ddaf6455"
            },
            "outputs": [
                {
                    "output_type": "error",
                    "evalue": "Msg 137, Level 15, State 2, Line 1\r\nMust declare the scalar variable \"@new_id\".",
                    "ename": "",
                    "traceback": []
                },
                {
                    "output_type": "display_data",
                    "data": {
                        "text/html": "Total execution time: 00:00:00"
                    },
                    "metadata": {}
                }
            ],
            "execution_count": 24
        },
        {
            "cell_type": "markdown",
            "source": [
                "## CREATE A SP TO ADD REVIEW BY PARTIAL BOOK TITLE\n",
                "\n",
                "- We will pass\n",
                "    - partial book title\n",
                "    - reviewer\n",
                "    - rating\n",
                "- SP should check if search matches a single book\n",
                "    - if yes\n",
                "        - insert the review for that record\n",
                "    - if no\n",
                "        - send a error message indicating the problem\n",
                "\n",
                "- return success or failure\n",
                "- also return the last id generated on success"
            ],
            "metadata": {
                "language": "sql",
                "azdata_cell_guid": "eeea836e-08b4-4ce5-b4d7-7e62bc4b4e5c"
            },
            "attachments": {}
        },
        {
            "cell_type": "code",
            "source": [
                "DROP PROCEDURE IF EXISTS SP_ADD_REVIEW_BY_TITLE;"
            ],
            "metadata": {
                "language": "sql",
                "azdata_cell_guid": "9043bc9f-ac9e-4700-a3a7-f4f45d78fa01"
            },
            "outputs": [
                {
                    "output_type": "display_data",
                    "data": {
                        "text/html": "Commands completed successfully."
                    },
                    "metadata": {}
                },
                {
                    "output_type": "display_data",
                    "data": {
                        "text/html": "Total execution time: 00:00:00.015"
                    },
                    "metadata": {}
                }
            ],
            "execution_count": 45
        },
        {
            "cell_type": "code",
            "source": [
                "CREATE PROCEDURE SP_ADD_REVIEW_BY_TITLE\r\n",
                "    @TITLE VARCHAR(100),\r\n",
                "    @REVIEWER VARCHAR(100),\r\n",
                "    @RATING INT\r\n",
                "    --@REVIEW_ID INT OUTPUT, --THIS WILL BE RETURNED BY SP\r\n",
                "    --@BOOK_ID_REVIEWED INT OUTPUT\r\n",
                "AS\r\n",
                "BEGIN\r\n",
                "    -- STEP 0. WE NEED TO STORE COUNT AND ID\r\n",
                "    DECLARE @COUNT INT;\r\n",
                "    DECLARE @BOOK_ID INT;\r\n",
                "\r\n",
                "    -- STEP 1. FIND HOW MANY BOOKS MATCHES THE TITLE\r\n",
                "    SELECT\r\n",
                "        @COUNT=COUNT(*), --TOTAL MATCHING BOOKS STORE IN COUNT\r\n",
                "        @BOOK_ID=MAX(ID)   --ID OF MATCHING BOOK. STORE IN BOOK_ID\r\n",
                "    FROM\r\n",
                "        BOOKS\r\n",
                "    WHERE\r\n",
                "        TITLE LIKE '%'+@TITLE+'%';\r\n",
                "\r\n",
                "\r\n",
                "    -- STEP 2. RAISE ERROR IF BOOK COUNT != 1\r\n",
                "    IF @COUNT=0\r\n",
                "    BEGIN\r\n",
                "        RAISERROR('No Matching Book',15,1)\r\n",
                "        RETURN 0;\r\n",
                "    END\r\n",
                "\r\n",
                "    IF @COUNT>1\r\n",
                "    BEGIN\r\n",
                "        RAISERROR('Multiple Matching Books',15,2)\r\n",
                "        RETURN 0;\r\n",
                "    END\r\n",
                "\r\n",
                "    -- STEP 3. INSERT RECORD IN CASE THERE IS ONLY ONE MATCHING BOOK\r\n",
                "    \r\n",
                "\r\n",
                "\r\n",
                "    DECLARE @REVIEW_ID INT;\r\n",
                "    EXEC @REVIEW_ID = SP_ADD_REVIEW @BOOK_ID, @REVIEWER, @RATING\r\n",
                "\r\n",
                "    RETURN @REVIEW_ID;\r\n",
                "\r\n",
                "    --@BOOK_ID_REVIEWED=@BOOK_ID;\r\n",
                "\r\n",
                "END\r\n",
                ""
            ],
            "metadata": {
                "language": "sql",
                "azdata_cell_guid": "6a210dd3-8ae0-4569-ba56-b024302ec743"
            },
            "outputs": [
                {
                    "output_type": "display_data",
                    "data": {
                        "text/html": "Commands completed successfully."
                    },
                    "metadata": {}
                },
                {
                    "output_type": "display_data",
                    "data": {
                        "text/html": "Total execution time: 00:00:00.048"
                    },
                    "metadata": {}
                }
            ],
            "execution_count": 46
        },
        {
            "cell_type": "code",
            "source": [
                "\r\n",
                "EXEC SP_ADD_REVIEW_BY_TITLE @TITLE='God', @REVIEWER='Santosh', @Rating=4"
            ],
            "metadata": {
                "azdata_cell_guid": "74775346-c30f-44e5-a403-c9ff4d3ddaf5",
                "language": "sql"
            },
            "outputs": [
                {
                    "output_type": "display_data",
                    "data": {
                        "text/html": "(1 row affected)"
                    },
                    "metadata": {}
                },
                {
                    "output_type": "display_data",
                    "data": {
                        "text/html": "Total execution time: 00:00:00.017"
                    },
                    "metadata": {}
                }
            ],
            "execution_count": 48
        },
        {
            "cell_type": "code",
            "source": [
                "EXEC SP_ADD_REVIEW_BY_TITLE 'Manas', 'Santosh', 3"
            ],
            "metadata": {
                "language": "sql",
                "azdata_cell_guid": "c7ebfe85-b97e-4440-b10d-b59103eb9b70"
            },
            "outputs": [
                {
                    "output_type": "error",
                    "evalue": "Msg 50000, Level 15, State 2, Procedure SP_ADD_REVIEW_BY_TITLE, Line 32\r\nMultiple Matching Books",
                    "ename": "",
                    "traceback": []
                },
                {
                    "output_type": "display_data",
                    "data": {
                        "text/html": "Total execution time: 00:00:00.009"
                    },
                    "metadata": {}
                }
            ],
            "execution_count": 49
        },
        {
            "cell_type": "code",
            "source": [
                "EXEC SP_ADD_REVIEW_BY_TITLE 'Summons', 'Santosh', 3"
            ],
            "metadata": {
                "language": "sql",
                "azdata_cell_guid": "5be4f092-11e5-4ee0-ac89-442c5b39b9c0"
            },
            "outputs": [
                {
                    "output_type": "display_data",
                    "data": {
                        "text/html": "(1 row affected)"
                    },
                    "metadata": {}
                },
                {
                    "output_type": "display_data",
                    "data": {
                        "text/html": "Total execution time: 00:00:00.012"
                    },
                    "metadata": {}
                }
            ],
            "execution_count": 50
        },
        {
            "cell_type": "code",
            "source": [
                "EXEC SP_ADD_REVIEW_BY_TITLE 'Summons2', 'Santosh', 3"
            ],
            "metadata": {
                "language": "sql",
                "azdata_cell_guid": "6c037175-192b-4762-a7ee-4016dd33221e"
            },
            "outputs": [
                {
                    "output_type": "error",
                    "evalue": "Msg 50000, Level 15, State 1, Procedure SP_ADD_REVIEW_BY_TITLE, Line 26\r\nNo Matching Book",
                    "ename": "",
                    "traceback": []
                },
                {
                    "output_type": "display_data",
                    "data": {
                        "text/html": "Total execution time: 00:00:00"
                    },
                    "metadata": {}
                }
            ],
            "execution_count": 51
        },
        {
            "cell_type": "code",
            "source": [
                "SELECT TITLE, REVIEWER, RATING FROM BOOKS,REVIEWS WHERE BOOKS.ID=BOOK_ID AND REVIEWER='Santosh'"
            ],
            "metadata": {
                "language": "sql",
                "azdata_cell_guid": "e3675e80-3942-4efb-b5ad-5767f25bb361"
            },
            "outputs": [
                {
                    "output_type": "display_data",
                    "data": {
                        "text/html": "(2 rows affected)"
                    },
                    "metadata": {}
                },
                {
                    "output_type": "display_data",
                    "data": {
                        "text/html": "Total execution time: 00:00:00.004"
                    },
                    "metadata": {}
                },
                {
                    "output_type": "execute_result",
                    "metadata": {},
                    "execution_count": 52,
                    "data": {
                        "application/vnd.dataresource+json": {
                            "schema": {
                                "fields": [
                                    {
                                        "name": "TITLE"
                                    },
                                    {
                                        "name": "REVIEWER"
                                    },
                                    {
                                        "name": "RATING"
                                    }
                                ]
                            },
                            "data": [
                                {
                                    "TITLE": "The Accursed God",
                                    "REVIEWER": "Santosh",
                                    "RATING": "4"
                                },
                                {
                                    "TITLE": "Summons",
                                    "REVIEWER": "Santosh",
                                    "RATING": "3"
                                }
                            ]
                        },
                        "text/html": [
                            "<table>",
                            "<tr><th>TITLE</th><th>REVIEWER</th><th>RATING</th></tr>",
                            "<tr><td>The Accursed God</td><td>Santosh</td><td>4</td></tr>",
                            "<tr><td>Summons</td><td>Santosh</td><td>3</td></tr>",
                            "</table>"
                        ]
                    }
                }
            ],
            "execution_count": 52
        },
        {
            "cell_type": "markdown",
            "source": [
                "# Functions\n",
                "\n",
                "- SQL SERVER ALSO ALLOWS US TO CREATE FUNCTIONS THAT ARE STORED IN DATABASE SERVER\n",
                "- UNLIKE SP\n",
                "    - FUNCTIONS CAN ONLY USE SELECT CALLS\n",
                "    - IT CAN BE USED WITH SQL STATEMENTS.\n",
                "- EXAMPLE OF FUNCTIONS\n",
                "    - AVG()\n",
                "    - COUNT()\n",
                "    - ROUND()\n",
                "\n",
                "## INT AVERAGE"
            ],
            "metadata": {
                "azdata_cell_guid": "69445a76-557b-43fb-9b84-e9943b2072f8"
            },
            "attachments": {}
        },
        {
            "cell_type": "code",
            "source": [
                "CREATE FUNCTION GetFloat(\r\n",
                "    @VALUE INT\r\n",
                ")\r\n",
                "RETURNS FLOAT\r\n",
                "AS\r\n",
                "BEGIN\r\n",
                "    return CAST(@VALUE AS FLOAT)\r\n",
                "END"
            ],
            "metadata": {
                "azdata_cell_guid": "6b134844-4558-466a-a40c-533a00b075bd",
                "language": "sql"
            },
            "outputs": [
                {
                    "output_type": "display_data",
                    "data": {
                        "text/html": "Commands completed successfully."
                    },
                    "metadata": {}
                },
                {
                    "output_type": "display_data",
                    "data": {
                        "text/html": "Total execution time: 00:00:00.011"
                    },
                    "metadata": {}
                }
            ],
            "execution_count": 59
        },
        {
            "cell_type": "code",
            "source": [
                ""
            ],
            "metadata": {
                "azdata_cell_guid": "786a9830-739a-468c-bf3a-a19d4a95d7fb",
                "language": "sql"
            },
            "outputs": [],
            "execution_count": null
        },
        {
            "cell_type": "code",
            "source": [
                "SELECT dbo.GetFloat(21)"
            ],
            "metadata": {
                "language": "sql",
                "azdata_cell_guid": "0b75f323-a6c1-4793-9fd5-86e9f8e63e4a"
            },
            "outputs": [
                {
                    "output_type": "display_data",
                    "data": {
                        "text/html": "(1 row affected)"
                    },
                    "metadata": {}
                },
                {
                    "output_type": "display_data",
                    "data": {
                        "text/html": "Total execution time: 00:00:00.013"
                    },
                    "metadata": {}
                },
                {
                    "output_type": "execute_result",
                    "metadata": {},
                    "execution_count": 61,
                    "data": {
                        "application/vnd.dataresource+json": {
                            "schema": {
                                "fields": [
                                    {
                                        "name": "(No column name)"
                                    }
                                ]
                            },
                            "data": [
                                {
                                    "(No column name)": "21"
                                }
                            ]
                        },
                        "text/html": [
                            "<table>",
                            "<tr><th>(No column name)</th></tr>",
                            "<tr><td>21</td></tr>",
                            "</table>"
                        ]
                    }
                }
            ],
            "execution_count": 61
        },
        {
            "cell_type": "code",
            "source": [
                "SELECT \r\n",
                "    AVG(RATING) R1,\r\n",
                "    AVG(DBO.GETFLOAT(RATING)) R2\r\n",
                "FROM\r\n",
                "    REVIEWS"
            ],
            "metadata": {
                "language": "sql",
                "azdata_cell_guid": "ecf7ac25-22b8-4f67-86e1-4418249f89a2"
            },
            "outputs": [
                {
                    "output_type": "display_data",
                    "data": {
                        "text/html": "(1 row affected)"
                    },
                    "metadata": {}
                },
                {
                    "output_type": "display_data",
                    "data": {
                        "text/html": "Total execution time: 00:00:00.002"
                    },
                    "metadata": {}
                },
                {
                    "output_type": "execute_result",
                    "metadata": {},
                    "execution_count": 64,
                    "data": {
                        "application/vnd.dataresource+json": {
                            "schema": {
                                "fields": [
                                    {
                                        "name": "R1"
                                    },
                                    {
                                        "name": "R2"
                                    }
                                ]
                            },
                            "data": [
                                {
                                    "R1": "4",
                                    "R2": "4.363636363636363"
                                }
                            ]
                        },
                        "text/html": [
                            "<table>",
                            "<tr><th>R1</th><th>R2</th></tr>",
                            "<tr><td>4</td><td>4.363636363636363</td></tr>",
                            "</table>"
                        ]
                    }
                }
            ],
            "execution_count": 64
        },
        {
            "cell_type": "code",
            "source": [
                "CREATE FUNCTION GetReviewsByReviewer(\r\n",
                "    @reviewer varchar(100)\r\n",
                ")\r\n",
                "RETURNS @result TABLE(\r\n",
                "    BOOK_ID INT,\r\n",
                "    REVIEW_ID INT,\r\n",
                "    TITLE VARCHAR(100),\r\n",
                "    REVIEWER VARCHAR(100),\r\n",
                "    RATING INT\r\n",
                "\r\n",
                ") -- creates a temp result table\r\n",
                "AS\r\n",
                "BEGIN\r\n",
                "    \r\n",
                "    INSERT INTO @result(BOOK_ID, REVIEW_ID, TITLE, REVIEWER, RATING)\r\n",
                "    -- INSERT FROM SELECT\r\n",
                "    SELECT \r\n",
                "        BOOKS.ID AS BOOK_ID,\r\n",
                "        REVIEWS.ID AS REVIEW_ID,\r\n",
                "        TITLE,\r\n",
                "        REVIEWER,\r\n",
                "        RATING\r\n",
                "    FROM \r\n",
                "        REVIEWS\r\n",
                "    JOIN\r\n",
                "        BOOKS\r\n",
                "    ON\r\n",
                "        BOOKS.ID=BOOK_ID\r\n",
                "    WHERE\r\n",
                "        REVIEWER=@REVIEWER;\r\n",
                "\r\n",
                "    return\r\n",
                "END"
            ],
            "metadata": {
                "language": "sql",
                "azdata_cell_guid": "31704580-3bd9-46b5-9ebb-ff203ac7130b"
            },
            "outputs": [
                {
                    "output_type": "display_data",
                    "data": {
                        "text/html": "Commands completed successfully."
                    },
                    "metadata": {}
                },
                {
                    "output_type": "display_data",
                    "data": {
                        "text/html": "Total execution time: 00:00:00.021"
                    },
                    "metadata": {}
                }
            ],
            "execution_count": 69
        },
        {
            "cell_type": "code",
            "source": [
                "SELECT\r\n",
                "    *\r\n",
                "FROM DBO.GetReviewsByReviewer('Sanjay')\r\n",
                "\r\n",
                "Where rating!=5;"
            ],
            "metadata": {
                "azdata_cell_guid": "417ab3aa-1e0c-4c64-9920-2d56b4acf077",
                "language": "sql"
            },
            "outputs": [
                {
                    "output_type": "display_data",
                    "data": {
                        "text/html": "(2 rows affected)"
                    },
                    "metadata": {}
                },
                {
                    "output_type": "display_data",
                    "data": {
                        "text/html": "Total execution time: 00:00:00.005"
                    },
                    "metadata": {}
                },
                {
                    "output_type": "execute_result",
                    "metadata": {},
                    "execution_count": 73,
                    "data": {
                        "application/vnd.dataresource+json": {
                            "schema": {
                                "fields": [
                                    {
                                        "name": "BOOK_ID"
                                    },
                                    {
                                        "name": "REVIEW_ID"
                                    },
                                    {
                                        "name": "TITLE"
                                    },
                                    {
                                        "name": "REVIEWER"
                                    },
                                    {
                                        "name": "RATING"
                                    }
                                ]
                            },
                            "data": [
                                {
                                    "BOOK_ID": "2",
                                    "REVIEW_ID": "7",
                                    "TITLE": "Manas",
                                    "REVIEWER": "Sanjay",
                                    "RATING": "4"
                                },
                                {
                                    "BOOK_ID": "8",
                                    "REVIEW_ID": "18",
                                    "TITLE": "Rashmirathi",
                                    "REVIEWER": "Sanjay",
                                    "RATING": "4"
                                }
                            ]
                        },
                        "text/html": [
                            "<table>",
                            "<tr><th>BOOK_ID</th><th>REVIEW_ID</th><th>TITLE</th><th>REVIEWER</th><th>RATING</th></tr>",
                            "<tr><td>2</td><td>7</td><td>Manas</td><td>Sanjay</td><td>4</td></tr>",
                            "<tr><td>8</td><td>18</td><td>Rashmirathi</td><td>Sanjay</td><td>4</td></tr>",
                            "</table>"
                        ]
                    }
                }
            ],
            "execution_count": 73
        }
    ]
}