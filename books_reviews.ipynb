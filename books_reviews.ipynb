{
    "metadata": {
        "kernelspec": {
            "name": "SQL",
            "display_name": "SQL",
            "language": "sql"
        },
        "language_info": {
            "name": "sql",
            "version": ""
        }
    },
    "nbformat_minor": 2,
    "nbformat": 4,
    "cells": [
        {
            "cell_type": "markdown",
            "source": [
                "## Requirement\n",
                "\n",
                "- A Book has the following information\n",
                "    - title\n",
                "    - author\n",
                "    - price\n",
                "    - <span style=\"color: var(--vscode-foreground);\">cover</span>\n",
                "    - reviews\n",
                "        - review1\n",
                "            - name\n",
                "            - rating\n",
                "        - review2\n",
                "            - name\n",
                "            - rating\n",
                "\n",
                "- But A Table cell (reviews) MUST BE atomic\n",
                "    - It can't (SHOUNDN'T) hold list/set etc\n",
                "\n",
                "# Normalization 1 (1NF)\n",
                "\n",
                "- All cells must be atomic \n",
                "    - information that can't be broken further\n",
                "    - single piece of information\n",
                "\n",
                "## Approach #1"
            ],
            "metadata": {
                "azdata_cell_guid": "196ead0a-1d6c-4fe6-9dcc-934b9b4fbc84"
            },
            "attachments": {}
        },
        {
            "cell_type": "code",
            "source": [
                "DROP TABLE IF EXISTS BOOKS;\r\n",
                "\r\n",
                "CREATE TABLE BOOKS(\r\n",
                "    TITLE VARCHAR(100) NOT NULL,\r\n",
                "    AUTHOR VARCHAR(100) NOT NULL,\r\n",
                "    PRICE DECIMAL(8,2) CHECK(PRICE>=0),\r\n",
                "    --RATING DECIMAL(5,2) CHECK(RATING>=1 AND RATING<=5),\r\n",
                "    COVER VARCHAR(512) DEFAULT('unknown.png'),\r\n",
                "    --RATING RELATED INFO\r\n",
                "    REVIEWER VARCHAR(100),\r\n",
                "    RATING INT CHECK(RATING>=1 AND RATING<=5)\r\n",
                ")"
            ],
            "metadata": {
                "azdata_cell_guid": "81094e96-7ef2-48f8-b61a-10fcac8ef071",
                "language": "sql"
            },
            "outputs": [],
            "execution_count": null
        },
        {
            "cell_type": "code",
            "source": [
                "INSERT \r\n",
                "    INTO BOOKS(TITLE,AUTHOR,PRICE,COVER,REVIWER,RATING,)\r\n",
                "    VALUES    \r\n",
                "    \r\n",
                "    ('The Accursed God','Vivek Dutta Mishra',299, 'tag.png','Sanjay',5),\r\n",
                "    ('The Accursed God','Vivek Dutta Mishra',299, 'tag.png','Shivanshi',3),\r\n",
                "    ('The Accursed God','Vivek Dutta Mishra',299, 'tag.png','Amit',5),\r\n",
                "    ('The Accursed God','Vivek Dutta Mishra',299, 'tag.png','Rajesh',5),\r\n",
                "    \r\n",
                "    ('Manas','Vivek Dutta Mishra',199, 'manas.png','Shivanshi',5),\r\n",
                "    ('Manas','Vivek Dutta Mishra',199, 'manas.png','Reena',4),\r\n",
                "    ('Manas','Vivek Dutta Mishra',199, 'manas.png','Sanjay',4),\r\n",
                "\r\n",
                "    ('Rashmirathi','Ramdhari Singh Dinkar',99, 'rashmirath.png','Shivanshi',4),\r\n",
                "    ('Rashmirathi','Ramdhari Singh Dinkar',99, 'rashmirath.png','Vivek',4),\r\n",
                "    ('Rashmirathi','Ramdhari Singh Dinkar',99, 'rashmirath.png','Reena',4),\r\n",
                "    ('Rashmirathi','Ramdhari Singh Dinkar',99, 'rashmirath.png','Amit',3),\r\n",
                "\r\n",
                "    ('The Count of Monte Cristo','Alexandre Dumas',499, 'cristo.png','Vivek',5),\r\n",
                "    ('The Count of Monte Cristo','Alexandre Dumas',499, 'cristo.png','Reena',4),\r\n",
                "    ('The Count of Monte Cristo','Alexandre Dumas',499, 'cristo.png','Shivanshi',4)\r\n",
                "    \r\n",
                "\r\n",
                "    ;"
            ],
            "metadata": {
                "language": "sql",
                "azdata_cell_guid": "66859daa-f261-4c0f-8189-c341b3e7e058"
            },
            "outputs": [],
            "execution_count": null
        }
    ]
}