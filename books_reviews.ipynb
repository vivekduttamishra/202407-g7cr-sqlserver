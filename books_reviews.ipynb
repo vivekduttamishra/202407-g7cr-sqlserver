{
    "metadata": {
        "kernelspec": {
            "name": "SQL",
            "display_name": "SQL",
            "language": "sql"
        },
        "language_info": {
            "name": "sql",
            "version": ""
        }
    },
    "nbformat_minor": 2,
    "nbformat": 4,
    "cells": [
        {
            "cell_type": "markdown",
            "source": [
                "## Requirement\n",
                "\n",
                "- A Book has the following information\n",
                "    - title\n",
                "    - author\n",
                "    - price\n",
                "    - <span style=\"color: var(--vscode-foreground);\">cover</span>\n",
                "    - reviews\n",
                "        - review1\n",
                "            - name\n",
                "            - rating\n",
                "        - review2\n",
                "            - name\n",
                "            - rating\n",
                "\n",
                "- But A Table cell (reviews) MUST BE atomic\n",
                "    - It can't (SHOUNDN'T) hold list/set etc\n",
                "\n",
                "# Normalization 1 (1NF)\n",
                "\n",
                "- All cells must be atomic \n",
                "    - information that can't be broken further\n",
                "    - single piece of information\n",
                "\n",
                "## Approach #1"
            ],
            "metadata": {
                "azdata_cell_guid": "196ead0a-1d6c-4fe6-9dcc-934b9b4fbc84"
            },
            "attachments": {}
        },
        {
            "cell_type": "code",
            "source": [
                "DROP TABLE IF EXISTS BOOKS;\r\n",
                "DROP TABLE IF EXISTS BOOKS_OLD;\r\n",
                "DROP TABLE IF EXISTS REVIEWS;\r\n",
                "DROP TABLE IF EXISTS REVIEWS_OLD;\r\n",
                "    "
            ],
            "metadata": {
                "azdata_cell_guid": "81094e96-7ef2-48f8-b61a-10fcac8ef071",
                "language": "sql"
            },
            "outputs": [
                {
                    "output_type": "display_data",
                    "data": {
                        "text/html": "Commands completed successfully."
                    },
                    "metadata": {}
                },
                {
                    "output_type": "display_data",
                    "data": {
                        "text/html": "Total execution time: 00:00:00.019"
                    },
                    "metadata": {}
                }
            ],
            "execution_count": 27
        },
        {
            "cell_type": "code",
            "source": [
                "CREATE TABLE BOOKS(\r\n",
                "    TITLE VARCHAR(100) NOT NULL,\r\n",
                "    AUTHOR VARCHAR(100) NOT NULL,\r\n",
                "    PRICE DECIMAL(8,2) CHECK(PRICE>=0),\r\n",
                "    --RATING DECIMAL(5,2) CHECK(RATING>=1 AND RATING<=5),\r\n",
                "    COVER VARCHAR(512) DEFAULT('unknown.png'),\r\n",
                "    --RATING RELATED INFO\r\n",
                "    REVIEWER VARCHAR(100),\r\n",
                "    RATING INT CHECK(RATING>=1 AND RATING<=5)\r\n",
                ")"
            ],
            "metadata": {
                "language": "sql",
                "azdata_cell_guid": "07021ebd-22cb-490e-bc93-c79290b921df"
            },
            "outputs": [
                {
                    "output_type": "display_data",
                    "data": {
                        "text/html": "Commands completed successfully."
                    },
                    "metadata": {}
                },
                {
                    "output_type": "display_data",
                    "data": {
                        "text/html": "Total execution time: 00:00:00.011"
                    },
                    "metadata": {}
                }
            ],
            "execution_count": 28
        },
        {
            "cell_type": "code",
            "source": [
                "INSERT \r\n",
                "    INTO BOOKS(TITLE,AUTHOR,PRICE,COVER,REVIEWER,RATING)\r\n",
                "    VALUES    \r\n",
                "    \r\n",
                "    ('The Accursed God','Vivek Dutta Mishra',299, 'tag.png','Sanjay',5),\r\n",
                "    ('The Accursed God','Vivek Dutta Mishra',299, 'tag.png','Shivanshi',3),\r\n",
                "    ('The Accursed God','Vivek Dutta Mishra',299, 'tag.png','Amit',5),\r\n",
                "    ('The Accursed God','Vivek Dutta Mishra',299, 'tag.png','Rajesh',5),\r\n",
                "    \r\n",
                "    ('Manas','Vivek Dutta Mishra',199, 'manas.png','Shivanshi',5),\r\n",
                "    ('Manas','Vivek Dutta Mishra',199, 'manas.png','Reena',4),\r\n",
                "    ('Manas','Vivek Dutta Mishra',199, 'manas.png','Sanjay',4),\r\n",
                "\r\n",
                "    ('Rashmirathi','Ramdhari Singh Dinkar',99, 'rashmirath.png','Shivanshi',4),\r\n",
                "    ('Rashmirathi','Ramdhari Singh Dinkar',99, 'rashmirath.png','Vivek',4),\r\n",
                "    ('Rashmirathi','Ramdhari Singh Dinkar',99, 'rashmirath.png','Reena',4),\r\n",
                "    ('Rashmirathi','Ramdhari Singh Dinkar',99, 'rashmirath.png','Amit',3),\r\n",
                "\r\n",
                "    ('The Count of Monte Cristo','Alexandre Dumas',499, 'cristo.png','Vivek',5),\r\n",
                "    ('The Count of Monte Cristo','Alexandre Dumas',499, 'cristo.png','Reena',4),\r\n",
                "    ('The Count of Monte Cristo','Alexandre Dumas',499, 'cristo.png','Shivanshi',4)\r\n",
                "    \r\n",
                "\r\n",
                "    ;"
            ],
            "metadata": {
                "language": "sql",
                "azdata_cell_guid": "66859daa-f261-4c0f-8189-c341b3e7e058"
            },
            "outputs": [
                {
                    "output_type": "display_data",
                    "data": {
                        "text/html": "(14 rows affected)"
                    },
                    "metadata": {}
                },
                {
                    "output_type": "display_data",
                    "data": {
                        "text/html": "Total execution time: 00:00:00.013"
                    },
                    "metadata": {}
                }
            ],
            "execution_count": 29
        },
        {
            "cell_type": "code",
            "source": [
                "SELECT * FROM BOOKS;"
            ],
            "metadata": {
                "azdata_cell_guid": "c5837ccb-5094-4eb3-a5c2-98e2e0cc4625",
                "language": "sql"
            },
            "outputs": [
                {
                    "output_type": "display_data",
                    "data": {
                        "text/html": "(14 rows affected)"
                    },
                    "metadata": {}
                },
                {
                    "output_type": "display_data",
                    "data": {
                        "text/html": "Total execution time: 00:00:00.011"
                    },
                    "metadata": {}
                },
                {
                    "output_type": "execute_result",
                    "execution_count": 30,
                    "data": {
                        "application/vnd.dataresource+json": {
                            "schema": {
                                "fields": [
                                    {
                                        "name": "TITLE"
                                    },
                                    {
                                        "name": "AUTHOR"
                                    },
                                    {
                                        "name": "PRICE"
                                    },
                                    {
                                        "name": "COVER"
                                    },
                                    {
                                        "name": "REVIEWER"
                                    },
                                    {
                                        "name": "RATING"
                                    }
                                ]
                            },
                            "data": [
                                {
                                    "TITLE": "The Accursed God",
                                    "AUTHOR": "Vivek Dutta Mishra",
                                    "PRICE": "299.00",
                                    "COVER": "tag.png",
                                    "REVIEWER": "Sanjay",
                                    "RATING": "5"
                                },
                                {
                                    "TITLE": "The Accursed God",
                                    "AUTHOR": "Vivek Dutta Mishra",
                                    "PRICE": "299.00",
                                    "COVER": "tag.png",
                                    "REVIEWER": "Shivanshi",
                                    "RATING": "3"
                                },
                                {
                                    "TITLE": "The Accursed God",
                                    "AUTHOR": "Vivek Dutta Mishra",
                                    "PRICE": "299.00",
                                    "COVER": "tag.png",
                                    "REVIEWER": "Amit",
                                    "RATING": "5"
                                },
                                {
                                    "TITLE": "The Accursed God",
                                    "AUTHOR": "Vivek Dutta Mishra",
                                    "PRICE": "299.00",
                                    "COVER": "tag.png",
                                    "REVIEWER": "Rajesh",
                                    "RATING": "5"
                                },
                                {
                                    "TITLE": "Manas",
                                    "AUTHOR": "Vivek Dutta Mishra",
                                    "PRICE": "199.00",
                                    "COVER": "manas.png",
                                    "REVIEWER": "Shivanshi",
                                    "RATING": "5"
                                },
                                {
                                    "TITLE": "Manas",
                                    "AUTHOR": "Vivek Dutta Mishra",
                                    "PRICE": "199.00",
                                    "COVER": "manas.png",
                                    "REVIEWER": "Reena",
                                    "RATING": "4"
                                },
                                {
                                    "TITLE": "Manas",
                                    "AUTHOR": "Vivek Dutta Mishra",
                                    "PRICE": "199.00",
                                    "COVER": "manas.png",
                                    "REVIEWER": "Sanjay",
                                    "RATING": "4"
                                },
                                {
                                    "TITLE": "Rashmirathi",
                                    "AUTHOR": "Ramdhari Singh Dinkar",
                                    "PRICE": "99.00",
                                    "COVER": "rashmirath.png",
                                    "REVIEWER": "Shivanshi",
                                    "RATING": "4"
                                },
                                {
                                    "TITLE": "Rashmirathi",
                                    "AUTHOR": "Ramdhari Singh Dinkar",
                                    "PRICE": "99.00",
                                    "COVER": "rashmirath.png",
                                    "REVIEWER": "Vivek",
                                    "RATING": "4"
                                },
                                {
                                    "TITLE": "Rashmirathi",
                                    "AUTHOR": "Ramdhari Singh Dinkar",
                                    "PRICE": "99.00",
                                    "COVER": "rashmirath.png",
                                    "REVIEWER": "Reena",
                                    "RATING": "4"
                                },
                                {
                                    "TITLE": "Rashmirathi",
                                    "AUTHOR": "Ramdhari Singh Dinkar",
                                    "PRICE": "99.00",
                                    "COVER": "rashmirath.png",
                                    "REVIEWER": "Amit",
                                    "RATING": "3"
                                },
                                {
                                    "TITLE": "The Count of Monte Cristo",
                                    "AUTHOR": "Alexandre Dumas",
                                    "PRICE": "499.00",
                                    "COVER": "cristo.png",
                                    "REVIEWER": "Vivek",
                                    "RATING": "5"
                                },
                                {
                                    "TITLE": "The Count of Monte Cristo",
                                    "AUTHOR": "Alexandre Dumas",
                                    "PRICE": "499.00",
                                    "COVER": "cristo.png",
                                    "REVIEWER": "Reena",
                                    "RATING": "4"
                                },
                                {
                                    "TITLE": "The Count of Monte Cristo",
                                    "AUTHOR": "Alexandre Dumas",
                                    "PRICE": "499.00",
                                    "COVER": "cristo.png",
                                    "REVIEWER": "Shivanshi",
                                    "RATING": "4"
                                }
                            ]
                        },
                        "text/html": "<table><tr><th>TITLE</th><th>AUTHOR</th><th>PRICE</th><th>COVER</th><th>REVIEWER</th><th>RATING</th></tr><tr><td>The Accursed God</td><td>Vivek Dutta Mishra</td><td>299.00</td><td>tag.png</td><td>Sanjay</td><td>5</td></tr><tr><td>The Accursed God</td><td>Vivek Dutta Mishra</td><td>299.00</td><td>tag.png</td><td>Shivanshi</td><td>3</td></tr><tr><td>The Accursed God</td><td>Vivek Dutta Mishra</td><td>299.00</td><td>tag.png</td><td>Amit</td><td>5</td></tr><tr><td>The Accursed God</td><td>Vivek Dutta Mishra</td><td>299.00</td><td>tag.png</td><td>Rajesh</td><td>5</td></tr><tr><td>Manas</td><td>Vivek Dutta Mishra</td><td>199.00</td><td>manas.png</td><td>Shivanshi</td><td>5</td></tr><tr><td>Manas</td><td>Vivek Dutta Mishra</td><td>199.00</td><td>manas.png</td><td>Reena</td><td>4</td></tr><tr><td>Manas</td><td>Vivek Dutta Mishra</td><td>199.00</td><td>manas.png</td><td>Sanjay</td><td>4</td></tr><tr><td>Rashmirathi</td><td>Ramdhari Singh Dinkar</td><td>99.00</td><td>rashmirath.png</td><td>Shivanshi</td><td>4</td></tr><tr><td>Rashmirathi</td><td>Ramdhari Singh Dinkar</td><td>99.00</td><td>rashmirath.png</td><td>Vivek</td><td>4</td></tr><tr><td>Rashmirathi</td><td>Ramdhari Singh Dinkar</td><td>99.00</td><td>rashmirath.png</td><td>Reena</td><td>4</td></tr><tr><td>Rashmirathi</td><td>Ramdhari Singh Dinkar</td><td>99.00</td><td>rashmirath.png</td><td>Amit</td><td>3</td></tr><tr><td>The Count of Monte Cristo</td><td>Alexandre Dumas</td><td>499.00</td><td>cristo.png</td><td>Vivek</td><td>5</td></tr><tr><td>The Count of Monte Cristo</td><td>Alexandre Dumas</td><td>499.00</td><td>cristo.png</td><td>Reena</td><td>4</td></tr><tr><td>The Count of Monte Cristo</td><td>Alexandre Dumas</td><td>499.00</td><td>cristo.png</td><td>Shivanshi</td><td>4</td></tr></table>"
                    },
                    "metadata": {}
                }
            ],
            "execution_count": 30
        },
        {
            "cell_type": "code",
            "source": [
                ""
            ],
            "metadata": {
                "azdata_cell_guid": "c504f227-0873-4677-b045-87fda12e7808",
                "language": "sql"
            },
            "outputs": [
                {
                    "output_type": "display_data",
                    "data": {
                        "text/html": "Commands completed successfully."
                    },
                    "metadata": {}
                },
                {
                    "output_type": "display_data",
                    "data": {
                        "text/html": "Total execution time: 00:00:00"
                    },
                    "metadata": {}
                }
            ],
            "execution_count": 31
        },
        {
            "cell_type": "markdown",
            "source": [
                "## Assement 2.1 Create a Summary for all books to include \n",
                "\n",
                "1. Title\n",
                "2. Author\n",
                "3. Price\n",
                "4. Rating\n",
                "5. Votes (number of reviews)"
            ],
            "metadata": {
                "azdata_cell_guid": "37b96c23-2963-4723-a9ac-37f6f10ff948"
            },
            "attachments": {}
        },
        {
            "cell_type": "code",
            "source": [
                "SELECT \r\n",
                "    TITLE,\r\n",
                "    AUTHOR,\r\n",
                "    AVG(PRICE) AS PRICE,\r\n",
                "    AVG(RATING) AS RATING,\r\n",
                "    COUNT(*) AS VOTES\r\n",
                "\r\n",
                "FROM\r\n",
                "    BOOKS\r\n",
                "\r\n",
                "GROUP BY \r\n",
                "    TITLE,\r\n",
                "    AUTHOR"
            ],
            "metadata": {
                "azdata_cell_guid": "35c226aa-8f02-443b-8c33-122114c451ce",
                "language": "sql"
            },
            "outputs": [
                {
                    "output_type": "display_data",
                    "data": {
                        "text/html": "(4 rows affected)"
                    },
                    "metadata": {}
                },
                {
                    "output_type": "display_data",
                    "data": {
                        "text/html": "Total execution time: 00:00:00.017"
                    },
                    "metadata": {}
                },
                {
                    "output_type": "execute_result",
                    "execution_count": 32,
                    "data": {
                        "application/vnd.dataresource+json": {
                            "schema": {
                                "fields": [
                                    {
                                        "name": "TITLE"
                                    },
                                    {
                                        "name": "AUTHOR"
                                    },
                                    {
                                        "name": "PRICE"
                                    },
                                    {
                                        "name": "RATING"
                                    },
                                    {
                                        "name": "VOTES"
                                    }
                                ]
                            },
                            "data": [
                                {
                                    "TITLE": "The Count of Monte Cristo",
                                    "AUTHOR": "Alexandre Dumas",
                                    "PRICE": "499.000000",
                                    "RATING": "4",
                                    "VOTES": "3"
                                },
                                {
                                    "TITLE": "Rashmirathi",
                                    "AUTHOR": "Ramdhari Singh Dinkar",
                                    "PRICE": "99.000000",
                                    "RATING": "3",
                                    "VOTES": "4"
                                },
                                {
                                    "TITLE": "Manas",
                                    "AUTHOR": "Vivek Dutta Mishra",
                                    "PRICE": "199.000000",
                                    "RATING": "4",
                                    "VOTES": "3"
                                },
                                {
                                    "TITLE": "The Accursed God",
                                    "AUTHOR": "Vivek Dutta Mishra",
                                    "PRICE": "299.000000",
                                    "RATING": "4",
                                    "VOTES": "4"
                                }
                            ]
                        },
                        "text/html": "<table><tr><th>TITLE</th><th>AUTHOR</th><th>PRICE</th><th>RATING</th><th>VOTES</th></tr><tr><td>The Count of Monte Cristo</td><td>Alexandre Dumas</td><td>499.000000</td><td>4</td><td>3</td></tr><tr><td>Rashmirathi</td><td>Ramdhari Singh Dinkar</td><td>99.000000</td><td>3</td><td>4</td></tr><tr><td>Manas</td><td>Vivek Dutta Mishra</td><td>199.000000</td><td>4</td><td>3</td></tr><tr><td>The Accursed God</td><td>Vivek Dutta Mishra</td><td>299.000000</td><td>4</td><td>4</td></tr></table>"
                    },
                    "metadata": {}
                }
            ],
            "execution_count": 32
        },
        {
            "cell_type": "markdown",
            "source": [
                "## Handling Decimal Values and Casting\n",
                "\n",
                "## Problems\n",
                "\n",
                "1. Price is given 5 places acurate. We need 2 decimal places only\n",
                "2. Rating is averaged as INT and decimal part is missing. we again need 2 decimal places.\n",
                "\n",
                "## Solution\n",
                "\n",
                "1\\. We can use the Round function to round a value to given decimal places\n",
                "\n",
                "- ROUND( VALUE, DECIMAL\\_PLACES)\n",
                "    - works with float/double data\n",
                "- FORMAT(VALUE, FORMAT\\_TYPE)\n",
                "    - Check for documentation for various formats.\n",
                "\n",
                "2\\. We can use **cast** function to conver an int int float before average"
            ],
            "metadata": {
                "azdata_cell_guid": "e03dea6b-744e-405c-b6db-fc7deb6ddc3d"
            },
            "attachments": {}
        },
        {
            "cell_type": "code",
            "source": [
                "SELECT \r\n",
                "    TITLE,\r\n",
                "    AUTHOR,\r\n",
                "    FORMAT(AVG(PRICE),'N2') AS PRICE, --ROUND DOESN'T WORK ON DECIMAL\r\n",
                "    ROUND(AVG(CAST(RATING as float)),2) AS RATING,\r\n",
                "    COUNT(*) AS VOTES\r\n",
                "\r\n",
                "FROM\r\n",
                "    BOOKS\r\n",
                "\r\n",
                "GROUP BY \r\n",
                "    TITLE,\r\n",
                "    AUTHOR"
            ],
            "metadata": {
                "azdata_cell_guid": "89e386dd-fd3a-42ae-a262-52aaa4cac856",
                "language": "sql"
            },
            "outputs": [
                {
                    "output_type": "display_data",
                    "data": {
                        "text/html": "(4 rows affected)"
                    },
                    "metadata": {}
                },
                {
                    "output_type": "display_data",
                    "data": {
                        "text/html": "Total execution time: 00:00:00.006"
                    },
                    "metadata": {}
                },
                {
                    "output_type": "execute_result",
                    "execution_count": 33,
                    "data": {
                        "application/vnd.dataresource+json": {
                            "schema": {
                                "fields": [
                                    {
                                        "name": "TITLE"
                                    },
                                    {
                                        "name": "AUTHOR"
                                    },
                                    {
                                        "name": "PRICE"
                                    },
                                    {
                                        "name": "RATING"
                                    },
                                    {
                                        "name": "VOTES"
                                    }
                                ]
                            },
                            "data": [
                                {
                                    "TITLE": "The Count of Monte Cristo",
                                    "AUTHOR": "Alexandre Dumas",
                                    "PRICE": "499.00",
                                    "RATING": "4.33",
                                    "VOTES": "3"
                                },
                                {
                                    "TITLE": "Rashmirathi",
                                    "AUTHOR": "Ramdhari Singh Dinkar",
                                    "PRICE": "99.00",
                                    "RATING": "3.75",
                                    "VOTES": "4"
                                },
                                {
                                    "TITLE": "Manas",
                                    "AUTHOR": "Vivek Dutta Mishra",
                                    "PRICE": "199.00",
                                    "RATING": "4.33",
                                    "VOTES": "3"
                                },
                                {
                                    "TITLE": "The Accursed God",
                                    "AUTHOR": "Vivek Dutta Mishra",
                                    "PRICE": "299.00",
                                    "RATING": "4.5",
                                    "VOTES": "4"
                                }
                            ]
                        },
                        "text/html": "<table><tr><th>TITLE</th><th>AUTHOR</th><th>PRICE</th><th>RATING</th><th>VOTES</th></tr><tr><td>The Count of Monte Cristo</td><td>Alexandre Dumas</td><td>499.00</td><td>4.33</td><td>3</td></tr><tr><td>Rashmirathi</td><td>Ramdhari Singh Dinkar</td><td>99.00</td><td>3.75</td><td>4</td></tr><tr><td>Manas</td><td>Vivek Dutta Mishra</td><td>199.00</td><td>4.33</td><td>3</td></tr><tr><td>The Accursed God</td><td>Vivek Dutta Mishra</td><td>299.00</td><td>4.5</td><td>4</td></tr></table>"
                    },
                    "metadata": {}
                }
            ],
            "execution_count": 33
        },
        {
            "cell_type": "markdown",
            "source": [
                "## Assignment 2.2\n",
                "\n",
                "1. Create an Author review and info summary to include\n",
                "- decide what you can include\n",
                "    - author-name\n",
                "    - review count\n",
                "    - average rating\n",
                "    - books\\_written\n",
                "    - total\\_sales\\_value\n",
                "    - average\\_book\\_price\n",
                "\n",
                "3. Create a Reviewer-wise review and info summary to include\n",
                "- decide what you can include\n",
                "    - reviewer\n",
                "    - books\\_reviewed\n",
                "    - average\\_rating\\_given\n",
                "    - money\\_spent\n",
                "\n",
                "##"
            ],
            "metadata": {
                "azdata_cell_guid": "002cbc85-c2dc-4ff1-9ac4-baec6e1482fc",
                "language": ""
            },
            "attachments": {}
        },
        {
            "cell_type": "markdown",
            "source": [
                "# We can split the table to avoid redundancy.\n",
                "\n",
                "- <span style=\"color: var(--vscode-foreground);\">We can avoid redundancy by spliting it in two tables</span>\n",
                "1. <span style=\"color: var(--vscode-foreground);\">books</span>\n",
                "- <span style=\"color: var(--vscode-foreground);\">include unique properties of the book that can fit in a single record/row</span>\n",
                "    - <span style=\"color: var(--vscode-foreground);\">title</span>\n",
                "    - <span style=\"color: var(--vscode-foreground);\">author</span>\n",
                "    - <span style=\"color: var(--vscode-foreground);\">price</span>\n",
                "    - <span style=\"color: var(--vscode-foreground);\">cover</span>\n",
                "\n",
                "3. reviews\n",
                "- <span style=\"color: var(--vscode-foreground);\">should include review related information</span>\n",
                "    - <span style=\"color: var(--vscode-foreground);\">reviewer</span>\n",
                "    - <span style=\"color: var(--vscode-foreground);\">rating</span>\n",
                "- it should also include some information to relate it back to corresponding book\n",
                "    - TITLE"
            ],
            "metadata": {
                "azdata_cell_guid": "75038270-f8a3-47d6-80c4-2bc768b1df42"
            },
            "attachments": {}
        },
        {
            "cell_type": "code",
            "source": [
                "DROP TABLE IF EXISTS BOOKS;\r\n",
                "DROP TABLE IF EXISTS REVIEWS;\r\n",
                "\r\n",
                "CREATE TABLE BOOKS(\r\n",
                "    \r\n",
                "    TITLE VARCHAR(100) NOT NULL,\r\n",
                "    AUTHOR VARCHAR(100) NOT NULL,\r\n",
                "    PRICE DECIMAL(8,2) CHECK(PRICE>=0),\r\n",
                "    --RATING DECIMAL(5,2) CHECK(RATING>=1 AND RATING<=5),\r\n",
                "    COVER VARCHAR(512) DEFAULT('unknown.png')\r\n",
                ");\r\n",
                "\r\n",
                "CREATE TABLE REVIEWS(\r\n",
                "    -- RELATIONAL COLUMN RELATES TO TITLE OF THE BOOK\r\n",
                "    BOOK_TITLE VARCHAR(100) NOT NULL, \r\n",
                "\r\n",
                "    --RATING RELATED INFO\r\n",
                "    REVIEWER VARCHAR(100),\r\n",
                "    RATING INT CHECK(RATING>=1 AND RATING<=5)\r\n",
                "    \r\n",
                ");"
            ],
            "metadata": {
                "azdata_cell_guid": "8c97de73-d71d-4a8b-a699-d5a8a2625698",
                "language": "sql"
            },
            "outputs": [
                {
                    "output_type": "display_data",
                    "data": {
                        "text/html": "Commands completed successfully."
                    },
                    "metadata": {}
                },
                {
                    "output_type": "display_data",
                    "data": {
                        "text/html": "Total execution time: 00:00:00.035"
                    },
                    "metadata": {}
                }
            ],
            "execution_count": 34
        },
        {
            "cell_type": "code",
            "source": [
                "INSERT \r\n",
                "    INTO BOOKS(TITLE,AUTHOR,PRICE,COVER)\r\n",
                "    VALUES    \r\n",
                "    \r\n",
                "    ('The Accursed God','Vivek Dutta Mishra',299, 'tag.png'),\r\n",
                "    ('Manas','Vivek Dutta Mishra',199, 'manas.png'),\r\n",
                "    ('Rashmirathi','Ramdhari Singh Dinkar',99, 'rashmirath.png'),\r\n",
                "    ('The Count of Monte Cristo','Alexandre Dumas',499, 'cristo.png')\r\n",
                "    \r\n",
                "\r\n",
                "    ;"
            ],
            "metadata": {
                "language": "sql",
                "azdata_cell_guid": "1add3e34-9658-4cf2-a59e-895ab05a2000"
            },
            "outputs": [
                {
                    "output_type": "display_data",
                    "data": {
                        "text/html": "(4 rows affected)"
                    },
                    "metadata": {}
                },
                {
                    "output_type": "display_data",
                    "data": {
                        "text/html": "Total execution time: 00:00:00.011"
                    },
                    "metadata": {}
                }
            ],
            "execution_count": 35
        },
        {
            "cell_type": "code",
            "source": [
                "INSERT \r\n",
                "    INTO REVIEWS(BOOK_TITLE,REVIEWER,RATING)\r\n",
                "    VALUES    \r\n",
                "    \r\n",
                "    ('The Accursed God','Sanjay',5),\r\n",
                "    ('The Accursed God','Shivanshi',3),\r\n",
                "    ('The Accursed God','Amit',5),\r\n",
                "    ('The Accursed God','Rajesh',5),\r\n",
                "    \r\n",
                "    ('Manas','Shivanshi',5),\r\n",
                "    ('Manas','Reena',4),\r\n",
                "    ('Manas','Sanjay',4),\r\n",
                "\r\n",
                "    ('Rashmirathi','Shivanshi',4),\r\n",
                "    ('Rashmirathi','Vivek',4),\r\n",
                "    ('Rashmirathi','Reena',4),\r\n",
                "    ('Rashmirathi','Amit',3),\r\n",
                "\r\n",
                "    ('The Count of Monte Cristo','Vivek',5),\r\n",
                "    ('The Count of Monte Cristo','Reena',4),\r\n",
                "    ('The Count of Monte Cristo','Shivanshi',4)\r\n",
                "    \r\n",
                "\r\n",
                "    ;"
            ],
            "metadata": {
                "language": "sql",
                "azdata_cell_guid": "6f6d457e-39bd-4ddd-bf8e-17ddbf7c8eb6"
            },
            "outputs": [
                {
                    "output_type": "display_data",
                    "data": {
                        "text/html": "(14 rows affected)"
                    },
                    "metadata": {}
                },
                {
                    "output_type": "display_data",
                    "data": {
                        "text/html": "Total execution time: 00:00:00.013"
                    },
                    "metadata": {}
                }
            ],
            "execution_count": 36
        },
        {
            "cell_type": "code",
            "source": [
                "SELECT * FROM BOOKS;\r\n",
                "\r\n",
                "SELECT * FROM REVIEWS;"
            ],
            "metadata": {
                "azdata_cell_guid": "d7999dee-1a87-4ac4-862e-c5b8aa4d4617",
                "language": "sql"
            },
            "outputs": [
                {
                    "output_type": "display_data",
                    "data": {
                        "text/html": "(4 rows affected)"
                    },
                    "metadata": {}
                },
                {
                    "output_type": "display_data",
                    "data": {
                        "text/html": "(14 rows affected)"
                    },
                    "metadata": {}
                },
                {
                    "output_type": "display_data",
                    "data": {
                        "text/html": "Total execution time: 00:00:00.004"
                    },
                    "metadata": {}
                },
                {
                    "output_type": "execute_result",
                    "execution_count": 37,
                    "data": {
                        "application/vnd.dataresource+json": {
                            "schema": {
                                "fields": [
                                    {
                                        "name": "TITLE"
                                    },
                                    {
                                        "name": "AUTHOR"
                                    },
                                    {
                                        "name": "PRICE"
                                    },
                                    {
                                        "name": "COVER"
                                    }
                                ]
                            },
                            "data": [
                                {
                                    "TITLE": "The Accursed God",
                                    "AUTHOR": "Vivek Dutta Mishra",
                                    "PRICE": "299.00",
                                    "COVER": "tag.png"
                                },
                                {
                                    "TITLE": "Manas",
                                    "AUTHOR": "Vivek Dutta Mishra",
                                    "PRICE": "199.00",
                                    "COVER": "manas.png"
                                },
                                {
                                    "TITLE": "Rashmirathi",
                                    "AUTHOR": "Ramdhari Singh Dinkar",
                                    "PRICE": "99.00",
                                    "COVER": "rashmirath.png"
                                },
                                {
                                    "TITLE": "The Count of Monte Cristo",
                                    "AUTHOR": "Alexandre Dumas",
                                    "PRICE": "499.00",
                                    "COVER": "cristo.png"
                                }
                            ]
                        },
                        "text/html": "<table><tr><th>TITLE</th><th>AUTHOR</th><th>PRICE</th><th>COVER</th></tr><tr><td>The Accursed God</td><td>Vivek Dutta Mishra</td><td>299.00</td><td>tag.png</td></tr><tr><td>Manas</td><td>Vivek Dutta Mishra</td><td>199.00</td><td>manas.png</td></tr><tr><td>Rashmirathi</td><td>Ramdhari Singh Dinkar</td><td>99.00</td><td>rashmirath.png</td></tr><tr><td>The Count of Monte Cristo</td><td>Alexandre Dumas</td><td>499.00</td><td>cristo.png</td></tr></table>"
                    },
                    "metadata": {}
                },
                {
                    "output_type": "execute_result",
                    "execution_count": 37,
                    "data": {
                        "application/vnd.dataresource+json": {
                            "schema": {
                                "fields": [
                                    {
                                        "name": "BOOK_TITLE"
                                    },
                                    {
                                        "name": "REVIEWER"
                                    },
                                    {
                                        "name": "RATING"
                                    }
                                ]
                            },
                            "data": [
                                {
                                    "BOOK_TITLE": "The Accursed God",
                                    "REVIEWER": "Sanjay",
                                    "RATING": "5"
                                },
                                {
                                    "BOOK_TITLE": "The Accursed God",
                                    "REVIEWER": "Shivanshi",
                                    "RATING": "3"
                                },
                                {
                                    "BOOK_TITLE": "The Accursed God",
                                    "REVIEWER": "Amit",
                                    "RATING": "5"
                                },
                                {
                                    "BOOK_TITLE": "The Accursed God",
                                    "REVIEWER": "Rajesh",
                                    "RATING": "5"
                                },
                                {
                                    "BOOK_TITLE": "Manas",
                                    "REVIEWER": "Shivanshi",
                                    "RATING": "5"
                                },
                                {
                                    "BOOK_TITLE": "Manas",
                                    "REVIEWER": "Reena",
                                    "RATING": "4"
                                },
                                {
                                    "BOOK_TITLE": "Manas",
                                    "REVIEWER": "Sanjay",
                                    "RATING": "4"
                                },
                                {
                                    "BOOK_TITLE": "Rashmirathi",
                                    "REVIEWER": "Shivanshi",
                                    "RATING": "4"
                                },
                                {
                                    "BOOK_TITLE": "Rashmirathi",
                                    "REVIEWER": "Vivek",
                                    "RATING": "4"
                                },
                                {
                                    "BOOK_TITLE": "Rashmirathi",
                                    "REVIEWER": "Reena",
                                    "RATING": "4"
                                },
                                {
                                    "BOOK_TITLE": "Rashmirathi",
                                    "REVIEWER": "Amit",
                                    "RATING": "3"
                                },
                                {
                                    "BOOK_TITLE": "The Count of Monte Cristo",
                                    "REVIEWER": "Vivek",
                                    "RATING": "5"
                                },
                                {
                                    "BOOK_TITLE": "The Count of Monte Cristo",
                                    "REVIEWER": "Reena",
                                    "RATING": "4"
                                },
                                {
                                    "BOOK_TITLE": "The Count of Monte Cristo",
                                    "REVIEWER": "Shivanshi",
                                    "RATING": "4"
                                }
                            ]
                        },
                        "text/html": "<table><tr><th>BOOK_TITLE</th><th>REVIEWER</th><th>RATING</th></tr><tr><td>The Accursed God</td><td>Sanjay</td><td>5</td></tr><tr><td>The Accursed God</td><td>Shivanshi</td><td>3</td></tr><tr><td>The Accursed God</td><td>Amit</td><td>5</td></tr><tr><td>The Accursed God</td><td>Rajesh</td><td>5</td></tr><tr><td>Manas</td><td>Shivanshi</td><td>5</td></tr><tr><td>Manas</td><td>Reena</td><td>4</td></tr><tr><td>Manas</td><td>Sanjay</td><td>4</td></tr><tr><td>Rashmirathi</td><td>Shivanshi</td><td>4</td></tr><tr><td>Rashmirathi</td><td>Vivek</td><td>4</td></tr><tr><td>Rashmirathi</td><td>Reena</td><td>4</td></tr><tr><td>Rashmirathi</td><td>Amit</td><td>3</td></tr><tr><td>The Count of Monte Cristo</td><td>Vivek</td><td>5</td></tr><tr><td>The Count of Monte Cristo</td><td>Reena</td><td>4</td></tr><tr><td>The Count of Monte Cristo</td><td>Shivanshi</td><td>4</td></tr></table>"
                    },
                    "metadata": {}
                }
            ],
            "execution_count": 37
        },
        {
            "cell_type": "markdown",
            "source": [
                "# We need a result that contains information from both tables\n",
                "\n",
                "  \n",
                "\n",
                "- The information in both tables are related \n",
                "    - We have used them together earlier\n",
                "- We still need to create reports based on results from both tables\n",
                "    - <span style=\"color: var(--vscode-foreground);\">Example</span>\n",
                "1. Book List similar to the original one\n",
                "2. Book List with their average and total rating\n",
                "3. Author List with their book count, rating and average\n",
                "4. Reviewer list with book reviews.\n",
                "\n",
                "  \n",
                "\n",
                "## We can combine the result from two tables by adding them in FROM clause\n",
                "\n",
                "### But result will NOT Be expected one."
            ],
            "metadata": {
                "azdata_cell_guid": "87ae310e-90d8-4f34-959b-cbdacbce7a37",
                "language": ""
            },
            "attachments": {}
        },
        {
            "cell_type": "code",
            "source": [
                "SELECT \r\n",
                "    *\r\n",
                "FROM\r\n",
                "    BOOKS,\r\n",
                "    REVIEWS\r\n",
                "    "
            ],
            "metadata": {
                "azdata_cell_guid": "e841fa1b-da97-4331-9618-31fd7dfcb5db",
                "language": "sql"
            },
            "outputs": [
                {
                    "output_type": "display_data",
                    "data": {
                        "text/html": "(56 rows affected)"
                    },
                    "metadata": {}
                },
                {
                    "output_type": "display_data",
                    "data": {
                        "text/html": "Total execution time: 00:00:00.018"
                    },
                    "metadata": {}
                },
                {
                    "output_type": "execute_result",
                    "execution_count": 38,
                    "data": {
                        "application/vnd.dataresource+json": {
                            "schema": {
                                "fields": [
                                    {
                                        "name": "TITLE"
                                    },
                                    {
                                        "name": "AUTHOR"
                                    },
                                    {
                                        "name": "PRICE"
                                    },
                                    {
                                        "name": "COVER"
                                    },
                                    {
                                        "name": "BOOK_TITLE"
                                    },
                                    {
                                        "name": "REVIEWER"
                                    },
                                    {
                                        "name": "RATING"
                                    }
                                ]
                            },
                            "data": [
                                {
                                    "TITLE": "The Accursed God",
                                    "AUTHOR": "Vivek Dutta Mishra",
                                    "PRICE": "299.00",
                                    "COVER": "tag.png",
                                    "BOOK_TITLE": "The Accursed God",
                                    "REVIEWER": "Sanjay",
                                    "RATING": "5"
                                },
                                {
                                    "TITLE": "The Accursed God",
                                    "AUTHOR": "Vivek Dutta Mishra",
                                    "PRICE": "299.00",
                                    "COVER": "tag.png",
                                    "BOOK_TITLE": "The Accursed God",
                                    "REVIEWER": "Shivanshi",
                                    "RATING": "3"
                                },
                                {
                                    "TITLE": "The Accursed God",
                                    "AUTHOR": "Vivek Dutta Mishra",
                                    "PRICE": "299.00",
                                    "COVER": "tag.png",
                                    "BOOK_TITLE": "The Accursed God",
                                    "REVIEWER": "Amit",
                                    "RATING": "5"
                                },
                                {
                                    "TITLE": "The Accursed God",
                                    "AUTHOR": "Vivek Dutta Mishra",
                                    "PRICE": "299.00",
                                    "COVER": "tag.png",
                                    "BOOK_TITLE": "The Accursed God",
                                    "REVIEWER": "Rajesh",
                                    "RATING": "5"
                                },
                                {
                                    "TITLE": "The Accursed God",
                                    "AUTHOR": "Vivek Dutta Mishra",
                                    "PRICE": "299.00",
                                    "COVER": "tag.png",
                                    "BOOK_TITLE": "Manas",
                                    "REVIEWER": "Shivanshi",
                                    "RATING": "5"
                                },
                                {
                                    "TITLE": "The Accursed God",
                                    "AUTHOR": "Vivek Dutta Mishra",
                                    "PRICE": "299.00",
                                    "COVER": "tag.png",
                                    "BOOK_TITLE": "Manas",
                                    "REVIEWER": "Reena",
                                    "RATING": "4"
                                },
                                {
                                    "TITLE": "The Accursed God",
                                    "AUTHOR": "Vivek Dutta Mishra",
                                    "PRICE": "299.00",
                                    "COVER": "tag.png",
                                    "BOOK_TITLE": "Manas",
                                    "REVIEWER": "Sanjay",
                                    "RATING": "4"
                                },
                                {
                                    "TITLE": "The Accursed God",
                                    "AUTHOR": "Vivek Dutta Mishra",
                                    "PRICE": "299.00",
                                    "COVER": "tag.png",
                                    "BOOK_TITLE": "Rashmirathi",
                                    "REVIEWER": "Shivanshi",
                                    "RATING": "4"
                                },
                                {
                                    "TITLE": "The Accursed God",
                                    "AUTHOR": "Vivek Dutta Mishra",
                                    "PRICE": "299.00",
                                    "COVER": "tag.png",
                                    "BOOK_TITLE": "Rashmirathi",
                                    "REVIEWER": "Vivek",
                                    "RATING": "4"
                                },
                                {
                                    "TITLE": "The Accursed God",
                                    "AUTHOR": "Vivek Dutta Mishra",
                                    "PRICE": "299.00",
                                    "COVER": "tag.png",
                                    "BOOK_TITLE": "Rashmirathi",
                                    "REVIEWER": "Reena",
                                    "RATING": "4"
                                },
                                {
                                    "TITLE": "The Accursed God",
                                    "AUTHOR": "Vivek Dutta Mishra",
                                    "PRICE": "299.00",
                                    "COVER": "tag.png",
                                    "BOOK_TITLE": "Rashmirathi",
                                    "REVIEWER": "Amit",
                                    "RATING": "3"
                                },
                                {
                                    "TITLE": "The Accursed God",
                                    "AUTHOR": "Vivek Dutta Mishra",
                                    "PRICE": "299.00",
                                    "COVER": "tag.png",
                                    "BOOK_TITLE": "The Count of Monte Cristo",
                                    "REVIEWER": "Vivek",
                                    "RATING": "5"
                                },
                                {
                                    "TITLE": "The Accursed God",
                                    "AUTHOR": "Vivek Dutta Mishra",
                                    "PRICE": "299.00",
                                    "COVER": "tag.png",
                                    "BOOK_TITLE": "The Count of Monte Cristo",
                                    "REVIEWER": "Reena",
                                    "RATING": "4"
                                },
                                {
                                    "TITLE": "The Accursed God",
                                    "AUTHOR": "Vivek Dutta Mishra",
                                    "PRICE": "299.00",
                                    "COVER": "tag.png",
                                    "BOOK_TITLE": "The Count of Monte Cristo",
                                    "REVIEWER": "Shivanshi",
                                    "RATING": "4"
                                },
                                {
                                    "TITLE": "Manas",
                                    "AUTHOR": "Vivek Dutta Mishra",
                                    "PRICE": "199.00",
                                    "COVER": "manas.png",
                                    "BOOK_TITLE": "The Accursed God",
                                    "REVIEWER": "Sanjay",
                                    "RATING": "5"
                                },
                                {
                                    "TITLE": "Manas",
                                    "AUTHOR": "Vivek Dutta Mishra",
                                    "PRICE": "199.00",
                                    "COVER": "manas.png",
                                    "BOOK_TITLE": "The Accursed God",
                                    "REVIEWER": "Shivanshi",
                                    "RATING": "3"
                                },
                                {
                                    "TITLE": "Manas",
                                    "AUTHOR": "Vivek Dutta Mishra",
                                    "PRICE": "199.00",
                                    "COVER": "manas.png",
                                    "BOOK_TITLE": "The Accursed God",
                                    "REVIEWER": "Amit",
                                    "RATING": "5"
                                },
                                {
                                    "TITLE": "Manas",
                                    "AUTHOR": "Vivek Dutta Mishra",
                                    "PRICE": "199.00",
                                    "COVER": "manas.png",
                                    "BOOK_TITLE": "The Accursed God",
                                    "REVIEWER": "Rajesh",
                                    "RATING": "5"
                                },
                                {
                                    "TITLE": "Manas",
                                    "AUTHOR": "Vivek Dutta Mishra",
                                    "PRICE": "199.00",
                                    "COVER": "manas.png",
                                    "BOOK_TITLE": "Manas",
                                    "REVIEWER": "Shivanshi",
                                    "RATING": "5"
                                },
                                {
                                    "TITLE": "Manas",
                                    "AUTHOR": "Vivek Dutta Mishra",
                                    "PRICE": "199.00",
                                    "COVER": "manas.png",
                                    "BOOK_TITLE": "Manas",
                                    "REVIEWER": "Reena",
                                    "RATING": "4"
                                },
                                {
                                    "TITLE": "Manas",
                                    "AUTHOR": "Vivek Dutta Mishra",
                                    "PRICE": "199.00",
                                    "COVER": "manas.png",
                                    "BOOK_TITLE": "Manas",
                                    "REVIEWER": "Sanjay",
                                    "RATING": "4"
                                },
                                {
                                    "TITLE": "Manas",
                                    "AUTHOR": "Vivek Dutta Mishra",
                                    "PRICE": "199.00",
                                    "COVER": "manas.png",
                                    "BOOK_TITLE": "Rashmirathi",
                                    "REVIEWER": "Shivanshi",
                                    "RATING": "4"
                                },
                                {
                                    "TITLE": "Manas",
                                    "AUTHOR": "Vivek Dutta Mishra",
                                    "PRICE": "199.00",
                                    "COVER": "manas.png",
                                    "BOOK_TITLE": "Rashmirathi",
                                    "REVIEWER": "Vivek",
                                    "RATING": "4"
                                },
                                {
                                    "TITLE": "Manas",
                                    "AUTHOR": "Vivek Dutta Mishra",
                                    "PRICE": "199.00",
                                    "COVER": "manas.png",
                                    "BOOK_TITLE": "Rashmirathi",
                                    "REVIEWER": "Reena",
                                    "RATING": "4"
                                },
                                {
                                    "TITLE": "Manas",
                                    "AUTHOR": "Vivek Dutta Mishra",
                                    "PRICE": "199.00",
                                    "COVER": "manas.png",
                                    "BOOK_TITLE": "Rashmirathi",
                                    "REVIEWER": "Amit",
                                    "RATING": "3"
                                },
                                {
                                    "TITLE": "Manas",
                                    "AUTHOR": "Vivek Dutta Mishra",
                                    "PRICE": "199.00",
                                    "COVER": "manas.png",
                                    "BOOK_TITLE": "The Count of Monte Cristo",
                                    "REVIEWER": "Vivek",
                                    "RATING": "5"
                                },
                                {
                                    "TITLE": "Manas",
                                    "AUTHOR": "Vivek Dutta Mishra",
                                    "PRICE": "199.00",
                                    "COVER": "manas.png",
                                    "BOOK_TITLE": "The Count of Monte Cristo",
                                    "REVIEWER": "Reena",
                                    "RATING": "4"
                                },
                                {
                                    "TITLE": "Manas",
                                    "AUTHOR": "Vivek Dutta Mishra",
                                    "PRICE": "199.00",
                                    "COVER": "manas.png",
                                    "BOOK_TITLE": "The Count of Monte Cristo",
                                    "REVIEWER": "Shivanshi",
                                    "RATING": "4"
                                },
                                {
                                    "TITLE": "Rashmirathi",
                                    "AUTHOR": "Ramdhari Singh Dinkar",
                                    "PRICE": "99.00",
                                    "COVER": "rashmirath.png",
                                    "BOOK_TITLE": "The Accursed God",
                                    "REVIEWER": "Sanjay",
                                    "RATING": "5"
                                },
                                {
                                    "TITLE": "Rashmirathi",
                                    "AUTHOR": "Ramdhari Singh Dinkar",
                                    "PRICE": "99.00",
                                    "COVER": "rashmirath.png",
                                    "BOOK_TITLE": "The Accursed God",
                                    "REVIEWER": "Shivanshi",
                                    "RATING": "3"
                                },
                                {
                                    "TITLE": "Rashmirathi",
                                    "AUTHOR": "Ramdhari Singh Dinkar",
                                    "PRICE": "99.00",
                                    "COVER": "rashmirath.png",
                                    "BOOK_TITLE": "The Accursed God",
                                    "REVIEWER": "Amit",
                                    "RATING": "5"
                                },
                                {
                                    "TITLE": "Rashmirathi",
                                    "AUTHOR": "Ramdhari Singh Dinkar",
                                    "PRICE": "99.00",
                                    "COVER": "rashmirath.png",
                                    "BOOK_TITLE": "The Accursed God",
                                    "REVIEWER": "Rajesh",
                                    "RATING": "5"
                                },
                                {
                                    "TITLE": "Rashmirathi",
                                    "AUTHOR": "Ramdhari Singh Dinkar",
                                    "PRICE": "99.00",
                                    "COVER": "rashmirath.png",
                                    "BOOK_TITLE": "Manas",
                                    "REVIEWER": "Shivanshi",
                                    "RATING": "5"
                                },
                                {
                                    "TITLE": "Rashmirathi",
                                    "AUTHOR": "Ramdhari Singh Dinkar",
                                    "PRICE": "99.00",
                                    "COVER": "rashmirath.png",
                                    "BOOK_TITLE": "Manas",
                                    "REVIEWER": "Reena",
                                    "RATING": "4"
                                },
                                {
                                    "TITLE": "Rashmirathi",
                                    "AUTHOR": "Ramdhari Singh Dinkar",
                                    "PRICE": "99.00",
                                    "COVER": "rashmirath.png",
                                    "BOOK_TITLE": "Manas",
                                    "REVIEWER": "Sanjay",
                                    "RATING": "4"
                                },
                                {
                                    "TITLE": "Rashmirathi",
                                    "AUTHOR": "Ramdhari Singh Dinkar",
                                    "PRICE": "99.00",
                                    "COVER": "rashmirath.png",
                                    "BOOK_TITLE": "Rashmirathi",
                                    "REVIEWER": "Shivanshi",
                                    "RATING": "4"
                                },
                                {
                                    "TITLE": "Rashmirathi",
                                    "AUTHOR": "Ramdhari Singh Dinkar",
                                    "PRICE": "99.00",
                                    "COVER": "rashmirath.png",
                                    "BOOK_TITLE": "Rashmirathi",
                                    "REVIEWER": "Vivek",
                                    "RATING": "4"
                                },
                                {
                                    "TITLE": "Rashmirathi",
                                    "AUTHOR": "Ramdhari Singh Dinkar",
                                    "PRICE": "99.00",
                                    "COVER": "rashmirath.png",
                                    "BOOK_TITLE": "Rashmirathi",
                                    "REVIEWER": "Reena",
                                    "RATING": "4"
                                },
                                {
                                    "TITLE": "Rashmirathi",
                                    "AUTHOR": "Ramdhari Singh Dinkar",
                                    "PRICE": "99.00",
                                    "COVER": "rashmirath.png",
                                    "BOOK_TITLE": "Rashmirathi",
                                    "REVIEWER": "Amit",
                                    "RATING": "3"
                                },
                                {
                                    "TITLE": "Rashmirathi",
                                    "AUTHOR": "Ramdhari Singh Dinkar",
                                    "PRICE": "99.00",
                                    "COVER": "rashmirath.png",
                                    "BOOK_TITLE": "The Count of Monte Cristo",
                                    "REVIEWER": "Vivek",
                                    "RATING": "5"
                                },
                                {
                                    "TITLE": "Rashmirathi",
                                    "AUTHOR": "Ramdhari Singh Dinkar",
                                    "PRICE": "99.00",
                                    "COVER": "rashmirath.png",
                                    "BOOK_TITLE": "The Count of Monte Cristo",
                                    "REVIEWER": "Reena",
                                    "RATING": "4"
                                },
                                {
                                    "TITLE": "Rashmirathi",
                                    "AUTHOR": "Ramdhari Singh Dinkar",
                                    "PRICE": "99.00",
                                    "COVER": "rashmirath.png",
                                    "BOOK_TITLE": "The Count of Monte Cristo",
                                    "REVIEWER": "Shivanshi",
                                    "RATING": "4"
                                },
                                {
                                    "TITLE": "The Count of Monte Cristo",
                                    "AUTHOR": "Alexandre Dumas",
                                    "PRICE": "499.00",
                                    "COVER": "cristo.png",
                                    "BOOK_TITLE": "The Accursed God",
                                    "REVIEWER": "Sanjay",
                                    "RATING": "5"
                                },
                                {
                                    "TITLE": "The Count of Monte Cristo",
                                    "AUTHOR": "Alexandre Dumas",
                                    "PRICE": "499.00",
                                    "COVER": "cristo.png",
                                    "BOOK_TITLE": "The Accursed God",
                                    "REVIEWER": "Shivanshi",
                                    "RATING": "3"
                                },
                                {
                                    "TITLE": "The Count of Monte Cristo",
                                    "AUTHOR": "Alexandre Dumas",
                                    "PRICE": "499.00",
                                    "COVER": "cristo.png",
                                    "BOOK_TITLE": "The Accursed God",
                                    "REVIEWER": "Amit",
                                    "RATING": "5"
                                },
                                {
                                    "TITLE": "The Count of Monte Cristo",
                                    "AUTHOR": "Alexandre Dumas",
                                    "PRICE": "499.00",
                                    "COVER": "cristo.png",
                                    "BOOK_TITLE": "The Accursed God",
                                    "REVIEWER": "Rajesh",
                                    "RATING": "5"
                                },
                                {
                                    "TITLE": "The Count of Monte Cristo",
                                    "AUTHOR": "Alexandre Dumas",
                                    "PRICE": "499.00",
                                    "COVER": "cristo.png",
                                    "BOOK_TITLE": "Manas",
                                    "REVIEWER": "Shivanshi",
                                    "RATING": "5"
                                },
                                {
                                    "TITLE": "The Count of Monte Cristo",
                                    "AUTHOR": "Alexandre Dumas",
                                    "PRICE": "499.00",
                                    "COVER": "cristo.png",
                                    "BOOK_TITLE": "Manas",
                                    "REVIEWER": "Reena",
                                    "RATING": "4"
                                },
                                {
                                    "TITLE": "The Count of Monte Cristo",
                                    "AUTHOR": "Alexandre Dumas",
                                    "PRICE": "499.00",
                                    "COVER": "cristo.png",
                                    "BOOK_TITLE": "Manas",
                                    "REVIEWER": "Sanjay",
                                    "RATING": "4"
                                },
                                {
                                    "TITLE": "The Count of Monte Cristo",
                                    "AUTHOR": "Alexandre Dumas",
                                    "PRICE": "499.00",
                                    "COVER": "cristo.png",
                                    "BOOK_TITLE": "Rashmirathi",
                                    "REVIEWER": "Shivanshi",
                                    "RATING": "4"
                                },
                                {
                                    "TITLE": "The Count of Monte Cristo",
                                    "AUTHOR": "Alexandre Dumas",
                                    "PRICE": "499.00",
                                    "COVER": "cristo.png",
                                    "BOOK_TITLE": "Rashmirathi",
                                    "REVIEWER": "Vivek",
                                    "RATING": "4"
                                },
                                {
                                    "TITLE": "The Count of Monte Cristo",
                                    "AUTHOR": "Alexandre Dumas",
                                    "PRICE": "499.00",
                                    "COVER": "cristo.png",
                                    "BOOK_TITLE": "Rashmirathi",
                                    "REVIEWER": "Reena",
                                    "RATING": "4"
                                },
                                {
                                    "TITLE": "The Count of Monte Cristo",
                                    "AUTHOR": "Alexandre Dumas",
                                    "PRICE": "499.00",
                                    "COVER": "cristo.png",
                                    "BOOK_TITLE": "Rashmirathi",
                                    "REVIEWER": "Amit",
                                    "RATING": "3"
                                },
                                {
                                    "TITLE": "The Count of Monte Cristo",
                                    "AUTHOR": "Alexandre Dumas",
                                    "PRICE": "499.00",
                                    "COVER": "cristo.png",
                                    "BOOK_TITLE": "The Count of Monte Cristo",
                                    "REVIEWER": "Vivek",
                                    "RATING": "5"
                                },
                                {
                                    "TITLE": "The Count of Monte Cristo",
                                    "AUTHOR": "Alexandre Dumas",
                                    "PRICE": "499.00",
                                    "COVER": "cristo.png",
                                    "BOOK_TITLE": "The Count of Monte Cristo",
                                    "REVIEWER": "Reena",
                                    "RATING": "4"
                                },
                                {
                                    "TITLE": "The Count of Monte Cristo",
                                    "AUTHOR": "Alexandre Dumas",
                                    "PRICE": "499.00",
                                    "COVER": "cristo.png",
                                    "BOOK_TITLE": "The Count of Monte Cristo",
                                    "REVIEWER": "Shivanshi",
                                    "RATING": "4"
                                }
                            ]
                        },
                        "text/html": "<table><tr><th>TITLE</th><th>AUTHOR</th><th>PRICE</th><th>COVER</th><th>BOOK_TITLE</th><th>REVIEWER</th><th>RATING</th></tr><tr><td>The Accursed God</td><td>Vivek Dutta Mishra</td><td>299.00</td><td>tag.png</td><td>The Accursed God</td><td>Sanjay</td><td>5</td></tr><tr><td>The Accursed God</td><td>Vivek Dutta Mishra</td><td>299.00</td><td>tag.png</td><td>The Accursed God</td><td>Shivanshi</td><td>3</td></tr><tr><td>The Accursed God</td><td>Vivek Dutta Mishra</td><td>299.00</td><td>tag.png</td><td>The Accursed God</td><td>Amit</td><td>5</td></tr><tr><td>The Accursed God</td><td>Vivek Dutta Mishra</td><td>299.00</td><td>tag.png</td><td>The Accursed God</td><td>Rajesh</td><td>5</td></tr><tr><td>The Accursed God</td><td>Vivek Dutta Mishra</td><td>299.00</td><td>tag.png</td><td>Manas</td><td>Shivanshi</td><td>5</td></tr><tr><td>The Accursed God</td><td>Vivek Dutta Mishra</td><td>299.00</td><td>tag.png</td><td>Manas</td><td>Reena</td><td>4</td></tr><tr><td>The Accursed God</td><td>Vivek Dutta Mishra</td><td>299.00</td><td>tag.png</td><td>Manas</td><td>Sanjay</td><td>4</td></tr><tr><td>The Accursed God</td><td>Vivek Dutta Mishra</td><td>299.00</td><td>tag.png</td><td>Rashmirathi</td><td>Shivanshi</td><td>4</td></tr><tr><td>The Accursed God</td><td>Vivek Dutta Mishra</td><td>299.00</td><td>tag.png</td><td>Rashmirathi</td><td>Vivek</td><td>4</td></tr><tr><td>The Accursed God</td><td>Vivek Dutta Mishra</td><td>299.00</td><td>tag.png</td><td>Rashmirathi</td><td>Reena</td><td>4</td></tr><tr><td>The Accursed God</td><td>Vivek Dutta Mishra</td><td>299.00</td><td>tag.png</td><td>Rashmirathi</td><td>Amit</td><td>3</td></tr><tr><td>The Accursed God</td><td>Vivek Dutta Mishra</td><td>299.00</td><td>tag.png</td><td>The Count of Monte Cristo</td><td>Vivek</td><td>5</td></tr><tr><td>The Accursed God</td><td>Vivek Dutta Mishra</td><td>299.00</td><td>tag.png</td><td>The Count of Monte Cristo</td><td>Reena</td><td>4</td></tr><tr><td>The Accursed God</td><td>Vivek Dutta Mishra</td><td>299.00</td><td>tag.png</td><td>The Count of Monte Cristo</td><td>Shivanshi</td><td>4</td></tr><tr><td>Manas</td><td>Vivek Dutta Mishra</td><td>199.00</td><td>manas.png</td><td>The Accursed God</td><td>Sanjay</td><td>5</td></tr><tr><td>Manas</td><td>Vivek Dutta Mishra</td><td>199.00</td><td>manas.png</td><td>The Accursed God</td><td>Shivanshi</td><td>3</td></tr><tr><td>Manas</td><td>Vivek Dutta Mishra</td><td>199.00</td><td>manas.png</td><td>The Accursed God</td><td>Amit</td><td>5</td></tr><tr><td>Manas</td><td>Vivek Dutta Mishra</td><td>199.00</td><td>manas.png</td><td>The Accursed God</td><td>Rajesh</td><td>5</td></tr><tr><td>Manas</td><td>Vivek Dutta Mishra</td><td>199.00</td><td>manas.png</td><td>Manas</td><td>Shivanshi</td><td>5</td></tr><tr><td>Manas</td><td>Vivek Dutta Mishra</td><td>199.00</td><td>manas.png</td><td>Manas</td><td>Reena</td><td>4</td></tr><tr><td>Manas</td><td>Vivek Dutta Mishra</td><td>199.00</td><td>manas.png</td><td>Manas</td><td>Sanjay</td><td>4</td></tr><tr><td>Manas</td><td>Vivek Dutta Mishra</td><td>199.00</td><td>manas.png</td><td>Rashmirathi</td><td>Shivanshi</td><td>4</td></tr><tr><td>Manas</td><td>Vivek Dutta Mishra</td><td>199.00</td><td>manas.png</td><td>Rashmirathi</td><td>Vivek</td><td>4</td></tr><tr><td>Manas</td><td>Vivek Dutta Mishra</td><td>199.00</td><td>manas.png</td><td>Rashmirathi</td><td>Reena</td><td>4</td></tr><tr><td>Manas</td><td>Vivek Dutta Mishra</td><td>199.00</td><td>manas.png</td><td>Rashmirathi</td><td>Amit</td><td>3</td></tr><tr><td>Manas</td><td>Vivek Dutta Mishra</td><td>199.00</td><td>manas.png</td><td>The Count of Monte Cristo</td><td>Vivek</td><td>5</td></tr><tr><td>Manas</td><td>Vivek Dutta Mishra</td><td>199.00</td><td>manas.png</td><td>The Count of Monte Cristo</td><td>Reena</td><td>4</td></tr><tr><td>Manas</td><td>Vivek Dutta Mishra</td><td>199.00</td><td>manas.png</td><td>The Count of Monte Cristo</td><td>Shivanshi</td><td>4</td></tr><tr><td>Rashmirathi</td><td>Ramdhari Singh Dinkar</td><td>99.00</td><td>rashmirath.png</td><td>The Accursed God</td><td>Sanjay</td><td>5</td></tr><tr><td>Rashmirathi</td><td>Ramdhari Singh Dinkar</td><td>99.00</td><td>rashmirath.png</td><td>The Accursed God</td><td>Shivanshi</td><td>3</td></tr><tr><td>Rashmirathi</td><td>Ramdhari Singh Dinkar</td><td>99.00</td><td>rashmirath.png</td><td>The Accursed God</td><td>Amit</td><td>5</td></tr><tr><td>Rashmirathi</td><td>Ramdhari Singh Dinkar</td><td>99.00</td><td>rashmirath.png</td><td>The Accursed God</td><td>Rajesh</td><td>5</td></tr><tr><td>Rashmirathi</td><td>Ramdhari Singh Dinkar</td><td>99.00</td><td>rashmirath.png</td><td>Manas</td><td>Shivanshi</td><td>5</td></tr><tr><td>Rashmirathi</td><td>Ramdhari Singh Dinkar</td><td>99.00</td><td>rashmirath.png</td><td>Manas</td><td>Reena</td><td>4</td></tr><tr><td>Rashmirathi</td><td>Ramdhari Singh Dinkar</td><td>99.00</td><td>rashmirath.png</td><td>Manas</td><td>Sanjay</td><td>4</td></tr><tr><td>Rashmirathi</td><td>Ramdhari Singh Dinkar</td><td>99.00</td><td>rashmirath.png</td><td>Rashmirathi</td><td>Shivanshi</td><td>4</td></tr><tr><td>Rashmirathi</td><td>Ramdhari Singh Dinkar</td><td>99.00</td><td>rashmirath.png</td><td>Rashmirathi</td><td>Vivek</td><td>4</td></tr><tr><td>Rashmirathi</td><td>Ramdhari Singh Dinkar</td><td>99.00</td><td>rashmirath.png</td><td>Rashmirathi</td><td>Reena</td><td>4</td></tr><tr><td>Rashmirathi</td><td>Ramdhari Singh Dinkar</td><td>99.00</td><td>rashmirath.png</td><td>Rashmirathi</td><td>Amit</td><td>3</td></tr><tr><td>Rashmirathi</td><td>Ramdhari Singh Dinkar</td><td>99.00</td><td>rashmirath.png</td><td>The Count of Monte Cristo</td><td>Vivek</td><td>5</td></tr><tr><td>Rashmirathi</td><td>Ramdhari Singh Dinkar</td><td>99.00</td><td>rashmirath.png</td><td>The Count of Monte Cristo</td><td>Reena</td><td>4</td></tr><tr><td>Rashmirathi</td><td>Ramdhari Singh Dinkar</td><td>99.00</td><td>rashmirath.png</td><td>The Count of Monte Cristo</td><td>Shivanshi</td><td>4</td></tr><tr><td>The Count of Monte Cristo</td><td>Alexandre Dumas</td><td>499.00</td><td>cristo.png</td><td>The Accursed God</td><td>Sanjay</td><td>5</td></tr><tr><td>The Count of Monte Cristo</td><td>Alexandre Dumas</td><td>499.00</td><td>cristo.png</td><td>The Accursed God</td><td>Shivanshi</td><td>3</td></tr><tr><td>The Count of Monte Cristo</td><td>Alexandre Dumas</td><td>499.00</td><td>cristo.png</td><td>The Accursed God</td><td>Amit</td><td>5</td></tr><tr><td>The Count of Monte Cristo</td><td>Alexandre Dumas</td><td>499.00</td><td>cristo.png</td><td>The Accursed God</td><td>Rajesh</td><td>5</td></tr><tr><td>The Count of Monte Cristo</td><td>Alexandre Dumas</td><td>499.00</td><td>cristo.png</td><td>Manas</td><td>Shivanshi</td><td>5</td></tr><tr><td>The Count of Monte Cristo</td><td>Alexandre Dumas</td><td>499.00</td><td>cristo.png</td><td>Manas</td><td>Reena</td><td>4</td></tr><tr><td>The Count of Monte Cristo</td><td>Alexandre Dumas</td><td>499.00</td><td>cristo.png</td><td>Manas</td><td>Sanjay</td><td>4</td></tr><tr><td>The Count of Monte Cristo</td><td>Alexandre Dumas</td><td>499.00</td><td>cristo.png</td><td>Rashmirathi</td><td>Shivanshi</td><td>4</td></tr><tr><td>The Count of Monte Cristo</td><td>Alexandre Dumas</td><td>499.00</td><td>cristo.png</td><td>Rashmirathi</td><td>Vivek</td><td>4</td></tr><tr><td>The Count of Monte Cristo</td><td>Alexandre Dumas</td><td>499.00</td><td>cristo.png</td><td>Rashmirathi</td><td>Reena</td><td>4</td></tr><tr><td>The Count of Monte Cristo</td><td>Alexandre Dumas</td><td>499.00</td><td>cristo.png</td><td>Rashmirathi</td><td>Amit</td><td>3</td></tr><tr><td>The Count of Monte Cristo</td><td>Alexandre Dumas</td><td>499.00</td><td>cristo.png</td><td>The Count of Monte Cristo</td><td>Vivek</td><td>5</td></tr><tr><td>The Count of Monte Cristo</td><td>Alexandre Dumas</td><td>499.00</td><td>cristo.png</td><td>The Count of Monte Cristo</td><td>Reena</td><td>4</td></tr><tr><td>The Count of Monte Cristo</td><td>Alexandre Dumas</td><td>499.00</td><td>cristo.png</td><td>The Count of Monte Cristo</td><td>Shivanshi</td><td>4</td></tr></table>"
                    },
                    "metadata": {}
                }
            ],
            "execution_count": 38
        },
        {
            "cell_type": "code",
            "source": [
                "SELECT COUNT(*) AS BOOK_COUNT FROM BOOKS;\r\n",
                "SELECT COUNT(*) AS REVIEWS_COUNT FROM REVIEWS;\r\n",
                "SELECT COUNT(*) AS COMBINED_RESULT FROM BOOKS,REVIEWS;"
            ],
            "metadata": {
                "azdata_cell_guid": "6db766ce-13ad-4f38-b5fe-1e26eb407511",
                "language": "sql"
            },
            "outputs": [
                {
                    "output_type": "display_data",
                    "data": {
                        "text/html": "(1 row affected)"
                    },
                    "metadata": {}
                },
                {
                    "output_type": "display_data",
                    "data": {
                        "text/html": "(1 row affected)"
                    },
                    "metadata": {}
                },
                {
                    "output_type": "display_data",
                    "data": {
                        "text/html": "(1 row affected)"
                    },
                    "metadata": {}
                },
                {
                    "output_type": "display_data",
                    "data": {
                        "text/html": "Total execution time: 00:00:00.007"
                    },
                    "metadata": {}
                },
                {
                    "output_type": "execute_result",
                    "execution_count": 39,
                    "data": {
                        "application/vnd.dataresource+json": {
                            "schema": {
                                "fields": [
                                    {
                                        "name": "BOOK_COUNT"
                                    }
                                ]
                            },
                            "data": [
                                {
                                    "BOOK_COUNT": "4"
                                }
                            ]
                        },
                        "text/html": "<table><tr><th>BOOK_COUNT</th></tr><tr><td>4</td></tr></table>"
                    },
                    "metadata": {}
                },
                {
                    "output_type": "execute_result",
                    "execution_count": 39,
                    "data": {
                        "application/vnd.dataresource+json": {
                            "schema": {
                                "fields": [
                                    {
                                        "name": "REVIEWS_COUNT"
                                    }
                                ]
                            },
                            "data": [
                                {
                                    "REVIEWS_COUNT": "14"
                                }
                            ]
                        },
                        "text/html": "<table><tr><th>REVIEWS_COUNT</th></tr><tr><td>14</td></tr></table>"
                    },
                    "metadata": {}
                },
                {
                    "output_type": "execute_result",
                    "execution_count": 39,
                    "data": {
                        "application/vnd.dataresource+json": {
                            "schema": {
                                "fields": [
                                    {
                                        "name": "COMBINED_RESULT"
                                    }
                                ]
                            },
                            "data": [
                                {
                                    "COMBINED_RESULT": "56"
                                }
                            ]
                        },
                        "text/html": "<table><tr><th>COMBINED_RESULT</th></tr><tr><td>56</td></tr></table>"
                    },
                    "metadata": {}
                }
            ],
            "execution_count": 39
        },
        {
            "cell_type": "markdown",
            "source": [
                "# What have we got?\n",
                "\n",
                "  \n",
                "\n",
                "- Result of any select will always be **Rectangluar** (Tabular)\n",
                "- Each Row will have same number of columns\n",
                "- Now we have two tables with different rows and columns\n",
                "    - Books-\\> 4 rows\n",
                "    - Reviews --\\>14 rows\n",
                "- The overall result will be a cartisian product of two tables\n",
                "    - 14\\*4=56\n",
                "- This result matches each row of first table with each row of second table\n",
                "    - And this result is completely meaningless.\n",
                "\n",
                "  \n",
                "\n",
                "# Solution - We can filter the result using Where Clause on relational column"
            ],
            "metadata": {
                "azdata_cell_guid": "ee550011-37f3-46b9-88db-95e36b1cb80c"
            },
            "attachments": {}
        },
        {
            "cell_type": "code",
            "source": [
                "SELECT\r\n",
                "    TITLE,\r\n",
                "    AUTHOR,\r\n",
                "    PRICE,\r\n",
                "    COVER,\r\n",
                "    REVIEWER,\r\n",
                "    RATING\r\n",
                "FROM\r\n",
                "    BOOKS,\r\n",
                "    REVIEWS\r\n",
                "WHERE\r\n",
                "    TITLE=BOOK_TITLE"
            ],
            "metadata": {
                "azdata_cell_guid": "1119b2fe-e808-4ada-83e6-352df14c4a34",
                "language": "sql"
            },
            "outputs": [
                {
                    "output_type": "display_data",
                    "data": {
                        "text/html": "(14 rows affected)"
                    },
                    "metadata": {}
                },
                {
                    "output_type": "display_data",
                    "data": {
                        "text/html": "Total execution time: 00:00:00.013"
                    },
                    "metadata": {}
                },
                {
                    "output_type": "execute_result",
                    "execution_count": 40,
                    "data": {
                        "application/vnd.dataresource+json": {
                            "schema": {
                                "fields": [
                                    {
                                        "name": "TITLE"
                                    },
                                    {
                                        "name": "AUTHOR"
                                    },
                                    {
                                        "name": "PRICE"
                                    },
                                    {
                                        "name": "COVER"
                                    },
                                    {
                                        "name": "REVIEWER"
                                    },
                                    {
                                        "name": "RATING"
                                    }
                                ]
                            },
                            "data": [
                                {
                                    "TITLE": "The Accursed God",
                                    "AUTHOR": "Vivek Dutta Mishra",
                                    "PRICE": "299.00",
                                    "COVER": "tag.png",
                                    "REVIEWER": "Sanjay",
                                    "RATING": "5"
                                },
                                {
                                    "TITLE": "The Accursed God",
                                    "AUTHOR": "Vivek Dutta Mishra",
                                    "PRICE": "299.00",
                                    "COVER": "tag.png",
                                    "REVIEWER": "Shivanshi",
                                    "RATING": "3"
                                },
                                {
                                    "TITLE": "The Accursed God",
                                    "AUTHOR": "Vivek Dutta Mishra",
                                    "PRICE": "299.00",
                                    "COVER": "tag.png",
                                    "REVIEWER": "Amit",
                                    "RATING": "5"
                                },
                                {
                                    "TITLE": "The Accursed God",
                                    "AUTHOR": "Vivek Dutta Mishra",
                                    "PRICE": "299.00",
                                    "COVER": "tag.png",
                                    "REVIEWER": "Rajesh",
                                    "RATING": "5"
                                },
                                {
                                    "TITLE": "Manas",
                                    "AUTHOR": "Vivek Dutta Mishra",
                                    "PRICE": "199.00",
                                    "COVER": "manas.png",
                                    "REVIEWER": "Shivanshi",
                                    "RATING": "5"
                                },
                                {
                                    "TITLE": "Manas",
                                    "AUTHOR": "Vivek Dutta Mishra",
                                    "PRICE": "199.00",
                                    "COVER": "manas.png",
                                    "REVIEWER": "Reena",
                                    "RATING": "4"
                                },
                                {
                                    "TITLE": "Manas",
                                    "AUTHOR": "Vivek Dutta Mishra",
                                    "PRICE": "199.00",
                                    "COVER": "manas.png",
                                    "REVIEWER": "Sanjay",
                                    "RATING": "4"
                                },
                                {
                                    "TITLE": "Rashmirathi",
                                    "AUTHOR": "Ramdhari Singh Dinkar",
                                    "PRICE": "99.00",
                                    "COVER": "rashmirath.png",
                                    "REVIEWER": "Shivanshi",
                                    "RATING": "4"
                                },
                                {
                                    "TITLE": "Rashmirathi",
                                    "AUTHOR": "Ramdhari Singh Dinkar",
                                    "PRICE": "99.00",
                                    "COVER": "rashmirath.png",
                                    "REVIEWER": "Vivek",
                                    "RATING": "4"
                                },
                                {
                                    "TITLE": "Rashmirathi",
                                    "AUTHOR": "Ramdhari Singh Dinkar",
                                    "PRICE": "99.00",
                                    "COVER": "rashmirath.png",
                                    "REVIEWER": "Reena",
                                    "RATING": "4"
                                },
                                {
                                    "TITLE": "Rashmirathi",
                                    "AUTHOR": "Ramdhari Singh Dinkar",
                                    "PRICE": "99.00",
                                    "COVER": "rashmirath.png",
                                    "REVIEWER": "Amit",
                                    "RATING": "3"
                                },
                                {
                                    "TITLE": "The Count of Monte Cristo",
                                    "AUTHOR": "Alexandre Dumas",
                                    "PRICE": "499.00",
                                    "COVER": "cristo.png",
                                    "REVIEWER": "Vivek",
                                    "RATING": "5"
                                },
                                {
                                    "TITLE": "The Count of Monte Cristo",
                                    "AUTHOR": "Alexandre Dumas",
                                    "PRICE": "499.00",
                                    "COVER": "cristo.png",
                                    "REVIEWER": "Reena",
                                    "RATING": "4"
                                },
                                {
                                    "TITLE": "The Count of Monte Cristo",
                                    "AUTHOR": "Alexandre Dumas",
                                    "PRICE": "499.00",
                                    "COVER": "cristo.png",
                                    "REVIEWER": "Shivanshi",
                                    "RATING": "4"
                                }
                            ]
                        },
                        "text/html": "<table><tr><th>TITLE</th><th>AUTHOR</th><th>PRICE</th><th>COVER</th><th>REVIEWER</th><th>RATING</th></tr><tr><td>The Accursed God</td><td>Vivek Dutta Mishra</td><td>299.00</td><td>tag.png</td><td>Sanjay</td><td>5</td></tr><tr><td>The Accursed God</td><td>Vivek Dutta Mishra</td><td>299.00</td><td>tag.png</td><td>Shivanshi</td><td>3</td></tr><tr><td>The Accursed God</td><td>Vivek Dutta Mishra</td><td>299.00</td><td>tag.png</td><td>Amit</td><td>5</td></tr><tr><td>The Accursed God</td><td>Vivek Dutta Mishra</td><td>299.00</td><td>tag.png</td><td>Rajesh</td><td>5</td></tr><tr><td>Manas</td><td>Vivek Dutta Mishra</td><td>199.00</td><td>manas.png</td><td>Shivanshi</td><td>5</td></tr><tr><td>Manas</td><td>Vivek Dutta Mishra</td><td>199.00</td><td>manas.png</td><td>Reena</td><td>4</td></tr><tr><td>Manas</td><td>Vivek Dutta Mishra</td><td>199.00</td><td>manas.png</td><td>Sanjay</td><td>4</td></tr><tr><td>Rashmirathi</td><td>Ramdhari Singh Dinkar</td><td>99.00</td><td>rashmirath.png</td><td>Shivanshi</td><td>4</td></tr><tr><td>Rashmirathi</td><td>Ramdhari Singh Dinkar</td><td>99.00</td><td>rashmirath.png</td><td>Vivek</td><td>4</td></tr><tr><td>Rashmirathi</td><td>Ramdhari Singh Dinkar</td><td>99.00</td><td>rashmirath.png</td><td>Reena</td><td>4</td></tr><tr><td>Rashmirathi</td><td>Ramdhari Singh Dinkar</td><td>99.00</td><td>rashmirath.png</td><td>Amit</td><td>3</td></tr><tr><td>The Count of Monte Cristo</td><td>Alexandre Dumas</td><td>499.00</td><td>cristo.png</td><td>Vivek</td><td>5</td></tr><tr><td>The Count of Monte Cristo</td><td>Alexandre Dumas</td><td>499.00</td><td>cristo.png</td><td>Reena</td><td>4</td></tr><tr><td>The Count of Monte Cristo</td><td>Alexandre Dumas</td><td>499.00</td><td>cristo.png</td><td>Shivanshi</td><td>4</td></tr></table>"
                    },
                    "metadata": {}
                }
            ],
            "execution_count": 40
        },
        {
            "cell_type": "markdown",
            "source": [
                "# We can now add additional filtering/grouping to get desired data\n",
                "\n",
                "  \n",
                "\n",
                "### Example 1 --\\> Get All Books By a Give Author"
            ],
            "metadata": {
                "azdata_cell_guid": "0355f11b-c207-403c-a5f9-d236ce983cb1",
                "language": ""
            },
            "attachments": {}
        },
        {
            "cell_type": "code",
            "source": [
                "SELECT\r\n",
                "    TITLE,\r\n",
                "    AUTHOR,\r\n",
                "    PRICE,\r\n",
                "    COVER,\r\n",
                "    REVIEWER,\r\n",
                "    RATING\r\n",
                "FROM\r\n",
                "    BOOKS,\r\n",
                "    REVIEWS\r\n",
                "WHERE\r\n",
                "    TITLE=BOOK_TITLE\r\n",
                "    AND\r\n",
                "    AUTHOR LIKE 'Vivek%'\r\n",
                "    \r\n",
                "\r\n",
                "\r\n",
                "\r\n",
                ""
            ],
            "metadata": {
                "azdata_cell_guid": "c1b91c6b-695d-42bf-99bf-e73567bee06f",
                "language": "sql"
            },
            "outputs": [
                {
                    "output_type": "display_data",
                    "data": {
                        "text/html": "(7 rows affected)"
                    },
                    "metadata": {}
                },
                {
                    "output_type": "display_data",
                    "data": {
                        "text/html": "Total execution time: 00:00:00.017"
                    },
                    "metadata": {}
                },
                {
                    "output_type": "execute_result",
                    "execution_count": 41,
                    "data": {
                        "application/vnd.dataresource+json": {
                            "schema": {
                                "fields": [
                                    {
                                        "name": "TITLE"
                                    },
                                    {
                                        "name": "AUTHOR"
                                    },
                                    {
                                        "name": "PRICE"
                                    },
                                    {
                                        "name": "COVER"
                                    },
                                    {
                                        "name": "REVIEWER"
                                    },
                                    {
                                        "name": "RATING"
                                    }
                                ]
                            },
                            "data": [
                                {
                                    "TITLE": "The Accursed God",
                                    "AUTHOR": "Vivek Dutta Mishra",
                                    "PRICE": "299.00",
                                    "COVER": "tag.png",
                                    "REVIEWER": "Sanjay",
                                    "RATING": "5"
                                },
                                {
                                    "TITLE": "The Accursed God",
                                    "AUTHOR": "Vivek Dutta Mishra",
                                    "PRICE": "299.00",
                                    "COVER": "tag.png",
                                    "REVIEWER": "Shivanshi",
                                    "RATING": "3"
                                },
                                {
                                    "TITLE": "The Accursed God",
                                    "AUTHOR": "Vivek Dutta Mishra",
                                    "PRICE": "299.00",
                                    "COVER": "tag.png",
                                    "REVIEWER": "Amit",
                                    "RATING": "5"
                                },
                                {
                                    "TITLE": "The Accursed God",
                                    "AUTHOR": "Vivek Dutta Mishra",
                                    "PRICE": "299.00",
                                    "COVER": "tag.png",
                                    "REVIEWER": "Rajesh",
                                    "RATING": "5"
                                },
                                {
                                    "TITLE": "Manas",
                                    "AUTHOR": "Vivek Dutta Mishra",
                                    "PRICE": "199.00",
                                    "COVER": "manas.png",
                                    "REVIEWER": "Shivanshi",
                                    "RATING": "5"
                                },
                                {
                                    "TITLE": "Manas",
                                    "AUTHOR": "Vivek Dutta Mishra",
                                    "PRICE": "199.00",
                                    "COVER": "manas.png",
                                    "REVIEWER": "Reena",
                                    "RATING": "4"
                                },
                                {
                                    "TITLE": "Manas",
                                    "AUTHOR": "Vivek Dutta Mishra",
                                    "PRICE": "199.00",
                                    "COVER": "manas.png",
                                    "REVIEWER": "Sanjay",
                                    "RATING": "4"
                                }
                            ]
                        },
                        "text/html": "<table><tr><th>TITLE</th><th>AUTHOR</th><th>PRICE</th><th>COVER</th><th>REVIEWER</th><th>RATING</th></tr><tr><td>The Accursed God</td><td>Vivek Dutta Mishra</td><td>299.00</td><td>tag.png</td><td>Sanjay</td><td>5</td></tr><tr><td>The Accursed God</td><td>Vivek Dutta Mishra</td><td>299.00</td><td>tag.png</td><td>Shivanshi</td><td>3</td></tr><tr><td>The Accursed God</td><td>Vivek Dutta Mishra</td><td>299.00</td><td>tag.png</td><td>Amit</td><td>5</td></tr><tr><td>The Accursed God</td><td>Vivek Dutta Mishra</td><td>299.00</td><td>tag.png</td><td>Rajesh</td><td>5</td></tr><tr><td>Manas</td><td>Vivek Dutta Mishra</td><td>199.00</td><td>manas.png</td><td>Shivanshi</td><td>5</td></tr><tr><td>Manas</td><td>Vivek Dutta Mishra</td><td>199.00</td><td>manas.png</td><td>Reena</td><td>4</td></tr><tr><td>Manas</td><td>Vivek Dutta Mishra</td><td>199.00</td><td>manas.png</td><td>Sanjay</td><td>4</td></tr></table>"
                    },
                    "metadata": {}
                }
            ],
            "execution_count": 41
        },
        {
            "cell_type": "markdown",
            "source": [
                "### Get All Reviews By Sanjay or Shivanshi"
            ],
            "metadata": {
                "azdata_cell_guid": "5c40bfd2-a1b0-4ae0-b909-faf895508f1a",
                "language": ""
            },
            "attachments": {}
        },
        {
            "cell_type": "code",
            "source": [
                "SELECT\r\n",
                "    TITLE,\r\n",
                "    AUTHOR,\r\n",
                "    PRICE,\r\n",
                "    COVER,\r\n",
                "    REVIEWER,\r\n",
                "    RATING\r\n",
                "FROM\r\n",
                "    BOOKS,\r\n",
                "    REVIEWS\r\n",
                "WHERE\r\n",
                "    TITLE=BOOK_TITLE\r\n",
                "    AND\r\n",
                "    REVIEWER IN ('Sanjay','Shivanshi')\r\n",
                "    \r\n",
                "\r\n",
                "\r\n",
                "\r\n",
                ""
            ],
            "metadata": {
                "azdata_cell_guid": "c70e57f1-07da-4397-b800-6d4ffc5c7b66",
                "language": "sql"
            },
            "outputs": [
                {
                    "output_type": "display_data",
                    "data": {
                        "text/html": "(6 rows affected)"
                    },
                    "metadata": {}
                },
                {
                    "output_type": "display_data",
                    "data": {
                        "text/html": "Total execution time: 00:00:00.017"
                    },
                    "metadata": {}
                },
                {
                    "output_type": "execute_result",
                    "execution_count": 42,
                    "data": {
                        "application/vnd.dataresource+json": {
                            "schema": {
                                "fields": [
                                    {
                                        "name": "TITLE"
                                    },
                                    {
                                        "name": "AUTHOR"
                                    },
                                    {
                                        "name": "PRICE"
                                    },
                                    {
                                        "name": "COVER"
                                    },
                                    {
                                        "name": "REVIEWER"
                                    },
                                    {
                                        "name": "RATING"
                                    }
                                ]
                            },
                            "data": [
                                {
                                    "TITLE": "The Accursed God",
                                    "AUTHOR": "Vivek Dutta Mishra",
                                    "PRICE": "299.00",
                                    "COVER": "tag.png",
                                    "REVIEWER": "Sanjay",
                                    "RATING": "5"
                                },
                                {
                                    "TITLE": "The Accursed God",
                                    "AUTHOR": "Vivek Dutta Mishra",
                                    "PRICE": "299.00",
                                    "COVER": "tag.png",
                                    "REVIEWER": "Shivanshi",
                                    "RATING": "3"
                                },
                                {
                                    "TITLE": "Manas",
                                    "AUTHOR": "Vivek Dutta Mishra",
                                    "PRICE": "199.00",
                                    "COVER": "manas.png",
                                    "REVIEWER": "Shivanshi",
                                    "RATING": "5"
                                },
                                {
                                    "TITLE": "Manas",
                                    "AUTHOR": "Vivek Dutta Mishra",
                                    "PRICE": "199.00",
                                    "COVER": "manas.png",
                                    "REVIEWER": "Sanjay",
                                    "RATING": "4"
                                },
                                {
                                    "TITLE": "Rashmirathi",
                                    "AUTHOR": "Ramdhari Singh Dinkar",
                                    "PRICE": "99.00",
                                    "COVER": "rashmirath.png",
                                    "REVIEWER": "Shivanshi",
                                    "RATING": "4"
                                },
                                {
                                    "TITLE": "The Count of Monte Cristo",
                                    "AUTHOR": "Alexandre Dumas",
                                    "PRICE": "499.00",
                                    "COVER": "cristo.png",
                                    "REVIEWER": "Shivanshi",
                                    "RATING": "4"
                                }
                            ]
                        },
                        "text/html": "<table><tr><th>TITLE</th><th>AUTHOR</th><th>PRICE</th><th>COVER</th><th>REVIEWER</th><th>RATING</th></tr><tr><td>The Accursed God</td><td>Vivek Dutta Mishra</td><td>299.00</td><td>tag.png</td><td>Sanjay</td><td>5</td></tr><tr><td>The Accursed God</td><td>Vivek Dutta Mishra</td><td>299.00</td><td>tag.png</td><td>Shivanshi</td><td>3</td></tr><tr><td>Manas</td><td>Vivek Dutta Mishra</td><td>199.00</td><td>manas.png</td><td>Shivanshi</td><td>5</td></tr><tr><td>Manas</td><td>Vivek Dutta Mishra</td><td>199.00</td><td>manas.png</td><td>Sanjay</td><td>4</td></tr><tr><td>Rashmirathi</td><td>Ramdhari Singh Dinkar</td><td>99.00</td><td>rashmirath.png</td><td>Shivanshi</td><td>4</td></tr><tr><td>The Count of Monte Cristo</td><td>Alexandre Dumas</td><td>499.00</td><td>cristo.png</td><td>Shivanshi</td><td>4</td></tr></table>"
                    },
                    "metadata": {}
                }
            ],
            "execution_count": 42
        },
        {
            "cell_type": "markdown",
            "source": [
                "## Where Clause Revisited\n",
                "\n",
                "- In Our examples We are having Two conditions in the where Clause Joined by AND\n",
                "    - WHERE\n",
                "1. TITLE=BOOK\\_TITLE\n",
                "2. REVIEWER IN ('Shivanshi', 'Sanjay')\n",
                "\n",
                "- Here The **Second** condition is a **Real** Filtering clause\n",
                "    - This is a set of data Business is looking for.\n",
                "- First condition is **NOT**  a condition by the .\n",
                "    - It exists to **JOIN/Combine** Two tables in a meaningful way\n",
                "    - It is always required when we have two fields\n",
                "- This makes where clause ambigous\n",
                "    - What is a relational joiner\n",
                "    - What is a real condition we need.\n",
                "\n",
                "  \n",
                "\n",
                "# JOIN Statement\n",
                "\n",
                "- Join Clause is a part of SELECT for specifically JOINING two or more tables on given condition (Relational)\n",
                "- The main job is to separate the use case of FILTERING (WHERE) AND COMBINING(JOIN)\n",
                "\n",
                "  \n",
                "\n",
                "  \n",
                "\n",
                "  \n",
                "\n",
                "## REPLACING WHERE WITH JOIN TO COMBINE TABLE"
            ],
            "metadata": {
                "azdata_cell_guid": "f5ebdc7b-63dc-43d4-b549-6aeaac4d815e"
            },
            "attachments": {}
        },
        {
            "cell_type": "code",
            "source": [
                "/*\r\n",
                "SELECT\r\n",
                "    TITLE,    \r\n",
                "    REVIEWER,\r\n",
                "    RATING\r\n",
                "FROM\r\n",
                "    BOOKS,\r\n",
                "    REVIEWS\r\n",
                "WHERE\r\n",
                "    TITLE=BOOK_TITLE\r\n",
                "*/\r\n",
                "\r\n",
                "SELECT\r\n",
                "    TITLE,    \r\n",
                "    REVIEWER,\r\n",
                "    RATING\r\n",
                "FROM\r\n",
                "    BOOKS\r\n",
                "JOIN\r\n",
                "    REVIEWS\r\n",
                "ON\r\n",
                "    TITLE=BOOK_TITLE\r\n",
                ""
            ],
            "metadata": {
                "azdata_cell_guid": "952ec798-f3c4-4949-ad19-35587a6c0fbe",
                "language": "sql"
            },
            "outputs": [
                {
                    "output_type": "display_data",
                    "data": {
                        "text/html": "(14 rows affected)"
                    },
                    "metadata": {}
                },
                {
                    "output_type": "display_data",
                    "data": {
                        "text/html": "Total execution time: 00:00:00.009"
                    },
                    "metadata": {}
                },
                {
                    "output_type": "execute_result",
                    "execution_count": 43,
                    "data": {
                        "application/vnd.dataresource+json": {
                            "schema": {
                                "fields": [
                                    {
                                        "name": "TITLE"
                                    },
                                    {
                                        "name": "REVIEWER"
                                    },
                                    {
                                        "name": "RATING"
                                    }
                                ]
                            },
                            "data": [
                                {
                                    "TITLE": "The Accursed God",
                                    "REVIEWER": "Sanjay",
                                    "RATING": "5"
                                },
                                {
                                    "TITLE": "The Accursed God",
                                    "REVIEWER": "Shivanshi",
                                    "RATING": "3"
                                },
                                {
                                    "TITLE": "The Accursed God",
                                    "REVIEWER": "Amit",
                                    "RATING": "5"
                                },
                                {
                                    "TITLE": "The Accursed God",
                                    "REVIEWER": "Rajesh",
                                    "RATING": "5"
                                },
                                {
                                    "TITLE": "Manas",
                                    "REVIEWER": "Shivanshi",
                                    "RATING": "5"
                                },
                                {
                                    "TITLE": "Manas",
                                    "REVIEWER": "Reena",
                                    "RATING": "4"
                                },
                                {
                                    "TITLE": "Manas",
                                    "REVIEWER": "Sanjay",
                                    "RATING": "4"
                                },
                                {
                                    "TITLE": "Rashmirathi",
                                    "REVIEWER": "Shivanshi",
                                    "RATING": "4"
                                },
                                {
                                    "TITLE": "Rashmirathi",
                                    "REVIEWER": "Vivek",
                                    "RATING": "4"
                                },
                                {
                                    "TITLE": "Rashmirathi",
                                    "REVIEWER": "Reena",
                                    "RATING": "4"
                                },
                                {
                                    "TITLE": "Rashmirathi",
                                    "REVIEWER": "Amit",
                                    "RATING": "3"
                                },
                                {
                                    "TITLE": "The Count of Monte Cristo",
                                    "REVIEWER": "Vivek",
                                    "RATING": "5"
                                },
                                {
                                    "TITLE": "The Count of Monte Cristo",
                                    "REVIEWER": "Reena",
                                    "RATING": "4"
                                },
                                {
                                    "TITLE": "The Count of Monte Cristo",
                                    "REVIEWER": "Shivanshi",
                                    "RATING": "4"
                                }
                            ]
                        },
                        "text/html": "<table><tr><th>TITLE</th><th>REVIEWER</th><th>RATING</th></tr><tr><td>The Accursed God</td><td>Sanjay</td><td>5</td></tr><tr><td>The Accursed God</td><td>Shivanshi</td><td>3</td></tr><tr><td>The Accursed God</td><td>Amit</td><td>5</td></tr><tr><td>The Accursed God</td><td>Rajesh</td><td>5</td></tr><tr><td>Manas</td><td>Shivanshi</td><td>5</td></tr><tr><td>Manas</td><td>Reena</td><td>4</td></tr><tr><td>Manas</td><td>Sanjay</td><td>4</td></tr><tr><td>Rashmirathi</td><td>Shivanshi</td><td>4</td></tr><tr><td>Rashmirathi</td><td>Vivek</td><td>4</td></tr><tr><td>Rashmirathi</td><td>Reena</td><td>4</td></tr><tr><td>Rashmirathi</td><td>Amit</td><td>3</td></tr><tr><td>The Count of Monte Cristo</td><td>Vivek</td><td>5</td></tr><tr><td>The Count of Monte Cristo</td><td>Reena</td><td>4</td></tr><tr><td>The Count of Monte Cristo</td><td>Shivanshi</td><td>4</td></tr></table>"
                    },
                    "metadata": {}
                }
            ],
            "execution_count": 43
        },
        {
            "cell_type": "markdown",
            "source": [
                "## Combining Join (combine) and Where (filter)"
            ],
            "metadata": {
                "azdata_cell_guid": "5dd420d5-fe07-4caf-9814-1790b1801b7a"
            },
            "attachments": {}
        },
        {
            "cell_type": "code",
            "source": [
                "SELECT\r\n",
                "    TITLE,    \r\n",
                "    REVIEWER,\r\n",
                "    RATING\r\n",
                "FROM\r\n",
                "    BOOKS\r\n",
                "JOIN\r\n",
                "    REVIEWS\r\n",
                "ON\r\n",
                "    TITLE=BOOK_TITLE\r\n",
                "WHERE\r\n",
                "    RATING=4\r\n",
                "    AND\r\n",
                "    REVIEWER='Shivanshi'"
            ],
            "metadata": {
                "azdata_cell_guid": "439332a1-fca4-47d6-843a-9fc21e7d6009",
                "language": "sql"
            },
            "outputs": [
                {
                    "output_type": "display_data",
                    "data": {
                        "text/html": "(2 rows affected)"
                    },
                    "metadata": {}
                },
                {
                    "output_type": "display_data",
                    "data": {
                        "text/html": "Total execution time: 00:00:00.014"
                    },
                    "metadata": {}
                },
                {
                    "output_type": "execute_result",
                    "execution_count": 44,
                    "data": {
                        "application/vnd.dataresource+json": {
                            "schema": {
                                "fields": [
                                    {
                                        "name": "TITLE"
                                    },
                                    {
                                        "name": "REVIEWER"
                                    },
                                    {
                                        "name": "RATING"
                                    }
                                ]
                            },
                            "data": [
                                {
                                    "TITLE": "Rashmirathi",
                                    "REVIEWER": "Shivanshi",
                                    "RATING": "4"
                                },
                                {
                                    "TITLE": "The Count of Monte Cristo",
                                    "REVIEWER": "Shivanshi",
                                    "RATING": "4"
                                }
                            ]
                        },
                        "text/html": "<table><tr><th>TITLE</th><th>REVIEWER</th><th>RATING</th></tr><tr><td>Rashmirathi</td><td>Shivanshi</td><td>4</td></tr><tr><td>The Count of Monte Cristo</td><td>Shivanshi</td><td>4</td></tr></table>"
                    },
                    "metadata": {}
                }
            ],
            "execution_count": 44
        },
        {
            "cell_type": "markdown",
            "source": [
                "# DIFFERENT TYPE OF JOINS\n",
                "\n",
                "- RDBMS Supports Different Kind of JOINS\n",
                "    - Not all RDBMS supports All Joins\n",
                "- Important Joins\n",
                "1. <span style=\"color: var(--vscode-foreground);\">[INNER] JOIN</span>\n",
                "2. <span style=\"color: var(--vscode-foreground);\">LEFT [OUTER] JOIN</span>\n",
                "3. <span style=\"color: var(--vscode-foreground);\">RIGHT [OUTER] JOIN</span>\n",
                "4. <span style=\"color: var(--vscode-foreground);\">FULL&nbsp; [OUTER] JOIN</span>\n",
                "\n",
                "  \n",
                "\n",
                "### 1\\. INNER JOIN (Default)\n",
                "\n",
                "  \n",
                "\n",
                "- Returns rows only if the key is present on both sides\n",
                "    - It is like intersection\n",
                "\n",
                "  \n",
                "\n",
                "# 2\\. OUTER JOINS\n",
                "\n",
                "- Describes tables as LEFT OR RIGHT\n",
                "    - LEFT --\\> SUPPLIED BY FROM CLAUSE\n",
                "    - RIGHT --\\> SUPPLIED BY JOIN CLAUSE\n",
                "\n",
                "##   \n",
                "\n",
                "## 2.1 LEFT OUTER JOIN\n",
                "\n",
                "- Take all rows from the LEFT\n",
                "- If there is a corresponding row in the RIGHT, JOIN THEM\n",
                "- If there is no corresponding row in the RIGHT, FILL the cells with NULL\n",
                "- This is useful if the LEFT TABLE IS LIKELY TO HAVE VALUES NOT PRESENT IN THE RIGHT\n",
                "    - Example\n",
                "        - I may have books that are not yet reviewed."
            ],
            "metadata": {
                "language": "sql",
                "azdata_cell_guid": "679e7f94-f046-4e24-8965-72fb05ad3fbe"
            },
            "attachments": {}
        },
        {
            "cell_type": "code",
            "source": [
                "INSERT \r\n",
                "    INTO \r\n",
                "        BOOKS (TITLE, AUTHOR, PRICE, COVER)\r\n",
                "        VALUES\r\n",
                "                ('Brethren','John Grisham',350,'brethren.png'),\r\n",
                "                ('Summons', 'John Grishma',400,'summons.png');"
            ],
            "metadata": {
                "azdata_cell_guid": "2ae2cbc8-4116-4fcc-9ec6-8582d48c2bac",
                "language": "sql"
            },
            "outputs": [
                {
                    "output_type": "display_data",
                    "data": {
                        "text/html": "(2 rows affected)"
                    },
                    "metadata": {}
                },
                {
                    "output_type": "display_data",
                    "data": {
                        "text/html": "Total execution time: 00:00:00.012"
                    },
                    "metadata": {}
                }
            ],
            "execution_count": 45
        },
        {
            "cell_type": "markdown",
            "source": [
                "### 1\\. INNER JOIN (INNER WORD IS OPTIONAL)"
            ],
            "metadata": {
                "language": "sql",
                "azdata_cell_guid": "5dd58d8f-c51a-4705-9e79-2d255bf01065"
            },
            "attachments": {}
        },
        {
            "cell_type": "code",
            "source": [
                "SELECT \r\n",
                "    TITLE,\r\n",
                "    AUTHOR,\r\n",
                "    REVIEWER,\r\n",
                "    RATING\r\n",
                "FROM\r\n",
                "    BOOKS\r\n",
                "INNER JOIN\r\n",
                "    REVIEWS\r\n",
                "ON\r\n",
                "    TITLE=BOOK_TITLE\r\n",
                "    "
            ],
            "metadata": {
                "language": "sql",
                "azdata_cell_guid": "a3f7f9b8-5927-4e8f-87c0-aff9f7bd18f6"
            },
            "outputs": [
                {
                    "output_type": "display_data",
                    "data": {
                        "text/html": "(14 rows affected)"
                    },
                    "metadata": {}
                },
                {
                    "output_type": "display_data",
                    "data": {
                        "text/html": "Total execution time: 00:00:00.012"
                    },
                    "metadata": {}
                },
                {
                    "output_type": "execute_result",
                    "execution_count": 46,
                    "data": {
                        "application/vnd.dataresource+json": {
                            "schema": {
                                "fields": [
                                    {
                                        "name": "TITLE"
                                    },
                                    {
                                        "name": "AUTHOR"
                                    },
                                    {
                                        "name": "REVIEWER"
                                    },
                                    {
                                        "name": "RATING"
                                    }
                                ]
                            },
                            "data": [
                                {
                                    "TITLE": "The Accursed God",
                                    "AUTHOR": "Vivek Dutta Mishra",
                                    "REVIEWER": "Sanjay",
                                    "RATING": "5"
                                },
                                {
                                    "TITLE": "The Accursed God",
                                    "AUTHOR": "Vivek Dutta Mishra",
                                    "REVIEWER": "Shivanshi",
                                    "RATING": "3"
                                },
                                {
                                    "TITLE": "The Accursed God",
                                    "AUTHOR": "Vivek Dutta Mishra",
                                    "REVIEWER": "Amit",
                                    "RATING": "5"
                                },
                                {
                                    "TITLE": "The Accursed God",
                                    "AUTHOR": "Vivek Dutta Mishra",
                                    "REVIEWER": "Rajesh",
                                    "RATING": "5"
                                },
                                {
                                    "TITLE": "Manas",
                                    "AUTHOR": "Vivek Dutta Mishra",
                                    "REVIEWER": "Shivanshi",
                                    "RATING": "5"
                                },
                                {
                                    "TITLE": "Manas",
                                    "AUTHOR": "Vivek Dutta Mishra",
                                    "REVIEWER": "Reena",
                                    "RATING": "4"
                                },
                                {
                                    "TITLE": "Manas",
                                    "AUTHOR": "Vivek Dutta Mishra",
                                    "REVIEWER": "Sanjay",
                                    "RATING": "4"
                                },
                                {
                                    "TITLE": "Rashmirathi",
                                    "AUTHOR": "Ramdhari Singh Dinkar",
                                    "REVIEWER": "Shivanshi",
                                    "RATING": "4"
                                },
                                {
                                    "TITLE": "Rashmirathi",
                                    "AUTHOR": "Ramdhari Singh Dinkar",
                                    "REVIEWER": "Vivek",
                                    "RATING": "4"
                                },
                                {
                                    "TITLE": "Rashmirathi",
                                    "AUTHOR": "Ramdhari Singh Dinkar",
                                    "REVIEWER": "Reena",
                                    "RATING": "4"
                                },
                                {
                                    "TITLE": "Rashmirathi",
                                    "AUTHOR": "Ramdhari Singh Dinkar",
                                    "REVIEWER": "Amit",
                                    "RATING": "3"
                                },
                                {
                                    "TITLE": "The Count of Monte Cristo",
                                    "AUTHOR": "Alexandre Dumas",
                                    "REVIEWER": "Vivek",
                                    "RATING": "5"
                                },
                                {
                                    "TITLE": "The Count of Monte Cristo",
                                    "AUTHOR": "Alexandre Dumas",
                                    "REVIEWER": "Reena",
                                    "RATING": "4"
                                },
                                {
                                    "TITLE": "The Count of Monte Cristo",
                                    "AUTHOR": "Alexandre Dumas",
                                    "REVIEWER": "Shivanshi",
                                    "RATING": "4"
                                }
                            ]
                        },
                        "text/html": "<table><tr><th>TITLE</th><th>AUTHOR</th><th>REVIEWER</th><th>RATING</th></tr><tr><td>The Accursed God</td><td>Vivek Dutta Mishra</td><td>Sanjay</td><td>5</td></tr><tr><td>The Accursed God</td><td>Vivek Dutta Mishra</td><td>Shivanshi</td><td>3</td></tr><tr><td>The Accursed God</td><td>Vivek Dutta Mishra</td><td>Amit</td><td>5</td></tr><tr><td>The Accursed God</td><td>Vivek Dutta Mishra</td><td>Rajesh</td><td>5</td></tr><tr><td>Manas</td><td>Vivek Dutta Mishra</td><td>Shivanshi</td><td>5</td></tr><tr><td>Manas</td><td>Vivek Dutta Mishra</td><td>Reena</td><td>4</td></tr><tr><td>Manas</td><td>Vivek Dutta Mishra</td><td>Sanjay</td><td>4</td></tr><tr><td>Rashmirathi</td><td>Ramdhari Singh Dinkar</td><td>Shivanshi</td><td>4</td></tr><tr><td>Rashmirathi</td><td>Ramdhari Singh Dinkar</td><td>Vivek</td><td>4</td></tr><tr><td>Rashmirathi</td><td>Ramdhari Singh Dinkar</td><td>Reena</td><td>4</td></tr><tr><td>Rashmirathi</td><td>Ramdhari Singh Dinkar</td><td>Amit</td><td>3</td></tr><tr><td>The Count of Monte Cristo</td><td>Alexandre Dumas</td><td>Vivek</td><td>5</td></tr><tr><td>The Count of Monte Cristo</td><td>Alexandre Dumas</td><td>Reena</td><td>4</td></tr><tr><td>The Count of Monte Cristo</td><td>Alexandre Dumas</td><td>Shivanshi</td><td>4</td></tr></table>"
                    },
                    "metadata": {}
                }
            ],
            "execution_count": 46
        },
        {
            "cell_type": "markdown",
            "source": [
                "## 2\\. LEFT OUTER JOIN"
            ],
            "metadata": {
                "azdata_cell_guid": "2299fe18-f09e-4679-93b2-8e94851e0c1c"
            },
            "attachments": {}
        },
        {
            "cell_type": "code",
            "source": [
                "SELECT \r\n",
                "    TITLE,\r\n",
                "    AUTHOR,\r\n",
                "    REVIEWER,\r\n",
                "    RATING\r\n",
                "FROM\r\n",
                "    BOOKS\r\n",
                "LEFT OUTER JOIN\r\n",
                "    REVIEWS\r\n",
                "ON\r\n",
                "    TITLE=BOOK_TITLE"
            ],
            "metadata": {
                "azdata_cell_guid": "8adcfc75-0611-4e6f-9318-fa1f7d60642f",
                "language": "sql"
            },
            "outputs": [
                {
                    "output_type": "display_data",
                    "data": {
                        "text/html": "(16 rows affected)"
                    },
                    "metadata": {}
                },
                {
                    "output_type": "display_data",
                    "data": {
                        "text/html": "Total execution time: 00:00:00.013"
                    },
                    "metadata": {}
                },
                {
                    "output_type": "execute_result",
                    "execution_count": 47,
                    "data": {
                        "application/vnd.dataresource+json": {
                            "schema": {
                                "fields": [
                                    {
                                        "name": "TITLE"
                                    },
                                    {
                                        "name": "AUTHOR"
                                    },
                                    {
                                        "name": "REVIEWER"
                                    },
                                    {
                                        "name": "RATING"
                                    }
                                ]
                            },
                            "data": [
                                {
                                    "TITLE": "The Accursed God",
                                    "AUTHOR": "Vivek Dutta Mishra",
                                    "REVIEWER": "Sanjay",
                                    "RATING": "5"
                                },
                                {
                                    "TITLE": "The Accursed God",
                                    "AUTHOR": "Vivek Dutta Mishra",
                                    "REVIEWER": "Shivanshi",
                                    "RATING": "3"
                                },
                                {
                                    "TITLE": "The Accursed God",
                                    "AUTHOR": "Vivek Dutta Mishra",
                                    "REVIEWER": "Amit",
                                    "RATING": "5"
                                },
                                {
                                    "TITLE": "The Accursed God",
                                    "AUTHOR": "Vivek Dutta Mishra",
                                    "REVIEWER": "Rajesh",
                                    "RATING": "5"
                                },
                                {
                                    "TITLE": "Manas",
                                    "AUTHOR": "Vivek Dutta Mishra",
                                    "REVIEWER": "Shivanshi",
                                    "RATING": "5"
                                },
                                {
                                    "TITLE": "Manas",
                                    "AUTHOR": "Vivek Dutta Mishra",
                                    "REVIEWER": "Reena",
                                    "RATING": "4"
                                },
                                {
                                    "TITLE": "Manas",
                                    "AUTHOR": "Vivek Dutta Mishra",
                                    "REVIEWER": "Sanjay",
                                    "RATING": "4"
                                },
                                {
                                    "TITLE": "Rashmirathi",
                                    "AUTHOR": "Ramdhari Singh Dinkar",
                                    "REVIEWER": "Shivanshi",
                                    "RATING": "4"
                                },
                                {
                                    "TITLE": "Rashmirathi",
                                    "AUTHOR": "Ramdhari Singh Dinkar",
                                    "REVIEWER": "Vivek",
                                    "RATING": "4"
                                },
                                {
                                    "TITLE": "Rashmirathi",
                                    "AUTHOR": "Ramdhari Singh Dinkar",
                                    "REVIEWER": "Reena",
                                    "RATING": "4"
                                },
                                {
                                    "TITLE": "Rashmirathi",
                                    "AUTHOR": "Ramdhari Singh Dinkar",
                                    "REVIEWER": "Amit",
                                    "RATING": "3"
                                },
                                {
                                    "TITLE": "The Count of Monte Cristo",
                                    "AUTHOR": "Alexandre Dumas",
                                    "REVIEWER": "Vivek",
                                    "RATING": "5"
                                },
                                {
                                    "TITLE": "The Count of Monte Cristo",
                                    "AUTHOR": "Alexandre Dumas",
                                    "REVIEWER": "Reena",
                                    "RATING": "4"
                                },
                                {
                                    "TITLE": "The Count of Monte Cristo",
                                    "AUTHOR": "Alexandre Dumas",
                                    "REVIEWER": "Shivanshi",
                                    "RATING": "4"
                                },
                                {
                                    "TITLE": "Brethren",
                                    "AUTHOR": "John Grisham",
                                    "REVIEWER": "NULL",
                                    "RATING": "NULL"
                                },
                                {
                                    "TITLE": "Summons",
                                    "AUTHOR": "John Grishma",
                                    "REVIEWER": "NULL",
                                    "RATING": "NULL"
                                }
                            ]
                        },
                        "text/html": "<table><tr><th>TITLE</th><th>AUTHOR</th><th>REVIEWER</th><th>RATING</th></tr><tr><td>The Accursed God</td><td>Vivek Dutta Mishra</td><td>Sanjay</td><td>5</td></tr><tr><td>The Accursed God</td><td>Vivek Dutta Mishra</td><td>Shivanshi</td><td>3</td></tr><tr><td>The Accursed God</td><td>Vivek Dutta Mishra</td><td>Amit</td><td>5</td></tr><tr><td>The Accursed God</td><td>Vivek Dutta Mishra</td><td>Rajesh</td><td>5</td></tr><tr><td>Manas</td><td>Vivek Dutta Mishra</td><td>Shivanshi</td><td>5</td></tr><tr><td>Manas</td><td>Vivek Dutta Mishra</td><td>Reena</td><td>4</td></tr><tr><td>Manas</td><td>Vivek Dutta Mishra</td><td>Sanjay</td><td>4</td></tr><tr><td>Rashmirathi</td><td>Ramdhari Singh Dinkar</td><td>Shivanshi</td><td>4</td></tr><tr><td>Rashmirathi</td><td>Ramdhari Singh Dinkar</td><td>Vivek</td><td>4</td></tr><tr><td>Rashmirathi</td><td>Ramdhari Singh Dinkar</td><td>Reena</td><td>4</td></tr><tr><td>Rashmirathi</td><td>Ramdhari Singh Dinkar</td><td>Amit</td><td>3</td></tr><tr><td>The Count of Monte Cristo</td><td>Alexandre Dumas</td><td>Vivek</td><td>5</td></tr><tr><td>The Count of Monte Cristo</td><td>Alexandre Dumas</td><td>Reena</td><td>4</td></tr><tr><td>The Count of Monte Cristo</td><td>Alexandre Dumas</td><td>Shivanshi</td><td>4</td></tr><tr><td>Brethren</td><td>John Grisham</td><td>NULL</td><td>NULL</td></tr><tr><td>Summons</td><td>John Grishma</td><td>NULL</td><td>NULL</td></tr></table>"
                    },
                    "metadata": {}
                }
            ],
            "execution_count": 47
        },
        {
            "cell_type": "code",
            "source": [
                "INSERT \r\n",
                "    INTO REVIEWS(BOOK_TITLE, REVIEWER, RATING)\r\n",
                "    VALUES      \r\n",
                "            ('Kurukshetra', 'Vivek', 5),\r\n",
                "            ('Kurukshetra', 'Sanjay',3),\r\n",
                "            ('Kurukshetra', 'Shivanshi',4),\r\n",
                "            ('Kane And Abel', 'Reena',4);"
            ],
            "metadata": {
                "azdata_cell_guid": "97a8993c-157c-4301-b43f-ea8d9547963c",
                "language": "sql"
            },
            "outputs": [
                {
                    "output_type": "display_data",
                    "data": {
                        "text/html": "(4 rows affected)"
                    },
                    "metadata": {}
                },
                {
                    "output_type": "display_data",
                    "data": {
                        "text/html": "Total execution time: 00:00:00.011"
                    },
                    "metadata": {}
                }
            ],
            "execution_count": 48
        },
        {
            "cell_type": "markdown",
            "source": [
                "### Left Outer Join will not get unqiue data from right table"
            ],
            "metadata": {
                "azdata_cell_guid": "a3707aae-12db-4b93-b3bc-3d9a0fddc6e0"
            },
            "attachments": {}
        },
        {
            "cell_type": "code",
            "source": [
                "SELECT\r\n",
                "    TITLE,\r\n",
                "    BOOK_TITLE\r\n",
                "FROM\r\n",
                "    BOOKS\r\n",
                "LEFT JOIN \r\n",
                "    REVIEWS\r\n",
                "ON\r\n",
                "    TITLE=BOOK_TITLE\r\n",
                ""
            ],
            "metadata": {
                "language": "sql",
                "azdata_cell_guid": "f4b700ba-d2a7-4258-8cbb-c9af429cc521"
            },
            "outputs": [
                {
                    "output_type": "display_data",
                    "data": {
                        "text/html": "(16 rows affected)"
                    },
                    "metadata": {}
                },
                {
                    "output_type": "display_data",
                    "data": {
                        "text/html": "Total execution time: 00:00:00.038"
                    },
                    "metadata": {}
                },
                {
                    "output_type": "execute_result",
                    "execution_count": 49,
                    "data": {
                        "application/vnd.dataresource+json": {
                            "schema": {
                                "fields": [
                                    {
                                        "name": "TITLE"
                                    },
                                    {
                                        "name": "BOOK_TITLE"
                                    }
                                ]
                            },
                            "data": [
                                {
                                    "TITLE": "The Accursed God",
                                    "BOOK_TITLE": "The Accursed God"
                                },
                                {
                                    "TITLE": "The Accursed God",
                                    "BOOK_TITLE": "The Accursed God"
                                },
                                {
                                    "TITLE": "The Accursed God",
                                    "BOOK_TITLE": "The Accursed God"
                                },
                                {
                                    "TITLE": "The Accursed God",
                                    "BOOK_TITLE": "The Accursed God"
                                },
                                {
                                    "TITLE": "Manas",
                                    "BOOK_TITLE": "Manas"
                                },
                                {
                                    "TITLE": "Manas",
                                    "BOOK_TITLE": "Manas"
                                },
                                {
                                    "TITLE": "Manas",
                                    "BOOK_TITLE": "Manas"
                                },
                                {
                                    "TITLE": "Rashmirathi",
                                    "BOOK_TITLE": "Rashmirathi"
                                },
                                {
                                    "TITLE": "Rashmirathi",
                                    "BOOK_TITLE": "Rashmirathi"
                                },
                                {
                                    "TITLE": "Rashmirathi",
                                    "BOOK_TITLE": "Rashmirathi"
                                },
                                {
                                    "TITLE": "Rashmirathi",
                                    "BOOK_TITLE": "Rashmirathi"
                                },
                                {
                                    "TITLE": "The Count of Monte Cristo",
                                    "BOOK_TITLE": "The Count of Monte Cristo"
                                },
                                {
                                    "TITLE": "The Count of Monte Cristo",
                                    "BOOK_TITLE": "The Count of Monte Cristo"
                                },
                                {
                                    "TITLE": "The Count of Monte Cristo",
                                    "BOOK_TITLE": "The Count of Monte Cristo"
                                },
                                {
                                    "TITLE": "Brethren",
                                    "BOOK_TITLE": "NULL"
                                },
                                {
                                    "TITLE": "Summons",
                                    "BOOK_TITLE": "NULL"
                                }
                            ]
                        },
                        "text/html": "<table><tr><th>TITLE</th><th>BOOK_TITLE</th></tr><tr><td>The Accursed God</td><td>The Accursed God</td></tr><tr><td>The Accursed God</td><td>The Accursed God</td></tr><tr><td>The Accursed God</td><td>The Accursed God</td></tr><tr><td>The Accursed God</td><td>The Accursed God</td></tr><tr><td>Manas</td><td>Manas</td></tr><tr><td>Manas</td><td>Manas</td></tr><tr><td>Manas</td><td>Manas</td></tr><tr><td>Rashmirathi</td><td>Rashmirathi</td></tr><tr><td>Rashmirathi</td><td>Rashmirathi</td></tr><tr><td>Rashmirathi</td><td>Rashmirathi</td></tr><tr><td>Rashmirathi</td><td>Rashmirathi</td></tr><tr><td>The Count of Monte Cristo</td><td>The Count of Monte Cristo</td></tr><tr><td>The Count of Monte Cristo</td><td>The Count of Monte Cristo</td></tr><tr><td>The Count of Monte Cristo</td><td>The Count of Monte Cristo</td></tr><tr><td>Brethren</td><td>NULL</td></tr><tr><td>Summons</td><td>NULL</td></tr></table>"
                    },
                    "metadata": {}
                }
            ],
            "execution_count": 49
        },
        {
            "cell_type": "markdown",
            "source": [
                "# RIGHT OUTPER JOIN"
            ],
            "metadata": {
                "language": "",
                "azdata_cell_guid": "3f6fdddf-e5c2-411d-a972-8ca75c8c6567"
            },
            "attachments": {}
        },
        {
            "cell_type": "code",
            "source": [
                "\r\n",
                "SELECT\r\n",
                "    TITLE,\r\n",
                "    BOOK_TITLE\r\n",
                "FROM\r\n",
                "    BOOKS\r\n",
                "RIGHT JOIN \r\n",
                "    REVIEWS\r\n",
                "ON\r\n",
                "    TITLE=BOOK_TITLE\r\n",
                ""
            ],
            "metadata": {
                "azdata_cell_guid": "510cbbf9-02f4-4317-b34d-be8a7b6963a1",
                "language": "sql"
            },
            "outputs": [
                {
                    "output_type": "display_data",
                    "data": {
                        "text/html": "(18 rows affected)"
                    },
                    "metadata": {}
                },
                {
                    "output_type": "display_data",
                    "data": {
                        "text/html": "Total execution time: 00:00:00.012"
                    },
                    "metadata": {}
                },
                {
                    "output_type": "execute_result",
                    "execution_count": 50,
                    "data": {
                        "application/vnd.dataresource+json": {
                            "schema": {
                                "fields": [
                                    {
                                        "name": "TITLE"
                                    },
                                    {
                                        "name": "BOOK_TITLE"
                                    }
                                ]
                            },
                            "data": [
                                {
                                    "TITLE": "The Accursed God",
                                    "BOOK_TITLE": "The Accursed God"
                                },
                                {
                                    "TITLE": "The Accursed God",
                                    "BOOK_TITLE": "The Accursed God"
                                },
                                {
                                    "TITLE": "The Accursed God",
                                    "BOOK_TITLE": "The Accursed God"
                                },
                                {
                                    "TITLE": "The Accursed God",
                                    "BOOK_TITLE": "The Accursed God"
                                },
                                {
                                    "TITLE": "Manas",
                                    "BOOK_TITLE": "Manas"
                                },
                                {
                                    "TITLE": "Manas",
                                    "BOOK_TITLE": "Manas"
                                },
                                {
                                    "TITLE": "Manas",
                                    "BOOK_TITLE": "Manas"
                                },
                                {
                                    "TITLE": "Rashmirathi",
                                    "BOOK_TITLE": "Rashmirathi"
                                },
                                {
                                    "TITLE": "Rashmirathi",
                                    "BOOK_TITLE": "Rashmirathi"
                                },
                                {
                                    "TITLE": "Rashmirathi",
                                    "BOOK_TITLE": "Rashmirathi"
                                },
                                {
                                    "TITLE": "Rashmirathi",
                                    "BOOK_TITLE": "Rashmirathi"
                                },
                                {
                                    "TITLE": "The Count of Monte Cristo",
                                    "BOOK_TITLE": "The Count of Monte Cristo"
                                },
                                {
                                    "TITLE": "The Count of Monte Cristo",
                                    "BOOK_TITLE": "The Count of Monte Cristo"
                                },
                                {
                                    "TITLE": "The Count of Monte Cristo",
                                    "BOOK_TITLE": "The Count of Monte Cristo"
                                },
                                {
                                    "TITLE": "NULL",
                                    "BOOK_TITLE": "Kurukshetra"
                                },
                                {
                                    "TITLE": "NULL",
                                    "BOOK_TITLE": "Kurukshetra"
                                },
                                {
                                    "TITLE": "NULL",
                                    "BOOK_TITLE": "Kurukshetra"
                                },
                                {
                                    "TITLE": "NULL",
                                    "BOOK_TITLE": "Kane And Abel"
                                }
                            ]
                        },
                        "text/html": "<table><tr><th>TITLE</th><th>BOOK_TITLE</th></tr><tr><td>The Accursed God</td><td>The Accursed God</td></tr><tr><td>The Accursed God</td><td>The Accursed God</td></tr><tr><td>The Accursed God</td><td>The Accursed God</td></tr><tr><td>The Accursed God</td><td>The Accursed God</td></tr><tr><td>Manas</td><td>Manas</td></tr><tr><td>Manas</td><td>Manas</td></tr><tr><td>Manas</td><td>Manas</td></tr><tr><td>Rashmirathi</td><td>Rashmirathi</td></tr><tr><td>Rashmirathi</td><td>Rashmirathi</td></tr><tr><td>Rashmirathi</td><td>Rashmirathi</td></tr><tr><td>Rashmirathi</td><td>Rashmirathi</td></tr><tr><td>The Count of Monte Cristo</td><td>The Count of Monte Cristo</td></tr><tr><td>The Count of Monte Cristo</td><td>The Count of Monte Cristo</td></tr><tr><td>The Count of Monte Cristo</td><td>The Count of Monte Cristo</td></tr><tr><td>NULL</td><td>Kurukshetra</td></tr><tr><td>NULL</td><td>Kurukshetra</td></tr><tr><td>NULL</td><td>Kurukshetra</td></tr><tr><td>NULL</td><td>Kane And Abel</td></tr></table>"
                    },
                    "metadata": {}
                }
            ],
            "execution_count": 50
        },
        {
            "cell_type": "markdown",
            "source": [
                "## FULL OUTER JOIN"
            ],
            "metadata": {
                "azdata_cell_guid": "b3cc580a-1b2c-436e-8b3e-781e34fd87d5"
            },
            "attachments": {}
        },
        {
            "cell_type": "code",
            "source": [
                "SELECT\r\n",
                "    TITLE,\r\n",
                "    BOOK_TITLE\r\n",
                "FROM\r\n",
                "    BOOKS\r\n",
                "FULL JOIN \r\n",
                "    REVIEWS\r\n",
                "ON\r\n",
                "    TITLE=BOOK_TITLE"
            ],
            "metadata": {
                "azdata_cell_guid": "ae417190-8f5e-4961-b15c-5c0f6604079d",
                "language": "sql"
            },
            "outputs": [
                {
                    "output_type": "display_data",
                    "data": {
                        "text/html": "(20 rows affected)"
                    },
                    "metadata": {}
                },
                {
                    "output_type": "display_data",
                    "data": {
                        "text/html": "Total execution time: 00:00:00.014"
                    },
                    "metadata": {}
                },
                {
                    "output_type": "execute_result",
                    "execution_count": 51,
                    "data": {
                        "application/vnd.dataresource+json": {
                            "schema": {
                                "fields": [
                                    {
                                        "name": "TITLE"
                                    },
                                    {
                                        "name": "BOOK_TITLE"
                                    }
                                ]
                            },
                            "data": [
                                {
                                    "TITLE": "The Accursed God",
                                    "BOOK_TITLE": "The Accursed God"
                                },
                                {
                                    "TITLE": "The Accursed God",
                                    "BOOK_TITLE": "The Accursed God"
                                },
                                {
                                    "TITLE": "The Accursed God",
                                    "BOOK_TITLE": "The Accursed God"
                                },
                                {
                                    "TITLE": "The Accursed God",
                                    "BOOK_TITLE": "The Accursed God"
                                },
                                {
                                    "TITLE": "Manas",
                                    "BOOK_TITLE": "Manas"
                                },
                                {
                                    "TITLE": "Manas",
                                    "BOOK_TITLE": "Manas"
                                },
                                {
                                    "TITLE": "Manas",
                                    "BOOK_TITLE": "Manas"
                                },
                                {
                                    "TITLE": "Rashmirathi",
                                    "BOOK_TITLE": "Rashmirathi"
                                },
                                {
                                    "TITLE": "Rashmirathi",
                                    "BOOK_TITLE": "Rashmirathi"
                                },
                                {
                                    "TITLE": "Rashmirathi",
                                    "BOOK_TITLE": "Rashmirathi"
                                },
                                {
                                    "TITLE": "Rashmirathi",
                                    "BOOK_TITLE": "Rashmirathi"
                                },
                                {
                                    "TITLE": "The Count of Monte Cristo",
                                    "BOOK_TITLE": "The Count of Monte Cristo"
                                },
                                {
                                    "TITLE": "The Count of Monte Cristo",
                                    "BOOK_TITLE": "The Count of Monte Cristo"
                                },
                                {
                                    "TITLE": "The Count of Monte Cristo",
                                    "BOOK_TITLE": "The Count of Monte Cristo"
                                },
                                {
                                    "TITLE": "Brethren",
                                    "BOOK_TITLE": "NULL"
                                },
                                {
                                    "TITLE": "Summons",
                                    "BOOK_TITLE": "NULL"
                                },
                                {
                                    "TITLE": "NULL",
                                    "BOOK_TITLE": "Kurukshetra"
                                },
                                {
                                    "TITLE": "NULL",
                                    "BOOK_TITLE": "Kurukshetra"
                                },
                                {
                                    "TITLE": "NULL",
                                    "BOOK_TITLE": "Kurukshetra"
                                },
                                {
                                    "TITLE": "NULL",
                                    "BOOK_TITLE": "Kane And Abel"
                                }
                            ]
                        },
                        "text/html": "<table><tr><th>TITLE</th><th>BOOK_TITLE</th></tr><tr><td>The Accursed God</td><td>The Accursed God</td></tr><tr><td>The Accursed God</td><td>The Accursed God</td></tr><tr><td>The Accursed God</td><td>The Accursed God</td></tr><tr><td>The Accursed God</td><td>The Accursed God</td></tr><tr><td>Manas</td><td>Manas</td></tr><tr><td>Manas</td><td>Manas</td></tr><tr><td>Manas</td><td>Manas</td></tr><tr><td>Rashmirathi</td><td>Rashmirathi</td></tr><tr><td>Rashmirathi</td><td>Rashmirathi</td></tr><tr><td>Rashmirathi</td><td>Rashmirathi</td></tr><tr><td>Rashmirathi</td><td>Rashmirathi</td></tr><tr><td>The Count of Monte Cristo</td><td>The Count of Monte Cristo</td></tr><tr><td>The Count of Monte Cristo</td><td>The Count of Monte Cristo</td></tr><tr><td>The Count of Monte Cristo</td><td>The Count of Monte Cristo</td></tr><tr><td>Brethren</td><td>NULL</td></tr><tr><td>Summons</td><td>NULL</td></tr><tr><td>NULL</td><td>Kurukshetra</td></tr><tr><td>NULL</td><td>Kurukshetra</td></tr><tr><td>NULL</td><td>Kurukshetra</td></tr><tr><td>NULL</td><td>Kane And Abel</td></tr></table>"
                    },
                    "metadata": {}
                }
            ],
            "execution_count": 51
        },
        {
            "cell_type": "markdown",
            "source": [
                "# PROBLEM WITH REVIEW TABLE\n",
                "\n",
                "- We can add reviews even without having a valid book.\n",
                "- In our case we don't have books -- Kuruksehtra and Kane and Able in our application\n",
                "- We can still have reviews for them\n",
                "- The reason database doesn't know the relationship that we have established between books and reviews\n",
                "    - It is all in our logic\n",
                "    - Database can't validate what it doesn't know.\n",
                "\n",
                "# PRIMARY KEY\n",
                "\n",
                "- PRIMARY KEY IDENTIFIES THE ID COLUMN(S) FOR A TABLE\n",
                "- A PRIMARY KEY MUST BE NOT NULL AND UNIQUE IN OUR APPLICATION\n",
                "- SEARCH ON PRIMARY KEY IS QUITE FAST BECAUSE OF INDEXING\n",
                "- ENSURES YOU CAN'T ADD DUPLICATE FOR A PRIMARY KEY\n",
                "\n",
                "# FOREIGN KEY\n",
                "\n",
                "-  Foreign key is generally present in a child/transaction table that refers to another table\n",
                "- The value of foreign key is same as PRIMARY KEY of the original design\n",
                "- Having a foreign key ensures that DB validates the supplied value for the foreign key\n",
                "\n",
                "  \n",
                "\n",
                "  \n",
                "\n",
                "# RENAMING TABLES\n",
                "\n",
                "- SQL SERVER DEFINES A STORED PROC TO RENAME A DATABASE\n",
                "- IT IS A SPECIAL PROGRAM/ROUTINE PRESENT IN OUR DATBASE \n",
                "- WE CAN EXECUTE A STORED PROCEEDURE BY USING EXEC COMMAND"
            ],
            "metadata": {
                "azdata_cell_guid": "00794743-68ea-413d-ab40-bd69da5f614f"
            },
            "attachments": {}
        },
        {
            "cell_type": "code",
            "source": [
                "EXEC SP_RENAME 'BOOKS', 'BOOKS_OLD'"
            ],
            "metadata": {
                "azdata_cell_guid": "fc867d0b-6dec-472a-ae0f-d60b508908be",
                "language": "sql"
            },
            "outputs": [
                {
                    "output_type": "display_data",
                    "data": {
                        "text/html": "Caution: Changing any part of an object name could break scripts and stored procedures."
                    },
                    "metadata": {}
                },
                {
                    "output_type": "display_data",
                    "data": {
                        "text/html": "Total execution time: 00:00:00.421"
                    },
                    "metadata": {}
                }
            ],
            "execution_count": 52
        },
        {
            "cell_type": "markdown",
            "source": [
                "## LET US CREATE BOOKS AND MARK TITLE AS THE PRIMARY KEY\n",
                "\n",
                "- A PRIMARY KEY IS BY DEFAULT HAS CONSTRAINTS\n",
                "    - NOT NULL\n",
                "    - UNQIUE"
            ],
            "metadata": {
                "language": "sql",
                "azdata_cell_guid": "64eb9b89-9561-4f69-b667-4d2b7f1ad046"
            },
            "attachments": {}
        },
        {
            "cell_type": "code",
            "source": [
                "CREATE TABLE BOOKS(\r\n",
                "    \r\n",
                "    TITLE VARCHAR(100) PRIMARY KEY,\r\n",
                "\r\n",
                "    AUTHOR VARCHAR(100) NOT NULL,\r\n",
                "    PRICE DECIMAL(8,2) CHECK(PRICE>=0),\r\n",
                "    --RATING DECIMAL(5,2) CHECK(RATING>=1 AND RATING<=5),\r\n",
                "    COVER VARCHAR(512) DEFAULT('unknown.png')\r\n",
                "\r\n",
                ");"
            ],
            "metadata": {
                "language": "sql",
                "azdata_cell_guid": "a570f934-7d7f-4c9c-adf3-9d0ce84d7955"
            },
            "outputs": [
                {
                    "output_type": "display_data",
                    "data": {
                        "text/html": "Commands completed successfully."
                    },
                    "metadata": {}
                },
                {
                    "output_type": "display_data",
                    "data": {
                        "text/html": "Total execution time: 00:00:00.005"
                    },
                    "metadata": {}
                }
            ],
            "execution_count": 53
        },
        {
            "cell_type": "markdown",
            "source": [
                "## POPULATE NEW TABLE WITH THE DATA FROM THE OLD ONE\n",
                "\n",
                "- We can directly populate a table with the result from a SELECT Query\n",
                "- SUCH QUERIES CAN BE CALLED AS NESTED QUERIES.\n",
                "- IN THE NEXT QUERY WE WILL INSERT INTO THE BOOKS, THE RESULTS OF THE SELECT QUERY\n",
                "- SELECT QUERY IS A SUB QUERY INSIDE INSERT"
            ],
            "metadata": {
                "language": "sql",
                "azdata_cell_guid": "29f050fd-465c-46bc-98e6-9a04f0cee9af"
            },
            "attachments": {}
        },
        {
            "cell_type": "code",
            "source": [
                "INSERT\r\n",
                "    INTO BOOKS\r\n",
                "    SELECT \r\n",
                "        * \r\n",
                "    FROM BOOKS_OLD"
            ],
            "metadata": {
                "language": "sql",
                "azdata_cell_guid": "7eeeab00-8610-4a20-9d62-752a65f566ea"
            },
            "outputs": [
                {
                    "output_type": "display_data",
                    "data": {
                        "text/html": "(6 rows affected)"
                    },
                    "metadata": {}
                },
                {
                    "output_type": "display_data",
                    "data": {
                        "text/html": "Total execution time: 00:00:00.011"
                    },
                    "metadata": {}
                }
            ],
            "execution_count": 54
        },
        {
            "cell_type": "code",
            "source": [
                "SELECT * FROM BOOKS"
            ],
            "metadata": {
                "azdata_cell_guid": "3d5c3edc-828f-4e8f-8cfb-24c943d31cb4",
                "language": "sql"
            },
            "outputs": [
                {
                    "output_type": "display_data",
                    "data": {
                        "text/html": "(6 rows affected)"
                    },
                    "metadata": {}
                },
                {
                    "output_type": "display_data",
                    "data": {
                        "text/html": "Total execution time: 00:00:00.002"
                    },
                    "metadata": {}
                },
                {
                    "output_type": "execute_result",
                    "execution_count": 55,
                    "data": {
                        "application/vnd.dataresource+json": {
                            "schema": {
                                "fields": [
                                    {
                                        "name": "TITLE"
                                    },
                                    {
                                        "name": "AUTHOR"
                                    },
                                    {
                                        "name": "PRICE"
                                    },
                                    {
                                        "name": "COVER"
                                    }
                                ]
                            },
                            "data": [
                                {
                                    "TITLE": "Brethren",
                                    "AUTHOR": "John Grisham",
                                    "PRICE": "350.00",
                                    "COVER": "brethren.png"
                                },
                                {
                                    "TITLE": "Manas",
                                    "AUTHOR": "Vivek Dutta Mishra",
                                    "PRICE": "199.00",
                                    "COVER": "manas.png"
                                },
                                {
                                    "TITLE": "Rashmirathi",
                                    "AUTHOR": "Ramdhari Singh Dinkar",
                                    "PRICE": "99.00",
                                    "COVER": "rashmirath.png"
                                },
                                {
                                    "TITLE": "Summons",
                                    "AUTHOR": "John Grishma",
                                    "PRICE": "400.00",
                                    "COVER": "summons.png"
                                },
                                {
                                    "TITLE": "The Accursed God",
                                    "AUTHOR": "Vivek Dutta Mishra",
                                    "PRICE": "299.00",
                                    "COVER": "tag.png"
                                },
                                {
                                    "TITLE": "The Count of Monte Cristo",
                                    "AUTHOR": "Alexandre Dumas",
                                    "PRICE": "499.00",
                                    "COVER": "cristo.png"
                                }
                            ]
                        },
                        "text/html": "<table><tr><th>TITLE</th><th>AUTHOR</th><th>PRICE</th><th>COVER</th></tr><tr><td>Brethren</td><td>John Grisham</td><td>350.00</td><td>brethren.png</td></tr><tr><td>Manas</td><td>Vivek Dutta Mishra</td><td>199.00</td><td>manas.png</td></tr><tr><td>Rashmirathi</td><td>Ramdhari Singh Dinkar</td><td>99.00</td><td>rashmirath.png</td></tr><tr><td>Summons</td><td>John Grishma</td><td>400.00</td><td>summons.png</td></tr><tr><td>The Accursed God</td><td>Vivek Dutta Mishra</td><td>299.00</td><td>tag.png</td></tr><tr><td>The Count of Monte Cristo</td><td>Alexandre Dumas</td><td>499.00</td><td>cristo.png</td></tr></table>"
                    },
                    "metadata": {}
                }
            ],
            "execution_count": 55
        },
        {
            "cell_type": "markdown",
            "source": [
                "## PRIMARY KEY IS UNIQUE\n",
                "\n",
                "- In our code we can't include another book with same title (even by a different Author)\n",
                "- Have we picked the WRONG Primary Key?"
            ],
            "metadata": {
                "azdata_cell_guid": "ab521a49-337d-4914-831b-708ec3ec6dae"
            },
            "attachments": {}
        },
        {
            "cell_type": "code",
            "source": [
                "INSERT \r\n",
                "INTO BOOKS(TITLE,AUTHOR,PRICE,COVER)\r\n",
                "VALUES('The Accursed God','Manoj Kumar',210,'accursed.png');\r\n",
                ""
            ],
            "metadata": {
                "azdata_cell_guid": "72db95ee-fae4-488a-9b35-b72f5f786eb0",
                "language": "sql"
            },
            "outputs": [
                {
                    "output_type": "error",
                    "ename": "",
                    "evalue": "Msg 2627, Level 14, State 1, Line 1\r\nViolation of PRIMARY KEY constraint 'PK__BOOKS__475DFD2E73258CD2'. Cannot insert duplicate key in object 'dbo.BOOKS'. The duplicate key value is (The Accursed God).",
                    "traceback": []
                },
                {
                    "output_type": "display_data",
                    "data": {
                        "text/html": "The statement has been terminated."
                    },
                    "metadata": {}
                },
                {
                    "output_type": "display_data",
                    "data": {
                        "text/html": "Total execution time: 00:00:00.002"
                    },
                    "metadata": {}
                }
            ],
            "execution_count": 56
        },
        {
            "cell_type": "code",
            "source": [
                "INSERT \r\n",
                "INTO BOOKS(AUTHOR,PRICE,COVER)\r\n",
                "VALUES('Manoj Kumar',210,'accursed.png');"
            ],
            "metadata": {
                "language": "sql",
                "azdata_cell_guid": "9868665c-b5a7-4ffe-a778-5fefd2ef0a9e"
            },
            "outputs": [
                {
                    "output_type": "error",
                    "ename": "",
                    "evalue": "Msg 515, Level 16, State 2, Line 1\r\nCannot insert the value NULL into column 'TITLE', table 'books_db_g7cr_202407.dbo.BOOKS'; column does not allow nulls. INSERT fails.",
                    "traceback": []
                },
                {
                    "output_type": "display_data",
                    "data": {
                        "text/html": "The statement has been terminated."
                    },
                    "metadata": {}
                },
                {
                    "output_type": "display_data",
                    "data": {
                        "text/html": "Total execution time: 00:00:00.004"
                    },
                    "metadata": {}
                }
            ],
            "execution_count": 57
        },
        {
            "cell_type": "markdown",
            "source": [
                "## LET US FETCH BOOK AND THEIR REVIEWS USING FULL JOIN"
            ],
            "metadata": {
                "language": "sql",
                "azdata_cell_guid": "1ce39b8f-6c4a-4efb-8d4f-ba4c3f434d9b"
            },
            "attachments": {}
        },
        {
            "cell_type": "code",
            "source": [
                "SELECT \r\n",
                "    *\r\n",
                "FROM \r\n",
                "    BOOKS \r\n",
                "FULL JOIN\r\n",
                "    REVIEWS\r\n",
                "ON\r\n",
                "    TITLE=BOOK_TITLE"
            ],
            "metadata": {
                "language": "sql",
                "azdata_cell_guid": "75d9277b-f300-41ac-a98a-cc4464063376"
            },
            "outputs": [
                {
                    "output_type": "display_data",
                    "data": {
                        "text/html": "(20 rows affected)"
                    },
                    "metadata": {}
                },
                {
                    "output_type": "display_data",
                    "data": {
                        "text/html": "Total execution time: 00:00:00.017"
                    },
                    "metadata": {}
                },
                {
                    "output_type": "execute_result",
                    "execution_count": 58,
                    "data": {
                        "application/vnd.dataresource+json": {
                            "schema": {
                                "fields": [
                                    {
                                        "name": "TITLE"
                                    },
                                    {
                                        "name": "AUTHOR"
                                    },
                                    {
                                        "name": "PRICE"
                                    },
                                    {
                                        "name": "COVER"
                                    },
                                    {
                                        "name": "BOOK_TITLE"
                                    },
                                    {
                                        "name": "REVIEWER"
                                    },
                                    {
                                        "name": "RATING"
                                    }
                                ]
                            },
                            "data": [
                                {
                                    "TITLE": "Brethren",
                                    "AUTHOR": "John Grisham",
                                    "PRICE": "350.00",
                                    "COVER": "brethren.png",
                                    "BOOK_TITLE": "NULL",
                                    "REVIEWER": "NULL",
                                    "RATING": "NULL"
                                },
                                {
                                    "TITLE": "Manas",
                                    "AUTHOR": "Vivek Dutta Mishra",
                                    "PRICE": "199.00",
                                    "COVER": "manas.png",
                                    "BOOK_TITLE": "Manas",
                                    "REVIEWER": "Shivanshi",
                                    "RATING": "5"
                                },
                                {
                                    "TITLE": "Manas",
                                    "AUTHOR": "Vivek Dutta Mishra",
                                    "PRICE": "199.00",
                                    "COVER": "manas.png",
                                    "BOOK_TITLE": "Manas",
                                    "REVIEWER": "Reena",
                                    "RATING": "4"
                                },
                                {
                                    "TITLE": "Manas",
                                    "AUTHOR": "Vivek Dutta Mishra",
                                    "PRICE": "199.00",
                                    "COVER": "manas.png",
                                    "BOOK_TITLE": "Manas",
                                    "REVIEWER": "Sanjay",
                                    "RATING": "4"
                                },
                                {
                                    "TITLE": "Rashmirathi",
                                    "AUTHOR": "Ramdhari Singh Dinkar",
                                    "PRICE": "99.00",
                                    "COVER": "rashmirath.png",
                                    "BOOK_TITLE": "Rashmirathi",
                                    "REVIEWER": "Shivanshi",
                                    "RATING": "4"
                                },
                                {
                                    "TITLE": "Rashmirathi",
                                    "AUTHOR": "Ramdhari Singh Dinkar",
                                    "PRICE": "99.00",
                                    "COVER": "rashmirath.png",
                                    "BOOK_TITLE": "Rashmirathi",
                                    "REVIEWER": "Vivek",
                                    "RATING": "4"
                                },
                                {
                                    "TITLE": "Rashmirathi",
                                    "AUTHOR": "Ramdhari Singh Dinkar",
                                    "PRICE": "99.00",
                                    "COVER": "rashmirath.png",
                                    "BOOK_TITLE": "Rashmirathi",
                                    "REVIEWER": "Reena",
                                    "RATING": "4"
                                },
                                {
                                    "TITLE": "Rashmirathi",
                                    "AUTHOR": "Ramdhari Singh Dinkar",
                                    "PRICE": "99.00",
                                    "COVER": "rashmirath.png",
                                    "BOOK_TITLE": "Rashmirathi",
                                    "REVIEWER": "Amit",
                                    "RATING": "3"
                                },
                                {
                                    "TITLE": "Summons",
                                    "AUTHOR": "John Grishma",
                                    "PRICE": "400.00",
                                    "COVER": "summons.png",
                                    "BOOK_TITLE": "NULL",
                                    "REVIEWER": "NULL",
                                    "RATING": "NULL"
                                },
                                {
                                    "TITLE": "The Accursed God",
                                    "AUTHOR": "Vivek Dutta Mishra",
                                    "PRICE": "299.00",
                                    "COVER": "tag.png",
                                    "BOOK_TITLE": "The Accursed God",
                                    "REVIEWER": "Sanjay",
                                    "RATING": "5"
                                },
                                {
                                    "TITLE": "The Accursed God",
                                    "AUTHOR": "Vivek Dutta Mishra",
                                    "PRICE": "299.00",
                                    "COVER": "tag.png",
                                    "BOOK_TITLE": "The Accursed God",
                                    "REVIEWER": "Shivanshi",
                                    "RATING": "3"
                                },
                                {
                                    "TITLE": "The Accursed God",
                                    "AUTHOR": "Vivek Dutta Mishra",
                                    "PRICE": "299.00",
                                    "COVER": "tag.png",
                                    "BOOK_TITLE": "The Accursed God",
                                    "REVIEWER": "Amit",
                                    "RATING": "5"
                                },
                                {
                                    "TITLE": "The Accursed God",
                                    "AUTHOR": "Vivek Dutta Mishra",
                                    "PRICE": "299.00",
                                    "COVER": "tag.png",
                                    "BOOK_TITLE": "The Accursed God",
                                    "REVIEWER": "Rajesh",
                                    "RATING": "5"
                                },
                                {
                                    "TITLE": "The Count of Monte Cristo",
                                    "AUTHOR": "Alexandre Dumas",
                                    "PRICE": "499.00",
                                    "COVER": "cristo.png",
                                    "BOOK_TITLE": "The Count of Monte Cristo",
                                    "REVIEWER": "Vivek",
                                    "RATING": "5"
                                },
                                {
                                    "TITLE": "The Count of Monte Cristo",
                                    "AUTHOR": "Alexandre Dumas",
                                    "PRICE": "499.00",
                                    "COVER": "cristo.png",
                                    "BOOK_TITLE": "The Count of Monte Cristo",
                                    "REVIEWER": "Reena",
                                    "RATING": "4"
                                },
                                {
                                    "TITLE": "The Count of Monte Cristo",
                                    "AUTHOR": "Alexandre Dumas",
                                    "PRICE": "499.00",
                                    "COVER": "cristo.png",
                                    "BOOK_TITLE": "The Count of Monte Cristo",
                                    "REVIEWER": "Shivanshi",
                                    "RATING": "4"
                                },
                                {
                                    "TITLE": "NULL",
                                    "AUTHOR": "NULL",
                                    "PRICE": "NULL",
                                    "COVER": "NULL",
                                    "BOOK_TITLE": "Kurukshetra",
                                    "REVIEWER": "Vivek",
                                    "RATING": "5"
                                },
                                {
                                    "TITLE": "NULL",
                                    "AUTHOR": "NULL",
                                    "PRICE": "NULL",
                                    "COVER": "NULL",
                                    "BOOK_TITLE": "Kurukshetra",
                                    "REVIEWER": "Sanjay",
                                    "RATING": "3"
                                },
                                {
                                    "TITLE": "NULL",
                                    "AUTHOR": "NULL",
                                    "PRICE": "NULL",
                                    "COVER": "NULL",
                                    "BOOK_TITLE": "Kurukshetra",
                                    "REVIEWER": "Shivanshi",
                                    "RATING": "4"
                                },
                                {
                                    "TITLE": "NULL",
                                    "AUTHOR": "NULL",
                                    "PRICE": "NULL",
                                    "COVER": "NULL",
                                    "BOOK_TITLE": "Kane And Abel",
                                    "REVIEWER": "Reena",
                                    "RATING": "4"
                                }
                            ]
                        },
                        "text/html": "<table><tr><th>TITLE</th><th>AUTHOR</th><th>PRICE</th><th>COVER</th><th>BOOK_TITLE</th><th>REVIEWER</th><th>RATING</th></tr><tr><td>Brethren</td><td>John Grisham</td><td>350.00</td><td>brethren.png</td><td>NULL</td><td>NULL</td><td>NULL</td></tr><tr><td>Manas</td><td>Vivek Dutta Mishra</td><td>199.00</td><td>manas.png</td><td>Manas</td><td>Shivanshi</td><td>5</td></tr><tr><td>Manas</td><td>Vivek Dutta Mishra</td><td>199.00</td><td>manas.png</td><td>Manas</td><td>Reena</td><td>4</td></tr><tr><td>Manas</td><td>Vivek Dutta Mishra</td><td>199.00</td><td>manas.png</td><td>Manas</td><td>Sanjay</td><td>4</td></tr><tr><td>Rashmirathi</td><td>Ramdhari Singh Dinkar</td><td>99.00</td><td>rashmirath.png</td><td>Rashmirathi</td><td>Shivanshi</td><td>4</td></tr><tr><td>Rashmirathi</td><td>Ramdhari Singh Dinkar</td><td>99.00</td><td>rashmirath.png</td><td>Rashmirathi</td><td>Vivek</td><td>4</td></tr><tr><td>Rashmirathi</td><td>Ramdhari Singh Dinkar</td><td>99.00</td><td>rashmirath.png</td><td>Rashmirathi</td><td>Reena</td><td>4</td></tr><tr><td>Rashmirathi</td><td>Ramdhari Singh Dinkar</td><td>99.00</td><td>rashmirath.png</td><td>Rashmirathi</td><td>Amit</td><td>3</td></tr><tr><td>Summons</td><td>John Grishma</td><td>400.00</td><td>summons.png</td><td>NULL</td><td>NULL</td><td>NULL</td></tr><tr><td>The Accursed God</td><td>Vivek Dutta Mishra</td><td>299.00</td><td>tag.png</td><td>The Accursed God</td><td>Sanjay</td><td>5</td></tr><tr><td>The Accursed God</td><td>Vivek Dutta Mishra</td><td>299.00</td><td>tag.png</td><td>The Accursed God</td><td>Shivanshi</td><td>3</td></tr><tr><td>The Accursed God</td><td>Vivek Dutta Mishra</td><td>299.00</td><td>tag.png</td><td>The Accursed God</td><td>Amit</td><td>5</td></tr><tr><td>The Accursed God</td><td>Vivek Dutta Mishra</td><td>299.00</td><td>tag.png</td><td>The Accursed God</td><td>Rajesh</td><td>5</td></tr><tr><td>The Count of Monte Cristo</td><td>Alexandre Dumas</td><td>499.00</td><td>cristo.png</td><td>The Count of Monte Cristo</td><td>Vivek</td><td>5</td></tr><tr><td>The Count of Monte Cristo</td><td>Alexandre Dumas</td><td>499.00</td><td>cristo.png</td><td>The Count of Monte Cristo</td><td>Reena</td><td>4</td></tr><tr><td>The Count of Monte Cristo</td><td>Alexandre Dumas</td><td>499.00</td><td>cristo.png</td><td>The Count of Monte Cristo</td><td>Shivanshi</td><td>4</td></tr><tr><td>NULL</td><td>NULL</td><td>NULL</td><td>NULL</td><td>Kurukshetra</td><td>Vivek</td><td>5</td></tr><tr><td>NULL</td><td>NULL</td><td>NULL</td><td>NULL</td><td>Kurukshetra</td><td>Sanjay</td><td>3</td></tr><tr><td>NULL</td><td>NULL</td><td>NULL</td><td>NULL</td><td>Kurukshetra</td><td>Shivanshi</td><td>4</td></tr><tr><td>NULL</td><td>NULL</td><td>NULL</td><td>NULL</td><td>Kane And Abel</td><td>Reena</td><td>4</td></tr></table>"
                    },
                    "metadata": {}
                }
            ],
            "execution_count": 58
        },
        {
            "cell_type": "markdown",
            "source": [
                "## PROBLEM\n",
                "\n",
                "- Here Reviews refers to BOOK\\_TITLE that doesn't exist in books\n",
                "- This should not be allowed\n",
                "- But DB doesn't know BOOK\\_TITLE MUST MATCH THE TITLE\n",
                "- <span style=\"color: var(--vscode-foreground);\"><br></span>\n",
                "\n",
                "## <span style=\"color: var(--vscode-foreground);\">FOREIGN KEY</span>\n",
                "\n",
                "## \n",
                "\n",
                "- <span style=\"color: var(--vscode-foreground); font-size: 14px;\">A column can have a constraint of FOREIGN KEY</span>\n",
                "    - <span style=\"color: var(--vscode-foreground); font-size: 14px;\">It should refer to some PRIMARY KEY of SOME OTHER TABLE</span>\n",
                "- <span style=\"font-size: 14px;\">DB VALIDATES THAT VALUE SUPPLIED FOR THE FOREIGN KEY ACTUALLY EXISTS AS VALID PRIMARY KEY</span>"
            ],
            "metadata": {
                "azdata_cell_guid": "7856cf3c-1174-4de0-847d-6eba8e2f489f",
                "language": ""
            },
            "attachments": {}
        },
        {
            "cell_type": "code",
            "source": [
                "EXEC SP_RENAME 'REVIEWS', 'REVIEWS_OLD'"
            ],
            "metadata": {
                "azdata_cell_guid": "4f3ccde7-56ea-44fe-8a96-0f6fed535d32",
                "language": "sql"
            },
            "outputs": [
                {
                    "output_type": "display_data",
                    "data": {
                        "text/html": "Caution: Changing any part of an object name could break scripts and stored procedures."
                    },
                    "metadata": {}
                },
                {
                    "output_type": "display_data",
                    "data": {
                        "text/html": "Total execution time: 00:00:00.353"
                    },
                    "metadata": {}
                }
            ],
            "execution_count": 59
        },
        {
            "cell_type": "code",
            "source": [
                "CREATE TABLE REVIEWS(\r\n",
                "    BOOK_TITLE VARCHAR(100) NOT NULL, --THIS WILL BE THE FORIEGN KEY\r\n",
                "    REVIEWER VARCHAR(100) NOT NULL,\r\n",
                "    RATING INT CHECK(RATING>=1 AND RATING<=5)\r\n",
                "\r\n",
                "    FOREIGN KEY (BOOK_TITLE) REFERENCES BOOKS(TITLE)\r\n",
                ")"
            ],
            "metadata": {
                "language": "sql",
                "azdata_cell_guid": "8e034e7d-8f0f-4715-bff1-af22bd161b31"
            },
            "outputs": [
                {
                    "output_type": "display_data",
                    "data": {
                        "text/html": "Commands completed successfully."
                    },
                    "metadata": {}
                },
                {
                    "output_type": "display_data",
                    "data": {
                        "text/html": "Total execution time: 00:00:00.011"
                    },
                    "metadata": {}
                }
            ],
            "execution_count": 60
        },
        {
            "cell_type": "markdown",
            "source": [
                "## Now we can add a New Review for an Exisiting Book"
            ],
            "metadata": {
                "language": "",
                "azdata_cell_guid": "0d4734f9-08cd-4a3b-8e29-1832b371ae08"
            },
            "attachments": {}
        },
        {
            "cell_type": "code",
            "source": [
                "INSERT \r\n",
                "INTO  REVIEWS(BOOK_TITLE, REVIEWER, RATING)\r\n",
                "VALUES \r\n",
                "        ('The Accursed God','Prabhat',5),\r\n",
                "        ('Manas','Prabhat',5)"
            ],
            "metadata": {
                "azdata_cell_guid": "533a3b85-63a5-425d-8d94-f9ec94cb8630",
                "language": "sql"
            },
            "outputs": [
                {
                    "output_type": "display_data",
                    "data": {
                        "text/html": "(2 rows affected)"
                    },
                    "metadata": {}
                },
                {
                    "output_type": "display_data",
                    "data": {
                        "text/html": "Total execution time: 00:00:00.023"
                    },
                    "metadata": {}
                }
            ],
            "execution_count": 61
        },
        {
            "cell_type": "markdown",
            "source": [
                "### But we can't add a review for a Book that doesn't exist"
            ],
            "metadata": {
                "language": "sql",
                "azdata_cell_guid": "ad85be3d-5cb8-4fa4-8366-d700b13470b6"
            },
            "attachments": {}
        },
        {
            "cell_type": "code",
            "source": [
                "INSERT \r\n",
                "INTO  REVIEWS(BOOK_TITLE, REVIEWER, RATING)\r\n",
                "VALUES \r\n",
                "        ('Unknown Book','Prabhat',5)"
            ],
            "metadata": {
                "language": "sql",
                "azdata_cell_guid": "7e2fdc0c-17bf-401a-bacc-456a5dba8b68"
            },
            "outputs": [
                {
                    "output_type": "error",
                    "ename": "",
                    "evalue": "Msg 547, Level 16, State 0, Line 1\r\nThe INSERT statement conflicted with the FOREIGN KEY constraint \"FK__REVIEWS__RATING__51300E55\". The conflict occurred in database \"books_db_g7cr_202407\", table \"dbo.BOOKS\", column 'TITLE'.",
                    "traceback": []
                },
                {
                    "output_type": "display_data",
                    "data": {
                        "text/html": "The statement has been terminated."
                    },
                    "metadata": {}
                },
                {
                    "output_type": "display_data",
                    "data": {
                        "text/html": "Total execution time: 00:00:00.002"
                    },
                    "metadata": {}
                }
            ],
            "execution_count": 62
        },
        {
            "cell_type": "markdown",
            "source": [
                "## Adding Records From Previous Review Table"
            ],
            "metadata": {
                "language": "",
                "azdata_cell_guid": "1f41c94a-9879-4c9c-9fb5-554173661bc3"
            },
            "attachments": {}
        },
        {
            "cell_type": "code",
            "source": [
                "INSERT \r\n",
                "    INTO REVIEWS(BOOK_TITLE,REVIEWER,RATING)\r\n",
                "\r\n",
                "    -- insert result of below select\r\n",
                "    SELECT\r\n",
                "        BOOK_TITLE, REVIEWER,RATING\r\n",
                "    FROM\r\n",
                "        REVIEWS_OLD\r\n",
                "\r\n",
                "   "
            ],
            "metadata": {
                "azdata_cell_guid": "aa238933-a65f-43a3-86a4-62f7453a42ba",
                "language": "sql"
            },
            "outputs": [
                {
                    "output_type": "error",
                    "ename": "",
                    "evalue": "Msg 547, Level 16, State 0, Line 1\r\nThe INSERT statement conflicted with the FOREIGN KEY constraint \"FK__REVIEWS__RATING__51300E55\". The conflict occurred in database \"books_db_g7cr_202407\", table \"dbo.BOOKS\", column 'TITLE'.",
                    "traceback": []
                },
                {
                    "output_type": "display_data",
                    "data": {
                        "text/html": "The statement has been terminated."
                    },
                    "metadata": {}
                },
                {
                    "output_type": "display_data",
                    "data": {
                        "text/html": "Total execution time: 00:00:00.004"
                    },
                    "metadata": {}
                }
            ],
            "execution_count": 63
        },
        {
            "cell_type": "markdown",
            "source": [
                "## We need to exlcude invalid IDs\n",
                "\n",
                "### APPROACH 1\n",
                "\n",
                "- We can manually do it by using WHERE clause\n",
                "    - WHERE BOOK\\_TITLE NOT IN ('Kurukshetra', 'Kane And Abel')\n",
                "\n",
                "### APPROACH 2\n",
                "\n",
                "- Include reviews related to valid id's only"
            ],
            "metadata": {
                "azdata_cell_guid": "abd8c163-c74c-4cbc-a6e8-baa2a2b6b3f0"
            },
            "attachments": {}
        },
        {
            "cell_type": "code",
            "source": [
                "\r\n",
                "INSERT\r\n",
                "    INTO REVIEWS (BOOK_TITLE, REVIEWER, RATING)\r\n",
                "    -- INSERT FOLLOWING VALUES\r\n",
                "    SELECT\r\n",
                "        BOOK_TITLE, REVIEWER, RATING\r\n",
                "    FROM\r\n",
                "        REVIEWS_OLD ro\r\n",
                "    WHERE \r\n",
                "        ro.BOOK_TITLE IN (SELECT TITLE FROM BOOKS) --As long as the book_id in the old review is in new book table\r\n",
                "\r\n",
                ""
            ],
            "metadata": {
                "azdata_cell_guid": "123ba844-8af9-4ca8-acae-96fe3f48f034",
                "language": "sql"
            },
            "outputs": [
                {
                    "output_type": "display_data",
                    "data": {
                        "text/html": "(14 rows affected)"
                    },
                    "metadata": {}
                },
                {
                    "output_type": "display_data",
                    "data": {
                        "text/html": "Total execution time: 00:00:00.019"
                    },
                    "metadata": {}
                }
            ],
            "execution_count": 64
        },
        {
            "cell_type": "markdown",
            "source": [
                "## PROBLEM WITH TITLE AS PRIMARY KEY\n",
                "\n",
                "- IN the real world Title is NOT Unique\n",
                "- Different books can have the same title\n",
                "- It is better to have a **synthetic (artificial)** primary key to make the record unique.\n",
                "\n",
                "# HOW TO MODIFY OUR EXISTING TABLE\n",
                "\n",
                "- We can modify the definition of a TABLE  Without DROPING AND RECREATING\n",
                "- We can also do the smae for other db elements include databse itself\n",
                "- The command to do the same is ALTER\n",
                "\n",
                "  \n",
                "\n",
                "### 1\\. Add a Column to our Books \n",
                "\n",
                "- Make sure if you are adding column to a table that has existing records\n",
                "    - column should either accept NULL\n",
                "    - or should have a default"
            ],
            "metadata": {
                "language": "sql",
                "azdata_cell_guid": "6d237138-57a9-437b-8398-c80ff10efeb8"
            },
            "attachments": {}
        },
        {
            "cell_type": "code",
            "source": [
                "ALTER TABLE BOOKS\r\n",
                "    ADD PAGES INT DEFAULT(-1) --1 MEANS PAGE COUNT NOT KNOWN"
            ],
            "metadata": {
                "azdata_cell_guid": "e26d3466-e8a0-466a-af7a-2198a76f9f7e",
                "language": "sql"
            },
            "outputs": [
                {
                    "output_type": "display_data",
                    "data": {
                        "text/html": "Commands completed successfully."
                    },
                    "metadata": {}
                },
                {
                    "output_type": "display_data",
                    "data": {
                        "text/html": "Total execution time: 00:00:00.011"
                    },
                    "metadata": {}
                }
            ],
            "execution_count": 65
        },
        {
            "cell_type": "code",
            "source": [
                "SELECT * FROM BOOKS;"
            ],
            "metadata": {
                "language": "sql",
                "azdata_cell_guid": "08f71ca6-d4c3-4925-a9b4-b713150c7537"
            },
            "outputs": [
                {
                    "output_type": "display_data",
                    "data": {
                        "text/html": "(6 rows affected)"
                    },
                    "metadata": {}
                },
                {
                    "output_type": "display_data",
                    "data": {
                        "text/html": "Total execution time: 00:00:00.003"
                    },
                    "metadata": {}
                },
                {
                    "output_type": "execute_result",
                    "execution_count": 66,
                    "data": {
                        "application/vnd.dataresource+json": {
                            "schema": {
                                "fields": [
                                    {
                                        "name": "TITLE"
                                    },
                                    {
                                        "name": "AUTHOR"
                                    },
                                    {
                                        "name": "PRICE"
                                    },
                                    {
                                        "name": "COVER"
                                    },
                                    {
                                        "name": "PAGES"
                                    }
                                ]
                            },
                            "data": [
                                {
                                    "TITLE": "Brethren",
                                    "AUTHOR": "John Grisham",
                                    "PRICE": "350.00",
                                    "COVER": "brethren.png",
                                    "PAGES": "NULL"
                                },
                                {
                                    "TITLE": "Manas",
                                    "AUTHOR": "Vivek Dutta Mishra",
                                    "PRICE": "199.00",
                                    "COVER": "manas.png",
                                    "PAGES": "NULL"
                                },
                                {
                                    "TITLE": "Rashmirathi",
                                    "AUTHOR": "Ramdhari Singh Dinkar",
                                    "PRICE": "99.00",
                                    "COVER": "rashmirath.png",
                                    "PAGES": "NULL"
                                },
                                {
                                    "TITLE": "Summons",
                                    "AUTHOR": "John Grishma",
                                    "PRICE": "400.00",
                                    "COVER": "summons.png",
                                    "PAGES": "NULL"
                                },
                                {
                                    "TITLE": "The Accursed God",
                                    "AUTHOR": "Vivek Dutta Mishra",
                                    "PRICE": "299.00",
                                    "COVER": "tag.png",
                                    "PAGES": "NULL"
                                },
                                {
                                    "TITLE": "The Count of Monte Cristo",
                                    "AUTHOR": "Alexandre Dumas",
                                    "PRICE": "499.00",
                                    "COVER": "cristo.png",
                                    "PAGES": "NULL"
                                }
                            ]
                        },
                        "text/html": "<table><tr><th>TITLE</th><th>AUTHOR</th><th>PRICE</th><th>COVER</th><th>PAGES</th></tr><tr><td>Brethren</td><td>John Grisham</td><td>350.00</td><td>brethren.png</td><td>NULL</td></tr><tr><td>Manas</td><td>Vivek Dutta Mishra</td><td>199.00</td><td>manas.png</td><td>NULL</td></tr><tr><td>Rashmirathi</td><td>Ramdhari Singh Dinkar</td><td>99.00</td><td>rashmirath.png</td><td>NULL</td></tr><tr><td>Summons</td><td>John Grishma</td><td>400.00</td><td>summons.png</td><td>NULL</td></tr><tr><td>The Accursed God</td><td>Vivek Dutta Mishra</td><td>299.00</td><td>tag.png</td><td>NULL</td></tr><tr><td>The Count of Monte Cristo</td><td>Alexandre Dumas</td><td>499.00</td><td>cristo.png</td><td>NULL</td></tr></table>"
                    },
                    "metadata": {}
                }
            ],
            "execution_count": 66
        },
        {
            "cell_type": "markdown",
            "source": [
                "## We can also remove an existing column"
            ],
            "metadata": {
                "language": "sql",
                "azdata_cell_guid": "8942b64e-caac-4240-95a4-80d8eaa78ab5"
            },
            "attachments": {}
        },
        {
            "cell_type": "code",
            "source": [
                "ALTER TABLE BOOKS\r\n",
                "    DROP COLUMN PAGES;"
            ],
            "metadata": {
                "language": "sql",
                "azdata_cell_guid": "5dd931ab-1bf3-49d7-86e3-6bba44f1bc4e"
            },
            "outputs": [
                {
                    "output_type": "error",
                    "ename": "",
                    "evalue": "Msg 5074, Level 16, State 1, Line 1\r\nThe object 'DF__BOOKS__PAGES__5224328E' is dependent on column 'PAGES'.",
                    "traceback": []
                },
                {
                    "output_type": "error",
                    "ename": "",
                    "evalue": "Msg 4922, Level 16, State 9, Line 1\r\nALTER TABLE DROP COLUMN PAGES failed because one or more objects access this column.",
                    "traceback": []
                },
                {
                    "output_type": "display_data",
                    "data": {
                        "text/html": "Total execution time: 00:00:00.002"
                    },
                    "metadata": {}
                }
            ],
            "execution_count": 67
        },
        {
            "cell_type": "markdown",
            "source": [
                "### PROBLEM\n",
                "\n",
                "- SINCE WE HAVE ADDED A CONSTRAINT WE CAN'T REMOVE A CELL TILL WE REMOVE THE CONSTRAINT\n",
                "\n",
                "### ALTER TABLE TO REMOVE A CONSTRATING\n",
                "\n",
                "- EVERY CONSTRAINT HAVE A NAME\n",
                "- WE CAN DROP THE CONSTRAINT USING THE NAME\n",
                "- THE NAME IS DISPLAYED ABOVE\n",
                "- BUT WE CAN FIND THE NAME OF A CONSTRAINT BY LOOKING IN TABLE DEFINITION\n",
                "\n",
                "##"
            ],
            "metadata": {
                "language": "",
                "azdata_cell_guid": "4bd3740d-c7cc-4524-8012-710f76d9ae03"
            },
            "attachments": {}
        },
        {
            "cell_type": "code",
            "source": [
                "ALTER TABLE BOOKS\r\n",
                "    DROP CONSTRAINT DF__BOOKS__PAGES__5224328E"
            ],
            "metadata": {
                "azdata_cell_guid": "370a2096-e4a4-4d9b-944a-8079d6427c49",
                "language": "sql"
            },
            "outputs": [
                {
                    "output_type": "display_data",
                    "data": {
                        "text/html": "Commands completed successfully."
                    },
                    "metadata": {}
                },
                {
                    "output_type": "display_data",
                    "data": {
                        "text/html": "Total execution time: 00:00:00.010"
                    },
                    "metadata": {}
                }
            ],
            "execution_count": 69
        },
        {
            "cell_type": "markdown",
            "source": [
                "### Now we can drop the column"
            ],
            "metadata": {
                "language": "",
                "azdata_cell_guid": "2d70d376-7de2-4ce4-8b35-30167275b01d"
            },
            "attachments": {}
        },
        {
            "cell_type": "code",
            "source": [
                "ALTER TABLE BOOKS\r\n",
                "    DROP COLUMN PAGES"
            ],
            "metadata": {
                "azdata_cell_guid": "8b43c77a-0554-4102-8739-105f0e387ecb",
                "language": "sql"
            },
            "outputs": [
                {
                    "output_type": "display_data",
                    "data": {
                        "text/html": "Commands completed successfully."
                    },
                    "metadata": {}
                },
                {
                    "output_type": "display_data",
                    "data": {
                        "text/html": "Total execution time: 00:00:00.001"
                    },
                    "metadata": {}
                }
            ],
            "execution_count": 70
        },
        {
            "cell_type": "code",
            "source": [
                "SELECT * FROM BOOKS"
            ],
            "metadata": {
                "language": "sql",
                "azdata_cell_guid": "8a56c99c-50aa-480e-9f21-83ca98eec55f"
            },
            "outputs": [
                {
                    "output_type": "display_data",
                    "data": {
                        "text/html": "(6 rows affected)"
                    },
                    "metadata": {}
                },
                {
                    "output_type": "display_data",
                    "data": {
                        "text/html": "Total execution time: 00:00:00.004"
                    },
                    "metadata": {}
                },
                {
                    "output_type": "execute_result",
                    "execution_count": 71,
                    "data": {
                        "application/vnd.dataresource+json": {
                            "schema": {
                                "fields": [
                                    {
                                        "name": "TITLE"
                                    },
                                    {
                                        "name": "AUTHOR"
                                    },
                                    {
                                        "name": "PRICE"
                                    },
                                    {
                                        "name": "COVER"
                                    }
                                ]
                            },
                            "data": [
                                {
                                    "TITLE": "Brethren",
                                    "AUTHOR": "John Grisham",
                                    "PRICE": "350.00",
                                    "COVER": "brethren.png"
                                },
                                {
                                    "TITLE": "Manas",
                                    "AUTHOR": "Vivek Dutta Mishra",
                                    "PRICE": "199.00",
                                    "COVER": "manas.png"
                                },
                                {
                                    "TITLE": "Rashmirathi",
                                    "AUTHOR": "Ramdhari Singh Dinkar",
                                    "PRICE": "99.00",
                                    "COVER": "rashmirath.png"
                                },
                                {
                                    "TITLE": "Summons",
                                    "AUTHOR": "John Grishma",
                                    "PRICE": "400.00",
                                    "COVER": "summons.png"
                                },
                                {
                                    "TITLE": "The Accursed God",
                                    "AUTHOR": "Vivek Dutta Mishra",
                                    "PRICE": "299.00",
                                    "COVER": "tag.png"
                                },
                                {
                                    "TITLE": "The Count of Monte Cristo",
                                    "AUTHOR": "Alexandre Dumas",
                                    "PRICE": "499.00",
                                    "COVER": "cristo.png"
                                }
                            ]
                        },
                        "text/html": "<table><tr><th>TITLE</th><th>AUTHOR</th><th>PRICE</th><th>COVER</th></tr><tr><td>Brethren</td><td>John Grisham</td><td>350.00</td><td>brethren.png</td></tr><tr><td>Manas</td><td>Vivek Dutta Mishra</td><td>199.00</td><td>manas.png</td></tr><tr><td>Rashmirathi</td><td>Ramdhari Singh Dinkar</td><td>99.00</td><td>rashmirath.png</td></tr><tr><td>Summons</td><td>John Grishma</td><td>400.00</td><td>summons.png</td></tr><tr><td>The Accursed God</td><td>Vivek Dutta Mishra</td><td>299.00</td><td>tag.png</td></tr><tr><td>The Count of Monte Cristo</td><td>Alexandre Dumas</td><td>499.00</td><td>cristo.png</td></tr></table>"
                    },
                    "metadata": {}
                }
            ],
            "execution_count": 71
        },
        {
            "cell_type": "markdown",
            "source": [
                "# WE WANT TO CHANGE BOOK'S PRIMARY KEY FROM TITLE TO ID (INT)\n",
                "\n",
                "## Challenges\n",
                "\n",
                "### \n",
                "\n",
                "1. Add a new column id MAKE IT AUTOINCREMENT.... NO PROBLEM\n",
                "2. REMOVE THE CURRENT PRIMARY KEY CONSTRAINT (NOT THE TITLE COLUMN)\n",
                "- This is referred in the Reviews and Foreign Key\n",
                "- We Can't demote\n",
                "\n",
                "## Change of Plan\n",
                "\n",
                "  \n",
                "\n",
                "## \n",
                "\n",
                "1. Add a non primary key column ID in BOOKS\n",
                "2. Remove FK constraint from Reviews BOOK\\_TITLE\n",
                "3.  REMOVE PRIMARY KEY CONSTRAINT FROM BOOKS\n",
                "4.  ADD  NEW PRIMARY KEY CONSTRAINT INTO BOOKS ON ID\n",
                "5.  ALTER REVIEWS TABLE TO ADD A NEW NORMAL COLUMN BOOK\\_ID\n",
                "6. UPDATE REVIEWS TO SET BOOK\\_ID BASED ON BOOK\\_TITLE\n",
                "7. DROP THE BOOK\\_TITLE COLUM FROM REVIEWS\n",
                "8. ADD NEW FK CONSTRAINT IN REVIEW FOR BOOK\\_ID\n",
                "\n",
                "2."
            ],
            "metadata": {
                "azdata_cell_guid": "78ea61e0-5363-454a-b1e2-4278806e5fc3"
            },
            "attachments": {}
        },
        {
            "cell_type": "code",
            "source": [
                "ALTER TABLE BOOKS\r\n",
                "    DROP CONSTRAINT PK__BOOKS__475DFD2E29A63892"
            ],
            "metadata": {
                "azdata_cell_guid": "dca11f87-9563-40d3-9625-3d934ffb139c",
                "language": "sql"
            },
            "outputs": [
                {
                    "output_type": "error",
                    "ename": "",
                    "evalue": "Msg 3728, Level 16, State 1, Line 1\r\n'PK__BOOKS__475DFD2E29A63892' is not a constraint.",
                    "traceback": []
                },
                {
                    "output_type": "error",
                    "ename": "",
                    "evalue": "Msg 3727, Level 16, State 0, Line 1\r\nCould not drop constraint. See previous errors.",
                    "traceback": []
                },
                {
                    "output_type": "display_data",
                    "data": {
                        "text/html": "Total execution time: 00:00:00.001"
                    },
                    "metadata": {}
                }
            ],
            "execution_count": 72
        },
        {
            "cell_type": "code",
            "source": [
                "ALTER TABLE REVIEWS\r\n",
                "    DROP CONSTRAINT FK__REVIEWS__RATING__3493CFA7"
            ],
            "metadata": {
                "language": "sql",
                "azdata_cell_guid": "6ff37f5a-b740-44fd-9ea8-2cdcc3cb6322"
            },
            "outputs": [
                {
                    "output_type": "display_data",
                    "data": {
                        "text/html": "Commands completed successfully."
                    },
                    "metadata": {}
                },
                {
                    "output_type": "display_data",
                    "data": {
                        "text/html": "Total execution time: 00:00:00.013"
                    },
                    "metadata": {}
                }
            ],
            "execution_count": 143
        },
        {
            "cell_type": "code",
            "source": [
                "ALTER TABLE BOOKS\r\n",
                "    DROP CONSTRAINT PK__BOOKS__475DFD2E29A63892"
            ],
            "metadata": {
                "language": "sql",
                "azdata_cell_guid": "501fbd8a-0b2b-473a-86a6-5aa79d2ed0e5"
            },
            "outputs": [
                {
                    "output_type": "display_data",
                    "data": {
                        "text/html": "Commands completed successfully."
                    },
                    "metadata": {}
                },
                {
                    "output_type": "display_data",
                    "data": {
                        "text/html": "Total execution time: 00:00:00.012"
                    },
                    "metadata": {}
                }
            ],
            "execution_count": 144
        }
    ]
}