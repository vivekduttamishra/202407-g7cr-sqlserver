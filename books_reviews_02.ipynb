{
    "metadata": {
        "kernelspec": {
            "name": "SQL",
            "display_name": "SQL",
            "language": "sql"
        },
        "language_info": {
            "name": "sql",
            "version": ""
        }
    },
    "nbformat_minor": 2,
    "nbformat": 4,
    "cells": [
        {
            "cell_type": "markdown",
            "source": [
                "# A WORD ABOUT CONSTRAINTS\n",
                "\n",
                "1. WHEN WE CREATE A COLUMN WE CAN APPLY MULTIPLE RULES ON THE COLUMN THAT ARE REFERRED AS CONSTRAINT\n",
                "2. THEY ARE OFTEN USED VALIDATING OR DESCRIBING DATA SHAPE\n",
                "- THIS COULD BE ATOMIC FOR CURRENT CELL\n",
                "    - NOT NULL\n",
                "    - CHECK (PRICE\\>0)\n",
                "- OR THIS COULD BE A RELATION WITH OTHER CELLS\n",
                "    - UNIQUE VALUE\n",
                "\n",
                "4. WE ALSO HAVE DEFAULT CONSTRAINT \n",
                "- IT IS TREATED DIFFERENTLY\n",
                "6. OTHER SPECIAL CONSTRAINTS ARE\n",
                "- KEYS\n",
                "    - PRIMARY KEY\n",
                "    - FOREIGN KEY\n",
                "- INDEXES\n",
                "\n",
                "- <span style=\"color: var(--vscode-foreground);\">EVERY CONSTRAINT HAS A NAME</span>\n",
                "    - <span style=\"color: var(--vscode-foreground);\">IF WE DON'T SUPPLY, IT GETS A DYNAMIC NAME</span>\n",
                "    - <span style=\"color: var(--vscode-foreground);\">IT IS DIFFICULT TO REMEMBER OR ALTER THEM LATER.</span>"
            ],
            "metadata": {
                "azdata_cell_guid": "ce59104f-1130-45cd-9752-921b2bdeeb9e",
                "language": ""
            },
            "attachments": {}
        },
        {
            "cell_type": "code",
            "source": [
                "DROP TABLE IF EXISTS REVIEWS;\r\n",
                "DROP TABLE IF EXISTS REVIEWS_OLD;\r\n",
                "DROP TABLE IF EXISTS BOOKS;\r\n",
                "DROP TABLE IF EXISTS BOOKS_OLD;\r\n",
                "\r\n",
                "    "
            ],
            "metadata": {
                "azdata_cell_guid": "81094e96-7ef2-48f8-b61a-10fcac8ef071",
                "language": "sql"
            },
            "outputs": [
                {
                    "output_type": "display_data",
                    "data": {
                        "text/html": "Commands completed successfully."
                    },
                    "metadata": {}
                },
                {
                    "output_type": "display_data",
                    "data": {
                        "text/html": "Total execution time: 00:00:00.017"
                    },
                    "metadata": {}
                }
            ],
            "execution_count": 22
        },
        {
            "cell_type": "code",
            "source": [
                "\r\n",
                "CREATE TABLE BOOKS(\r\n",
                "    \r\n",
                "    TITLE VARCHAR(100) CONSTRAINT PK_BOOKS_TITLE  PRIMARY KEY,\r\n",
                "    AUTHOR VARCHAR(100) NOT NULL,\r\n",
                "    PRICE DECIMAL(8,2) CONSTRAINT CHECK_BOOKS_PRICE CHECK(PRICE>=0),\r\n",
                "    --RATING DECIMAL(5,2) CHECK(RATING>=1 AND RATING<=5),\r\n",
                "    COVER VARCHAR(512) CONSTRAINT DEFAULT_BOOKS_COVER DEFAULT('unknown.png')\r\n",
                ");\r\n",
                "\r\n",
                "CREATE TABLE REVIEWS(\r\n",
                "    -- THIS COLUMN WILL BE CONVERTED TO FOREIGN KEY BELOW\r\n",
                "    BOOK_TITLE VARCHAR(100) NOT NULL,  \r\n",
                "\r\n",
                "    --RATING RELATED INFO\r\n",
                "    REVIEWER VARCHAR(100),\r\n",
                "    RATING INT CHECK(RATING>=1 AND RATING<=5),\r\n",
                "\r\n",
                "    -- ADD FOREIGN KEY CONSTRAINT TO BOOK_TITLE\r\n",
                "    CONSTRAINT FK__BOOK_ID__BOOKS__ID FOREIGN KEY(BOOK_TITLE) REFERENCES BOOKS(TITLE)\r\n",
                "\r\n",
                "    \r\n",
                ");"
            ],
            "metadata": {
                "azdata_cell_guid": "8c97de73-d71d-4a8b-a699-d5a8a2625698",
                "language": "sql"
            },
            "outputs": [
                {
                    "output_type": "display_data",
                    "data": {
                        "text/html": "Commands completed successfully."
                    },
                    "metadata": {}
                },
                {
                    "output_type": "display_data",
                    "data": {
                        "text/html": "Total execution time: 00:00:00.016"
                    },
                    "metadata": {}
                }
            ],
            "execution_count": 23
        },
        {
            "cell_type": "markdown",
            "source": [
                "WE CAN ADD BOOK RECORDS"
            ],
            "metadata": {
                "language": "sql",
                "azdata_cell_guid": "3367ce06-31e7-4a62-a6ad-c30a2d355210"
            },
            "attachments": {}
        },
        {
            "cell_type": "code",
            "source": [
                "INSERT \r\n",
                "    INTO BOOKS(TITLE,AUTHOR,PRICE,COVER)\r\n",
                "    VALUES    \r\n",
                "    \r\n",
                "    ('The Accursed God','Vivek Dutta Mishra',299, 'tag.png'),\r\n",
                "    ('Manas','Vivek Dutta Mishra',199, 'manas.png'),\r\n",
                "    ('Rashmirathi','Ramdhari Singh Dinkar',99, 'rashmirath.png'),\r\n",
                "    ('The Count of Monte Cristo','Alexandre Dumas',499, 'cristo.png')    \r\n",
                "\r\n",
                "    ;"
            ],
            "metadata": {
                "language": "sql",
                "azdata_cell_guid": "1add3e34-9658-4cf2-a59e-895ab05a2000"
            },
            "outputs": [
                {
                    "output_type": "display_data",
                    "data": {
                        "text/html": "(4 rows affected)"
                    },
                    "metadata": {}
                },
                {
                    "output_type": "display_data",
                    "data": {
                        "text/html": "Total execution time: 00:00:00.017"
                    },
                    "metadata": {}
                }
            ],
            "execution_count": 24
        },
        {
            "cell_type": "code",
            "source": [
                "SELECT * FROM BOOKS;"
            ],
            "metadata": {
                "azdata_cell_guid": "d6cd193b-c598-42c8-882a-858a317c9881",
                "language": "sql"
            },
            "outputs": [
                {
                    "output_type": "display_data",
                    "data": {
                        "text/html": "(4 rows affected)"
                    },
                    "metadata": {}
                },
                {
                    "output_type": "display_data",
                    "data": {
                        "text/html": "Total execution time: 00:00:00.003"
                    },
                    "metadata": {}
                },
                {
                    "output_type": "execute_result",
                    "metadata": {},
                    "execution_count": 25,
                    "data": {
                        "application/vnd.dataresource+json": {
                            "schema": {
                                "fields": [
                                    {
                                        "name": "TITLE"
                                    },
                                    {
                                        "name": "AUTHOR"
                                    },
                                    {
                                        "name": "PRICE"
                                    },
                                    {
                                        "name": "COVER"
                                    }
                                ]
                            },
                            "data": [
                                {
                                    "TITLE": "Manas",
                                    "AUTHOR": "Vivek Dutta Mishra",
                                    "PRICE": "199.00",
                                    "COVER": "manas.png"
                                },
                                {
                                    "TITLE": "Rashmirathi",
                                    "AUTHOR": "Ramdhari Singh Dinkar",
                                    "PRICE": "99.00",
                                    "COVER": "rashmirath.png"
                                },
                                {
                                    "TITLE": "The Accursed God",
                                    "AUTHOR": "Vivek Dutta Mishra",
                                    "PRICE": "299.00",
                                    "COVER": "tag.png"
                                },
                                {
                                    "TITLE": "The Count of Monte Cristo",
                                    "AUTHOR": "Alexandre Dumas",
                                    "PRICE": "499.00",
                                    "COVER": "cristo.png"
                                }
                            ]
                        },
                        "text/html": [
                            "<table>",
                            "<tr><th>TITLE</th><th>AUTHOR</th><th>PRICE</th><th>COVER</th></tr>",
                            "<tr><td>Manas</td><td>Vivek Dutta Mishra</td><td>199.00</td><td>manas.png</td></tr>",
                            "<tr><td>Rashmirathi</td><td>Ramdhari Singh Dinkar</td><td>99.00</td><td>rashmirath.png</td></tr>",
                            "<tr><td>The Accursed God</td><td>Vivek Dutta Mishra</td><td>299.00</td><td>tag.png</td></tr>",
                            "<tr><td>The Count of Monte Cristo</td><td>Alexandre Dumas</td><td>499.00</td><td>cristo.png</td></tr>",
                            "</table>"
                        ]
                    }
                }
            ],
            "execution_count": 25
        },
        {
            "cell_type": "markdown",
            "source": [
                "WE CAN'T ADD DUPLICATE TITLE AS IT IS A PRIMARY KEY"
            ],
            "metadata": {
                "azdata_cell_guid": "d48e6cfb-ba80-4671-86f9-e4a762fb7efa"
            },
            "attachments": {}
        },
        {
            "cell_type": "code",
            "source": [
                "INSERT \r\n",
                "    INTO BOOKS(TITLE,AUTHOR,PRICE,COVER)\r\n",
                "    VALUES    \r\n",
                "    \r\n",
                "    ('The Accursed God','Manoj Kumar',199, 'pic-tag.png')"
            ],
            "metadata": {
                "azdata_cell_guid": "34e6e18d-80f1-403e-b181-b612946492be",
                "language": "sql"
            },
            "outputs": [
                {
                    "output_type": "error",
                    "evalue": "Msg 2627, Level 14, State 1, Line 1\r\nViolation of PRIMARY KEY constraint 'PK_BOOKS_TITLE'. Cannot insert duplicate key in object 'dbo.BOOKS'. The duplicate key value is (The Accursed God).",
                    "ename": "",
                    "traceback": []
                },
                {
                    "output_type": "display_data",
                    "data": {
                        "text/html": "The statement has been terminated."
                    },
                    "metadata": {}
                },
                {
                    "output_type": "display_data",
                    "data": {
                        "text/html": "Total execution time: 00:00:00.002"
                    },
                    "metadata": {}
                }
            ],
            "execution_count": 26
        },
        {
            "cell_type": "markdown",
            "source": [
                "LET US ADD SOME REVIEWS FOR EXISTING BOOK"
            ],
            "metadata": {
                "azdata_cell_guid": "539db41e-87ec-4294-9e32-9632cfa8928d"
            },
            "attachments": {}
        },
        {
            "cell_type": "code",
            "source": [
                "INSERT \r\n",
                "    INTO REVIEWS(BOOK_TITLE,REVIEWER,RATING)\r\n",
                "    VALUES    \r\n",
                "    \r\n",
                "    ('The Accursed God','Sanjay',5),\r\n",
                "    ('The Accursed God','Shivanshi',3),\r\n",
                "    ('The Accursed God','Amit',5),\r\n",
                "    ('The Accursed God','Rajesh',5),\r\n",
                "    \r\n",
                "    ('Manas','Shivanshi',5),\r\n",
                "    ('Manas','Reena',4),\r\n",
                "    ('Manas','Sanjay',4),\r\n",
                "\r\n",
                "    ('Rashmirathi','Shivanshi',4),\r\n",
                "    ('Rashmirathi','Vivek',4),\r\n",
                "    ('Rashmirathi','Reena',4),\r\n",
                "    ('Rashmirathi','Amit',3),\r\n",
                "\r\n",
                "    ('The Count of Monte Cristo','Vivek',5),\r\n",
                "    ('The Count of Monte Cristo','Reena',4),\r\n",
                "    ('The Count of Monte Cristo','Shivanshi',4)\r\n",
                "    \r\n",
                "\r\n",
                "    ;"
            ],
            "metadata": {
                "language": "sql",
                "azdata_cell_guid": "6f6d457e-39bd-4ddd-bf8e-17ddbf7c8eb6"
            },
            "outputs": [
                {
                    "output_type": "display_data",
                    "data": {
                        "text/html": "(14 rows affected)"
                    },
                    "metadata": {}
                },
                {
                    "output_type": "display_data",
                    "data": {
                        "text/html": "Total execution time: 00:00:00.012"
                    },
                    "metadata": {}
                }
            ],
            "execution_count": 27
        },
        {
            "cell_type": "code",
            "source": [
                "SELECT * FROM BOOKS;\r\n",
                "\r\n",
                "SELECT * FROM REVIEWS;"
            ],
            "metadata": {
                "azdata_cell_guid": "d7999dee-1a87-4ac4-862e-c5b8aa4d4617",
                "language": "sql"
            },
            "outputs": [
                {
                    "output_type": "display_data",
                    "data": {
                        "text/html": "(4 rows affected)"
                    },
                    "metadata": {}
                },
                {
                    "output_type": "display_data",
                    "data": {
                        "text/html": "(14 rows affected)"
                    },
                    "metadata": {}
                },
                {
                    "output_type": "display_data",
                    "data": {
                        "text/html": "Total execution time: 00:00:00.006"
                    },
                    "metadata": {}
                },
                {
                    "output_type": "execute_result",
                    "metadata": {},
                    "execution_count": 28,
                    "data": {
                        "application/vnd.dataresource+json": {
                            "schema": {
                                "fields": [
                                    {
                                        "name": "TITLE"
                                    },
                                    {
                                        "name": "AUTHOR"
                                    },
                                    {
                                        "name": "PRICE"
                                    },
                                    {
                                        "name": "COVER"
                                    }
                                ]
                            },
                            "data": [
                                {
                                    "TITLE": "Manas",
                                    "AUTHOR": "Vivek Dutta Mishra",
                                    "PRICE": "199.00",
                                    "COVER": "manas.png"
                                },
                                {
                                    "TITLE": "Rashmirathi",
                                    "AUTHOR": "Ramdhari Singh Dinkar",
                                    "PRICE": "99.00",
                                    "COVER": "rashmirath.png"
                                },
                                {
                                    "TITLE": "The Accursed God",
                                    "AUTHOR": "Vivek Dutta Mishra",
                                    "PRICE": "299.00",
                                    "COVER": "tag.png"
                                },
                                {
                                    "TITLE": "The Count of Monte Cristo",
                                    "AUTHOR": "Alexandre Dumas",
                                    "PRICE": "499.00",
                                    "COVER": "cristo.png"
                                }
                            ]
                        },
                        "text/html": [
                            "<table>",
                            "<tr><th>TITLE</th><th>AUTHOR</th><th>PRICE</th><th>COVER</th></tr>",
                            "<tr><td>Manas</td><td>Vivek Dutta Mishra</td><td>199.00</td><td>manas.png</td></tr>",
                            "<tr><td>Rashmirathi</td><td>Ramdhari Singh Dinkar</td><td>99.00</td><td>rashmirath.png</td></tr>",
                            "<tr><td>The Accursed God</td><td>Vivek Dutta Mishra</td><td>299.00</td><td>tag.png</td></tr>",
                            "<tr><td>The Count of Monte Cristo</td><td>Alexandre Dumas</td><td>499.00</td><td>cristo.png</td></tr>",
                            "</table>"
                        ]
                    }
                },
                {
                    "output_type": "execute_result",
                    "metadata": {},
                    "execution_count": 28,
                    "data": {
                        "application/vnd.dataresource+json": {
                            "schema": {
                                "fields": [
                                    {
                                        "name": "BOOK_TITLE"
                                    },
                                    {
                                        "name": "REVIEWER"
                                    },
                                    {
                                        "name": "RATING"
                                    }
                                ]
                            },
                            "data": [
                                {
                                    "BOOK_TITLE": "The Accursed God",
                                    "REVIEWER": "Sanjay",
                                    "RATING": "5"
                                },
                                {
                                    "BOOK_TITLE": "The Accursed God",
                                    "REVIEWER": "Shivanshi",
                                    "RATING": "3"
                                },
                                {
                                    "BOOK_TITLE": "The Accursed God",
                                    "REVIEWER": "Amit",
                                    "RATING": "5"
                                },
                                {
                                    "BOOK_TITLE": "The Accursed God",
                                    "REVIEWER": "Rajesh",
                                    "RATING": "5"
                                },
                                {
                                    "BOOK_TITLE": "Manas",
                                    "REVIEWER": "Shivanshi",
                                    "RATING": "5"
                                },
                                {
                                    "BOOK_TITLE": "Manas",
                                    "REVIEWER": "Reena",
                                    "RATING": "4"
                                },
                                {
                                    "BOOK_TITLE": "Manas",
                                    "REVIEWER": "Sanjay",
                                    "RATING": "4"
                                },
                                {
                                    "BOOK_TITLE": "Rashmirathi",
                                    "REVIEWER": "Shivanshi",
                                    "RATING": "4"
                                },
                                {
                                    "BOOK_TITLE": "Rashmirathi",
                                    "REVIEWER": "Vivek",
                                    "RATING": "4"
                                },
                                {
                                    "BOOK_TITLE": "Rashmirathi",
                                    "REVIEWER": "Reena",
                                    "RATING": "4"
                                },
                                {
                                    "BOOK_TITLE": "Rashmirathi",
                                    "REVIEWER": "Amit",
                                    "RATING": "3"
                                },
                                {
                                    "BOOK_TITLE": "The Count of Monte Cristo",
                                    "REVIEWER": "Vivek",
                                    "RATING": "5"
                                },
                                {
                                    "BOOK_TITLE": "The Count of Monte Cristo",
                                    "REVIEWER": "Reena",
                                    "RATING": "4"
                                },
                                {
                                    "BOOK_TITLE": "The Count of Monte Cristo",
                                    "REVIEWER": "Shivanshi",
                                    "RATING": "4"
                                }
                            ]
                        },
                        "text/html": [
                            "<table>",
                            "<tr><th>BOOK_TITLE</th><th>REVIEWER</th><th>RATING</th></tr>",
                            "<tr><td>The Accursed God</td><td>Sanjay</td><td>5</td></tr>",
                            "<tr><td>The Accursed God</td><td>Shivanshi</td><td>3</td></tr>",
                            "<tr><td>The Accursed God</td><td>Amit</td><td>5</td></tr>",
                            "<tr><td>The Accursed God</td><td>Rajesh</td><td>5</td></tr>",
                            "<tr><td>Manas</td><td>Shivanshi</td><td>5</td></tr>",
                            "<tr><td>Manas</td><td>Reena</td><td>4</td></tr>",
                            "<tr><td>Manas</td><td>Sanjay</td><td>4</td></tr>",
                            "<tr><td>Rashmirathi</td><td>Shivanshi</td><td>4</td></tr>",
                            "<tr><td>Rashmirathi</td><td>Vivek</td><td>4</td></tr>",
                            "<tr><td>Rashmirathi</td><td>Reena</td><td>4</td></tr>",
                            "<tr><td>Rashmirathi</td><td>Amit</td><td>3</td></tr>",
                            "<tr><td>The Count of Monte Cristo</td><td>Vivek</td><td>5</td></tr>",
                            "<tr><td>The Count of Monte Cristo</td><td>Reena</td><td>4</td></tr>",
                            "<tr><td>The Count of Monte Cristo</td><td>Shivanshi</td><td>4</td></tr>",
                            "</table>"
                        ]
                    }
                }
            ],
            "execution_count": 28
        },
        {
            "cell_type": "markdown",
            "source": [
                "# <span style=\"font-size: 14px; color: var(--vscode-foreground);\">LETS ADD SOME MORE BOOKS</span>"
            ],
            "metadata": {
                "azdata_cell_guid": "0355f11b-c207-403c-a5f9-d236ce983cb1",
                "language": ""
            },
            "attachments": {}
        },
        {
            "cell_type": "code",
            "source": [
                "INSERT \r\n",
                "    INTO \r\n",
                "        BOOKS (TITLE, AUTHOR, PRICE, COVER)\r\n",
                "        VALUES\r\n",
                "                ('Brethren','John Grisham',350,'brethren.png'),\r\n",
                "                ('Summons', 'John Grishma',400,'summons.png');"
            ],
            "metadata": {
                "azdata_cell_guid": "2ae2cbc8-4116-4fcc-9ec6-8582d48c2bac",
                "language": "sql"
            },
            "outputs": [
                {
                    "output_type": "display_data",
                    "data": {
                        "text/html": "(2 rows affected)"
                    },
                    "metadata": {}
                },
                {
                    "output_type": "display_data",
                    "data": {
                        "text/html": "Total execution time: 00:00:00.012"
                    },
                    "metadata": {}
                }
            ],
            "execution_count": 29
        },
        {
            "cell_type": "markdown",
            "source": [
                "## FOREIGN KEY ADVANTAGE\n",
                "\n",
                "- WE CAN'T ADD A BOOK\\_TITLE THAT IS NOT A VALID EXISTING BOOKS.TITLE\n",
                "- FOREIGN KEY VALUE MUST MATCH EXISTING PRIMARY KEY VALUE IT IS REFERENCING TO"
            ],
            "metadata": {
                "language": "sql",
                "azdata_cell_guid": "3c5e026b-07d4-4e5b-bcea-3ba4369c901e"
            },
            "attachments": {}
        },
        {
            "cell_type": "code",
            "source": [
                "INSERT \r\n",
                "    INTO REVIEWS(BOOK_TITLE, REVIEWER, RATING)\r\n",
                "    VALUES      \r\n",
                "            ('Kurukshetra', 'Vivek', 5),\r\n",
                "            ('Kurukshetra', 'Sanjay',3),\r\n",
                "            ('Kurukshetra', 'Shivanshi',4),\r\n",
                "            ('Kane And Abel', 'Reena',4);"
            ],
            "metadata": {
                "azdata_cell_guid": "97a8993c-157c-4301-b43f-ea8d9547963c",
                "language": "sql"
            },
            "outputs": [
                {
                    "output_type": "error",
                    "evalue": "Msg 547, Level 16, State 0, Line 1\r\nThe INSERT statement conflicted with the FOREIGN KEY constraint \"FK__BOOK_ID__BOOKS__ID\". The conflict occurred in database \"books_db_g7cr_202407\", table \"dbo.BOOKS\", column 'TITLE'.",
                    "ename": "",
                    "traceback": []
                },
                {
                    "output_type": "display_data",
                    "data": {
                        "text/html": "The statement has been terminated."
                    },
                    "metadata": {}
                },
                {
                    "output_type": "display_data",
                    "data": {
                        "text/html": "Total execution time: 00:00:00.005"
                    },
                    "metadata": {}
                }
            ],
            "execution_count": 30
        },
        {
            "cell_type": "markdown",
            "source": [
                "## Now we can add a New Review for an Exisiting Book"
            ],
            "metadata": {
                "language": "",
                "azdata_cell_guid": "0d4734f9-08cd-4a3b-8e29-1832b371ae08"
            },
            "attachments": {}
        },
        {
            "cell_type": "code",
            "source": [
                "INSERT \r\n",
                "INTO  REVIEWS(BOOK_TITLE, REVIEWER, RATING)\r\n",
                "VALUES \r\n",
                "        ('The Accursed God','Prabhat',5),\r\n",
                "        ('Manas','Prabhat',5)"
            ],
            "metadata": {
                "azdata_cell_guid": "533a3b85-63a5-425d-8d94-f9ec94cb8630",
                "language": "sql"
            },
            "outputs": [
                {
                    "output_type": "display_data",
                    "data": {
                        "text/html": "(2 rows affected)"
                    },
                    "metadata": {}
                },
                {
                    "output_type": "display_data",
                    "data": {
                        "text/html": "Total execution time: 00:00:00.014"
                    },
                    "metadata": {}
                }
            ],
            "execution_count": 31
        },
        {
            "cell_type": "markdown",
            "source": [
                "## <span style=\"font-size: 14px; color: var(--vscode-foreground);\">HOW TO MODIFY OUR EXISTING TABLE</span>  \n",
                "\n",
                "- We can modify the definition of a TABLE  Without DROPPING AND RECREATING\n",
                "- We can also do the same for other db elements including the data itself\n",
                "- The command to do the same is ALTER\n",
                "\n",
                "### 1\\. Add a Column to our Books\n",
                "\n",
                "- Make sure if you are adding column to a table that has existing records\n",
                "    - column should either accept NULL\n",
                "    - or should have a default"
            ],
            "metadata": {
                "language": "sql",
                "azdata_cell_guid": "6d237138-57a9-437b-8398-c80ff10efeb8"
            },
            "attachments": {}
        },
        {
            "cell_type": "code",
            "source": [
                "ALTER TABLE BOOKS\r\n",
                "    ADD PAGES INT CONSTRAINT DEFAULT_BOOKS_PAGES DEFAULT(-1) --1 MEANS PAGE COUNT NOT KNOWN"
            ],
            "metadata": {
                "azdata_cell_guid": "e26d3466-e8a0-466a-af7a-2198a76f9f7e",
                "language": "sql"
            },
            "outputs": [
                {
                    "output_type": "display_data",
                    "data": {
                        "text/html": "Commands completed successfully."
                    },
                    "metadata": {}
                },
                {
                    "output_type": "display_data",
                    "data": {
                        "text/html": "Total execution time: 00:00:00.013"
                    },
                    "metadata": {}
                }
            ],
            "execution_count": 32
        },
        {
            "cell_type": "code",
            "source": [
                "SELECT * FROM BOOKS;"
            ],
            "metadata": {
                "language": "sql",
                "azdata_cell_guid": "08f71ca6-d4c3-4925-a9b4-b713150c7537"
            },
            "outputs": [
                {
                    "output_type": "display_data",
                    "data": {
                        "text/html": "(6 rows affected)"
                    },
                    "metadata": {}
                },
                {
                    "output_type": "display_data",
                    "data": {
                        "text/html": "Total execution time: 00:00:00.003"
                    },
                    "metadata": {}
                },
                {
                    "output_type": "execute_result",
                    "metadata": {},
                    "execution_count": 33,
                    "data": {
                        "application/vnd.dataresource+json": {
                            "schema": {
                                "fields": [
                                    {
                                        "name": "TITLE"
                                    },
                                    {
                                        "name": "AUTHOR"
                                    },
                                    {
                                        "name": "PRICE"
                                    },
                                    {
                                        "name": "COVER"
                                    },
                                    {
                                        "name": "PAGES"
                                    }
                                ]
                            },
                            "data": [
                                {
                                    "TITLE": "Brethren",
                                    "AUTHOR": "John Grisham",
                                    "PRICE": "350.00",
                                    "COVER": "brethren.png",
                                    "PAGES": "NULL"
                                },
                                {
                                    "TITLE": "Manas",
                                    "AUTHOR": "Vivek Dutta Mishra",
                                    "PRICE": "199.00",
                                    "COVER": "manas.png",
                                    "PAGES": "NULL"
                                },
                                {
                                    "TITLE": "Rashmirathi",
                                    "AUTHOR": "Ramdhari Singh Dinkar",
                                    "PRICE": "99.00",
                                    "COVER": "rashmirath.png",
                                    "PAGES": "NULL"
                                },
                                {
                                    "TITLE": "Summons",
                                    "AUTHOR": "John Grishma",
                                    "PRICE": "400.00",
                                    "COVER": "summons.png",
                                    "PAGES": "NULL"
                                },
                                {
                                    "TITLE": "The Accursed God",
                                    "AUTHOR": "Vivek Dutta Mishra",
                                    "PRICE": "299.00",
                                    "COVER": "tag.png",
                                    "PAGES": "NULL"
                                },
                                {
                                    "TITLE": "The Count of Monte Cristo",
                                    "AUTHOR": "Alexandre Dumas",
                                    "PRICE": "499.00",
                                    "COVER": "cristo.png",
                                    "PAGES": "NULL"
                                }
                            ]
                        },
                        "text/html": [
                            "<table>",
                            "<tr><th>TITLE</th><th>AUTHOR</th><th>PRICE</th><th>COVER</th><th>PAGES</th></tr>",
                            "<tr><td>Brethren</td><td>John Grisham</td><td>350.00</td><td>brethren.png</td><td>NULL</td></tr>",
                            "<tr><td>Manas</td><td>Vivek Dutta Mishra</td><td>199.00</td><td>manas.png</td><td>NULL</td></tr>",
                            "<tr><td>Rashmirathi</td><td>Ramdhari Singh Dinkar</td><td>99.00</td><td>rashmirath.png</td><td>NULL</td></tr>",
                            "<tr><td>Summons</td><td>John Grishma</td><td>400.00</td><td>summons.png</td><td>NULL</td></tr>",
                            "<tr><td>The Accursed God</td><td>Vivek Dutta Mishra</td><td>299.00</td><td>tag.png</td><td>NULL</td></tr>",
                            "<tr><td>The Count of Monte Cristo</td><td>Alexandre Dumas</td><td>499.00</td><td>cristo.png</td><td>NULL</td></tr>",
                            "</table>"
                        ]
                    }
                }
            ],
            "execution_count": 33
        },
        {
            "cell_type": "markdown",
            "source": [
                "WE CAN UPDATE THE TABLE TO FILL IN THE DEFAULTS USING UPDATE COMMAND"
            ],
            "metadata": {
                "language": "sql",
                "azdata_cell_guid": "538a07d3-eff1-4dd5-94f9-6d278e67f457"
            },
            "attachments": {}
        },
        {
            "cell_type": "code",
            "source": [
                "UPDATE\r\n",
                "    BOOKS\r\n",
                "SET\r\n",
                "    PAGES=-1\r\n",
                "\r\n",
                "UPDATE\r\n",
                "    BOOKS\r\n",
                "SET\r\n",
                "    PAGES=380\r\n",
                "WHERE\r\n",
                "    TITLE='The Accursed God'"
            ],
            "metadata": {
                "language": "sql",
                "azdata_cell_guid": "6b1f7c67-4fb7-44ed-9f7a-0012e5a2e006"
            },
            "outputs": [
                {
                    "output_type": "display_data",
                    "data": {
                        "text/html": "(6 rows affected)"
                    },
                    "metadata": {}
                },
                {
                    "output_type": "display_data",
                    "data": {
                        "text/html": "(1 row affected)"
                    },
                    "metadata": {}
                },
                {
                    "output_type": "display_data",
                    "data": {
                        "text/html": "Total execution time: 00:00:00.014"
                    },
                    "metadata": {}
                }
            ],
            "execution_count": 34
        },
        {
            "cell_type": "code",
            "source": [
                "SELECT * FROM BOOKS"
            ],
            "metadata": {
                "language": "sql",
                "azdata_cell_guid": "7b4df73d-1412-4128-88ba-1f42386d9914"
            },
            "outputs": [
                {
                    "output_type": "display_data",
                    "data": {
                        "text/html": "(6 rows affected)"
                    },
                    "metadata": {}
                },
                {
                    "output_type": "display_data",
                    "data": {
                        "text/html": "Total execution time: 00:00:00.003"
                    },
                    "metadata": {}
                },
                {
                    "output_type": "execute_result",
                    "metadata": {},
                    "execution_count": 35,
                    "data": {
                        "application/vnd.dataresource+json": {
                            "schema": {
                                "fields": [
                                    {
                                        "name": "TITLE"
                                    },
                                    {
                                        "name": "AUTHOR"
                                    },
                                    {
                                        "name": "PRICE"
                                    },
                                    {
                                        "name": "COVER"
                                    },
                                    {
                                        "name": "PAGES"
                                    }
                                ]
                            },
                            "data": [
                                {
                                    "TITLE": "Brethren",
                                    "AUTHOR": "John Grisham",
                                    "PRICE": "350.00",
                                    "COVER": "brethren.png",
                                    "PAGES": "-1"
                                },
                                {
                                    "TITLE": "Manas",
                                    "AUTHOR": "Vivek Dutta Mishra",
                                    "PRICE": "199.00",
                                    "COVER": "manas.png",
                                    "PAGES": "-1"
                                },
                                {
                                    "TITLE": "Rashmirathi",
                                    "AUTHOR": "Ramdhari Singh Dinkar",
                                    "PRICE": "99.00",
                                    "COVER": "rashmirath.png",
                                    "PAGES": "-1"
                                },
                                {
                                    "TITLE": "Summons",
                                    "AUTHOR": "John Grishma",
                                    "PRICE": "400.00",
                                    "COVER": "summons.png",
                                    "PAGES": "-1"
                                },
                                {
                                    "TITLE": "The Accursed God",
                                    "AUTHOR": "Vivek Dutta Mishra",
                                    "PRICE": "299.00",
                                    "COVER": "tag.png",
                                    "PAGES": "380"
                                },
                                {
                                    "TITLE": "The Count of Monte Cristo",
                                    "AUTHOR": "Alexandre Dumas",
                                    "PRICE": "499.00",
                                    "COVER": "cristo.png",
                                    "PAGES": "-1"
                                }
                            ]
                        },
                        "text/html": [
                            "<table>",
                            "<tr><th>TITLE</th><th>AUTHOR</th><th>PRICE</th><th>COVER</th><th>PAGES</th></tr>",
                            "<tr><td>Brethren</td><td>John Grisham</td><td>350.00</td><td>brethren.png</td><td>-1</td></tr>",
                            "<tr><td>Manas</td><td>Vivek Dutta Mishra</td><td>199.00</td><td>manas.png</td><td>-1</td></tr>",
                            "<tr><td>Rashmirathi</td><td>Ramdhari Singh Dinkar</td><td>99.00</td><td>rashmirath.png</td><td>-1</td></tr>",
                            "<tr><td>Summons</td><td>John Grishma</td><td>400.00</td><td>summons.png</td><td>-1</td></tr>",
                            "<tr><td>The Accursed God</td><td>Vivek Dutta Mishra</td><td>299.00</td><td>tag.png</td><td>380</td></tr>",
                            "<tr><td>The Count of Monte Cristo</td><td>Alexandre Dumas</td><td>499.00</td><td>cristo.png</td><td>-1</td></tr>",
                            "</table>"
                        ]
                    }
                }
            ],
            "execution_count": 35
        },
        {
            "cell_type": "markdown",
            "source": [
                "## We can also remove an existing column"
            ],
            "metadata": {
                "language": "sql",
                "azdata_cell_guid": "8942b64e-caac-4240-95a4-80d8eaa78ab5"
            },
            "attachments": {}
        },
        {
            "cell_type": "code",
            "source": [
                "ALTER TABLE BOOKS\r\n",
                "    DROP COLUMN PAGES;"
            ],
            "metadata": {
                "language": "sql",
                "azdata_cell_guid": "5dd931ab-1bf3-49d7-86e3-6bba44f1bc4e"
            },
            "outputs": [
                {
                    "output_type": "error",
                    "evalue": "Msg 5074, Level 16, State 1, Line 1\r\nThe object 'DEFAULT_BOOKS_PAGES' is dependent on column 'PAGES'.",
                    "ename": "",
                    "traceback": []
                },
                {
                    "output_type": "error",
                    "evalue": "Msg 4922, Level 16, State 9, Line 1\r\nALTER TABLE DROP COLUMN PAGES failed because one or more objects access this column.",
                    "ename": "",
                    "traceback": []
                },
                {
                    "output_type": "display_data",
                    "data": {
                        "text/html": "Total execution time: 00:00:00.001"
                    },
                    "metadata": {}
                }
            ],
            "execution_count": 36
        },
        {
            "cell_type": "markdown",
            "source": [
                "### PROBLEM\n",
                "\n",
                "- SINCE WE HAVE ADDED A CONSTRAINT WE CAN'T REMOVE A CELL TILL WE REMOVE THE CONSTRAINT\n",
                "\n",
                "### ALTER TABLE TO REMOVE A CONSTRATING"
            ],
            "metadata": {
                "language": "",
                "azdata_cell_guid": "4bd3740d-c7cc-4524-8012-710f76d9ae03"
            },
            "attachments": {}
        },
        {
            "cell_type": "code",
            "source": [
                "ALTER TABLE BOOKS\r\n",
                "    DROP CONSTRAINT DEFAULT_BOOKS_PAGES"
            ],
            "metadata": {
                "azdata_cell_guid": "370a2096-e4a4-4d9b-944a-8079d6427c49",
                "language": "sql"
            },
            "outputs": [
                {
                    "output_type": "display_data",
                    "data": {
                        "text/html": "Commands completed successfully."
                    },
                    "metadata": {}
                },
                {
                    "output_type": "display_data",
                    "data": {
                        "text/html": "Total execution time: 00:00:00.012"
                    },
                    "metadata": {}
                }
            ],
            "execution_count": 37
        },
        {
            "cell_type": "markdown",
            "source": [
                "### Now we can drop the column"
            ],
            "metadata": {
                "language": "",
                "azdata_cell_guid": "2d70d376-7de2-4ce4-8b35-30167275b01d"
            },
            "attachments": {}
        },
        {
            "cell_type": "code",
            "source": [
                "ALTER TABLE BOOKS\r\n",
                "    DROP COLUMN PAGES"
            ],
            "metadata": {
                "azdata_cell_guid": "8b43c77a-0554-4102-8739-105f0e387ecb",
                "language": "sql"
            },
            "outputs": [
                {
                    "output_type": "display_data",
                    "data": {
                        "text/html": "Commands completed successfully."
                    },
                    "metadata": {}
                },
                {
                    "output_type": "display_data",
                    "data": {
                        "text/html": "Total execution time: 00:00:00.011"
                    },
                    "metadata": {}
                }
            ],
            "execution_count": 38
        },
        {
            "cell_type": "code",
            "source": [
                "SELECT * FROM BOOKS"
            ],
            "metadata": {
                "language": "sql",
                "azdata_cell_guid": "8a56c99c-50aa-480e-9f21-83ca98eec55f"
            },
            "outputs": [
                {
                    "output_type": "display_data",
                    "data": {
                        "text/html": "(6 rows affected)"
                    },
                    "metadata": {}
                },
                {
                    "output_type": "display_data",
                    "data": {
                        "text/html": "Total execution time: 00:00:00.004"
                    },
                    "metadata": {}
                },
                {
                    "output_type": "execute_result",
                    "metadata": {},
                    "execution_count": 39,
                    "data": {
                        "application/vnd.dataresource+json": {
                            "schema": {
                                "fields": [
                                    {
                                        "name": "TITLE"
                                    },
                                    {
                                        "name": "AUTHOR"
                                    },
                                    {
                                        "name": "PRICE"
                                    },
                                    {
                                        "name": "COVER"
                                    }
                                ]
                            },
                            "data": [
                                {
                                    "TITLE": "Brethren",
                                    "AUTHOR": "John Grisham",
                                    "PRICE": "350.00",
                                    "COVER": "brethren.png"
                                },
                                {
                                    "TITLE": "Manas",
                                    "AUTHOR": "Vivek Dutta Mishra",
                                    "PRICE": "199.00",
                                    "COVER": "manas.png"
                                },
                                {
                                    "TITLE": "Rashmirathi",
                                    "AUTHOR": "Ramdhari Singh Dinkar",
                                    "PRICE": "99.00",
                                    "COVER": "rashmirath.png"
                                },
                                {
                                    "TITLE": "Summons",
                                    "AUTHOR": "John Grishma",
                                    "PRICE": "400.00",
                                    "COVER": "summons.png"
                                },
                                {
                                    "TITLE": "The Accursed God",
                                    "AUTHOR": "Vivek Dutta Mishra",
                                    "PRICE": "299.00",
                                    "COVER": "tag.png"
                                },
                                {
                                    "TITLE": "The Count of Monte Cristo",
                                    "AUTHOR": "Alexandre Dumas",
                                    "PRICE": "499.00",
                                    "COVER": "cristo.png"
                                }
                            ]
                        },
                        "text/html": [
                            "<table>",
                            "<tr><th>TITLE</th><th>AUTHOR</th><th>PRICE</th><th>COVER</th></tr>",
                            "<tr><td>Brethren</td><td>John Grisham</td><td>350.00</td><td>brethren.png</td></tr>",
                            "<tr><td>Manas</td><td>Vivek Dutta Mishra</td><td>199.00</td><td>manas.png</td></tr>",
                            "<tr><td>Rashmirathi</td><td>Ramdhari Singh Dinkar</td><td>99.00</td><td>rashmirath.png</td></tr>",
                            "<tr><td>Summons</td><td>John Grishma</td><td>400.00</td><td>summons.png</td></tr>",
                            "<tr><td>The Accursed God</td><td>Vivek Dutta Mishra</td><td>299.00</td><td>tag.png</td></tr>",
                            "<tr><td>The Count of Monte Cristo</td><td>Alexandre Dumas</td><td>499.00</td><td>cristo.png</td></tr>",
                            "</table>"
                        ]
                    }
                }
            ],
            "execution_count": 39
        },
        {
            "cell_type": "markdown",
            "source": [
                "# WE WANT TO CHANGE BOOK'S PRIMARY KEY FROM TITLE TO ID (INT)\n",
                "\n",
                "## Challenges\n",
                "\n",
                "### \n",
                "\n",
                "1. Add a new column id MAKE IT AUTOINCREMENT.... NO PROBLEM\n",
                "2. REMOVE THE CURRENT PRIMARY KEY CONSTRAINT (NOT THE TITLE COLUMN)\n",
                "- This is referred in the Reviews and Foreign Key\n",
                "- We Can't demote\n",
                "\n",
                "## Change of Plan\n",
                "\n",
                "  \n",
                "\n",
                "## \n",
                "\n",
                "1. Add a non primary key column ID in BOOKS\n",
                "2. Remove FK constraint from Reviews BOOK\\_TITLE\n",
                "3.  REMOVE PRIMARY KEY CONSTRAINT FROM BOOKS\n",
                "4.  ADD  NEW PRIMARY KEY CONSTRAINT INTO BOOKS ON ID\n",
                "5.  ALTER REVIEWS TABLE TO ADD A NEW NORMAL COLUMN BOOK\\_ID\n",
                "6. UPDATE REVIEWS TO SET BOOK\\_ID BASED ON BOOK\\_TITLE\n",
                "7. DROP THE BOOK\\_TITLE COLUM FROM REVIEWS\n",
                "8. ADD NEW FK CONSTRAINT IN REVIEW FOR BOOK\\_ID\n",
                "\n",
                "2."
            ],
            "metadata": {
                "azdata_cell_guid": "78ea61e0-5363-454a-b1e2-4278806e5fc3"
            },
            "attachments": {}
        },
        {
            "cell_type": "code",
            "source": [
                "ALTER TABLE BOOKS\r\n",
                "    DROP CONSTRAINT PK__BOOKS__475DFD2E29A63892"
            ],
            "metadata": {
                "azdata_cell_guid": "dca11f87-9563-40d3-9625-3d934ffb139c",
                "language": "sql"
            },
            "outputs": [
                {
                    "output_type": "error",
                    "ename": "",
                    "evalue": "Msg 3728, Level 16, State 1, Line 1\r\n'PK__BOOKS__475DFD2E29A63892' is not a constraint.",
                    "traceback": []
                },
                {
                    "output_type": "error",
                    "ename": "",
                    "evalue": "Msg 3727, Level 16, State 0, Line 1\r\nCould not drop constraint. See previous errors.",
                    "traceback": []
                },
                {
                    "output_type": "display_data",
                    "data": {
                        "text/html": "Total execution time: 00:00:00.001"
                    },
                    "metadata": {}
                }
            ],
            "execution_count": 72
        },
        {
            "cell_type": "code",
            "source": [
                "ALTER TABLE REVIEWS\r\n",
                "    DROP CONSTRAINT FK__REVIEWS__RATING__3493CFA7"
            ],
            "metadata": {
                "language": "sql",
                "azdata_cell_guid": "6ff37f5a-b740-44fd-9ea8-2cdcc3cb6322"
            },
            "outputs": [
                {
                    "output_type": "display_data",
                    "data": {
                        "text/html": "Commands completed successfully."
                    },
                    "metadata": {}
                },
                {
                    "output_type": "display_data",
                    "data": {
                        "text/html": "Total execution time: 00:00:00.013"
                    },
                    "metadata": {}
                }
            ],
            "execution_count": 143
        },
        {
            "cell_type": "code",
            "source": [
                "ALTER TABLE BOOKS\r\n",
                "    DROP CONSTRAINT PK__BOOKS__475DFD2E29A63892"
            ],
            "metadata": {
                "language": "sql",
                "azdata_cell_guid": "501fbd8a-0b2b-473a-86a6-5aa79d2ed0e5"
            },
            "outputs": [
                {
                    "output_type": "display_data",
                    "data": {
                        "text/html": "Commands completed successfully."
                    },
                    "metadata": {}
                },
                {
                    "output_type": "display_data",
                    "data": {
                        "text/html": "Total execution time: 00:00:00.012"
                    },
                    "metadata": {}
                }
            ],
            "execution_count": 144
        }
    ]
}