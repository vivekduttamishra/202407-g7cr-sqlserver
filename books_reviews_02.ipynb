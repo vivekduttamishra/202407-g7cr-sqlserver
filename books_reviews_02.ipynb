{
    "metadata": {
        "kernelspec": {
            "name": "SQL",
            "display_name": "SQL",
            "language": "sql"
        },
        "language_info": {
            "name": "sql",
            "version": ""
        }
    },
    "nbformat_minor": 2,
    "nbformat": 4,
    "cells": [
        {
            "cell_type": "markdown",
            "source": [
                "# A WORD ABOUT CONSTRAINTS\n",
                "\n",
                "1. WHEN WE CREATE A COLUMN WE CAN APPLY MULTIPLE RULES ON THE COLUMN THAT ARE REFERRED AS CONSTRAINT\n",
                "2. THEY ARE OFTEN USED VALIDATING OR DESCRIBING DATA SHAPE\n",
                "- THIS COULD BE ATOMIC FOR CURRENT CELL\n",
                "    - NOT NULL\n",
                "    - CHECK (PRICE\\>0)\n",
                "- OR THIS COULD BE A RELATION WITH OTHER CELLS\n",
                "    - UNIQUE VALUE\n",
                "\n",
                "4. WE ALSO HAVE DEFAULT CONSTRAINT \n",
                "- IT IS TREATED DIFFERENTLY\n",
                "6. OTHER SPECIAL CONSTRAINTS ARE\n",
                "- KEYS\n",
                "    - PRIMARY KEY\n",
                "    - FOREIGN KEY\n",
                "- INDEXES\n",
                "\n",
                "- <span style=\"color: var(--vscode-foreground);\">EVERY CONSTRAINT HAS A NAME</span>\n",
                "    - <span style=\"color: var(--vscode-foreground);\">IF WE DON'T SUPPLY, IT GETS A DYNAMIC NAME</span>\n",
                "    - <span style=\"color: var(--vscode-foreground);\">IT IS DIFFICULT TO REMEMBER OR ALTER THEM LATER.</span>"
            ],
            "metadata": {
                "azdata_cell_guid": "ce59104f-1130-45cd-9752-921b2bdeeb9e",
                "language": ""
            },
            "attachments": {}
        },
        {
            "cell_type": "code",
            "source": [
                "DROP TABLE IF EXISTS REVIEWS;\r\n",
                "DROP TABLE IF EXISTS REVIEWS_OLD;\r\n",
                "DROP TABLE IF EXISTS BOOKS;\r\n",
                "DROP TABLE IF EXISTS BOOKS_OLD;\r\n",
                "\r\n",
                "    "
            ],
            "metadata": {
                "azdata_cell_guid": "81094e96-7ef2-48f8-b61a-10fcac8ef071",
                "language": "sql"
            },
            "outputs": [
                {
                    "output_type": "display_data",
                    "data": {
                        "text/html": "Commands completed successfully."
                    },
                    "metadata": {}
                },
                {
                    "output_type": "display_data",
                    "data": {
                        "text/html": "Total execution time: 00:00:00.017"
                    },
                    "metadata": {}
                }
            ],
            "execution_count": 22
        },
        {
            "cell_type": "code",
            "source": [
                "\r\n",
                "CREATE TABLE BOOKS(\r\n",
                "    \r\n",
                "    TITLE VARCHAR(100) CONSTRAINT PK_BOOKS_TITLE  PRIMARY KEY,\r\n",
                "    AUTHOR VARCHAR(100) NOT NULL,\r\n",
                "    PRICE DECIMAL(8,2) CONSTRAINT CHECK_BOOKS_PRICE CHECK(PRICE>=0),\r\n",
                "    --RATING DECIMAL(5,2) CHECK(RATING>=1 AND RATING<=5),\r\n",
                "    COVER VARCHAR(512) CONSTRAINT DEFAULT_BOOKS_COVER DEFAULT('unknown.png')\r\n",
                ");\r\n",
                "\r\n",
                "CREATE TABLE REVIEWS(\r\n",
                "    -- THIS COLUMN WILL BE CONVERTED TO FOREIGN KEY BELOW\r\n",
                "    BOOK_TITLE VARCHAR(100) NOT NULL,  \r\n",
                "\r\n",
                "    --RATING RELATED INFO\r\n",
                "    REVIEWER VARCHAR(100),\r\n",
                "    RATING INT CHECK(RATING>=1 AND RATING<=5),\r\n",
                "\r\n",
                "    -- ADD FOREIGN KEY CONSTRAINT TO BOOK_TITLE\r\n",
                "    CONSTRAINT FK__BOOK_ID__BOOKS__ID FOREIGN KEY(BOOK_TITLE) REFERENCES BOOKS(TITLE)\r\n",
                "\r\n",
                "    \r\n",
                ");"
            ],
            "metadata": {
                "azdata_cell_guid": "8c97de73-d71d-4a8b-a699-d5a8a2625698",
                "language": "sql"
            },
            "outputs": [
                {
                    "output_type": "display_data",
                    "data": {
                        "text/html": "Commands completed successfully."
                    },
                    "metadata": {}
                },
                {
                    "output_type": "display_data",
                    "data": {
                        "text/html": "Total execution time: 00:00:00.016"
                    },
                    "metadata": {}
                }
            ],
            "execution_count": 23
        },
        {
            "cell_type": "markdown",
            "source": [
                "WE CAN ADD BOOK RECORDS"
            ],
            "metadata": {
                "language": "sql",
                "azdata_cell_guid": "3367ce06-31e7-4a62-a6ad-c30a2d355210"
            },
            "attachments": {}
        },
        {
            "cell_type": "code",
            "source": [
                "INSERT \r\n",
                "    INTO BOOKS(TITLE,AUTHOR,PRICE,COVER)\r\n",
                "    VALUES    \r\n",
                "    \r\n",
                "    ('The Accursed God','Vivek Dutta Mishra',299, 'tag.png'),\r\n",
                "    ('Manas','Vivek Dutta Mishra',199, 'manas.png'),\r\n",
                "    ('Rashmirathi','Ramdhari Singh Dinkar',99, 'rashmirath.png'),\r\n",
                "    ('The Count of Monte Cristo','Alexandre Dumas',499, 'cristo.png')    \r\n",
                "\r\n",
                "    ;"
            ],
            "metadata": {
                "language": "sql",
                "azdata_cell_guid": "1add3e34-9658-4cf2-a59e-895ab05a2000"
            },
            "outputs": [
                {
                    "output_type": "display_data",
                    "data": {
                        "text/html": "(4 rows affected)"
                    },
                    "metadata": {}
                },
                {
                    "output_type": "display_data",
                    "data": {
                        "text/html": "Total execution time: 00:00:00.017"
                    },
                    "metadata": {}
                }
            ],
            "execution_count": 24
        },
        {
            "cell_type": "code",
            "source": [
                "SELECT * FROM BOOKS;"
            ],
            "metadata": {
                "azdata_cell_guid": "d6cd193b-c598-42c8-882a-858a317c9881",
                "language": "sql"
            },
            "outputs": [
                {
                    "output_type": "display_data",
                    "data": {
                        "text/html": "(4 rows affected)"
                    },
                    "metadata": {}
                },
                {
                    "output_type": "display_data",
                    "data": {
                        "text/html": "Total execution time: 00:00:00.003"
                    },
                    "metadata": {}
                },
                {
                    "output_type": "execute_result",
                    "metadata": {},
                    "execution_count": 25,
                    "data": {
                        "application/vnd.dataresource+json": {
                            "schema": {
                                "fields": [
                                    {
                                        "name": "TITLE"
                                    },
                                    {
                                        "name": "AUTHOR"
                                    },
                                    {
                                        "name": "PRICE"
                                    },
                                    {
                                        "name": "COVER"
                                    }
                                ]
                            },
                            "data": [
                                {
                                    "TITLE": "Manas",
                                    "AUTHOR": "Vivek Dutta Mishra",
                                    "PRICE": "199.00",
                                    "COVER": "manas.png"
                                },
                                {
                                    "TITLE": "Rashmirathi",
                                    "AUTHOR": "Ramdhari Singh Dinkar",
                                    "PRICE": "99.00",
                                    "COVER": "rashmirath.png"
                                },
                                {
                                    "TITLE": "The Accursed God",
                                    "AUTHOR": "Vivek Dutta Mishra",
                                    "PRICE": "299.00",
                                    "COVER": "tag.png"
                                },
                                {
                                    "TITLE": "The Count of Monte Cristo",
                                    "AUTHOR": "Alexandre Dumas",
                                    "PRICE": "499.00",
                                    "COVER": "cristo.png"
                                }
                            ]
                        },
                        "text/html": [
                            "<table>",
                            "<tr><th>TITLE</th><th>AUTHOR</th><th>PRICE</th><th>COVER</th></tr>",
                            "<tr><td>Manas</td><td>Vivek Dutta Mishra</td><td>199.00</td><td>manas.png</td></tr>",
                            "<tr><td>Rashmirathi</td><td>Ramdhari Singh Dinkar</td><td>99.00</td><td>rashmirath.png</td></tr>",
                            "<tr><td>The Accursed God</td><td>Vivek Dutta Mishra</td><td>299.00</td><td>tag.png</td></tr>",
                            "<tr><td>The Count of Monte Cristo</td><td>Alexandre Dumas</td><td>499.00</td><td>cristo.png</td></tr>",
                            "</table>"
                        ]
                    }
                }
            ],
            "execution_count": 25
        },
        {
            "cell_type": "markdown",
            "source": [
                "WE CAN'T ADD DUPLICATE TITLE AS IT IS A PRIMARY KEY"
            ],
            "metadata": {
                "azdata_cell_guid": "d48e6cfb-ba80-4671-86f9-e4a762fb7efa"
            },
            "attachments": {}
        },
        {
            "cell_type": "code",
            "source": [
                "INSERT \r\n",
                "    INTO BOOKS(TITLE,AUTHOR,PRICE,COVER)\r\n",
                "    VALUES    \r\n",
                "    \r\n",
                "    ('The Accursed God','Manoj Kumar',199, 'pic-tag.png')"
            ],
            "metadata": {
                "azdata_cell_guid": "34e6e18d-80f1-403e-b181-b612946492be",
                "language": "sql"
            },
            "outputs": [
                {
                    "output_type": "error",
                    "evalue": "Msg 2627, Level 14, State 1, Line 1\r\nViolation of PRIMARY KEY constraint 'PK_BOOKS_TITLE'. Cannot insert duplicate key in object 'dbo.BOOKS'. The duplicate key value is (The Accursed God).",
                    "ename": "",
                    "traceback": []
                },
                {
                    "output_type": "display_data",
                    "data": {
                        "text/html": "The statement has been terminated."
                    },
                    "metadata": {}
                },
                {
                    "output_type": "display_data",
                    "data": {
                        "text/html": "Total execution time: 00:00:00.002"
                    },
                    "metadata": {}
                }
            ],
            "execution_count": 26
        },
        {
            "cell_type": "markdown",
            "source": [
                "LET US ADD SOME REVIEWS FOR EXISTING BOOK"
            ],
            "metadata": {
                "azdata_cell_guid": "539db41e-87ec-4294-9e32-9632cfa8928d"
            },
            "attachments": {}
        },
        {
            "cell_type": "code",
            "source": [
                "INSERT \r\n",
                "    INTO REVIEWS(BOOK_TITLE,REVIEWER,RATING)\r\n",
                "    VALUES    \r\n",
                "    \r\n",
                "    ('The Accursed God','Sanjay',5),\r\n",
                "    ('The Accursed God','Shivanshi',3),\r\n",
                "    ('The Accursed God','Amit',5),\r\n",
                "    ('The Accursed God','Rajesh',5),\r\n",
                "    \r\n",
                "    ('Manas','Shivanshi',5),\r\n",
                "    ('Manas','Reena',4),\r\n",
                "    ('Manas','Sanjay',4),\r\n",
                "\r\n",
                "    ('Rashmirathi','Shivanshi',4),\r\n",
                "    ('Rashmirathi','Vivek',4),\r\n",
                "    ('Rashmirathi','Reena',4),\r\n",
                "    ('Rashmirathi','Amit',3),\r\n",
                "\r\n",
                "    ('The Count of Monte Cristo','Vivek',5),\r\n",
                "    ('The Count of Monte Cristo','Reena',4),\r\n",
                "    ('The Count of Monte Cristo','Shivanshi',4)\r\n",
                "    \r\n",
                "\r\n",
                "    ;"
            ],
            "metadata": {
                "language": "sql",
                "azdata_cell_guid": "6f6d457e-39bd-4ddd-bf8e-17ddbf7c8eb6"
            },
            "outputs": [
                {
                    "output_type": "display_data",
                    "data": {
                        "text/html": "(14 rows affected)"
                    },
                    "metadata": {}
                },
                {
                    "output_type": "display_data",
                    "data": {
                        "text/html": "Total execution time: 00:00:00.012"
                    },
                    "metadata": {}
                }
            ],
            "execution_count": 27
        },
        {
            "cell_type": "code",
            "source": [
                "SELECT * FROM BOOKS;\r\n",
                "\r\n",
                "SELECT * FROM REVIEWS;"
            ],
            "metadata": {
                "azdata_cell_guid": "d7999dee-1a87-4ac4-862e-c5b8aa4d4617",
                "language": "sql"
            },
            "outputs": [
                {
                    "output_type": "display_data",
                    "data": {
                        "text/html": "(4 rows affected)"
                    },
                    "metadata": {}
                },
                {
                    "output_type": "display_data",
                    "data": {
                        "text/html": "(14 rows affected)"
                    },
                    "metadata": {}
                },
                {
                    "output_type": "display_data",
                    "data": {
                        "text/html": "Total execution time: 00:00:00.006"
                    },
                    "metadata": {}
                },
                {
                    "output_type": "execute_result",
                    "metadata": {},
                    "execution_count": 28,
                    "data": {
                        "application/vnd.dataresource+json": {
                            "schema": {
                                "fields": [
                                    {
                                        "name": "TITLE"
                                    },
                                    {
                                        "name": "AUTHOR"
                                    },
                                    {
                                        "name": "PRICE"
                                    },
                                    {
                                        "name": "COVER"
                                    }
                                ]
                            },
                            "data": [
                                {
                                    "TITLE": "Manas",
                                    "AUTHOR": "Vivek Dutta Mishra",
                                    "PRICE": "199.00",
                                    "COVER": "manas.png"
                                },
                                {
                                    "TITLE": "Rashmirathi",
                                    "AUTHOR": "Ramdhari Singh Dinkar",
                                    "PRICE": "99.00",
                                    "COVER": "rashmirath.png"
                                },
                                {
                                    "TITLE": "The Accursed God",
                                    "AUTHOR": "Vivek Dutta Mishra",
                                    "PRICE": "299.00",
                                    "COVER": "tag.png"
                                },
                                {
                                    "TITLE": "The Count of Monte Cristo",
                                    "AUTHOR": "Alexandre Dumas",
                                    "PRICE": "499.00",
                                    "COVER": "cristo.png"
                                }
                            ]
                        },
                        "text/html": [
                            "<table>",
                            "<tr><th>TITLE</th><th>AUTHOR</th><th>PRICE</th><th>COVER</th></tr>",
                            "<tr><td>Manas</td><td>Vivek Dutta Mishra</td><td>199.00</td><td>manas.png</td></tr>",
                            "<tr><td>Rashmirathi</td><td>Ramdhari Singh Dinkar</td><td>99.00</td><td>rashmirath.png</td></tr>",
                            "<tr><td>The Accursed God</td><td>Vivek Dutta Mishra</td><td>299.00</td><td>tag.png</td></tr>",
                            "<tr><td>The Count of Monte Cristo</td><td>Alexandre Dumas</td><td>499.00</td><td>cristo.png</td></tr>",
                            "</table>"
                        ]
                    }
                },
                {
                    "output_type": "execute_result",
                    "metadata": {},
                    "execution_count": 28,
                    "data": {
                        "application/vnd.dataresource+json": {
                            "schema": {
                                "fields": [
                                    {
                                        "name": "BOOK_TITLE"
                                    },
                                    {
                                        "name": "REVIEWER"
                                    },
                                    {
                                        "name": "RATING"
                                    }
                                ]
                            },
                            "data": [
                                {
                                    "BOOK_TITLE": "The Accursed God",
                                    "REVIEWER": "Sanjay",
                                    "RATING": "5"
                                },
                                {
                                    "BOOK_TITLE": "The Accursed God",
                                    "REVIEWER": "Shivanshi",
                                    "RATING": "3"
                                },
                                {
                                    "BOOK_TITLE": "The Accursed God",
                                    "REVIEWER": "Amit",
                                    "RATING": "5"
                                },
                                {
                                    "BOOK_TITLE": "The Accursed God",
                                    "REVIEWER": "Rajesh",
                                    "RATING": "5"
                                },
                                {
                                    "BOOK_TITLE": "Manas",
                                    "REVIEWER": "Shivanshi",
                                    "RATING": "5"
                                },
                                {
                                    "BOOK_TITLE": "Manas",
                                    "REVIEWER": "Reena",
                                    "RATING": "4"
                                },
                                {
                                    "BOOK_TITLE": "Manas",
                                    "REVIEWER": "Sanjay",
                                    "RATING": "4"
                                },
                                {
                                    "BOOK_TITLE": "Rashmirathi",
                                    "REVIEWER": "Shivanshi",
                                    "RATING": "4"
                                },
                                {
                                    "BOOK_TITLE": "Rashmirathi",
                                    "REVIEWER": "Vivek",
                                    "RATING": "4"
                                },
                                {
                                    "BOOK_TITLE": "Rashmirathi",
                                    "REVIEWER": "Reena",
                                    "RATING": "4"
                                },
                                {
                                    "BOOK_TITLE": "Rashmirathi",
                                    "REVIEWER": "Amit",
                                    "RATING": "3"
                                },
                                {
                                    "BOOK_TITLE": "The Count of Monte Cristo",
                                    "REVIEWER": "Vivek",
                                    "RATING": "5"
                                },
                                {
                                    "BOOK_TITLE": "The Count of Monte Cristo",
                                    "REVIEWER": "Reena",
                                    "RATING": "4"
                                },
                                {
                                    "BOOK_TITLE": "The Count of Monte Cristo",
                                    "REVIEWER": "Shivanshi",
                                    "RATING": "4"
                                }
                            ]
                        },
                        "text/html": [
                            "<table>",
                            "<tr><th>BOOK_TITLE</th><th>REVIEWER</th><th>RATING</th></tr>",
                            "<tr><td>The Accursed God</td><td>Sanjay</td><td>5</td></tr>",
                            "<tr><td>The Accursed God</td><td>Shivanshi</td><td>3</td></tr>",
                            "<tr><td>The Accursed God</td><td>Amit</td><td>5</td></tr>",
                            "<tr><td>The Accursed God</td><td>Rajesh</td><td>5</td></tr>",
                            "<tr><td>Manas</td><td>Shivanshi</td><td>5</td></tr>",
                            "<tr><td>Manas</td><td>Reena</td><td>4</td></tr>",
                            "<tr><td>Manas</td><td>Sanjay</td><td>4</td></tr>",
                            "<tr><td>Rashmirathi</td><td>Shivanshi</td><td>4</td></tr>",
                            "<tr><td>Rashmirathi</td><td>Vivek</td><td>4</td></tr>",
                            "<tr><td>Rashmirathi</td><td>Reena</td><td>4</td></tr>",
                            "<tr><td>Rashmirathi</td><td>Amit</td><td>3</td></tr>",
                            "<tr><td>The Count of Monte Cristo</td><td>Vivek</td><td>5</td></tr>",
                            "<tr><td>The Count of Monte Cristo</td><td>Reena</td><td>4</td></tr>",
                            "<tr><td>The Count of Monte Cristo</td><td>Shivanshi</td><td>4</td></tr>",
                            "</table>"
                        ]
                    }
                }
            ],
            "execution_count": 28
        },
        {
            "cell_type": "markdown",
            "source": [
                "# <span style=\"font-size: 14px; color: var(--vscode-foreground);\">LETS ADD SOME MORE BOOKS</span>"
            ],
            "metadata": {
                "azdata_cell_guid": "0355f11b-c207-403c-a5f9-d236ce983cb1",
                "language": ""
            },
            "attachments": {}
        },
        {
            "cell_type": "code",
            "source": [
                "INSERT \r\n",
                "    INTO \r\n",
                "        BOOKS (TITLE, AUTHOR, PRICE, COVER)\r\n",
                "        VALUES\r\n",
                "                ('Brethren','John Grisham',350,'brethren.png'),\r\n",
                "                ('Summons', 'John Grishma',400,'summons.png');"
            ],
            "metadata": {
                "azdata_cell_guid": "2ae2cbc8-4116-4fcc-9ec6-8582d48c2bac",
                "language": "sql"
            },
            "outputs": [
                {
                    "output_type": "display_data",
                    "data": {
                        "text/html": "(2 rows affected)"
                    },
                    "metadata": {}
                },
                {
                    "output_type": "display_data",
                    "data": {
                        "text/html": "Total execution time: 00:00:00.012"
                    },
                    "metadata": {}
                }
            ],
            "execution_count": 29
        },
        {
            "cell_type": "markdown",
            "source": [
                "## FOREIGN KEY ADVANTAGE\n",
                "\n",
                "- WE CAN'T ADD A BOOK\\_TITLE THAT IS NOT A VALID EXISTING BOOKS.TITLE\n",
                "- FOREIGN KEY VALUE MUST MATCH EXISTING PRIMARY KEY VALUE IT IS REFERENCING TO"
            ],
            "metadata": {
                "language": "sql",
                "azdata_cell_guid": "3c5e026b-07d4-4e5b-bcea-3ba4369c901e"
            },
            "attachments": {}
        },
        {
            "cell_type": "code",
            "source": [
                "INSERT \r\n",
                "    INTO REVIEWS(BOOK_TITLE, REVIEWER, RATING)\r\n",
                "    VALUES      \r\n",
                "            ('Kurukshetra', 'Vivek', 5),\r\n",
                "            ('Kurukshetra', 'Sanjay',3),\r\n",
                "            ('Kurukshetra', 'Shivanshi',4),\r\n",
                "            ('Kane And Abel', 'Reena',4);"
            ],
            "metadata": {
                "azdata_cell_guid": "97a8993c-157c-4301-b43f-ea8d9547963c",
                "language": "sql"
            },
            "outputs": [
                {
                    "output_type": "error",
                    "evalue": "Msg 547, Level 16, State 0, Line 1\r\nThe INSERT statement conflicted with the FOREIGN KEY constraint \"FK__BOOK_ID__BOOKS__ID\". The conflict occurred in database \"books_db_g7cr_202407\", table \"dbo.BOOKS\", column 'TITLE'.",
                    "ename": "",
                    "traceback": []
                },
                {
                    "output_type": "display_data",
                    "data": {
                        "text/html": "The statement has been terminated."
                    },
                    "metadata": {}
                },
                {
                    "output_type": "display_data",
                    "data": {
                        "text/html": "Total execution time: 00:00:00.005"
                    },
                    "metadata": {}
                }
            ],
            "execution_count": 30
        },
        {
            "cell_type": "markdown",
            "source": [
                "## Now we can add a New Review for an Exisiting Book"
            ],
            "metadata": {
                "language": "",
                "azdata_cell_guid": "0d4734f9-08cd-4a3b-8e29-1832b371ae08"
            },
            "attachments": {}
        },
        {
            "cell_type": "code",
            "source": [
                "INSERT \r\n",
                "INTO  REVIEWS(BOOK_TITLE, REVIEWER, RATING)\r\n",
                "VALUES \r\n",
                "        ('The Accursed God','Prabhat',5),\r\n",
                "        ('Manas','Prabhat',5)"
            ],
            "metadata": {
                "azdata_cell_guid": "533a3b85-63a5-425d-8d94-f9ec94cb8630",
                "language": "sql"
            },
            "outputs": [
                {
                    "output_type": "display_data",
                    "data": {
                        "text/html": "(2 rows affected)"
                    },
                    "metadata": {}
                },
                {
                    "output_type": "display_data",
                    "data": {
                        "text/html": "Total execution time: 00:00:00.014"
                    },
                    "metadata": {}
                }
            ],
            "execution_count": 31
        },
        {
            "cell_type": "markdown",
            "source": [
                "## <span style=\"font-size: 14px; color: var(--vscode-foreground);\">HOW TO MODIFY OUR EXISTING TABLE</span>  \n",
                "\n",
                "- We can modify the definition of a TABLE  Without DROPPING AND RECREATING\n",
                "- We can also do the same for other db elements including the data itself\n",
                "- The command to do the same is ALTER\n",
                "\n",
                "### 1\\. Add a Column to our Books\n",
                "\n",
                "- Make sure if you are adding column to a table that has existing records\n",
                "    - column should either accept NULL\n",
                "    - or should have a default"
            ],
            "metadata": {
                "language": "sql",
                "azdata_cell_guid": "6d237138-57a9-437b-8398-c80ff10efeb8"
            },
            "attachments": {}
        },
        {
            "cell_type": "code",
            "source": [
                "ALTER TABLE BOOKS\r\n",
                "    ADD PAGES INT CONSTRAINT DEFAULT_BOOKS_PAGES DEFAULT(-1) --1 MEANS PAGE COUNT NOT KNOWN"
            ],
            "metadata": {
                "azdata_cell_guid": "e26d3466-e8a0-466a-af7a-2198a76f9f7e",
                "language": "sql"
            },
            "outputs": [
                {
                    "output_type": "display_data",
                    "data": {
                        "text/html": "Commands completed successfully."
                    },
                    "metadata": {}
                },
                {
                    "output_type": "display_data",
                    "data": {
                        "text/html": "Total execution time: 00:00:00.013"
                    },
                    "metadata": {}
                }
            ],
            "execution_count": 32
        },
        {
            "cell_type": "code",
            "source": [
                "SELECT * FROM BOOKS;"
            ],
            "metadata": {
                "language": "sql",
                "azdata_cell_guid": "08f71ca6-d4c3-4925-a9b4-b713150c7537"
            },
            "outputs": [
                {
                    "output_type": "display_data",
                    "data": {
                        "text/html": "(6 rows affected)"
                    },
                    "metadata": {}
                },
                {
                    "output_type": "display_data",
                    "data": {
                        "text/html": "Total execution time: 00:00:00.003"
                    },
                    "metadata": {}
                },
                {
                    "output_type": "execute_result",
                    "metadata": {},
                    "execution_count": 33,
                    "data": {
                        "application/vnd.dataresource+json": {
                            "schema": {
                                "fields": [
                                    {
                                        "name": "TITLE"
                                    },
                                    {
                                        "name": "AUTHOR"
                                    },
                                    {
                                        "name": "PRICE"
                                    },
                                    {
                                        "name": "COVER"
                                    },
                                    {
                                        "name": "PAGES"
                                    }
                                ]
                            },
                            "data": [
                                {
                                    "TITLE": "Brethren",
                                    "AUTHOR": "John Grisham",
                                    "PRICE": "350.00",
                                    "COVER": "brethren.png",
                                    "PAGES": "NULL"
                                },
                                {
                                    "TITLE": "Manas",
                                    "AUTHOR": "Vivek Dutta Mishra",
                                    "PRICE": "199.00",
                                    "COVER": "manas.png",
                                    "PAGES": "NULL"
                                },
                                {
                                    "TITLE": "Rashmirathi",
                                    "AUTHOR": "Ramdhari Singh Dinkar",
                                    "PRICE": "99.00",
                                    "COVER": "rashmirath.png",
                                    "PAGES": "NULL"
                                },
                                {
                                    "TITLE": "Summons",
                                    "AUTHOR": "John Grishma",
                                    "PRICE": "400.00",
                                    "COVER": "summons.png",
                                    "PAGES": "NULL"
                                },
                                {
                                    "TITLE": "The Accursed God",
                                    "AUTHOR": "Vivek Dutta Mishra",
                                    "PRICE": "299.00",
                                    "COVER": "tag.png",
                                    "PAGES": "NULL"
                                },
                                {
                                    "TITLE": "The Count of Monte Cristo",
                                    "AUTHOR": "Alexandre Dumas",
                                    "PRICE": "499.00",
                                    "COVER": "cristo.png",
                                    "PAGES": "NULL"
                                }
                            ]
                        },
                        "text/html": [
                            "<table>",
                            "<tr><th>TITLE</th><th>AUTHOR</th><th>PRICE</th><th>COVER</th><th>PAGES</th></tr>",
                            "<tr><td>Brethren</td><td>John Grisham</td><td>350.00</td><td>brethren.png</td><td>NULL</td></tr>",
                            "<tr><td>Manas</td><td>Vivek Dutta Mishra</td><td>199.00</td><td>manas.png</td><td>NULL</td></tr>",
                            "<tr><td>Rashmirathi</td><td>Ramdhari Singh Dinkar</td><td>99.00</td><td>rashmirath.png</td><td>NULL</td></tr>",
                            "<tr><td>Summons</td><td>John Grishma</td><td>400.00</td><td>summons.png</td><td>NULL</td></tr>",
                            "<tr><td>The Accursed God</td><td>Vivek Dutta Mishra</td><td>299.00</td><td>tag.png</td><td>NULL</td></tr>",
                            "<tr><td>The Count of Monte Cristo</td><td>Alexandre Dumas</td><td>499.00</td><td>cristo.png</td><td>NULL</td></tr>",
                            "</table>"
                        ]
                    }
                }
            ],
            "execution_count": 33
        },
        {
            "cell_type": "markdown",
            "source": [
                "WE CAN UPDATE THE TABLE TO FILL IN THE DEFAULTS USING UPDATE COMMAND"
            ],
            "metadata": {
                "language": "sql",
                "azdata_cell_guid": "538a07d3-eff1-4dd5-94f9-6d278e67f457"
            },
            "attachments": {}
        },
        {
            "cell_type": "code",
            "source": [
                "UPDATE\r\n",
                "    BOOKS\r\n",
                "SET\r\n",
                "    PAGES=-1\r\n",
                "\r\n",
                "UPDATE\r\n",
                "    BOOKS\r\n",
                "SET\r\n",
                "    PAGES=380\r\n",
                "WHERE\r\n",
                "    TITLE='The Accursed God'"
            ],
            "metadata": {
                "language": "sql",
                "azdata_cell_guid": "6b1f7c67-4fb7-44ed-9f7a-0012e5a2e006"
            },
            "outputs": [
                {
                    "output_type": "display_data",
                    "data": {
                        "text/html": "(6 rows affected)"
                    },
                    "metadata": {}
                },
                {
                    "output_type": "display_data",
                    "data": {
                        "text/html": "(1 row affected)"
                    },
                    "metadata": {}
                },
                {
                    "output_type": "display_data",
                    "data": {
                        "text/html": "Total execution time: 00:00:00.014"
                    },
                    "metadata": {}
                }
            ],
            "execution_count": 34
        },
        {
            "cell_type": "code",
            "source": [
                "SELECT * FROM BOOKS"
            ],
            "metadata": {
                "language": "sql",
                "azdata_cell_guid": "7b4df73d-1412-4128-88ba-1f42386d9914"
            },
            "outputs": [
                {
                    "output_type": "display_data",
                    "data": {
                        "text/html": "(6 rows affected)"
                    },
                    "metadata": {}
                },
                {
                    "output_type": "display_data",
                    "data": {
                        "text/html": "Total execution time: 00:00:00.003"
                    },
                    "metadata": {}
                },
                {
                    "output_type": "execute_result",
                    "metadata": {},
                    "execution_count": 35,
                    "data": {
                        "application/vnd.dataresource+json": {
                            "schema": {
                                "fields": [
                                    {
                                        "name": "TITLE"
                                    },
                                    {
                                        "name": "AUTHOR"
                                    },
                                    {
                                        "name": "PRICE"
                                    },
                                    {
                                        "name": "COVER"
                                    },
                                    {
                                        "name": "PAGES"
                                    }
                                ]
                            },
                            "data": [
                                {
                                    "TITLE": "Brethren",
                                    "AUTHOR": "John Grisham",
                                    "PRICE": "350.00",
                                    "COVER": "brethren.png",
                                    "PAGES": "-1"
                                },
                                {
                                    "TITLE": "Manas",
                                    "AUTHOR": "Vivek Dutta Mishra",
                                    "PRICE": "199.00",
                                    "COVER": "manas.png",
                                    "PAGES": "-1"
                                },
                                {
                                    "TITLE": "Rashmirathi",
                                    "AUTHOR": "Ramdhari Singh Dinkar",
                                    "PRICE": "99.00",
                                    "COVER": "rashmirath.png",
                                    "PAGES": "-1"
                                },
                                {
                                    "TITLE": "Summons",
                                    "AUTHOR": "John Grishma",
                                    "PRICE": "400.00",
                                    "COVER": "summons.png",
                                    "PAGES": "-1"
                                },
                                {
                                    "TITLE": "The Accursed God",
                                    "AUTHOR": "Vivek Dutta Mishra",
                                    "PRICE": "299.00",
                                    "COVER": "tag.png",
                                    "PAGES": "380"
                                },
                                {
                                    "TITLE": "The Count of Monte Cristo",
                                    "AUTHOR": "Alexandre Dumas",
                                    "PRICE": "499.00",
                                    "COVER": "cristo.png",
                                    "PAGES": "-1"
                                }
                            ]
                        },
                        "text/html": [
                            "<table>",
                            "<tr><th>TITLE</th><th>AUTHOR</th><th>PRICE</th><th>COVER</th><th>PAGES</th></tr>",
                            "<tr><td>Brethren</td><td>John Grisham</td><td>350.00</td><td>brethren.png</td><td>-1</td></tr>",
                            "<tr><td>Manas</td><td>Vivek Dutta Mishra</td><td>199.00</td><td>manas.png</td><td>-1</td></tr>",
                            "<tr><td>Rashmirathi</td><td>Ramdhari Singh Dinkar</td><td>99.00</td><td>rashmirath.png</td><td>-1</td></tr>",
                            "<tr><td>Summons</td><td>John Grishma</td><td>400.00</td><td>summons.png</td><td>-1</td></tr>",
                            "<tr><td>The Accursed God</td><td>Vivek Dutta Mishra</td><td>299.00</td><td>tag.png</td><td>380</td></tr>",
                            "<tr><td>The Count of Monte Cristo</td><td>Alexandre Dumas</td><td>499.00</td><td>cristo.png</td><td>-1</td></tr>",
                            "</table>"
                        ]
                    }
                }
            ],
            "execution_count": 35
        },
        {
            "cell_type": "markdown",
            "source": [
                "## We can also remove an existing column"
            ],
            "metadata": {
                "language": "sql",
                "azdata_cell_guid": "8942b64e-caac-4240-95a4-80d8eaa78ab5"
            },
            "attachments": {}
        },
        {
            "cell_type": "code",
            "source": [
                "ALTER TABLE BOOKS\r\n",
                "    DROP COLUMN PAGES;"
            ],
            "metadata": {
                "language": "sql",
                "azdata_cell_guid": "5dd931ab-1bf3-49d7-86e3-6bba44f1bc4e"
            },
            "outputs": [
                {
                    "output_type": "error",
                    "evalue": "Msg 5074, Level 16, State 1, Line 1\r\nThe object 'DEFAULT_BOOKS_PAGES' is dependent on column 'PAGES'.",
                    "ename": "",
                    "traceback": []
                },
                {
                    "output_type": "error",
                    "evalue": "Msg 4922, Level 16, State 9, Line 1\r\nALTER TABLE DROP COLUMN PAGES failed because one or more objects access this column.",
                    "ename": "",
                    "traceback": []
                },
                {
                    "output_type": "display_data",
                    "data": {
                        "text/html": "Total execution time: 00:00:00.001"
                    },
                    "metadata": {}
                }
            ],
            "execution_count": 36
        },
        {
            "cell_type": "markdown",
            "source": [
                "### PROBLEM\n",
                "\n",
                "- SINCE WE HAVE ADDED A CONSTRAINT WE CAN'T REMOVE A CELL TILL WE REMOVE THE CONSTRAINT\n",
                "\n",
                "### ALTER TABLE TO REMOVE A CONSTRATING"
            ],
            "metadata": {
                "language": "",
                "azdata_cell_guid": "4bd3740d-c7cc-4524-8012-710f76d9ae03"
            },
            "attachments": {}
        },
        {
            "cell_type": "code",
            "source": [
                "ALTER TABLE BOOKS\r\n",
                "    DROP CONSTRAINT DEFAULT_BOOKS_PAGES"
            ],
            "metadata": {
                "azdata_cell_guid": "370a2096-e4a4-4d9b-944a-8079d6427c49",
                "language": "sql"
            },
            "outputs": [
                {
                    "output_type": "display_data",
                    "data": {
                        "text/html": "Commands completed successfully."
                    },
                    "metadata": {}
                },
                {
                    "output_type": "display_data",
                    "data": {
                        "text/html": "Total execution time: 00:00:00.012"
                    },
                    "metadata": {}
                }
            ],
            "execution_count": 37
        },
        {
            "cell_type": "markdown",
            "source": [
                "### Now we can drop the column"
            ],
            "metadata": {
                "language": "",
                "azdata_cell_guid": "2d70d376-7de2-4ce4-8b35-30167275b01d"
            },
            "attachments": {}
        },
        {
            "cell_type": "code",
            "source": [
                "ALTER TABLE BOOKS\r\n",
                "    DROP COLUMN PAGES"
            ],
            "metadata": {
                "azdata_cell_guid": "8b43c77a-0554-4102-8739-105f0e387ecb",
                "language": "sql"
            },
            "outputs": [
                {
                    "output_type": "display_data",
                    "data": {
                        "text/html": "Commands completed successfully."
                    },
                    "metadata": {}
                },
                {
                    "output_type": "display_data",
                    "data": {
                        "text/html": "Total execution time: 00:00:00.011"
                    },
                    "metadata": {}
                }
            ],
            "execution_count": 38
        },
        {
            "cell_type": "code",
            "source": [
                "SELECT * FROM BOOKS"
            ],
            "metadata": {
                "language": "sql",
                "azdata_cell_guid": "8a56c99c-50aa-480e-9f21-83ca98eec55f"
            },
            "outputs": [
                {
                    "output_type": "display_data",
                    "data": {
                        "text/html": "(6 rows affected)"
                    },
                    "metadata": {}
                },
                {
                    "output_type": "display_data",
                    "data": {
                        "text/html": "Total execution time: 00:00:00.004"
                    },
                    "metadata": {}
                },
                {
                    "output_type": "execute_result",
                    "metadata": {},
                    "execution_count": 39,
                    "data": {
                        "application/vnd.dataresource+json": {
                            "schema": {
                                "fields": [
                                    {
                                        "name": "TITLE"
                                    },
                                    {
                                        "name": "AUTHOR"
                                    },
                                    {
                                        "name": "PRICE"
                                    },
                                    {
                                        "name": "COVER"
                                    }
                                ]
                            },
                            "data": [
                                {
                                    "TITLE": "Brethren",
                                    "AUTHOR": "John Grisham",
                                    "PRICE": "350.00",
                                    "COVER": "brethren.png"
                                },
                                {
                                    "TITLE": "Manas",
                                    "AUTHOR": "Vivek Dutta Mishra",
                                    "PRICE": "199.00",
                                    "COVER": "manas.png"
                                },
                                {
                                    "TITLE": "Rashmirathi",
                                    "AUTHOR": "Ramdhari Singh Dinkar",
                                    "PRICE": "99.00",
                                    "COVER": "rashmirath.png"
                                },
                                {
                                    "TITLE": "Summons",
                                    "AUTHOR": "John Grishma",
                                    "PRICE": "400.00",
                                    "COVER": "summons.png"
                                },
                                {
                                    "TITLE": "The Accursed God",
                                    "AUTHOR": "Vivek Dutta Mishra",
                                    "PRICE": "299.00",
                                    "COVER": "tag.png"
                                },
                                {
                                    "TITLE": "The Count of Monte Cristo",
                                    "AUTHOR": "Alexandre Dumas",
                                    "PRICE": "499.00",
                                    "COVER": "cristo.png"
                                }
                            ]
                        },
                        "text/html": [
                            "<table>",
                            "<tr><th>TITLE</th><th>AUTHOR</th><th>PRICE</th><th>COVER</th></tr>",
                            "<tr><td>Brethren</td><td>John Grisham</td><td>350.00</td><td>brethren.png</td></tr>",
                            "<tr><td>Manas</td><td>Vivek Dutta Mishra</td><td>199.00</td><td>manas.png</td></tr>",
                            "<tr><td>Rashmirathi</td><td>Ramdhari Singh Dinkar</td><td>99.00</td><td>rashmirath.png</td></tr>",
                            "<tr><td>Summons</td><td>John Grishma</td><td>400.00</td><td>summons.png</td></tr>",
                            "<tr><td>The Accursed God</td><td>Vivek Dutta Mishra</td><td>299.00</td><td>tag.png</td></tr>",
                            "<tr><td>The Count of Monte Cristo</td><td>Alexandre Dumas</td><td>499.00</td><td>cristo.png</td></tr>",
                            "</table>"
                        ]
                    }
                }
            ],
            "execution_count": 39
        },
        {
            "cell_type": "markdown",
            "source": [
                "# WE WANT TO CHANGE BOOK'S PRIMARY KEY FROM TITLE TO ID (INT)\n",
                "\n",
                "## PLAN 1\n",
                "\n",
                "1. Add a new column id MAKE IT AUTOINCREMENT.... NO PROBLEM\n",
                "    \n",
                "2. REMOVE THE CURRENT PRIMARY KEY CONSTRAINT (NOT THE TITLE COLUMN)\n",
                "    \n",
                "    - This is referred in the Reviews and Foreign Key\n",
                "    - We Can't demote\n",
                "\n",
                "##"
            ],
            "metadata": {
                "azdata_cell_guid": "78ea61e0-5363-454a-b1e2-4278806e5fc3"
            },
            "attachments": {}
        },
        {
            "cell_type": "code",
            "source": [
                "ALTER TABLE BOOKS\r\n",
                "    DROP CONSTRAINT PK_BOOKS_TITLE"
            ],
            "metadata": {
                "azdata_cell_guid": "dca11f87-9563-40d3-9625-3d934ffb139c",
                "language": "sql"
            },
            "outputs": [
                {
                    "output_type": "error",
                    "evalue": "Msg 3725, Level 16, State 0, Line 1\r\nThe constraint 'PK_BOOKS_TITLE' is being referenced by table 'REVIEWS', foreign key constraint 'FK__BOOK_ID__BOOKS__ID'.",
                    "ename": "",
                    "traceback": []
                },
                {
                    "output_type": "error",
                    "evalue": "Msg 3727, Level 16, State 0, Line 1\r\nCould not drop constraint. See previous errors.",
                    "ename": "",
                    "traceback": []
                },
                {
                    "output_type": "display_data",
                    "data": {
                        "text/html": "Total execution time: 00:00:00.001"
                    },
                    "metadata": {}
                }
            ],
            "execution_count": 41
        },
        {
            "cell_type": "markdown",
            "source": [
                "## Change of Plan\n",
                "\n",
                "1. <span style=\"color: var(--vscode-foreground);\">REVIEWS:&nbsp; Remove FK constraint from Reviews BOOK_TITLE</span>\n",
                "    \n",
                "2. <span style=\"color: var(--vscode-foreground);\">BOOKS: REMOVE PRIMARY KEY CONSTRAINT FROM BOOKS</span>\n",
                "    \n",
                "3. <span style=\"color: var(--vscode-foreground);\">BOOKS: Add a non primary key column ID in BOOKS</span>\n",
                "    \n",
                "4.  BOOKS: ADD  NEW PRIMARY KEY CONSTRAINT INTO BOOKS ON ID\n",
                "    \n",
                "5.  REVIEWS: ALTER REVIEWS TABLE TO ADD A NEW NORMAL COLUMN BOOK\\_ID\n",
                "    \n",
                "6. **REVIEWS: UPDATE REVIEWS TO SET BOOK\\_ID BASED ON BOOK\\_TITLE**\n",
                "    \n",
                "7. REVIEWS: ADD NEW FK CONSTRAINT IN REVIEW FOR BOOK\\_ID\n",
                "    \n",
                "8. REVIEWES: DROP THE BOOK\\_TITLE COLUM FROM REVIEWS (OPTIONAL. WE CAN KEEP FOR DENORMALIZATION)\n",
                "    \n",
                "\n",
                "  \n",
                "\n",
                "### STEP #1 Remove FK from Reviews\n",
                "\n",
                "- It is important pre-requisite for deleting PK constraint from the book"
            ],
            "metadata": {
                "language": "sql",
                "azdata_cell_guid": "e24e4b19-1673-440f-8f1c-1ee767c55e5d"
            },
            "attachments": {}
        },
        {
            "cell_type": "code",
            "source": [
                "ALTER TABLE REVIEWS\r\n",
                "    DROP CONSTRAINT FK__BOOK_ID__BOOKS__ID"
            ],
            "metadata": {
                "language": "sql",
                "azdata_cell_guid": "6ff37f5a-b740-44fd-9ea8-2cdcc3cb6322"
            },
            "outputs": [
                {
                    "output_type": "display_data",
                    "data": {
                        "text/html": "Commands completed successfully."
                    },
                    "metadata": {}
                },
                {
                    "output_type": "display_data",
                    "data": {
                        "text/html": "Total execution time: 00:00:00.013"
                    },
                    "metadata": {}
                }
            ],
            "execution_count": 42
        },
        {
            "cell_type": "markdown",
            "source": [
                "### STEP #2 DROP THE PRIMARY KEY CONSTRAINT FROM BOOKS\n",
                "\n",
                "- We are just removing PK constraint and NOT the column BOOK\\_TITLE or its data\n",
                "- We will still have the data but not as PRIMARY KEY"
            ],
            "metadata": {
                "language": "sql",
                "azdata_cell_guid": "cf9a5461-339c-4c9c-8b7b-a1bcb46cefa8"
            },
            "attachments": {}
        },
        {
            "cell_type": "code",
            "source": [
                "ALTER TABLE BOOKS\r\n",
                "    DROP CONSTRAINT PK_BOOKS_TITLE"
            ],
            "metadata": {
                "language": "sql",
                "azdata_cell_guid": "501fbd8a-0b2b-473a-86a6-5aa79d2ed0e5"
            },
            "outputs": [
                {
                    "output_type": "display_data",
                    "data": {
                        "text/html": "Commands completed successfully."
                    },
                    "metadata": {}
                },
                {
                    "output_type": "display_data",
                    "data": {
                        "text/html": "Total execution time: 00:00:00.019"
                    },
                    "metadata": {}
                }
            ],
            "execution_count": 43
        },
        {
            "cell_type": "code",
            "source": [
                "SELECT\r\n",
                "    TITLE,\r\n",
                "    AUTHOR,\r\n",
                "    ROUND(AVG(CAST(RATING AS FLOAT)),2) RATING,\r\n",
                "    COUNT(RATING) VOTES,\r\n",
                "    PRICE\r\n",
                "FROM\r\n",
                "    BOOKS\r\n",
                "LEFT JOIN\r\n",
                "    REVIEWS\r\n",
                "ON\r\n",
                "    TITLE=BOOK_TITLE\r\n",
                "GROUP BY\r\n",
                "    TITLE,\r\n",
                "    AUTHOR,\r\n",
                "    PRICE"
            ],
            "metadata": {
                "language": "sql",
                "azdata_cell_guid": "539a54bf-fa15-4ae1-9b99-34e461a77e3e",
                "tags": [
                    "hide_input"
                ]
            },
            "outputs": [
                {
                    "output_type": "display_data",
                    "data": {
                        "text/html": "Warning: Null value is eliminated by an aggregate or other SET operation."
                    },
                    "metadata": {}
                },
                {
                    "output_type": "display_data",
                    "data": {
                        "text/html": "(6 rows affected)"
                    },
                    "metadata": {}
                },
                {
                    "output_type": "display_data",
                    "data": {
                        "text/html": "Total execution time: 00:00:00.035"
                    },
                    "metadata": {}
                },
                {
                    "output_type": "execute_result",
                    "metadata": {},
                    "execution_count": 44,
                    "data": {
                        "application/vnd.dataresource+json": {
                            "schema": {
                                "fields": [
                                    {
                                        "name": "TITLE"
                                    },
                                    {
                                        "name": "AUTHOR"
                                    },
                                    {
                                        "name": "RATING"
                                    },
                                    {
                                        "name": "VOTES"
                                    },
                                    {
                                        "name": "PRICE"
                                    }
                                ]
                            },
                            "data": [
                                {
                                    "TITLE": "Brethren",
                                    "AUTHOR": "John Grisham",
                                    "RATING": "NULL",
                                    "VOTES": "0",
                                    "PRICE": "350.00"
                                },
                                {
                                    "TITLE": "Manas",
                                    "AUTHOR": "Vivek Dutta Mishra",
                                    "RATING": "4.5",
                                    "VOTES": "4",
                                    "PRICE": "199.00"
                                },
                                {
                                    "TITLE": "Rashmirathi",
                                    "AUTHOR": "Ramdhari Singh Dinkar",
                                    "RATING": "3.75",
                                    "VOTES": "4",
                                    "PRICE": "99.00"
                                },
                                {
                                    "TITLE": "Summons",
                                    "AUTHOR": "John Grishma",
                                    "RATING": "NULL",
                                    "VOTES": "0",
                                    "PRICE": "400.00"
                                },
                                {
                                    "TITLE": "The Accursed God",
                                    "AUTHOR": "Vivek Dutta Mishra",
                                    "RATING": "4.6",
                                    "VOTES": "5",
                                    "PRICE": "299.00"
                                },
                                {
                                    "TITLE": "The Count of Monte Cristo",
                                    "AUTHOR": "Alexandre Dumas",
                                    "RATING": "4.33",
                                    "VOTES": "3",
                                    "PRICE": "499.00"
                                }
                            ]
                        },
                        "text/html": [
                            "<table>",
                            "<tr><th>TITLE</th><th>AUTHOR</th><th>RATING</th><th>VOTES</th><th>PRICE</th></tr>",
                            "<tr><td>Brethren</td><td>John Grisham</td><td>NULL</td><td>0</td><td>350.00</td></tr>",
                            "<tr><td>Manas</td><td>Vivek Dutta Mishra</td><td>4.5</td><td>4</td><td>199.00</td></tr>",
                            "<tr><td>Rashmirathi</td><td>Ramdhari Singh Dinkar</td><td>3.75</td><td>4</td><td>99.00</td></tr>",
                            "<tr><td>Summons</td><td>John Grishma</td><td>NULL</td><td>0</td><td>400.00</td></tr>",
                            "<tr><td>The Accursed God</td><td>Vivek Dutta Mishra</td><td>4.6</td><td>5</td><td>299.00</td></tr>",
                            "<tr><td>The Count of Monte Cristo</td><td>Alexandre Dumas</td><td>4.33</td><td>3</td><td>499.00</td></tr>",
                            "</table>"
                        ]
                    }
                }
            ],
            "execution_count": 44
        },
        {
            "cell_type": "markdown",
            "source": [
                "STEP #3  ADD A NEW ID COLUMN \n",
                "\n",
                "- WE WILL USE ID WITH INT AND AUTOINCREMENT\n",
                "- IT WILL ADD AN AUTOINCREMENTED VALUE TO EACH EXISTING ROW\n",
                "- AT THIS STAGE IT WILL BE A NORMAL COLUMN AND NOT A PRIMARY COLUMN"
            ],
            "metadata": {
                "azdata_cell_guid": "34173938-2c01-4947-a10a-3779135b4d80"
            },
            "attachments": {}
        },
        {
            "cell_type": "code",
            "source": [
                "ALTER TABLE BOOKS\r\n",
                "    ADD ID INT IDENTITY(1,1)"
            ],
            "metadata": {
                "azdata_cell_guid": "0a6b1318-04d4-4973-9e71-adcbdafbd5c2",
                "language": "sql",
                "tags": [
                    "hide_input"
                ]
            },
            "outputs": [
                {
                    "output_type": "display_data",
                    "data": {
                        "text/html": "Commands completed successfully."
                    },
                    "metadata": {}
                },
                {
                    "output_type": "display_data",
                    "data": {
                        "text/html": "Total execution time: 00:00:00.033"
                    },
                    "metadata": {}
                }
            ],
            "execution_count": 45
        },
        {
            "cell_type": "code",
            "source": [
                "SELECT \r\n",
                "    ID,\r\n",
                "    TITLE\r\n",
                "FROM\r\n",
                "    BOOKS"
            ],
            "metadata": {
                "language": "sql",
                "azdata_cell_guid": "745a8146-c65d-4bfe-aec3-e774f18c9eea"
            },
            "outputs": [
                {
                    "output_type": "display_data",
                    "data": {
                        "text/html": "(6 rows affected)"
                    },
                    "metadata": {}
                },
                {
                    "output_type": "display_data",
                    "data": {
                        "text/html": "Total execution time: 00:00:00.003"
                    },
                    "metadata": {}
                },
                {
                    "output_type": "execute_result",
                    "metadata": {},
                    "execution_count": 46,
                    "data": {
                        "application/vnd.dataresource+json": {
                            "schema": {
                                "fields": [
                                    {
                                        "name": "ID"
                                    },
                                    {
                                        "name": "TITLE"
                                    }
                                ]
                            },
                            "data": [
                                {
                                    "ID": "1",
                                    "TITLE": "Brethren"
                                },
                                {
                                    "ID": "2",
                                    "TITLE": "Manas"
                                },
                                {
                                    "ID": "3",
                                    "TITLE": "Rashmirathi"
                                },
                                {
                                    "ID": "4",
                                    "TITLE": "Summons"
                                },
                                {
                                    "ID": "5",
                                    "TITLE": "The Accursed God"
                                },
                                {
                                    "ID": "6",
                                    "TITLE": "The Count of Monte Cristo"
                                }
                            ]
                        },
                        "text/html": [
                            "<table>",
                            "<tr><th>ID</th><th>TITLE</th></tr>",
                            "<tr><td>1</td><td>Brethren</td></tr>",
                            "<tr><td>2</td><td>Manas</td></tr>",
                            "<tr><td>3</td><td>Rashmirathi</td></tr>",
                            "<tr><td>4</td><td>Summons</td></tr>",
                            "<tr><td>5</td><td>The Accursed God</td></tr>",
                            "<tr><td>6</td><td>The Count of Monte Cristo</td></tr>",
                            "</table>"
                        ]
                    }
                }
            ],
            "execution_count": 46
        },
        {
            "cell_type": "markdown",
            "source": [
                "### STEP 4 ADD PRIMARY KEY CONSTRAINT TO ID COLUMN IN BOOKS"
            ],
            "metadata": {
                "azdata_cell_guid": "af432f59-c837-4236-8cd3-de83345a4793"
            },
            "attachments": {}
        },
        {
            "cell_type": "code",
            "source": [
                "ALTER TABLE BOOKS\r\n",
                "    ADD CONSTRAINT PK_BOOKS_ID PRIMARY KEY(ID)"
            ],
            "metadata": {
                "azdata_cell_guid": "084c6df9-0c84-4fd4-99d6-267b65c8761f",
                "language": "sql"
            },
            "outputs": [
                {
                    "output_type": "display_data",
                    "data": {
                        "text/html": "Commands completed successfully."
                    },
                    "metadata": {}
                },
                {
                    "output_type": "display_data",
                    "data": {
                        "text/html": "Total execution time: 00:00:00.022"
                    },
                    "metadata": {}
                }
            ],
            "execution_count": 47
        },
        {
            "cell_type": "code",
            "source": [
                "INSERT INTO BOOKS(TITLE, AUTHOR, PRICE, COVER)\r\n",
                "VALUES ('Manas','Ramdhari Singh Dinkar',100,'manas-2.png')"
            ],
            "metadata": {
                "language": "sql",
                "azdata_cell_guid": "7af46921-71bd-4ce8-bced-0c72b3582008"
            },
            "outputs": [
                {
                    "output_type": "display_data",
                    "data": {
                        "text/html": "(1 row affected)"
                    },
                    "metadata": {}
                },
                {
                    "output_type": "display_data",
                    "data": {
                        "text/html": "Total execution time: 00:00:00.018"
                    },
                    "metadata": {}
                }
            ],
            "execution_count": 48
        },
        {
            "cell_type": "code",
            "source": [
                "SELECT * FROM BOOKS WHERE TITLE='Manas'"
            ],
            "metadata": {
                "language": "sql",
                "azdata_cell_guid": "e409f928-a38b-4334-ae7c-dab635bc5c4d"
            },
            "outputs": [
                {
                    "output_type": "display_data",
                    "data": {
                        "text/html": "(2 rows affected)"
                    },
                    "metadata": {}
                },
                {
                    "output_type": "display_data",
                    "data": {
                        "text/html": "Total execution time: 00:00:00.004"
                    },
                    "metadata": {}
                },
                {
                    "output_type": "execute_result",
                    "metadata": {},
                    "execution_count": 49,
                    "data": {
                        "application/vnd.dataresource+json": {
                            "schema": {
                                "fields": [
                                    {
                                        "name": "TITLE"
                                    },
                                    {
                                        "name": "AUTHOR"
                                    },
                                    {
                                        "name": "PRICE"
                                    },
                                    {
                                        "name": "COVER"
                                    },
                                    {
                                        "name": "ID"
                                    }
                                ]
                            },
                            "data": [
                                {
                                    "TITLE": "Manas",
                                    "AUTHOR": "Vivek Dutta Mishra",
                                    "PRICE": "199.00",
                                    "COVER": "manas.png",
                                    "ID": "2"
                                },
                                {
                                    "TITLE": "Manas",
                                    "AUTHOR": "Ramdhari Singh Dinkar",
                                    "PRICE": "100.00",
                                    "COVER": "manas-2.png",
                                    "ID": "7"
                                }
                            ]
                        },
                        "text/html": [
                            "<table>",
                            "<tr><th>TITLE</th><th>AUTHOR</th><th>PRICE</th><th>COVER</th><th>ID</th></tr>",
                            "<tr><td>Manas</td><td>Vivek Dutta Mishra</td><td>199.00</td><td>manas.png</td><td>2</td></tr>",
                            "<tr><td>Manas</td><td>Ramdhari Singh Dinkar</td><td>100.00</td><td>manas-2.png</td><td>7</td></tr>",
                            "</table>"
                        ]
                    }
                }
            ],
            "execution_count": 49
        },
        {
            "cell_type": "markdown",
            "source": [
                "### STEP 5 CREATE A COLUMN BOOK\\_ID TO ACT AS FK\n",
                "\n",
                "- We will only create the column and not apply FK constraint\n",
                "    - FK constraint also applies \n",
                "        - NOT NULL\n",
                "        - ENSURES THE VALUE IN THE COLUMN MATCHING EXISTING PRIMARY KEY\n",
                "    - But right now we don't have a value in this field."
            ],
            "metadata": {
                "language": "",
                "azdata_cell_guid": "ba3153c6-df98-47b4-91a4-47dc072ff812"
            },
            "attachments": {}
        },
        {
            "cell_type": "code",
            "source": [
                "ALTER TABLE REVIEWS\r\n",
                "    ADD BOOK_ID INT"
            ],
            "metadata": {
                "azdata_cell_guid": "cc59c718-b0b4-43f0-b53d-9f1cec47b4aa",
                "language": "sql"
            },
            "outputs": [
                {
                    "output_type": "display_data",
                    "data": {
                        "text/html": "Commands completed successfully."
                    },
                    "metadata": {}
                },
                {
                    "output_type": "display_data",
                    "data": {
                        "text/html": "Total execution time: 00:00:00.021"
                    },
                    "metadata": {}
                }
            ],
            "execution_count": 50
        },
        {
            "cell_type": "code",
            "source": [
                "SELECT \r\n",
                "    TOP 5\r\n",
                "    BOOK_ID,\r\n",
                "    REVIEWER,\r\n",
                "    BOOK_TITLE,\r\n",
                "    RATING\r\n",
                "FROM\r\n",
                "    REVIEWS"
            ],
            "metadata": {
                "language": "sql",
                "azdata_cell_guid": "ec8a5e51-8f1c-405b-ae16-e699b5a0fdcb"
            },
            "outputs": [
                {
                    "output_type": "display_data",
                    "data": {
                        "text/html": "(5 rows affected)"
                    },
                    "metadata": {}
                },
                {
                    "output_type": "display_data",
                    "data": {
                        "text/html": "Total execution time: 00:00:00.002"
                    },
                    "metadata": {}
                },
                {
                    "output_type": "execute_result",
                    "metadata": {},
                    "execution_count": 52,
                    "data": {
                        "application/vnd.dataresource+json": {
                            "schema": {
                                "fields": [
                                    {
                                        "name": "BOOK_ID"
                                    },
                                    {
                                        "name": "REVIEWER"
                                    },
                                    {
                                        "name": "BOOK_TITLE"
                                    },
                                    {
                                        "name": "RATING"
                                    }
                                ]
                            },
                            "data": [
                                {
                                    "BOOK_ID": "NULL",
                                    "REVIEWER": "Sanjay",
                                    "BOOK_TITLE": "The Accursed God",
                                    "RATING": "5"
                                },
                                {
                                    "BOOK_ID": "NULL",
                                    "REVIEWER": "Shivanshi",
                                    "BOOK_TITLE": "The Accursed God",
                                    "RATING": "3"
                                },
                                {
                                    "BOOK_ID": "NULL",
                                    "REVIEWER": "Amit",
                                    "BOOK_TITLE": "The Accursed God",
                                    "RATING": "5"
                                },
                                {
                                    "BOOK_ID": "NULL",
                                    "REVIEWER": "Rajesh",
                                    "BOOK_TITLE": "The Accursed God",
                                    "RATING": "5"
                                },
                                {
                                    "BOOK_ID": "NULL",
                                    "REVIEWER": "Shivanshi",
                                    "BOOK_TITLE": "Manas",
                                    "RATING": "5"
                                }
                            ]
                        },
                        "text/html": [
                            "<table>",
                            "<tr><th>BOOK_ID</th><th>REVIEWER</th><th>BOOK_TITLE</th><th>RATING</th></tr>",
                            "<tr><td>NULL</td><td>Sanjay</td><td>The Accursed God</td><td>5</td></tr>",
                            "<tr><td>NULL</td><td>Shivanshi</td><td>The Accursed God</td><td>3</td></tr>",
                            "<tr><td>NULL</td><td>Amit</td><td>The Accursed God</td><td>5</td></tr>",
                            "<tr><td>NULL</td><td>Rajesh</td><td>The Accursed God</td><td>5</td></tr>",
                            "<tr><td>NULL</td><td>Shivanshi</td><td>Manas</td><td>5</td></tr>",
                            "</table>"
                        ]
                    }
                }
            ],
            "execution_count": 52
        },
        {
            "cell_type": "markdown",
            "source": [
                "### STEP 6 UPDATE REVIEWS TABLE TO FILL BOOK\\_ID FOR CORRESPONDING BOOK\n",
                "\n",
                "  \n",
                "\n",
                "APPROACH #1 MANUALLY FIND ALL BOOK ID AND UPDATE EACH REVIEW ROW ONE BY ONE\n",
                "\n",
                "- NOT RECOMMENDED\n",
                "- We want to update all reviews to apply the book\\_id corresponding to existing book\\_title\n",
                "\n",
                "### WHAT WE WANT\n",
                "\n",
                "- We want to automatically update all reviews in one go.\n",
                "- We want to apply id of the same book whose book\\_title is currently available.\n",
                "    - we want to cross reference book\\_id from books table based on book\\_title\n",
                "- This update needs\n",
                "1. Data from BOOKS TABLE\n",
                "2. A JOIN BETWEEN BOOKS AND REVIEWS\n",
                "- <span style=\"color: var(--vscode-foreground);\">Remember, we are updating REVIEWS</span>\n",
                "\n",
                "## UPDATE JOIN"
            ],
            "metadata": {
                "azdata_cell_guid": "b5ff84d1-2030-4222-ba82-47b317ed1525"
            },
            "attachments": {}
        },
        {
            "cell_type": "code",
            "source": [
                "UPDATE\r\n",
                "    REVIEWS\r\n",
                "SET\r\n",
                "    BOOK_ID = ID\r\n",
                "\r\n",
                "FROM \r\n",
                "    REVIEWS\r\n",
                "JOIN \r\n",
                "    BOOKS \r\n",
                "ON\r\n",
                "    TITLE=BOOK_TITLE"
            ],
            "metadata": {
                "azdata_cell_guid": "c39d27e6-84a3-47b8-9307-aaeaa5a78b8a",
                "language": "sql"
            },
            "outputs": [
                {
                    "output_type": "display_data",
                    "data": {
                        "text/html": "(16 rows affected)"
                    },
                    "metadata": {}
                },
                {
                    "output_type": "display_data",
                    "data": {
                        "text/html": "Total execution time: 00:00:00.014"
                    },
                    "metadata": {}
                }
            ],
            "execution_count": 55
        },
        {
            "cell_type": "code",
            "source": [
                "SELECT\r\n",
                "    ID,\r\n",
                "    BOOK_ID,\r\n",
                "    BOOK_TITLE,\r\n",
                "    TITLE\r\n",
                "FROM\r\n",
                "    BOOKS\r\n",
                "JOIN\r\n",
                "    REVIEWS\r\n",
                "ON\r\n",
                "    ID=BOOK_ID"
            ],
            "metadata": {
                "language": "sql",
                "azdata_cell_guid": "25f556f7-ace5-4be2-844e-11389cfe12ee"
            },
            "outputs": [
                {
                    "output_type": "display_data",
                    "data": {
                        "text/html": "(16 rows affected)"
                    },
                    "metadata": {}
                },
                {
                    "output_type": "display_data",
                    "data": {
                        "text/html": "Total execution time: 00:00:00.059"
                    },
                    "metadata": {}
                },
                {
                    "output_type": "execute_result",
                    "metadata": {},
                    "execution_count": 56,
                    "data": {
                        "application/vnd.dataresource+json": {
                            "schema": {
                                "fields": [
                                    {
                                        "name": "ID"
                                    },
                                    {
                                        "name": "BOOK_ID"
                                    },
                                    {
                                        "name": "BOOK_TITLE"
                                    },
                                    {
                                        "name": "TITLE"
                                    }
                                ]
                            },
                            "data": [
                                {
                                    "ID": "5",
                                    "BOOK_ID": "5",
                                    "BOOK_TITLE": "The Accursed God",
                                    "TITLE": "The Accursed God"
                                },
                                {
                                    "ID": "5",
                                    "BOOK_ID": "5",
                                    "BOOK_TITLE": "The Accursed God",
                                    "TITLE": "The Accursed God"
                                },
                                {
                                    "ID": "5",
                                    "BOOK_ID": "5",
                                    "BOOK_TITLE": "The Accursed God",
                                    "TITLE": "The Accursed God"
                                },
                                {
                                    "ID": "5",
                                    "BOOK_ID": "5",
                                    "BOOK_TITLE": "The Accursed God",
                                    "TITLE": "The Accursed God"
                                },
                                {
                                    "ID": "2",
                                    "BOOK_ID": "2",
                                    "BOOK_TITLE": "Manas",
                                    "TITLE": "Manas"
                                },
                                {
                                    "ID": "2",
                                    "BOOK_ID": "2",
                                    "BOOK_TITLE": "Manas",
                                    "TITLE": "Manas"
                                },
                                {
                                    "ID": "2",
                                    "BOOK_ID": "2",
                                    "BOOK_TITLE": "Manas",
                                    "TITLE": "Manas"
                                },
                                {
                                    "ID": "3",
                                    "BOOK_ID": "3",
                                    "BOOK_TITLE": "Rashmirathi",
                                    "TITLE": "Rashmirathi"
                                },
                                {
                                    "ID": "3",
                                    "BOOK_ID": "3",
                                    "BOOK_TITLE": "Rashmirathi",
                                    "TITLE": "Rashmirathi"
                                },
                                {
                                    "ID": "3",
                                    "BOOK_ID": "3",
                                    "BOOK_TITLE": "Rashmirathi",
                                    "TITLE": "Rashmirathi"
                                },
                                {
                                    "ID": "3",
                                    "BOOK_ID": "3",
                                    "BOOK_TITLE": "Rashmirathi",
                                    "TITLE": "Rashmirathi"
                                },
                                {
                                    "ID": "6",
                                    "BOOK_ID": "6",
                                    "BOOK_TITLE": "The Count of Monte Cristo",
                                    "TITLE": "The Count of Monte Cristo"
                                },
                                {
                                    "ID": "6",
                                    "BOOK_ID": "6",
                                    "BOOK_TITLE": "The Count of Monte Cristo",
                                    "TITLE": "The Count of Monte Cristo"
                                },
                                {
                                    "ID": "6",
                                    "BOOK_ID": "6",
                                    "BOOK_TITLE": "The Count of Monte Cristo",
                                    "TITLE": "The Count of Monte Cristo"
                                },
                                {
                                    "ID": "5",
                                    "BOOK_ID": "5",
                                    "BOOK_TITLE": "The Accursed God",
                                    "TITLE": "The Accursed God"
                                },
                                {
                                    "ID": "2",
                                    "BOOK_ID": "2",
                                    "BOOK_TITLE": "Manas",
                                    "TITLE": "Manas"
                                }
                            ]
                        },
                        "text/html": [
                            "<table>",
                            "<tr><th>ID</th><th>BOOK_ID</th><th>BOOK_TITLE</th><th>TITLE</th></tr>",
                            "<tr><td>5</td><td>5</td><td>The Accursed God</td><td>The Accursed God</td></tr>",
                            "<tr><td>5</td><td>5</td><td>The Accursed God</td><td>The Accursed God</td></tr>",
                            "<tr><td>5</td><td>5</td><td>The Accursed God</td><td>The Accursed God</td></tr>",
                            "<tr><td>5</td><td>5</td><td>The Accursed God</td><td>The Accursed God</td></tr>",
                            "<tr><td>2</td><td>2</td><td>Manas</td><td>Manas</td></tr>",
                            "<tr><td>2</td><td>2</td><td>Manas</td><td>Manas</td></tr>",
                            "<tr><td>2</td><td>2</td><td>Manas</td><td>Manas</td></tr>",
                            "<tr><td>3</td><td>3</td><td>Rashmirathi</td><td>Rashmirathi</td></tr>",
                            "<tr><td>3</td><td>3</td><td>Rashmirathi</td><td>Rashmirathi</td></tr>",
                            "<tr><td>3</td><td>3</td><td>Rashmirathi</td><td>Rashmirathi</td></tr>",
                            "<tr><td>3</td><td>3</td><td>Rashmirathi</td><td>Rashmirathi</td></tr>",
                            "<tr><td>6</td><td>6</td><td>The Count of Monte Cristo</td><td>The Count of Monte Cristo</td></tr>",
                            "<tr><td>6</td><td>6</td><td>The Count of Monte Cristo</td><td>The Count of Monte Cristo</td></tr>",
                            "<tr><td>6</td><td>6</td><td>The Count of Monte Cristo</td><td>The Count of Monte Cristo</td></tr>",
                            "<tr><td>5</td><td>5</td><td>The Accursed God</td><td>The Accursed God</td></tr>",
                            "<tr><td>2</td><td>2</td><td>Manas</td><td>Manas</td></tr>",
                            "</table>"
                        ]
                    }
                }
            ],
            "execution_count": 56
        },
        {
            "cell_type": "markdown",
            "source": [
                "### STEP  7 ADD FOREIGN KEY CONSTRAINT\n",
                "\n",
                "- NOW WE HAVE THE VALID DATA ADDED WE CAN APPLY FK ON BOOK\\_ID"
            ],
            "metadata": {
                "azdata_cell_guid": "caebfcdd-60bd-43bc-967e-a6f133d82624",
                "language": ""
            },
            "attachments": {}
        },
        {
            "cell_type": "code",
            "source": [
                "ALTER TABLE REVIEWS\r\n",
                "    ADD CONSTRAINT FK__BOOK_ID__BOOKS__ID\r\n",
                "    FOREIGN KEY(BOOK_ID) REFERENCES BOOKS(ID)"
            ],
            "metadata": {
                "azdata_cell_guid": "bdb587b6-5e9b-4134-80a0-904ed2a9599f",
                "language": "sql"
            },
            "outputs": [
                {
                    "output_type": "display_data",
                    "data": {
                        "text/html": "Commands completed successfully."
                    },
                    "metadata": {}
                },
                {
                    "output_type": "display_data",
                    "data": {
                        "text/html": "Total execution time: 00:00:00.021"
                    },
                    "metadata": {}
                }
            ],
            "execution_count": 57
        },
        {
            "cell_type": "markdown",
            "source": [
                "### STEP 8 REMOVE THE BOOK\\_TITLE COLUMN FROM REVIEWS\n",
                "\n",
                "- It is no more needed"
            ],
            "metadata": {
                "language": "sql",
                "azdata_cell_guid": "f5a60922-8510-4775-9f48-1c356153a720"
            },
            "attachments": {}
        },
        {
            "cell_type": "code",
            "source": [
                "ALTER TABLE REVIEWS\r\n",
                "    DROP COLUMN BOOK_TITLE"
            ],
            "metadata": {
                "language": "sql",
                "azdata_cell_guid": "74cee714-6def-4edb-b3ca-9698651d881c"
            },
            "outputs": [
                {
                    "output_type": "display_data",
                    "data": {
                        "text/html": "Commands completed successfully."
                    },
                    "metadata": {}
                },
                {
                    "output_type": "display_data",
                    "data": {
                        "text/html": "Total execution time: 00:00:00.017"
                    },
                    "metadata": {}
                }
            ],
            "execution_count": 58
        },
        {
            "cell_type": "code",
            "source": [
                "SELECT TOP 5\r\n",
                "*\r\n",
                "FROM\r\n",
                "REVIEWS"
            ],
            "metadata": {
                "language": "sql",
                "azdata_cell_guid": "832bae00-2ac5-431f-b131-c44262319988"
            },
            "outputs": [
                {
                    "output_type": "display_data",
                    "data": {
                        "text/html": "(5 rows affected)"
                    },
                    "metadata": {}
                },
                {
                    "output_type": "display_data",
                    "data": {
                        "text/html": "Total execution time: 00:00:00.004"
                    },
                    "metadata": {}
                },
                {
                    "output_type": "execute_result",
                    "metadata": {},
                    "execution_count": 59,
                    "data": {
                        "application/vnd.dataresource+json": {
                            "schema": {
                                "fields": [
                                    {
                                        "name": "REVIEWER"
                                    },
                                    {
                                        "name": "RATING"
                                    },
                                    {
                                        "name": "BOOK_ID"
                                    }
                                ]
                            },
                            "data": [
                                {
                                    "REVIEWER": "Sanjay",
                                    "RATING": "5",
                                    "BOOK_ID": "5"
                                },
                                {
                                    "REVIEWER": "Shivanshi",
                                    "RATING": "3",
                                    "BOOK_ID": "5"
                                },
                                {
                                    "REVIEWER": "Amit",
                                    "RATING": "5",
                                    "BOOK_ID": "5"
                                },
                                {
                                    "REVIEWER": "Rajesh",
                                    "RATING": "5",
                                    "BOOK_ID": "5"
                                },
                                {
                                    "REVIEWER": "Shivanshi",
                                    "RATING": "5",
                                    "BOOK_ID": "2"
                                }
                            ]
                        },
                        "text/html": [
                            "<table>",
                            "<tr><th>REVIEWER</th><th>RATING</th><th>BOOK_ID</th></tr>",
                            "<tr><td>Sanjay</td><td>5</td><td>5</td></tr>",
                            "<tr><td>Shivanshi</td><td>3</td><td>5</td></tr>",
                            "<tr><td>Amit</td><td>5</td><td>5</td></tr>",
                            "<tr><td>Rajesh</td><td>5</td><td>5</td></tr>",
                            "<tr><td>Shivanshi</td><td>5</td><td>2</td></tr>",
                            "</table>"
                        ]
                    }
                }
            ],
            "execution_count": 59
        },
        {
            "cell_type": "markdown",
            "source": [
                "LET US ALSO ADD A PRIMARY KEY IN REVIEWS TABLE\n",
                "\n",
                "- THIS IS OPTIONAL"
            ],
            "metadata": {
                "azdata_cell_guid": "c4dfc50c-1e3a-480a-b287-2224d34ea992"
            },
            "attachments": {}
        },
        {
            "cell_type": "code",
            "source": [
                "ALTER TABLE REVIEWS\r\n",
                "    ADD ID INT IDENTITY(1,1) CONSTRAINT PK_REVIEWS_ID PRIMARY KEY"
            ],
            "metadata": {
                "azdata_cell_guid": "c1954126-f589-4a9e-8cc4-ac50a2ef4da0",
                "language": "sql"
            },
            "outputs": [
                {
                    "output_type": "display_data",
                    "data": {
                        "text/html": "Commands completed successfully."
                    },
                    "metadata": {}
                },
                {
                    "output_type": "display_data",
                    "data": {
                        "text/html": "Total execution time: 00:00:00.012"
                    },
                    "metadata": {}
                }
            ],
            "execution_count": 61
        },
        {
            "cell_type": "code",
            "source": [
                "SELECT TOP 5 * FROM REVIEWS"
            ],
            "metadata": {
                "language": "sql",
                "azdata_cell_guid": "1504367c-abc6-4c42-a17c-5157f60ccf06"
            },
            "outputs": [
                {
                    "output_type": "display_data",
                    "data": {
                        "text/html": "(5 rows affected)"
                    },
                    "metadata": {}
                },
                {
                    "output_type": "display_data",
                    "data": {
                        "text/html": "Total execution time: 00:00:00.004"
                    },
                    "metadata": {}
                },
                {
                    "output_type": "execute_result",
                    "metadata": {},
                    "execution_count": 62,
                    "data": {
                        "application/vnd.dataresource+json": {
                            "schema": {
                                "fields": [
                                    {
                                        "name": "REVIEWER"
                                    },
                                    {
                                        "name": "RATING"
                                    },
                                    {
                                        "name": "BOOK_ID"
                                    },
                                    {
                                        "name": "ID"
                                    }
                                ]
                            },
                            "data": [
                                {
                                    "REVIEWER": "Sanjay",
                                    "RATING": "5",
                                    "BOOK_ID": "5",
                                    "ID": "1"
                                },
                                {
                                    "REVIEWER": "Shivanshi",
                                    "RATING": "3",
                                    "BOOK_ID": "5",
                                    "ID": "2"
                                },
                                {
                                    "REVIEWER": "Amit",
                                    "RATING": "5",
                                    "BOOK_ID": "5",
                                    "ID": "3"
                                },
                                {
                                    "REVIEWER": "Rajesh",
                                    "RATING": "5",
                                    "BOOK_ID": "5",
                                    "ID": "4"
                                },
                                {
                                    "REVIEWER": "Shivanshi",
                                    "RATING": "5",
                                    "BOOK_ID": "2",
                                    "ID": "5"
                                }
                            ]
                        },
                        "text/html": [
                            "<table>",
                            "<tr><th>REVIEWER</th><th>RATING</th><th>BOOK_ID</th><th>ID</th></tr>",
                            "<tr><td>Sanjay</td><td>5</td><td>5</td><td>1</td></tr>",
                            "<tr><td>Shivanshi</td><td>3</td><td>5</td><td>2</td></tr>",
                            "<tr><td>Amit</td><td>5</td><td>5</td><td>3</td></tr>",
                            "<tr><td>Rajesh</td><td>5</td><td>5</td><td>4</td></tr>",
                            "<tr><td>Shivanshi</td><td>5</td><td>2</td><td>5</td></tr>",
                            "</table>"
                        ]
                    }
                }
            ],
            "execution_count": 62
        },
        {
            "cell_type": "markdown",
            "source": [
                "## FOREIGN KEY AND PRIMARY KEY RELATIONSHIP\n",
                "\n",
                "  \n",
                "\n",
                "- A FK value MUST refer to an existing/available PK\n",
                "- What if we delete the Primary Value after adding row in the secondary table\n",
                "    - What if we try to remove a book from our database\n",
                "    - If the book is deleted the PK will become unavailable\n",
                "        - FK will beocme orphen refering to invalid value\n",
                "            - which is NOT perimitted in the first place\n",
                "\n",
                "###"
            ],
            "metadata": {
                "azdata_cell_guid": "cb9d7c9f-f0c4-4143-bcac-16ea8268f0fc"
            },
            "attachments": {}
        },
        {
            "cell_type": "code",
            "source": [
                "SELECT \r\n",
                "    b.ID,\r\n",
                "    TITLE,\r\n",
                "    COUNT(RATING) REVIEWS\r\n",
                "FROM\r\n",
                "    BOOKS B\r\n",
                "LEFT JOIN\r\n",
                "    REVIEWS R\r\n",
                "ON\r\n",
                "    BOOK_ID=B.ID\r\n",
                "GROUP BY\r\n",
                "    B.ID,\r\n",
                "    TITLE\r\n",
                ""
            ],
            "metadata": {
                "azdata_cell_guid": "ff2b315b-8afe-4fa3-9adc-991abf63a448",
                "language": "sql"
            },
            "outputs": [
                {
                    "output_type": "display_data",
                    "data": {
                        "text/html": "(7 rows affected)"
                    },
                    "metadata": {}
                },
                {
                    "output_type": "display_data",
                    "data": {
                        "text/html": "Total execution time: 00:00:00.007"
                    },
                    "metadata": {}
                },
                {
                    "output_type": "execute_result",
                    "metadata": {},
                    "execution_count": 64,
                    "data": {
                        "application/vnd.dataresource+json": {
                            "schema": {
                                "fields": [
                                    {
                                        "name": "ID"
                                    },
                                    {
                                        "name": "TITLE"
                                    },
                                    {
                                        "name": "REVIEWS"
                                    }
                                ]
                            },
                            "data": [
                                {
                                    "ID": "1",
                                    "TITLE": "Brethren",
                                    "REVIEWS": "0"
                                },
                                {
                                    "ID": "2",
                                    "TITLE": "Manas",
                                    "REVIEWS": "4"
                                },
                                {
                                    "ID": "3",
                                    "TITLE": "Rashmirathi",
                                    "REVIEWS": "4"
                                },
                                {
                                    "ID": "4",
                                    "TITLE": "Summons",
                                    "REVIEWS": "0"
                                },
                                {
                                    "ID": "5",
                                    "TITLE": "The Accursed God",
                                    "REVIEWS": "5"
                                },
                                {
                                    "ID": "6",
                                    "TITLE": "The Count of Monte Cristo",
                                    "REVIEWS": "3"
                                },
                                {
                                    "ID": "7",
                                    "TITLE": "Manas",
                                    "REVIEWS": "0"
                                }
                            ]
                        },
                        "text/html": [
                            "<table>",
                            "<tr><th>ID</th><th>TITLE</th><th>REVIEWS</th></tr>",
                            "<tr><td>1</td><td>Brethren</td><td>0</td></tr>",
                            "<tr><td>2</td><td>Manas</td><td>4</td></tr>",
                            "<tr><td>3</td><td>Rashmirathi</td><td>4</td></tr>",
                            "<tr><td>4</td><td>Summons</td><td>0</td></tr>",
                            "<tr><td>5</td><td>The Accursed God</td><td>5</td></tr>",
                            "<tr><td>6</td><td>The Count of Monte Cristo</td><td>3</td></tr>",
                            "<tr><td>7</td><td>Manas</td><td>0</td></tr>",
                            "</table>"
                        ]
                    }
                }
            ],
            "execution_count": 64
        },
        {
            "cell_type": "markdown",
            "source": [
                "## DEFAULT DELETE BEHAVIOR\n",
                "\n",
                "### \n",
                "\n",
                "1. We can remove the rows that are not referenced by a FK"
            ],
            "metadata": {
                "azdata_cell_guid": "e09bf2e7-fef0-4bec-8549-f0aac9aac0a1"
            },
            "attachments": {}
        },
        {
            "cell_type": "code",
            "source": [
                "DELETE \r\n",
                "    FROM BOOKS\r\n",
                "    WHERE TITLE='Brethren'"
            ],
            "metadata": {
                "azdata_cell_guid": "104e59f8-98e3-453e-b0f6-a00b411f2f21",
                "language": "sql"
            },
            "outputs": [
                {
                    "output_type": "display_data",
                    "data": {
                        "text/html": "(1 row affected)"
                    },
                    "metadata": {}
                },
                {
                    "output_type": "display_data",
                    "data": {
                        "text/html": "Total execution time: 00:00:00.016"
                    },
                    "metadata": {}
                }
            ],
            "execution_count": 65
        },
        {
            "cell_type": "code",
            "source": [
                "SELECT \r\n",
                "    b.ID,\r\n",
                "    TITLE,\r\n",
                "    COUNT(RATING) REVIEWS\r\n",
                "FROM\r\n",
                "    BOOKS B\r\n",
                "LEFT JOIN\r\n",
                "    REVIEWS R\r\n",
                "ON\r\n",
                "    BOOK_ID=B.ID\r\n",
                "GROUP BY\r\n",
                "    B.ID,\r\n",
                "    TITLE"
            ],
            "metadata": {
                "language": "sql",
                "azdata_cell_guid": "b982a813-8497-4b2f-a670-6c83e023ee20"
            },
            "outputs": [
                {
                    "output_type": "display_data",
                    "data": {
                        "text/html": "(6 rows affected)"
                    },
                    "metadata": {}
                },
                {
                    "output_type": "display_data",
                    "data": {
                        "text/html": "Total execution time: 00:00:00.006"
                    },
                    "metadata": {}
                },
                {
                    "output_type": "execute_result",
                    "metadata": {},
                    "execution_count": 66,
                    "data": {
                        "application/vnd.dataresource+json": {
                            "schema": {
                                "fields": [
                                    {
                                        "name": "ID"
                                    },
                                    {
                                        "name": "TITLE"
                                    },
                                    {
                                        "name": "REVIEWS"
                                    }
                                ]
                            },
                            "data": [
                                {
                                    "ID": "2",
                                    "TITLE": "Manas",
                                    "REVIEWS": "4"
                                },
                                {
                                    "ID": "3",
                                    "TITLE": "Rashmirathi",
                                    "REVIEWS": "4"
                                },
                                {
                                    "ID": "4",
                                    "TITLE": "Summons",
                                    "REVIEWS": "0"
                                },
                                {
                                    "ID": "5",
                                    "TITLE": "The Accursed God",
                                    "REVIEWS": "5"
                                },
                                {
                                    "ID": "6",
                                    "TITLE": "The Count of Monte Cristo",
                                    "REVIEWS": "3"
                                },
                                {
                                    "ID": "7",
                                    "TITLE": "Manas",
                                    "REVIEWS": "0"
                                }
                            ]
                        },
                        "text/html": [
                            "<table>",
                            "<tr><th>ID</th><th>TITLE</th><th>REVIEWS</th></tr>",
                            "<tr><td>2</td><td>Manas</td><td>4</td></tr>",
                            "<tr><td>3</td><td>Rashmirathi</td><td>4</td></tr>",
                            "<tr><td>4</td><td>Summons</td><td>0</td></tr>",
                            "<tr><td>5</td><td>The Accursed God</td><td>5</td></tr>",
                            "<tr><td>6</td><td>The Count of Monte Cristo</td><td>3</td></tr>",
                            "<tr><td>7</td><td>Manas</td><td>0</td></tr>",
                            "</table>"
                        ]
                    }
                }
            ],
            "execution_count": 66
        },
        {
            "cell_type": "markdown",
            "source": [
                "### 2\\. We can't DELETE Any Row that is referenced by a FK"
            ],
            "metadata": {
                "azdata_cell_guid": "f24f17c4-c770-4499-aff1-5129eff72ecb"
            },
            "attachments": {}
        },
        {
            "cell_type": "code",
            "source": [
                "DELETE \r\n",
                "FROM BOOKS\r\n",
                "WHERE TITLE='Rashmirathi'"
            ],
            "metadata": {
                "azdata_cell_guid": "ea6125e7-a3f1-46e6-8d5b-5e1a44071bf7",
                "language": "sql"
            },
            "outputs": [
                {
                    "output_type": "error",
                    "evalue": "Msg 547, Level 16, State 0, Line 1\r\nThe DELETE statement conflicted with the REFERENCE constraint \"FK__BOOK_ID__BOOKS__ID\". The conflict occurred in database \"books_db_g7cr_202407\", table \"dbo.REVIEWS\", column 'BOOK_ID'.",
                    "ename": "",
                    "traceback": []
                },
                {
                    "output_type": "display_data",
                    "data": {
                        "text/html": "The statement has been terminated."
                    },
                    "metadata": {}
                },
                {
                    "output_type": "display_data",
                    "data": {
                        "text/html": "Total execution time: 00:00:00.008"
                    },
                    "metadata": {}
                }
            ],
            "execution_count": 67
        },
        {
            "cell_type": "markdown",
            "source": [
                "## APPROACH 2: DELETE CASCADE\n",
                "\n",
                "- If a primary row  is deleted we should also delete all rows refering to that row using FK\n",
                "- If we are removing a book, we must also remove all the reviews of that book.\n",
                "    - There is no point in having a review if there is not corresponding book.\n",
                "- We need to apply this behavior in the foreign key constraint\n",
                "\n",
                "  \n",
                "\n",
                "### ASIDE: We can also apply CASCASE UPDATE\n",
                "\n",
                "- If primary row is updated, corresponding child row is also updated.\n",
                "- if id in the primary table is changed, its value will be updated in the FK column\n",
                "    - if book.id is changed\n",
                "        - reviews.book\\_id should also be changed.\n",
                "\n",
                "- But Generally we DO NOT CHANGE OUR ID\n",
                "    - This is not that important!\n",
                "\n",
                "# APPLYING CASCADE PROPERTY TO FK\n",
                "\n",
                "1. We can't alter constraint to apply this behavior\n",
                "2. We need to drop the constraint and recreate with required feature."
            ],
            "metadata": {
                "language": "sql",
                "azdata_cell_guid": "05fc75d9-5c0b-4390-b77e-5bae944308c7"
            },
            "attachments": {}
        },
        {
            "cell_type": "code",
            "source": [
                "ALTER TABLE REVIEWS\r\n",
                "    DROP CONSTRAINT FK__BOOK_ID__BOOKS__ID\r\n",
                "\r\n",
                ""
            ],
            "metadata": {
                "azdata_cell_guid": "905f2caa-edc2-4685-ab56-5e028a799989",
                "language": "sql"
            },
            "outputs": [
                {
                    "output_type": "display_data",
                    "data": {
                        "text/html": "Commands completed successfully."
                    },
                    "metadata": {}
                },
                {
                    "output_type": "display_data",
                    "data": {
                        "text/html": "Total execution time: 00:00:00.015"
                    },
                    "metadata": {}
                }
            ],
            "execution_count": 68
        },
        {
            "cell_type": "code",
            "source": [
                "ALTER TABLE REVIEWS\r\n",
                "    ADD CONSTRAINT FK__BOOK_ID__BOOKS__ID\r\n",
                "    FOREIGN KEY(BOOK_ID) REFERENCES BOOKS(ID)\r\n",
                "    ON DELETE CASCADE\r\n",
                "    ON UPDATE CASCADE"
            ],
            "metadata": {
                "language": "sql",
                "azdata_cell_guid": "17f37600-730e-49f8-8e71-a13bd3433081"
            },
            "outputs": [
                {
                    "output_type": "display_data",
                    "data": {
                        "text/html": "Commands completed successfully."
                    },
                    "metadata": {}
                },
                {
                    "output_type": "display_data",
                    "data": {
                        "text/html": "Total execution time: 00:00:00.013"
                    },
                    "metadata": {}
                }
            ],
            "execution_count": 69
        },
        {
            "cell_type": "markdown",
            "source": [
                "### Now when we delete  PRIMARY ROW corresponding child rows will be deleted"
            ],
            "metadata": {
                "language": "sql",
                "azdata_cell_guid": "e137364e-a02c-42cc-9840-e85f8cf93910"
            },
            "attachments": {}
        },
        {
            "cell_type": "code",
            "source": [
                "DELETE\r\n",
                "    FROM BOOKS\r\n",
                "    WHERE TITLE='Rashmirathi'"
            ],
            "metadata": {
                "language": "sql",
                "azdata_cell_guid": "2934aebd-b785-456f-bf1a-e05060030a2e"
            },
            "outputs": [
                {
                    "output_type": "display_data",
                    "data": {
                        "text/html": "(1 row affected)"
                    },
                    "metadata": {}
                },
                {
                    "output_type": "display_data",
                    "data": {
                        "text/html": "Total execution time: 00:00:00.020"
                    },
                    "metadata": {}
                }
            ],
            "execution_count": 70
        },
        {
            "cell_type": "code",
            "source": [
                "SELECT\r\n",
                "    BOOKS.ID AS ID,\r\n",
                "    BOOK_ID,\r\n",
                "    TITLE,\r\n",
                "    RATING\r\n",
                "FROM\r\n",
                "    BOOKS\r\n",
                "FULL JOIN\r\n",
                "    REVIEWS\r\n",
                "ON\r\n",
                "    BOOKS.ID=BOOK_ID\r\n",
                "ORDER BY\r\n",
                "    TITLE"
            ],
            "metadata": {
                "language": "sql",
                "azdata_cell_guid": "dcd8a4ff-5063-4480-940c-1bf4c316dde6"
            },
            "outputs": [
                {
                    "output_type": "display_data",
                    "data": {
                        "text/html": "(14 rows affected)"
                    },
                    "metadata": {}
                },
                {
                    "output_type": "display_data",
                    "data": {
                        "text/html": "Total execution time: 00:00:00.009"
                    },
                    "metadata": {}
                },
                {
                    "output_type": "execute_result",
                    "metadata": {},
                    "execution_count": 75,
                    "data": {
                        "application/vnd.dataresource+json": {
                            "schema": {
                                "fields": [
                                    {
                                        "name": "ID"
                                    },
                                    {
                                        "name": "BOOK_ID"
                                    },
                                    {
                                        "name": "TITLE"
                                    },
                                    {
                                        "name": "RATING"
                                    }
                                ]
                            },
                            "data": [
                                {
                                    "ID": "2",
                                    "BOOK_ID": "2",
                                    "TITLE": "Manas",
                                    "RATING": "5"
                                },
                                {
                                    "ID": "2",
                                    "BOOK_ID": "2",
                                    "TITLE": "Manas",
                                    "RATING": "4"
                                },
                                {
                                    "ID": "2",
                                    "BOOK_ID": "2",
                                    "TITLE": "Manas",
                                    "RATING": "4"
                                },
                                {
                                    "ID": "2",
                                    "BOOK_ID": "2",
                                    "TITLE": "Manas",
                                    "RATING": "5"
                                },
                                {
                                    "ID": "7",
                                    "BOOK_ID": "NULL",
                                    "TITLE": "Manas",
                                    "RATING": "NULL"
                                },
                                {
                                    "ID": "4",
                                    "BOOK_ID": "NULL",
                                    "TITLE": "Summons",
                                    "RATING": "NULL"
                                },
                                {
                                    "ID": "5",
                                    "BOOK_ID": "5",
                                    "TITLE": "The Accursed God",
                                    "RATING": "5"
                                },
                                {
                                    "ID": "5",
                                    "BOOK_ID": "5",
                                    "TITLE": "The Accursed God",
                                    "RATING": "3"
                                },
                                {
                                    "ID": "5",
                                    "BOOK_ID": "5",
                                    "TITLE": "The Accursed God",
                                    "RATING": "5"
                                },
                                {
                                    "ID": "5",
                                    "BOOK_ID": "5",
                                    "TITLE": "The Accursed God",
                                    "RATING": "5"
                                },
                                {
                                    "ID": "5",
                                    "BOOK_ID": "5",
                                    "TITLE": "The Accursed God",
                                    "RATING": "5"
                                },
                                {
                                    "ID": "6",
                                    "BOOK_ID": "6",
                                    "TITLE": "The Count of Monte Cristo",
                                    "RATING": "5"
                                },
                                {
                                    "ID": "6",
                                    "BOOK_ID": "6",
                                    "TITLE": "The Count of Monte Cristo",
                                    "RATING": "4"
                                },
                                {
                                    "ID": "6",
                                    "BOOK_ID": "6",
                                    "TITLE": "The Count of Monte Cristo",
                                    "RATING": "4"
                                }
                            ]
                        },
                        "text/html": [
                            "<table>",
                            "<tr><th>ID</th><th>BOOK_ID</th><th>TITLE</th><th>RATING</th></tr>",
                            "<tr><td>2</td><td>2</td><td>Manas</td><td>5</td></tr>",
                            "<tr><td>2</td><td>2</td><td>Manas</td><td>4</td></tr>",
                            "<tr><td>2</td><td>2</td><td>Manas</td><td>4</td></tr>",
                            "<tr><td>2</td><td>2</td><td>Manas</td><td>5</td></tr>",
                            "<tr><td>7</td><td>NULL</td><td>Manas</td><td>NULL</td></tr>",
                            "<tr><td>4</td><td>NULL</td><td>Summons</td><td>NULL</td></tr>",
                            "<tr><td>5</td><td>5</td><td>The Accursed God</td><td>5</td></tr>",
                            "<tr><td>5</td><td>5</td><td>The Accursed God</td><td>3</td></tr>",
                            "<tr><td>5</td><td>5</td><td>The Accursed God</td><td>5</td></tr>",
                            "<tr><td>5</td><td>5</td><td>The Accursed God</td><td>5</td></tr>",
                            "<tr><td>5</td><td>5</td><td>The Accursed God</td><td>5</td></tr>",
                            "<tr><td>6</td><td>6</td><td>The Count of Monte Cristo</td><td>5</td></tr>",
                            "<tr><td>6</td><td>6</td><td>The Count of Monte Cristo</td><td>4</td></tr>",
                            "<tr><td>6</td><td>6</td><td>The Count of Monte Cristo</td><td>4</td></tr>",
                            "</table>"
                        ]
                    }
                }
            ],
            "execution_count": 75
        },
        {
            "cell_type": "markdown",
            "source": [
                "### LET US UPDATE A BOOK ID"
            ],
            "metadata": {
                "azdata_cell_guid": "acd6591e-9dcf-44e8-841e-986612968b45"
            },
            "attachments": {}
        },
        {
            "cell_type": "code",
            "source": [
                "UPDATE BOOKS\r\n",
                "SET ID=1000\r\n",
                "WHERE ID=5"
            ],
            "metadata": {
                "azdata_cell_guid": "14cda6f1-051a-411f-a14d-8e96a1cf5362",
                "language": "sql"
            },
            "outputs": [
                {
                    "output_type": "error",
                    "evalue": "Msg 8102, Level 16, State 1, Line 1\r\nCannot update identity column 'ID'.",
                    "ename": "",
                    "traceback": []
                },
                {
                    "output_type": "display_data",
                    "data": {
                        "text/html": "Total execution time: 00:00:00.019"
                    },
                    "metadata": {}
                }
            ],
            "execution_count": 76
        }
    ]
}