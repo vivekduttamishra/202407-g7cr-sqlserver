{
    "metadata": {
        "kernelspec": {
            "name": "SQL",
            "display_name": "SQL",
            "language": "sql"
        },
        "language_info": {
            "name": "sql",
            "version": ""
        }
    },
    "nbformat_minor": 2,
    "nbformat": 4,
    "cells": [
        {
            "cell_type": "markdown",
            "source": [
                "# Creating a New Database\n",
                "\n",
                "- We can create a database using **CREATE DATABASE** command"
            ],
            "metadata": {
                "azdata_cell_guid": "143009ff-900e-4114-96e4-489918eb1279"
            },
            "attachments": {}
        },
        {
            "cell_type": "code",
            "source": [
                "CREATE DATABASE books_db_g7cr_202407;"
            ],
            "metadata": {
                "azdata_cell_guid": "d2b9422f-71d4-45e9-8cbc-8379609283b4",
                "language": "sql"
            },
            "outputs": [
                {
                    "output_type": "display_data",
                    "data": {
                        "text/html": "Commands completed successfully."
                    },
                    "metadata": {}
                },
                {
                    "output_type": "display_data",
                    "data": {
                        "text/html": "Total execution time: 00:00:00.133"
                    },
                    "metadata": {}
                }
            ],
            "execution_count": 1
        },
        {
            "cell_type": "markdown",
            "source": [
                "## Now we can activate our database before we can use It"
            ],
            "metadata": {
                "language": "sql",
                "azdata_cell_guid": "6381c583-6807-4563-bc81-a310b2c8fa0d"
            },
            "attachments": {}
        },
        {
            "cell_type": "code",
            "source": [
                "USE books_db_g7cr_202407;"
            ],
            "metadata": {
                "language": "sql",
                "azdata_cell_guid": "2deb0b8c-ddcb-4d40-b0fd-70843ea07b1d"
            },
            "outputs": [
                {
                    "output_type": "display_data",
                    "data": {
                        "text/html": "Commands completed successfully."
                    },
                    "metadata": {}
                },
                {
                    "output_type": "display_data",
                    "data": {
                        "text/html": "Total execution time: 00:00:00.048"
                    },
                    "metadata": {}
                }
            ],
            "execution_count": 2
        },
        {
            "cell_type": "markdown",
            "source": [
                "## Now we create our Books Table\n",
                "\n",
                "- CREATE TABLE COMMAND NEEDS\n",
                "\n",
                "1. TABLE NAME\n",
                "    \n",
                "2. ALL COLUMNS WITH\n",
                "    \n",
                "    - COLUMN NAME\n",
                "    - COLUMN DATA TYPE\n",
                "    - ADDITIONAL CONSTRAINTS (OPTIONAL)\n",
                "        - In this example we are using constraints\n",
                "            - NOT NULL to mark column compulsory\n",
                "            - CHECK to validate the value \n",
                "            - DEFAULT is the value that is stored if no value is provided by the user"
            ],
            "metadata": {
                "language": "sql",
                "azdata_cell_guid": "a62e8183-0993-4913-9020-66dfb70ff287"
            },
            "attachments": {}
        },
        {
            "cell_type": "code",
            "source": [
                "CREATE TABLE books(\r\n",
                "\tTITLE  VARCHAR(200) NOT NULL,\r\n",
                "\tAUTHOR VARCHAR(200) NOT NULL,\r\n",
                "\tPRICE  DECIMAL      NOT NULL CHECK(PRICE>=0),\r\n",
                "\tRATING DECIMAL      CHECK(RATING>=1 AND RATING<=5),\r\n",
                "\tCOVER  VARCHAR(512) DEFAULT('/unknown.png')\r\n",
                ");"
            ],
            "metadata": {
                "azdata_cell_guid": "e955a894-b417-489e-8f52-a032489f6e33",
                "language": "sql"
            },
            "outputs": [
                {
                    "output_type": "display_data",
                    "data": {
                        "text/html": "Commands completed successfully."
                    },
                    "metadata": {}
                },
                {
                    "output_type": "display_data",
                    "data": {
                        "text/html": "Total execution time: 00:00:00.013"
                    },
                    "metadata": {}
                }
            ],
            "execution_count": 3
        },
        {
            "cell_type": "markdown",
            "source": [
                "## INSERT RECORDS IN THE TABLE\n",
                "\n",
                "- There are multiple syntax/options to execute **INSERT** statement\n",
                "- The full syntax requires us to provide\n",
                "    - table name\n",
                "    - column names\n",
                "    - corresponding values\n",
                "\n",
                "### Approach #1"
            ],
            "metadata": {
                "language": "sql",
                "azdata_cell_guid": "72f04ba2-495f-48c2-839d-5eaf5c509543"
            },
            "attachments": {}
        },
        {
            "cell_type": "code",
            "source": [
                "INSERT \r\n",
                "    INTO BOOKS(TITLE,AUTHOR,PRICE,RATING,COVER)\r\n",
                "    VALUES    ('The Accursed God','Vivek Dutta Mishra',299, 4.7, 'tag.png');"
            ],
            "metadata": {
                "language": "sql",
                "azdata_cell_guid": "aa744177-bffe-4da8-9784-82cdb2178201"
            },
            "outputs": [
                {
                    "output_type": "display_data",
                    "data": {
                        "text/html": "(1 row affected)"
                    },
                    "metadata": {}
                },
                {
                    "output_type": "display_data",
                    "data": {
                        "text/html": "Total execution time: 00:00:00.007"
                    },
                    "metadata": {}
                }
            ],
            "execution_count": 4
        },
        {
            "cell_type": "markdown",
            "source": [
                "## Approach #2  Provide Only values\n",
                "\n",
                "- Order of values will be based on order in which CREATE TABLE added the columns"
            ],
            "metadata": {
                "azdata_cell_guid": "e894c423-64af-46fe-9f61-7b7ba321a9e0"
            },
            "attachments": {}
        },
        {
            "cell_type": "code",
            "source": [
                "INSERT \r\n",
                "    INTO BOOKS\r\n",
                "    VALUES    ('Manas','Vivek Dutta Mishra',199, 4.6, 'manas.png');"
            ],
            "metadata": {
                "azdata_cell_guid": "e7544de1-001f-442b-ac0b-09d4160f3038",
                "language": "sql"
            },
            "outputs": [
                {
                    "output_type": "display_data",
                    "data": {
                        "text/html": "(1 row affected)"
                    },
                    "metadata": {}
                },
                {
                    "output_type": "display_data",
                    "data": {
                        "text/html": "Total execution time: 00:00:00.013"
                    },
                    "metadata": {}
                }
            ],
            "execution_count": 5
        },
        {
            "cell_type": "markdown",
            "source": [
                "### Default Value\n",
                "\n",
                "-  If a value for column is NOT supplied but a default exists, it will be used\n",
                "- In this case, we are not supplying cover to the query. It will use default from table defintion"
            ],
            "metadata": {
                "language": "sql",
                "azdata_cell_guid": "8d5a11dc-c308-471c-a376-4960eb0e6e61"
            },
            "attachments": {}
        },
        {
            "cell_type": "code",
            "source": [
                "INSERT \r\n",
                "    INTO BOOKS(TITLE,AUTHOR,PRICE,RATING)\r\n",
                "    VALUES    ('The Accursed God','Vivek Dutta Mishra',299, 4.7);"
            ],
            "metadata": {
                "language": "sql",
                "azdata_cell_guid": "43ff3082-01cc-4168-854a-9d42ffbc12d8"
            },
            "outputs": [
                {
                    "output_type": "display_data",
                    "data": {
                        "text/html": "(1 row affected)"
                    },
                    "metadata": {}
                },
                {
                    "output_type": "display_data",
                    "data": {
                        "text/html": "Total execution time: 00:00:00.013"
                    },
                    "metadata": {}
                }
            ],
            "execution_count": 6
        }
    ]
}