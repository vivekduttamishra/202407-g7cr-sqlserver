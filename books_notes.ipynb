{
    "metadata": {
        "kernelspec": {
            "name": "SQL",
            "display_name": "SQL",
            "language": "sql"
        },
        "language_info": {
            "name": "sql",
            "version": ""
        }
    },
    "nbformat_minor": 2,
    "nbformat": 4,
    "cells": [
        {
            "cell_type": "markdown",
            "source": [
                "# Creating a New Database\n",
                "\n",
                "- We can create a database using **CREATE DATABASE** command"
            ],
            "metadata": {
                "azdata_cell_guid": "143009ff-900e-4114-96e4-489918eb1279"
            },
            "attachments": {}
        },
        {
            "cell_type": "code",
            "source": [
                "CREATE DATABASE books_db_g7cr_202407;"
            ],
            "metadata": {
                "azdata_cell_guid": "d2b9422f-71d4-45e9-8cbc-8379609283b4",
                "language": "sql"
            },
            "outputs": [
                {
                    "output_type": "display_data",
                    "data": {
                        "text/html": "Commands completed successfully."
                    },
                    "metadata": {}
                },
                {
                    "output_type": "display_data",
                    "data": {
                        "text/html": "Total execution time: 00:00:00.133"
                    },
                    "metadata": {}
                }
            ],
            "execution_count": 1
        },
        {
            "cell_type": "markdown",
            "source": [
                "## Now we can activate our database before we can use It"
            ],
            "metadata": {
                "language": "sql",
                "azdata_cell_guid": "6381c583-6807-4563-bc81-a310b2c8fa0d"
            },
            "attachments": {}
        },
        {
            "cell_type": "code",
            "source": [
                "USE books_db_g7cr_202407;"
            ],
            "metadata": {
                "language": "sql",
                "azdata_cell_guid": "2deb0b8c-ddcb-4d40-b0fd-70843ea07b1d"
            },
            "outputs": [
                {
                    "output_type": "display_data",
                    "data": {
                        "text/html": "Commands completed successfully."
                    },
                    "metadata": {}
                },
                {
                    "output_type": "display_data",
                    "data": {
                        "text/html": "Total execution time: 00:00:00.048"
                    },
                    "metadata": {}
                }
            ],
            "execution_count": 2
        },
        {
            "cell_type": "markdown",
            "source": [
                "### We can conditionally Drop a Table If It exists"
            ],
            "metadata": {
                "language": "sql",
                "azdata_cell_guid": "4b6e6c8e-18fb-41ce-bace-be1c74c105e7"
            },
            "attachments": {}
        },
        {
            "cell_type": "code",
            "source": [
                "DROP TABLE IF EXISTS BOOKS;"
            ],
            "metadata": {
                "language": "sql",
                "azdata_cell_guid": "6237c4c1-4f38-4ff4-a4f6-4cf9c519fe87"
            },
            "outputs": [
                {
                    "output_type": "display_data",
                    "data": {
                        "text/html": "Commands completed successfully."
                    },
                    "metadata": {}
                },
                {
                    "output_type": "display_data",
                    "data": {
                        "text/html": "Total execution time: 00:00:00.004"
                    },
                    "metadata": {}
                }
            ],
            "execution_count": 14
        },
        {
            "cell_type": "markdown",
            "source": [
                "## Now we create our Books Table\n",
                "\n",
                "- CREATE TABLE COMMAND NEEDS\n",
                "\n",
                "1. TABLE NAME\n",
                "    \n",
                "2. ALL COLUMNS WITH\n",
                "    \n",
                "    - COLUMN NAME\n",
                "    - COLUMN DATA TYPE\n",
                "    - ADDITIONAL CONSTRAINTS (OPTIONAL)\n",
                "        - In this example we are using constraints\n",
                "            - NOT NULL to mark column compulsory\n",
                "            - CHECK to validate the value \n",
                "            - DEFAULT is the value that is stored if no value is provided by the user"
            ],
            "metadata": {
                "language": "sql",
                "azdata_cell_guid": "a62e8183-0993-4913-9020-66dfb70ff287"
            },
            "attachments": {}
        },
        {
            "cell_type": "code",
            "source": [
                "\r\n",
                "\r\n",
                "CREATE TABLE books(\r\n",
                "\tTITLE  VARCHAR(200) NOT NULL,\r\n",
                "\tAUTHOR VARCHAR(200) NOT NULL,\r\n",
                "\tPRICE  DECIMAL(8,2) NOT NULL CHECK(PRICE>=0),\r\n",
                "\tRATING DECIMAL(5,2) CHECK(RATING>=1 AND RATING<=5),\r\n",
                "\tCOVER  VARCHAR(512) DEFAULT('/unknown.png')\r\n",
                ");"
            ],
            "metadata": {
                "azdata_cell_guid": "e955a894-b417-489e-8f52-a032489f6e33",
                "language": "sql"
            },
            "outputs": [
                {
                    "output_type": "display_data",
                    "data": {
                        "text/html": "Commands completed successfully."
                    },
                    "metadata": {}
                },
                {
                    "output_type": "display_data",
                    "data": {
                        "text/html": "Total execution time: 00:00:00.013"
                    },
                    "metadata": {}
                }
            ],
            "execution_count": 15
        },
        {
            "cell_type": "markdown",
            "source": [
                "## INSERT RECORDS IN THE TABLE\n",
                "\n",
                "- There are multiple syntax/options to execute **INSERT** statement\n",
                "- The full syntax requires us to provide\n",
                "    - table name\n",
                "    - column names\n",
                "    - corresponding values\n",
                "\n",
                "### Approach #1"
            ],
            "metadata": {
                "language": "sql",
                "azdata_cell_guid": "72f04ba2-495f-48c2-839d-5eaf5c509543"
            },
            "attachments": {}
        },
        {
            "cell_type": "code",
            "source": [
                "INSERT \r\n",
                "    INTO BOOKS(TITLE,AUTHOR,PRICE,RATING,COVER)\r\n",
                "    VALUES    ('The Accursed God','Vivek Dutta Mishra',299, 4.7, 'tag.png');"
            ],
            "metadata": {
                "language": "sql",
                "azdata_cell_guid": "aa744177-bffe-4da8-9784-82cdb2178201"
            },
            "outputs": [
                {
                    "output_type": "display_data",
                    "data": {
                        "text/html": "(1 row affected)"
                    },
                    "metadata": {}
                },
                {
                    "output_type": "display_data",
                    "data": {
                        "text/html": "Total execution time: 00:00:00.011"
                    },
                    "metadata": {}
                }
            ],
            "execution_count": 16
        },
        {
            "cell_type": "markdown",
            "source": [
                "## Approach #2  Provide Only values\n",
                "\n",
                "- Order of values will be based on order in which CREATE TABLE added the columns"
            ],
            "metadata": {
                "azdata_cell_guid": "e894c423-64af-46fe-9f61-7b7ba321a9e0"
            },
            "attachments": {}
        },
        {
            "cell_type": "code",
            "source": [
                "INSERT \r\n",
                "    INTO BOOKS\r\n",
                "    VALUES    ('Manas','Vivek Dutta Mishra',199, 4.6, 'manas.png');"
            ],
            "metadata": {
                "azdata_cell_guid": "e7544de1-001f-442b-ac0b-09d4160f3038",
                "language": "sql"
            },
            "outputs": [
                {
                    "output_type": "display_data",
                    "data": {
                        "text/html": "(1 row affected)"
                    },
                    "metadata": {}
                },
                {
                    "output_type": "display_data",
                    "data": {
                        "text/html": "Total execution time: 00:00:00.016"
                    },
                    "metadata": {}
                }
            ],
            "execution_count": 17
        },
        {
            "cell_type": "markdown",
            "source": [
                "### Default Value\n",
                "\n",
                "-  If a value for column is NOT supplied but a default exists, it will be used\n",
                "- In this case, we are not supplying cover to the query. It will use default from table defintion"
            ],
            "metadata": {
                "language": "sql",
                "azdata_cell_guid": "8d5a11dc-c308-471c-a376-4960eb0e6e61"
            },
            "attachments": {}
        },
        {
            "cell_type": "code",
            "source": [
                "INSERT \r\n",
                "    INTO BOOKS(TITLE,AUTHOR,PRICE,RATING)\r\n",
                "    VALUES    ('Rashmirathi','Ramdhari Singh Dinkar',299, 4.7);"
            ],
            "metadata": {
                "language": "sql",
                "azdata_cell_guid": "43ff3082-01cc-4168-854a-9d42ffbc12d8"
            },
            "outputs": [
                {
                    "output_type": "display_data",
                    "data": {
                        "text/html": "(1 row affected)"
                    },
                    "metadata": {}
                },
                {
                    "output_type": "display_data",
                    "data": {
                        "text/html": "Total execution time: 00:00:00.014"
                    },
                    "metadata": {}
                }
            ],
            "execution_count": 18
        },
        {
            "cell_type": "markdown",
            "source": [
                "## Insert fails for constraint failures"
            ],
            "metadata": {
                "language": "sql",
                "azdata_cell_guid": "6abf2f74-6441-430f-9c62-52687aa2597a"
            },
            "attachments": {}
        },
        {
            "cell_type": "code",
            "source": [
                "INSERT \r\n",
                "    INTO BOOKS(TITLE,PRICE,RATING)\r\n",
                "    VALUES    ('Rashmirathi',299, 4.7);"
            ],
            "metadata": {
                "language": "sql",
                "azdata_cell_guid": "655ca099-29c4-4752-ad56-a72229141c27"
            },
            "outputs": [
                {
                    "output_type": "error",
                    "evalue": "Msg 515, Level 16, State 2, Line 1\r\nCannot insert the value NULL into column 'AUTHOR', table 'books_db_g7cr_202407.dbo.books'; column does not allow nulls. INSERT fails.",
                    "ename": "",
                    "traceback": []
                },
                {
                    "output_type": "display_data",
                    "data": {
                        "text/html": "The statement has been terminated."
                    },
                    "metadata": {}
                },
                {
                    "output_type": "display_data",
                    "data": {
                        "text/html": "Total execution time: 00:00:00.003"
                    },
                    "metadata": {}
                }
            ],
            "execution_count": 19
        },
        {
            "cell_type": "code",
            "source": [
                "INSERT \r\n",
                "    INTO BOOKS(TITLE,AUTHOR,PRICE,RATING)\r\n",
                "    VALUES    ('Rashmirathi','Ramdhari Singh Dinkar',299, 10);"
            ],
            "metadata": {
                "language": "sql",
                "azdata_cell_guid": "d3633e1b-29ee-4bc1-a6b9-814a8d3260bc"
            },
            "outputs": [
                {
                    "output_type": "error",
                    "evalue": "Msg 547, Level 16, State 0, Line 1\r\nThe INSERT statement conflicted with the CHECK constraint \"CK__books__RATING__5165187F\". The conflict occurred in database \"books_db_g7cr_202407\", table \"dbo.books\", column 'RATING'.",
                    "ename": "",
                    "traceback": []
                },
                {
                    "output_type": "display_data",
                    "data": {
                        "text/html": "The statement has been terminated."
                    },
                    "metadata": {}
                },
                {
                    "output_type": "display_data",
                    "data": {
                        "text/html": "Total execution time: 00:00:00.004"
                    },
                    "metadata": {}
                }
            ],
            "execution_count": 20
        },
        {
            "cell_type": "markdown",
            "source": [
                "### INSERT MULTIPLE VALUES IN A SINGLE STATEMENT"
            ],
            "metadata": {
                "language": "sql",
                "azdata_cell_guid": "db63fd6d-6baa-4387-9ba9-a794e1b1b47a"
            },
            "attachments": {}
        },
        {
            "cell_type": "code",
            "source": [
                "INSERT \r\n",
                "    INTO BOOKS(TITLE,AUTHOR,PRICE,RATING,COVER)\r\n",
                "    VALUES    \r\n",
                "        ('The Count of Monte Cristo','Alexandre Dumas',499, 4.8, 'cristo.jpg'),\r\n",
                "        ('Kurukshetra','Ramdhari Singh Dinkar',99, 4.5, 'kurukshetra.jpg'),\r\n",
                "        ('Harry Potter and the Philosophers Stone','JK Rowling',299, 4.5, 'hp01.jpg'),\r\n",
                "        ('Harry Potter and the and the Chamber of Secrets','JK Rowling',199, 4.4, 'hp02.jpg'),\r\n",
                "        ('Harry Potter and the Prisioner of Askaban','JK Rowling',499, 4.2, 'hp03.jpg'),\r\n",
                "        ('Harry Potter and the Goblet of Fire','JK Rowling',599, 4.2, 'hp04.jpg'),\r\n",
                "        ('Harry Potter and the Order of Phoenix','JK Rowling',399, 4.7, 'hp05.jpg'),\r\n",
                "        ('Harry Potter and the Half-blood Prince','JK Rowling',599, 4.5, 'hp06.jpg'),\r\n",
                "        ('Harry Potter and the Deathly Hollows','JK Rowling',499, 4.7, 'hp07.jpg'),\r\n",
                "        ('The Accursed Ghild','JK Rowling',399, 4.1, 'tac.jpg'),\r\n",
                "        ('The mand in the Iron Mask','Alexandre Dumas',299, 3.8, 'iron.jpg'),\r\n",
                "        ('Ajaya','Anand Neelkhanthan',299, 3.1, 'ajaya.jpg'),\r\n",
                "        ('Asura','Anand Neelkanthan',199, 2.0, 'asura.jpg');"
            ],
            "metadata": {
                "language": "sql",
                "azdata_cell_guid": "59621c29-4f03-4970-97ed-10b73d7eb7d1"
            },
            "outputs": [
                {
                    "output_type": "display_data",
                    "data": {
                        "text/html": "(13 rows affected)"
                    },
                    "metadata": {}
                },
                {
                    "output_type": "display_data",
                    "data": {
                        "text/html": "Total execution time: 00:00:00.006"
                    },
                    "metadata": {}
                }
            ],
            "execution_count": 21
        },
        {
            "cell_type": "markdown",
            "source": [
                "# Querying Data\n",
                "\n",
                "## 1\\. Simple Select Query\n",
                "\n",
                "-  select all rows and columns from the table"
            ],
            "metadata": {
                "language": "sql",
                "azdata_cell_guid": "da1e243a-28fb-45f2-b237-e8856106bb4e"
            },
            "attachments": {}
        },
        {
            "cell_type": "code",
            "source": [
                "SELECT * FROM BOOKS;"
            ],
            "metadata": {
                "language": "sql",
                "azdata_cell_guid": "72ef0ea1-b1a7-4941-b89e-758991e9c11d"
            },
            "outputs": [
                {
                    "output_type": "display_data",
                    "data": {
                        "text/html": "(16 rows affected)"
                    },
                    "metadata": {}
                },
                {
                    "output_type": "display_data",
                    "data": {
                        "text/html": "Total execution time: 00:00:00.007"
                    },
                    "metadata": {}
                },
                {
                    "output_type": "execute_result",
                    "metadata": {},
                    "execution_count": 22,
                    "data": {
                        "application/vnd.dataresource+json": {
                            "schema": {
                                "fields": [
                                    {
                                        "name": "TITLE"
                                    },
                                    {
                                        "name": "AUTHOR"
                                    },
                                    {
                                        "name": "PRICE"
                                    },
                                    {
                                        "name": "RATING"
                                    },
                                    {
                                        "name": "COVER"
                                    }
                                ]
                            },
                            "data": [
                                {
                                    "TITLE": "The Accursed God",
                                    "AUTHOR": "Vivek Dutta Mishra",
                                    "PRICE": "299.00",
                                    "RATING": "4.70",
                                    "COVER": "tag.png"
                                },
                                {
                                    "TITLE": "Manas",
                                    "AUTHOR": "Vivek Dutta Mishra",
                                    "PRICE": "199.00",
                                    "RATING": "4.60",
                                    "COVER": "manas.png"
                                },
                                {
                                    "TITLE": "Rashmirathi",
                                    "AUTHOR": "Ramdhari Singh Dinkar",
                                    "PRICE": "299.00",
                                    "RATING": "4.70",
                                    "COVER": "/unknown.png"
                                },
                                {
                                    "TITLE": "The Count of Monte Cristo",
                                    "AUTHOR": "Alexandre Dumas",
                                    "PRICE": "499.00",
                                    "RATING": "4.80",
                                    "COVER": "cristo.jpg"
                                },
                                {
                                    "TITLE": "Kurukshetra",
                                    "AUTHOR": "Ramdhari Singh Dinkar",
                                    "PRICE": "99.00",
                                    "RATING": "4.50",
                                    "COVER": "kurukshetra.jpg"
                                },
                                {
                                    "TITLE": "Harry Potter and the Philosophers Stone",
                                    "AUTHOR": "JK Rowling",
                                    "PRICE": "299.00",
                                    "RATING": "4.50",
                                    "COVER": "hp01.jpg"
                                },
                                {
                                    "TITLE": "Harry Potter and the and the Chamber of Secrets",
                                    "AUTHOR": "JK Rowling",
                                    "PRICE": "199.00",
                                    "RATING": "4.40",
                                    "COVER": "hp02.jpg"
                                },
                                {
                                    "TITLE": "Harry Potter and the Prisioner of Askaban",
                                    "AUTHOR": "JK Rowling",
                                    "PRICE": "499.00",
                                    "RATING": "4.20",
                                    "COVER": "hp03.jpg"
                                },
                                {
                                    "TITLE": "Harry Potter and the Goblet of Fire",
                                    "AUTHOR": "JK Rowling",
                                    "PRICE": "599.00",
                                    "RATING": "4.20",
                                    "COVER": "hp04.jpg"
                                },
                                {
                                    "TITLE": "Harry Potter and the Order of Phoenix",
                                    "AUTHOR": "JK Rowling",
                                    "PRICE": "399.00",
                                    "RATING": "4.70",
                                    "COVER": "hp05.jpg"
                                },
                                {
                                    "TITLE": "Harry Potter and the Half-blood Prince",
                                    "AUTHOR": "JK Rowling",
                                    "PRICE": "599.00",
                                    "RATING": "4.50",
                                    "COVER": "hp06.jpg"
                                },
                                {
                                    "TITLE": "Harry Potter and the Deathly Hollows",
                                    "AUTHOR": "JK Rowling",
                                    "PRICE": "499.00",
                                    "RATING": "4.70",
                                    "COVER": "hp07.jpg"
                                },
                                {
                                    "TITLE": "The Accursed Ghild",
                                    "AUTHOR": "JK Rowling",
                                    "PRICE": "399.00",
                                    "RATING": "4.10",
                                    "COVER": "tac.jpg"
                                },
                                {
                                    "TITLE": "The mand in the Iron Mask",
                                    "AUTHOR": "Alexandre Dumas",
                                    "PRICE": "299.00",
                                    "RATING": "3.80",
                                    "COVER": "iron.jpg"
                                },
                                {
                                    "TITLE": "Ajaya",
                                    "AUTHOR": "Anand Neelkhanthan",
                                    "PRICE": "299.00",
                                    "RATING": "3.10",
                                    "COVER": "ajaya.jpg"
                                },
                                {
                                    "TITLE": "Asura",
                                    "AUTHOR": "Anand Neelkanthan",
                                    "PRICE": "199.00",
                                    "RATING": "2.00",
                                    "COVER": "asura.jpg"
                                }
                            ]
                        },
                        "text/html": [
                            "<table>",
                            "<tr><th>TITLE</th><th>AUTHOR</th><th>PRICE</th><th>RATING</th><th>COVER</th></tr>",
                            "<tr><td>The Accursed God</td><td>Vivek Dutta Mishra</td><td>299.00</td><td>4.70</td><td>tag.png</td></tr>",
                            "<tr><td>Manas</td><td>Vivek Dutta Mishra</td><td>199.00</td><td>4.60</td><td>manas.png</td></tr>",
                            "<tr><td>Rashmirathi</td><td>Ramdhari Singh Dinkar</td><td>299.00</td><td>4.70</td><td>/unknown.png</td></tr>",
                            "<tr><td>The Count of Monte Cristo</td><td>Alexandre Dumas</td><td>499.00</td><td>4.80</td><td>cristo.jpg</td></tr>",
                            "<tr><td>Kurukshetra</td><td>Ramdhari Singh Dinkar</td><td>99.00</td><td>4.50</td><td>kurukshetra.jpg</td></tr>",
                            "<tr><td>Harry Potter and the Philosophers Stone</td><td>JK Rowling</td><td>299.00</td><td>4.50</td><td>hp01.jpg</td></tr>",
                            "<tr><td>Harry Potter and the and the Chamber of Secrets</td><td>JK Rowling</td><td>199.00</td><td>4.40</td><td>hp02.jpg</td></tr>",
                            "<tr><td>Harry Potter and the Prisioner of Askaban</td><td>JK Rowling</td><td>499.00</td><td>4.20</td><td>hp03.jpg</td></tr>",
                            "<tr><td>Harry Potter and the Goblet of Fire</td><td>JK Rowling</td><td>599.00</td><td>4.20</td><td>hp04.jpg</td></tr>",
                            "<tr><td>Harry Potter and the Order of Phoenix</td><td>JK Rowling</td><td>399.00</td><td>4.70</td><td>hp05.jpg</td></tr>",
                            "<tr><td>Harry Potter and the Half-blood Prince</td><td>JK Rowling</td><td>599.00</td><td>4.50</td><td>hp06.jpg</td></tr>",
                            "<tr><td>Harry Potter and the Deathly Hollows</td><td>JK Rowling</td><td>499.00</td><td>4.70</td><td>hp07.jpg</td></tr>",
                            "<tr><td>The Accursed Ghild</td><td>JK Rowling</td><td>399.00</td><td>4.10</td><td>tac.jpg</td></tr>",
                            "<tr><td>The mand in the Iron Mask</td><td>Alexandre Dumas</td><td>299.00</td><td>3.80</td><td>iron.jpg</td></tr>",
                            "<tr><td>Ajaya</td><td>Anand Neelkhanthan</td><td>299.00</td><td>3.10</td><td>ajaya.jpg</td></tr>",
                            "<tr><td>Asura</td><td>Anand Neelkanthan</td><td>199.00</td><td>2.00</td><td>asura.jpg</td></tr>",
                            "</table>"
                        ]
                    }
                }
            ],
            "execution_count": 22
        },
        {
            "cell_type": "markdown",
            "source": [
                "### SELECTED SELECTED COLUMNS"
            ],
            "metadata": {
                "language": "sql",
                "azdata_cell_guid": "a8487064-d8d3-45b8-a91d-db83bc3c1719"
            },
            "attachments": {}
        },
        {
            "cell_type": "code",
            "source": [
                "SELECT\r\n",
                "    TITLE,\r\n",
                "    AUTHOR,\r\n",
                "    PRICE\r\n",
                "FROM\r\n",
                "    BOOKS"
            ],
            "metadata": {
                "azdata_cell_guid": "48786195-e674-4c3d-b6eb-b9295b718de4",
                "language": "sql"
            },
            "outputs": [
                {
                    "output_type": "display_data",
                    "data": {
                        "text/html": "(16 rows affected)"
                    },
                    "metadata": {}
                },
                {
                    "output_type": "display_data",
                    "data": {
                        "text/html": "Total execution time: 00:00:00.014"
                    },
                    "metadata": {}
                },
                {
                    "output_type": "execute_result",
                    "metadata": {},
                    "execution_count": 23,
                    "data": {
                        "application/vnd.dataresource+json": {
                            "schema": {
                                "fields": [
                                    {
                                        "name": "TITLE"
                                    },
                                    {
                                        "name": "AUTHOR"
                                    },
                                    {
                                        "name": "PRICE"
                                    }
                                ]
                            },
                            "data": [
                                {
                                    "TITLE": "The Accursed God",
                                    "AUTHOR": "Vivek Dutta Mishra",
                                    "PRICE": "299.00"
                                },
                                {
                                    "TITLE": "Manas",
                                    "AUTHOR": "Vivek Dutta Mishra",
                                    "PRICE": "199.00"
                                },
                                {
                                    "TITLE": "Rashmirathi",
                                    "AUTHOR": "Ramdhari Singh Dinkar",
                                    "PRICE": "299.00"
                                },
                                {
                                    "TITLE": "The Count of Monte Cristo",
                                    "AUTHOR": "Alexandre Dumas",
                                    "PRICE": "499.00"
                                },
                                {
                                    "TITLE": "Kurukshetra",
                                    "AUTHOR": "Ramdhari Singh Dinkar",
                                    "PRICE": "99.00"
                                },
                                {
                                    "TITLE": "Harry Potter and the Philosophers Stone",
                                    "AUTHOR": "JK Rowling",
                                    "PRICE": "299.00"
                                },
                                {
                                    "TITLE": "Harry Potter and the and the Chamber of Secrets",
                                    "AUTHOR": "JK Rowling",
                                    "PRICE": "199.00"
                                },
                                {
                                    "TITLE": "Harry Potter and the Prisioner of Askaban",
                                    "AUTHOR": "JK Rowling",
                                    "PRICE": "499.00"
                                },
                                {
                                    "TITLE": "Harry Potter and the Goblet of Fire",
                                    "AUTHOR": "JK Rowling",
                                    "PRICE": "599.00"
                                },
                                {
                                    "TITLE": "Harry Potter and the Order of Phoenix",
                                    "AUTHOR": "JK Rowling",
                                    "PRICE": "399.00"
                                },
                                {
                                    "TITLE": "Harry Potter and the Half-blood Prince",
                                    "AUTHOR": "JK Rowling",
                                    "PRICE": "599.00"
                                },
                                {
                                    "TITLE": "Harry Potter and the Deathly Hollows",
                                    "AUTHOR": "JK Rowling",
                                    "PRICE": "499.00"
                                },
                                {
                                    "TITLE": "The Accursed Ghild",
                                    "AUTHOR": "JK Rowling",
                                    "PRICE": "399.00"
                                },
                                {
                                    "TITLE": "The mand in the Iron Mask",
                                    "AUTHOR": "Alexandre Dumas",
                                    "PRICE": "299.00"
                                },
                                {
                                    "TITLE": "Ajaya",
                                    "AUTHOR": "Anand Neelkhanthan",
                                    "PRICE": "299.00"
                                },
                                {
                                    "TITLE": "Asura",
                                    "AUTHOR": "Anand Neelkanthan",
                                    "PRICE": "199.00"
                                }
                            ]
                        },
                        "text/html": [
                            "<table>",
                            "<tr><th>TITLE</th><th>AUTHOR</th><th>PRICE</th></tr>",
                            "<tr><td>The Accursed God</td><td>Vivek Dutta Mishra</td><td>299.00</td></tr>",
                            "<tr><td>Manas</td><td>Vivek Dutta Mishra</td><td>199.00</td></tr>",
                            "<tr><td>Rashmirathi</td><td>Ramdhari Singh Dinkar</td><td>299.00</td></tr>",
                            "<tr><td>The Count of Monte Cristo</td><td>Alexandre Dumas</td><td>499.00</td></tr>",
                            "<tr><td>Kurukshetra</td><td>Ramdhari Singh Dinkar</td><td>99.00</td></tr>",
                            "<tr><td>Harry Potter and the Philosophers Stone</td><td>JK Rowling</td><td>299.00</td></tr>",
                            "<tr><td>Harry Potter and the and the Chamber of Secrets</td><td>JK Rowling</td><td>199.00</td></tr>",
                            "<tr><td>Harry Potter and the Prisioner of Askaban</td><td>JK Rowling</td><td>499.00</td></tr>",
                            "<tr><td>Harry Potter and the Goblet of Fire</td><td>JK Rowling</td><td>599.00</td></tr>",
                            "<tr><td>Harry Potter and the Order of Phoenix</td><td>JK Rowling</td><td>399.00</td></tr>",
                            "<tr><td>Harry Potter and the Half-blood Prince</td><td>JK Rowling</td><td>599.00</td></tr>",
                            "<tr><td>Harry Potter and the Deathly Hollows</td><td>JK Rowling</td><td>499.00</td></tr>",
                            "<tr><td>The Accursed Ghild</td><td>JK Rowling</td><td>399.00</td></tr>",
                            "<tr><td>The mand in the Iron Mask</td><td>Alexandre Dumas</td><td>299.00</td></tr>",
                            "<tr><td>Ajaya</td><td>Anand Neelkhanthan</td><td>299.00</td></tr>",
                            "<tr><td>Asura</td><td>Anand Neelkanthan</td><td>199.00</td></tr>",
                            "</table>"
                        ]
                    }
                }
            ],
            "execution_count": 23
        },
        {
            "cell_type": "markdown",
            "source": [
                "### Filtering SPECIFIC ROWS ON Given Condition"
            ],
            "metadata": {
                "language": "sql",
                "azdata_cell_guid": "58fd8a84-3491-4c60-b371-0354e530ba75"
            },
            "attachments": {}
        },
        {
            "cell_type": "code",
            "source": [
                "SELECT\r\n",
                "    TITLE,\r\n",
                "    PRICE,\r\n",
                "    RATING\r\n",
                "FROM\r\n",
                "    BOOKS\r\n",
                "WHERE\r\n",
                "    AUTHOR='Vivek Dutta Mishra'"
            ],
            "metadata": {
                "language": "sql",
                "azdata_cell_guid": "1561b6c6-1f03-4f39-8d75-04ca89ba9f6a"
            },
            "outputs": [
                {
                    "output_type": "display_data",
                    "data": {
                        "text/html": "(2 rows affected)"
                    },
                    "metadata": {}
                },
                {
                    "output_type": "display_data",
                    "data": {
                        "text/html": "Total execution time: 00:00:00.023"
                    },
                    "metadata": {}
                },
                {
                    "output_type": "execute_result",
                    "metadata": {},
                    "execution_count": 24,
                    "data": {
                        "application/vnd.dataresource+json": {
                            "schema": {
                                "fields": [
                                    {
                                        "name": "TITLE"
                                    },
                                    {
                                        "name": "PRICE"
                                    },
                                    {
                                        "name": "RATING"
                                    }
                                ]
                            },
                            "data": [
                                {
                                    "TITLE": "The Accursed God",
                                    "PRICE": "299.00",
                                    "RATING": "4.70"
                                },
                                {
                                    "TITLE": "Manas",
                                    "PRICE": "199.00",
                                    "RATING": "4.60"
                                }
                            ]
                        },
                        "text/html": [
                            "<table>",
                            "<tr><th>TITLE</th><th>PRICE</th><th>RATING</th></tr>",
                            "<tr><td>The Accursed God</td><td>299.00</td><td>4.70</td></tr>",
                            "<tr><td>Manas</td><td>199.00</td><td>4.60</td></tr>",
                            "</table>"
                        ]
                    }
                }
            ],
            "execution_count": 24
        },
        {
            "cell_type": "markdown",
            "source": [
                "### Returning Results in a Given Order"
            ],
            "metadata": {
                "language": "sql",
                "azdata_cell_guid": "3f6be8b0-b491-4a81-ac2d-a67de11c8695"
            },
            "attachments": {}
        },
        {
            "cell_type": "code",
            "source": [
                "SELECT \r\n",
                "    *\r\n",
                "FROM\r\n",
                "    BOOKS\r\n",
                "ORDER BY \r\n",
                "    PRICE"
            ],
            "metadata": {
                "language": "sql",
                "azdata_cell_guid": "a7f52e8c-c483-4df1-951e-8ec07f4ce5e7"
            },
            "outputs": [
                {
                    "output_type": "display_data",
                    "data": {
                        "text/html": "(16 rows affected)"
                    },
                    "metadata": {}
                },
                {
                    "output_type": "display_data",
                    "data": {
                        "text/html": "Total execution time: 00:00:00.015"
                    },
                    "metadata": {}
                },
                {
                    "output_type": "execute_result",
                    "metadata": {},
                    "execution_count": 25,
                    "data": {
                        "application/vnd.dataresource+json": {
                            "schema": {
                                "fields": [
                                    {
                                        "name": "TITLE"
                                    },
                                    {
                                        "name": "AUTHOR"
                                    },
                                    {
                                        "name": "PRICE"
                                    },
                                    {
                                        "name": "RATING"
                                    },
                                    {
                                        "name": "COVER"
                                    }
                                ]
                            },
                            "data": [
                                {
                                    "TITLE": "Kurukshetra",
                                    "AUTHOR": "Ramdhari Singh Dinkar",
                                    "PRICE": "99.00",
                                    "RATING": "4.50",
                                    "COVER": "kurukshetra.jpg"
                                },
                                {
                                    "TITLE": "Manas",
                                    "AUTHOR": "Vivek Dutta Mishra",
                                    "PRICE": "199.00",
                                    "RATING": "4.60",
                                    "COVER": "manas.png"
                                },
                                {
                                    "TITLE": "Harry Potter and the and the Chamber of Secrets",
                                    "AUTHOR": "JK Rowling",
                                    "PRICE": "199.00",
                                    "RATING": "4.40",
                                    "COVER": "hp02.jpg"
                                },
                                {
                                    "TITLE": "Asura",
                                    "AUTHOR": "Anand Neelkanthan",
                                    "PRICE": "199.00",
                                    "RATING": "2.00",
                                    "COVER": "asura.jpg"
                                },
                                {
                                    "TITLE": "The Accursed God",
                                    "AUTHOR": "Vivek Dutta Mishra",
                                    "PRICE": "299.00",
                                    "RATING": "4.70",
                                    "COVER": "tag.png"
                                },
                                {
                                    "TITLE": "The mand in the Iron Mask",
                                    "AUTHOR": "Alexandre Dumas",
                                    "PRICE": "299.00",
                                    "RATING": "3.80",
                                    "COVER": "iron.jpg"
                                },
                                {
                                    "TITLE": "Ajaya",
                                    "AUTHOR": "Anand Neelkhanthan",
                                    "PRICE": "299.00",
                                    "RATING": "3.10",
                                    "COVER": "ajaya.jpg"
                                },
                                {
                                    "TITLE": "Rashmirathi",
                                    "AUTHOR": "Ramdhari Singh Dinkar",
                                    "PRICE": "299.00",
                                    "RATING": "4.70",
                                    "COVER": "/unknown.png"
                                },
                                {
                                    "TITLE": "Harry Potter and the Philosophers Stone",
                                    "AUTHOR": "JK Rowling",
                                    "PRICE": "299.00",
                                    "RATING": "4.50",
                                    "COVER": "hp01.jpg"
                                },
                                {
                                    "TITLE": "Harry Potter and the Order of Phoenix",
                                    "AUTHOR": "JK Rowling",
                                    "PRICE": "399.00",
                                    "RATING": "4.70",
                                    "COVER": "hp05.jpg"
                                },
                                {
                                    "TITLE": "The Accursed Ghild",
                                    "AUTHOR": "JK Rowling",
                                    "PRICE": "399.00",
                                    "RATING": "4.10",
                                    "COVER": "tac.jpg"
                                },
                                {
                                    "TITLE": "Harry Potter and the Deathly Hollows",
                                    "AUTHOR": "JK Rowling",
                                    "PRICE": "499.00",
                                    "RATING": "4.70",
                                    "COVER": "hp07.jpg"
                                },
                                {
                                    "TITLE": "Harry Potter and the Prisioner of Askaban",
                                    "AUTHOR": "JK Rowling",
                                    "PRICE": "499.00",
                                    "RATING": "4.20",
                                    "COVER": "hp03.jpg"
                                },
                                {
                                    "TITLE": "The Count of Monte Cristo",
                                    "AUTHOR": "Alexandre Dumas",
                                    "PRICE": "499.00",
                                    "RATING": "4.80",
                                    "COVER": "cristo.jpg"
                                },
                                {
                                    "TITLE": "Harry Potter and the Goblet of Fire",
                                    "AUTHOR": "JK Rowling",
                                    "PRICE": "599.00",
                                    "RATING": "4.20",
                                    "COVER": "hp04.jpg"
                                },
                                {
                                    "TITLE": "Harry Potter and the Half-blood Prince",
                                    "AUTHOR": "JK Rowling",
                                    "PRICE": "599.00",
                                    "RATING": "4.50",
                                    "COVER": "hp06.jpg"
                                }
                            ]
                        },
                        "text/html": [
                            "<table>",
                            "<tr><th>TITLE</th><th>AUTHOR</th><th>PRICE</th><th>RATING</th><th>COVER</th></tr>",
                            "<tr><td>Kurukshetra</td><td>Ramdhari Singh Dinkar</td><td>99.00</td><td>4.50</td><td>kurukshetra.jpg</td></tr>",
                            "<tr><td>Manas</td><td>Vivek Dutta Mishra</td><td>199.00</td><td>4.60</td><td>manas.png</td></tr>",
                            "<tr><td>Harry Potter and the and the Chamber of Secrets</td><td>JK Rowling</td><td>199.00</td><td>4.40</td><td>hp02.jpg</td></tr>",
                            "<tr><td>Asura</td><td>Anand Neelkanthan</td><td>199.00</td><td>2.00</td><td>asura.jpg</td></tr>",
                            "<tr><td>The Accursed God</td><td>Vivek Dutta Mishra</td><td>299.00</td><td>4.70</td><td>tag.png</td></tr>",
                            "<tr><td>The mand in the Iron Mask</td><td>Alexandre Dumas</td><td>299.00</td><td>3.80</td><td>iron.jpg</td></tr>",
                            "<tr><td>Ajaya</td><td>Anand Neelkhanthan</td><td>299.00</td><td>3.10</td><td>ajaya.jpg</td></tr>",
                            "<tr><td>Rashmirathi</td><td>Ramdhari Singh Dinkar</td><td>299.00</td><td>4.70</td><td>/unknown.png</td></tr>",
                            "<tr><td>Harry Potter and the Philosophers Stone</td><td>JK Rowling</td><td>299.00</td><td>4.50</td><td>hp01.jpg</td></tr>",
                            "<tr><td>Harry Potter and the Order of Phoenix</td><td>JK Rowling</td><td>399.00</td><td>4.70</td><td>hp05.jpg</td></tr>",
                            "<tr><td>The Accursed Ghild</td><td>JK Rowling</td><td>399.00</td><td>4.10</td><td>tac.jpg</td></tr>",
                            "<tr><td>Harry Potter and the Deathly Hollows</td><td>JK Rowling</td><td>499.00</td><td>4.70</td><td>hp07.jpg</td></tr>",
                            "<tr><td>Harry Potter and the Prisioner of Askaban</td><td>JK Rowling</td><td>499.00</td><td>4.20</td><td>hp03.jpg</td></tr>",
                            "<tr><td>The Count of Monte Cristo</td><td>Alexandre Dumas</td><td>499.00</td><td>4.80</td><td>cristo.jpg</td></tr>",
                            "<tr><td>Harry Potter and the Goblet of Fire</td><td>JK Rowling</td><td>599.00</td><td>4.20</td><td>hp04.jpg</td></tr>",
                            "<tr><td>Harry Potter and the Half-blood Prince</td><td>JK Rowling</td><td>599.00</td><td>4.50</td><td>hp06.jpg</td></tr>",
                            "</table>"
                        ]
                    }
                }
            ],
            "execution_count": 25
        },
        {
            "cell_type": "code",
            "source": [
                "SELECT \r\n",
                "TOP 5\r\n",
                "    *\r\n",
                "FROM\r\n",
                "    BOOKS\r\n",
                "ORDER BY\r\n",
                "    RATING DESC\r\n",
                "\r\n",
                ""
            ],
            "metadata": {
                "language": "sql",
                "azdata_cell_guid": "bc631920-ed9f-4507-a42f-e0af2b4da727"
            },
            "outputs": [
                {
                    "output_type": "display_data",
                    "data": {
                        "text/html": "(16 rows affected)"
                    },
                    "metadata": {}
                },
                {
                    "output_type": "display_data",
                    "data": {
                        "text/html": "Total execution time: 00:00:00.012"
                    },
                    "metadata": {}
                },
                {
                    "output_type": "execute_result",
                    "metadata": {},
                    "execution_count": 28,
                    "data": {
                        "application/vnd.dataresource+json": {
                            "schema": {
                                "fields": [
                                    {
                                        "name": "TITLE"
                                    },
                                    {
                                        "name": "AUTHOR"
                                    },
                                    {
                                        "name": "PRICE"
                                    },
                                    {
                                        "name": "RATING"
                                    },
                                    {
                                        "name": "COVER"
                                    }
                                ]
                            },
                            "data": [
                                {
                                    "TITLE": "The Count of Monte Cristo",
                                    "AUTHOR": "Alexandre Dumas",
                                    "PRICE": "499.00",
                                    "RATING": "4.80",
                                    "COVER": "cristo.jpg"
                                },
                                {
                                    "TITLE": "The Accursed God",
                                    "AUTHOR": "Vivek Dutta Mishra",
                                    "PRICE": "299.00",
                                    "RATING": "4.70",
                                    "COVER": "tag.png"
                                },
                                {
                                    "TITLE": "Harry Potter and the Order of Phoenix",
                                    "AUTHOR": "JK Rowling",
                                    "PRICE": "399.00",
                                    "RATING": "4.70",
                                    "COVER": "hp05.jpg"
                                },
                                {
                                    "TITLE": "Harry Potter and the Deathly Hollows",
                                    "AUTHOR": "JK Rowling",
                                    "PRICE": "499.00",
                                    "RATING": "4.70",
                                    "COVER": "hp07.jpg"
                                },
                                {
                                    "TITLE": "Rashmirathi",
                                    "AUTHOR": "Ramdhari Singh Dinkar",
                                    "PRICE": "299.00",
                                    "RATING": "4.70",
                                    "COVER": "/unknown.png"
                                },
                                {
                                    "TITLE": "Manas",
                                    "AUTHOR": "Vivek Dutta Mishra",
                                    "PRICE": "199.00",
                                    "RATING": "4.60",
                                    "COVER": "manas.png"
                                },
                                {
                                    "TITLE": "Harry Potter and the Half-blood Prince",
                                    "AUTHOR": "JK Rowling",
                                    "PRICE": "599.00",
                                    "RATING": "4.50",
                                    "COVER": "hp06.jpg"
                                },
                                {
                                    "TITLE": "Kurukshetra",
                                    "AUTHOR": "Ramdhari Singh Dinkar",
                                    "PRICE": "99.00",
                                    "RATING": "4.50",
                                    "COVER": "kurukshetra.jpg"
                                },
                                {
                                    "TITLE": "Harry Potter and the Philosophers Stone",
                                    "AUTHOR": "JK Rowling",
                                    "PRICE": "299.00",
                                    "RATING": "4.50",
                                    "COVER": "hp01.jpg"
                                },
                                {
                                    "TITLE": "Harry Potter and the and the Chamber of Secrets",
                                    "AUTHOR": "JK Rowling",
                                    "PRICE": "199.00",
                                    "RATING": "4.40",
                                    "COVER": "hp02.jpg"
                                },
                                {
                                    "TITLE": "Harry Potter and the Prisioner of Askaban",
                                    "AUTHOR": "JK Rowling",
                                    "PRICE": "499.00",
                                    "RATING": "4.20",
                                    "COVER": "hp03.jpg"
                                },
                                {
                                    "TITLE": "Harry Potter and the Goblet of Fire",
                                    "AUTHOR": "JK Rowling",
                                    "PRICE": "599.00",
                                    "RATING": "4.20",
                                    "COVER": "hp04.jpg"
                                },
                                {
                                    "TITLE": "The Accursed Ghild",
                                    "AUTHOR": "JK Rowling",
                                    "PRICE": "399.00",
                                    "RATING": "4.10",
                                    "COVER": "tac.jpg"
                                },
                                {
                                    "TITLE": "The mand in the Iron Mask",
                                    "AUTHOR": "Alexandre Dumas",
                                    "PRICE": "299.00",
                                    "RATING": "3.80",
                                    "COVER": "iron.jpg"
                                },
                                {
                                    "TITLE": "Ajaya",
                                    "AUTHOR": "Anand Neelkhanthan",
                                    "PRICE": "299.00",
                                    "RATING": "3.10",
                                    "COVER": "ajaya.jpg"
                                },
                                {
                                    "TITLE": "Asura",
                                    "AUTHOR": "Anand Neelkanthan",
                                    "PRICE": "199.00",
                                    "RATING": "2.00",
                                    "COVER": "asura.jpg"
                                }
                            ]
                        },
                        "text/html": [
                            "<table>",
                            "<tr><th>TITLE</th><th>AUTHOR</th><th>PRICE</th><th>RATING</th><th>COVER</th></tr>",
                            "<tr><td>The Count of Monte Cristo</td><td>Alexandre Dumas</td><td>499.00</td><td>4.80</td><td>cristo.jpg</td></tr>",
                            "<tr><td>The Accursed God</td><td>Vivek Dutta Mishra</td><td>299.00</td><td>4.70</td><td>tag.png</td></tr>",
                            "<tr><td>Harry Potter and the Order of Phoenix</td><td>JK Rowling</td><td>399.00</td><td>4.70</td><td>hp05.jpg</td></tr>",
                            "<tr><td>Harry Potter and the Deathly Hollows</td><td>JK Rowling</td><td>499.00</td><td>4.70</td><td>hp07.jpg</td></tr>",
                            "<tr><td>Rashmirathi</td><td>Ramdhari Singh Dinkar</td><td>299.00</td><td>4.70</td><td>/unknown.png</td></tr>",
                            "<tr><td>Manas</td><td>Vivek Dutta Mishra</td><td>199.00</td><td>4.60</td><td>manas.png</td></tr>",
                            "<tr><td>Harry Potter and the Half-blood Prince</td><td>JK Rowling</td><td>599.00</td><td>4.50</td><td>hp06.jpg</td></tr>",
                            "<tr><td>Kurukshetra</td><td>Ramdhari Singh Dinkar</td><td>99.00</td><td>4.50</td><td>kurukshetra.jpg</td></tr>",
                            "<tr><td>Harry Potter and the Philosophers Stone</td><td>JK Rowling</td><td>299.00</td><td>4.50</td><td>hp01.jpg</td></tr>",
                            "<tr><td>Harry Potter and the and the Chamber of Secrets</td><td>JK Rowling</td><td>199.00</td><td>4.40</td><td>hp02.jpg</td></tr>",
                            "<tr><td>Harry Potter and the Prisioner of Askaban</td><td>JK Rowling</td><td>499.00</td><td>4.20</td><td>hp03.jpg</td></tr>",
                            "<tr><td>Harry Potter and the Goblet of Fire</td><td>JK Rowling</td><td>599.00</td><td>4.20</td><td>hp04.jpg</td></tr>",
                            "<tr><td>The Accursed Ghild</td><td>JK Rowling</td><td>399.00</td><td>4.10</td><td>tac.jpg</td></tr>",
                            "<tr><td>The mand in the Iron Mask</td><td>Alexandre Dumas</td><td>299.00</td><td>3.80</td><td>iron.jpg</td></tr>",
                            "<tr><td>Ajaya</td><td>Anand Neelkhanthan</td><td>299.00</td><td>3.10</td><td>ajaya.jpg</td></tr>",
                            "<tr><td>Asura</td><td>Anand Neelkanthan</td><td>199.00</td><td>2.00</td><td>asura.jpg</td></tr>",
                            "</table>"
                        ]
                    }
                }
            ],
            "execution_count": 28
        },
        {
            "cell_type": "markdown",
            "source": [
                "### Partial Text Match\n",
                "\n",
                "  \n",
                "\n",
                "-  = opeartors matches exact value\n",
                "- To match partial texts we use\n",
                "1.  LIKE operator\n",
                "2. Wild card % that matches one or more characters\n",
                "- Example\n",
                "    - TITLE LIKE '%Harry Potter%'\n",
                "        - Any text that contains Harry Potter\n",
                "    - TITLE LIKE 'Harry Potter%'\n",
                "        - A Text that starts with Harry Potter and may have more character\n",
                "    - TITLE LIKE '%Harry Potter'\n",
                "        - A Text that ends with Harry Potter and may have more characters before"
            ],
            "metadata": {
                "language": "sql",
                "azdata_cell_guid": "9ae1b3e4-5115-4a6a-adf7-0f88156fc901"
            },
            "attachments": {}
        },
        {
            "cell_type": "code",
            "source": [
                "SELECT \r\n",
                "    * \r\n",
                "FROM\r\n",
                "    BOOKS\r\n",
                "WHERE\r\n",
                "    TITLE LIKE 'Harry Potter'\r\n",
                "ORDER BY PRICE"
            ],
            "metadata": {
                "language": "sql",
                "azdata_cell_guid": "6b565f82-2b39-466d-b402-6288abb7498f"
            },
            "outputs": [
                {
                    "output_type": "display_data",
                    "data": {
                        "text/html": "(0 rows affected)"
                    },
                    "metadata": {}
                },
                {
                    "output_type": "display_data",
                    "data": {
                        "text/html": "Total execution time: 00:00:00.003"
                    },
                    "metadata": {}
                },
                {
                    "output_type": "execute_result",
                    "metadata": {},
                    "execution_count": 31,
                    "data": {
                        "application/vnd.dataresource+json": {
                            "schema": {
                                "fields": [
                                    {
                                        "name": "TITLE"
                                    },
                                    {
                                        "name": "AUTHOR"
                                    },
                                    {
                                        "name": "PRICE"
                                    },
                                    {
                                        "name": "RATING"
                                    },
                                    {
                                        "name": "COVER"
                                    }
                                ]
                            },
                            "data": []
                        },
                        "text/html": [
                            "<table>",
                            "<tr><th>TITLE</th><th>AUTHOR</th><th>PRICE</th><th>RATING</th><th>COVER</th></tr>",
                            "</table>"
                        ]
                    }
                }
            ],
            "execution_count": 31
        },
        {
            "cell_type": "markdown",
            "source": [
                "### AGGREGATE QUERIES\n",
                "\n",
                "- Aggregate queries operate on multiple rows to give a combined single value from those rows\n",
                "- They always returns a single row for given number of rows\n",
                "- We may use \n",
                "    - all rows\n",
                "    - rows filtered by where\n",
                "\n",
                "### 1\\. Count All Rows"
            ],
            "metadata": {
                "language": "sql",
                "azdata_cell_guid": "e1169da9-75ae-4c31-83d8-2b1f40de158b"
            },
            "attachments": {}
        },
        {
            "cell_type": "code",
            "source": [
                "SELECT\r\n",
                "    COUNT(*)\r\n",
                "FROM \r\n",
                "    BOOKS"
            ],
            "metadata": {
                "language": "sql",
                "azdata_cell_guid": "85bd5683-26a7-4257-a072-520c8ed57566"
            },
            "outputs": [
                {
                    "output_type": "display_data",
                    "data": {
                        "text/html": "(1 row affected)"
                    },
                    "metadata": {}
                },
                {
                    "output_type": "display_data",
                    "data": {
                        "text/html": "Total execution time: 00:00:00.005"
                    },
                    "metadata": {}
                },
                {
                    "output_type": "execute_result",
                    "metadata": {},
                    "execution_count": 32,
                    "data": {
                        "application/vnd.dataresource+json": {
                            "schema": {
                                "fields": [
                                    {
                                        "name": "(No column name)"
                                    }
                                ]
                            },
                            "data": [
                                {
                                    "(No column name)": "16"
                                }
                            ]
                        },
                        "text/html": [
                            "<table>",
                            "<tr><th>(No column name)</th></tr>",
                            "<tr><td>16</td></tr>",
                            "</table>"
                        ]
                    }
                }
            ],
            "execution_count": 32
        },
        {
            "cell_type": "markdown",
            "source": [
                "## More Aggregate Functions\n",
                "\n",
                "##   \n",
                "\n",
                "### \n",
                "\n",
                "1. sum()\n",
                "2. average()\n",
                "3. min()\n",
                "4. max()\n",
                "\n",
                "### Find min and max rating for Books by JK Rowling"
            ],
            "metadata": {
                "language": "sql",
                "azdata_cell_guid": "a52dec79-0771-4674-b466-8cf2d914166d"
            },
            "attachments": {}
        },
        {
            "cell_type": "code",
            "source": [
                "SELECT\r\n",
                "    COUNT(PRICE),\r\n",
                "    MIN(PRICE),\r\n",
                "    MAX(PRICE),\r\n",
                "    MIN(RATING),\r\n",
                "    MAX(RATING)\r\n",
                "FROM\r\n",
                "    BOOKS\r\n",
                "WHERE\r\n",
                "    AUTHOR LIKE '%Rowling'"
            ],
            "metadata": {
                "azdata_cell_guid": "bbec0d27-70f5-40a2-b2e3-be8f6809e9e5",
                "language": "sql"
            },
            "outputs": [
                {
                    "output_type": "display_data",
                    "data": {
                        "text/html": "(1 row affected)"
                    },
                    "metadata": {}
                },
                {
                    "output_type": "display_data",
                    "data": {
                        "text/html": "Total execution time: 00:00:00.007"
                    },
                    "metadata": {}
                },
                {
                    "output_type": "execute_result",
                    "metadata": {},
                    "execution_count": 33,
                    "data": {
                        "application/vnd.dataresource+json": {
                            "schema": {
                                "fields": [
                                    {
                                        "name": "(No column name)"
                                    },
                                    {
                                        "name": "(No column name)"
                                    },
                                    {
                                        "name": "(No column name)"
                                    },
                                    {
                                        "name": "(No column name)"
                                    },
                                    {
                                        "name": "(No column name)"
                                    }
                                ]
                            },
                            "data": [
                                {
                                    "(No column name)": "4.70"
                                }
                            ]
                        },
                        "text/html": [
                            "<table>",
                            "<tr><th>(No column name)</th><th>(No column name)</th><th>(No column name)</th><th>(No column name)</th><th>(No column name)</th></tr>",
                            "<tr><td>8</td><td>199.00</td><td>599.00</td><td>4.10</td><td>4.70</td></tr>",
                            "</table>"
                        ]
                    }
                }
            ],
            "execution_count": 33
        },
        {
            "cell_type": "markdown",
            "source": [
                "### Adding an Alias (Column Name) from a value in the query\n",
                "\n",
                "  \n",
                "\n",
                "- We can provide alias for\n",
                "    - Any column\n",
                "    - Expression\n",
                "    - Table Name\n",
                "- Alias is provided by adding alias name after the item being aliased\n",
                "    - AS keyword is optional"
            ],
            "metadata": {
                "azdata_cell_guid": "5fe87d6c-e897-4d87-8d17-831d09785f56"
            },
            "attachments": {}
        },
        {
            "cell_type": "code",
            "source": [
                "SELECT\r\n",
                "    COUNT(PRICE) AS TOTAL_BOOKS,\r\n",
                "    MIN(PRICE)   AS MIN_PRICE,\r\n",
                "    MAX(PRICE)      MAX_PRICE,\r\n",
                "    MIN(RATING)     MIN_RATING,\r\n",
                "    MAX(RATING)     MAX_RATING\r\n",
                "FROM\r\n",
                "    BOOKS\r\n",
                "WHERE\r\n",
                "    AUTHOR LIKE '%Rowling'"
            ],
            "metadata": {
                "azdata_cell_guid": "05959473-4b26-4e2e-ba93-92c9649b4198",
                "language": "sql"
            },
            "outputs": [
                {
                    "output_type": "display_data",
                    "data": {
                        "text/html": "(1 row affected)"
                    },
                    "metadata": {}
                },
                {
                    "output_type": "display_data",
                    "data": {
                        "text/html": "Total execution time: 00:00:00.005"
                    },
                    "metadata": {}
                },
                {
                    "output_type": "execute_result",
                    "metadata": {},
                    "execution_count": 36,
                    "data": {
                        "application/vnd.dataresource+json": {
                            "schema": {
                                "fields": [
                                    {
                                        "name": "TOTAL_BOOKS"
                                    },
                                    {
                                        "name": "MIN_PRICE"
                                    },
                                    {
                                        "name": "MAX_PRICE"
                                    },
                                    {
                                        "name": "MIN_RATING"
                                    },
                                    {
                                        "name": "MAX_RATING"
                                    }
                                ]
                            },
                            "data": [
                                {
                                    "TOTAL_BOOKS": "8",
                                    "MIN_PRICE": "199.00",
                                    "MAX_PRICE": "599.00",
                                    "MIN_RATING": "4.10",
                                    "MAX_RATING": "4.70"
                                }
                            ]
                        },
                        "text/html": [
                            "<table>",
                            "<tr><th>TOTAL_BOOKS</th><th>MIN_PRICE</th><th>MAX_PRICE</th><th>MIN_RATING</th><th>MAX_RATING</th></tr>",
                            "<tr><td>8</td><td>199.00</td><td>599.00</td><td>4.10</td><td>4.70</td></tr>",
                            "</table>"
                        ]
                    }
                }
            ],
            "execution_count": 36
        },
        {
            "cell_type": "markdown",
            "source": [
                "# We CAN'T Mix Aggregate and Non Aggreate Query\n",
                "\n",
                "- A Single query can't return\n",
                "    - Book Title\n",
                "    - Book Count\n",
                "- There are 16 book titles and a single count\n",
                "- A Query can't return both as number of rows required to represent the idea is different\n",
                "-"
            ],
            "metadata": {
                "language": "sql",
                "azdata_cell_guid": "24a1c7a1-d929-47e6-8e7a-f1aa0e879f4f"
            },
            "attachments": {}
        },
        {
            "cell_type": "code",
            "source": [
                "SELECT\r\n",
                "    TITLE,\r\n",
                "    COUNT(TITLE)\r\n",
                "FROM\r\n",
                "    BOOKS"
            ],
            "metadata": {
                "azdata_cell_guid": "d166d79b-a530-48a4-aa49-752d9e12faec",
                "language": "sql",
                "tags": []
            },
            "outputs": [
                {
                    "output_type": "error",
                    "evalue": "Msg 8120, Level 16, State 1, Line 2\r\nColumn 'BOOKS.TITLE' is invalid in the select list because it is not contained in either an aggregate function or the GROUP BY clause.",
                    "ename": "",
                    "traceback": []
                },
                {
                    "output_type": "display_data",
                    "data": {
                        "text/html": "Total execution time: 00:00:00"
                    },
                    "metadata": {}
                }
            ],
            "execution_count": 37
        },
        {
            "cell_type": "markdown",
            "source": [
                "DISTINCT\n",
                "\n",
                "  \n",
                "\n",
                "- Distinct returns distinct rows from a table\n",
                "- It ignores duplicates\n",
                "- All duplciate values are selected only ones\n",
                "\n",
                "  \n",
                "\n",
                "### Get a List of Authors from our Book's Database"
            ],
            "metadata": {
                "language": "sql",
                "azdata_cell_guid": "94845a46-60b7-433f-b747-c174228443b1"
            },
            "attachments": {}
        },
        {
            "cell_type": "code",
            "source": [
                "SELECT\r\n",
                "    DISTINCT AUTHOR\r\n",
                "FROM\r\n",
                "    BOOKS"
            ],
            "metadata": {
                "azdata_cell_guid": "f7830f5c-9c3c-46ce-ad8f-10e58b3db6c5",
                "language": "sql"
            },
            "outputs": [
                {
                    "output_type": "display_data",
                    "data": {
                        "text/html": "(5 rows affected)"
                    },
                    "metadata": {}
                },
                {
                    "output_type": "display_data",
                    "data": {
                        "text/html": "Total execution time: 00:00:00.002"
                    },
                    "metadata": {}
                },
                {
                    "output_type": "execute_result",
                    "metadata": {},
                    "execution_count": 44,
                    "data": {
                        "application/vnd.dataresource+json": {
                            "schema": {
                                "fields": [
                                    {
                                        "name": "AUTHOR"
                                    }
                                ]
                            },
                            "data": [
                                {
                                    "AUTHOR": "Alexandre Dumas"
                                },
                                {
                                    "AUTHOR": "Anant Neelkanthan"
                                },
                                {
                                    "AUTHOR": "JK Rowling"
                                },
                                {
                                    "AUTHOR": "Ramdhari Singh Dinkar"
                                },
                                {
                                    "AUTHOR": "Vivek Dutta Mishra"
                                }
                            ]
                        },
                        "text/html": [
                            "<table>",
                            "<tr><th>AUTHOR</th></tr>",
                            "<tr><td>Alexandre Dumas</td></tr>",
                            "<tr><td>Anant Neelkanthan</td></tr>",
                            "<tr><td>JK Rowling</td></tr>",
                            "<tr><td>Ramdhari Singh Dinkar</td></tr>",
                            "<tr><td>Vivek Dutta Mishra</td></tr>",
                            "</table>"
                        ]
                    }
                }
            ],
            "execution_count": 44
        },
        {
            "cell_type": "markdown",
            "source": [
                ""
            ],
            "metadata": {
                "azdata_cell_guid": "49cfe1e1-f32c-43f4-91f1-4d1821fee06f"
            }
        },
        {
            "cell_type": "code",
            "source": [
                "SELECT\r\n",
                "    COUNT(*) TOTAL_BOOKS,\r\n",
                "    COUNT(DISTINCT(AUTHOR)) TOTAL_AUTHORS\r\n",
                "FROM\r\n",
                "    BOOKS"
            ],
            "metadata": {
                "azdata_cell_guid": "aa7a0f17-58ff-4714-9714-f16a1e9dbafe",
                "language": "sql"
            },
            "outputs": [
                {
                    "output_type": "display_data",
                    "data": {
                        "text/html": "(1 row affected)"
                    },
                    "metadata": {}
                },
                {
                    "output_type": "display_data",
                    "data": {
                        "text/html": "Total execution time: 00:00:00.005"
                    },
                    "metadata": {}
                },
                {
                    "output_type": "execute_result",
                    "metadata": {},
                    "execution_count": 39,
                    "data": {
                        "application/vnd.dataresource+json": {
                            "schema": {
                                "fields": [
                                    {
                                        "name": "TOTAL_BOOKS"
                                    },
                                    {
                                        "name": "TOTAL_AUTHORS"
                                    }
                                ]
                            },
                            "data": [
                                {
                                    "TOTAL_BOOKS": "16",
                                    "TOTAL_AUTHORS": "6"
                                }
                            ]
                        },
                        "text/html": [
                            "<table>",
                            "<tr><th>TOTAL_BOOKS</th><th>TOTAL_AUTHORS</th></tr>",
                            "<tr><td>16</td><td>6</td></tr>",
                            "</table>"
                        ]
                    }
                }
            ],
            "execution_count": 39
        },
        {
            "cell_type": "markdown",
            "source": [
                "# Group By\n",
                "\n",
                "  \n",
                "\n",
                "- Group By Groups the Input Rows (Table) based on a Key Column\n",
                "- It works in two Phases\n",
                "\n",
                "### Phase #1\n",
                "\n",
                "- The Input rows/table is logically splitted into multiple logical tables\n",
                "    - Each table will have a unique value for the key column\n",
                "- Example\n",
                "    - Books can be grouped by Author\n",
                "        - A total of DISTINCT(AUTHOR) GROUP WILL BE CREATED.\n",
                "    - EACH GROUP WILL CONTAIN ALL ROWS THAT CONTAINS GROUP KEY\n",
                "\n",
                "### Phase #2\n",
                "\n",
                "- Select 1 row worth information from each group and return\n",
                "- Final result will have one row corresponding to each group.\n",
                "\n",
                "  \n",
                "\n",
                "## What we can not include\n",
                "\n",
                "  \n",
                "\n",
                "- Any thing that has (can have) more than one DISTINCT value in the group\n",
                "- In our example: Title, Price, Rating,Cover\n",
                "\n",
                "## What we can include\n",
                "\n",
                "-      Group Key\n",
                "    - This value is naturally unqiue in the group\n",
                "\n",
                "  \n",
                "\n",
                "## Example: Return Group Key from Group"
            ],
            "metadata": {
                "language": "",
                "azdata_cell_guid": "52564695-cc6d-46d8-a0ef-90ee43519923"
            },
            "attachments": {}
        },
        {
            "cell_type": "code",
            "source": [
                "SELECT \r\n",
                "    AUTHOR\r\n",
                "FROM\r\n",
                "    BOOKS\r\n",
                "GROUP BY \r\n",
                "    AUTHOR "
            ],
            "metadata": {
                "azdata_cell_guid": "7a62310f-f426-4b3d-b4ec-911c916983fc",
                "language": "sql"
            },
            "outputs": [
                {
                    "output_type": "display_data",
                    "data": {
                        "text/html": "(5 rows affected)"
                    },
                    "metadata": {}
                },
                {
                    "output_type": "display_data",
                    "data": {
                        "text/html": "Total execution time: 00:00:00.016"
                    },
                    "metadata": {}
                },
                {
                    "output_type": "execute_result",
                    "metadata": {},
                    "execution_count": 43,
                    "data": {
                        "application/vnd.dataresource+json": {
                            "schema": {
                                "fields": [
                                    {
                                        "name": "AUTHOR"
                                    }
                                ]
                            },
                            "data": [
                                {
                                    "AUTHOR": "Alexandre Dumas"
                                },
                                {
                                    "AUTHOR": "Anant Neelkanthan"
                                },
                                {
                                    "AUTHOR": "JK Rowling"
                                },
                                {
                                    "AUTHOR": "Ramdhari Singh Dinkar"
                                },
                                {
                                    "AUTHOR": "Vivek Dutta Mishra"
                                }
                            ]
                        },
                        "text/html": [
                            "<table>",
                            "<tr><th>AUTHOR</th></tr>",
                            "<tr><td>Alexandre Dumas</td></tr>",
                            "<tr><td>Anant Neelkanthan</td></tr>",
                            "<tr><td>JK Rowling</td></tr>",
                            "<tr><td>Ramdhari Singh Dinkar</td></tr>",
                            "<tr><td>Vivek Dutta Mishra</td></tr>",
                            "</table>"
                        ]
                    }
                }
            ],
            "execution_count": 43
        },
        {
            "cell_type": "markdown",
            "source": [
                "## DISTINCT VS GROUP BY\n",
                "\n",
                "- DISTINCT SEARCHES FROM UNIQUE VALUES IN ALL COLUMNS AND RETURNS UNIQUE RESULTS\n",
                "    - It doesn't create any inner partition\n",
                "    - It can only return the distinct value of the given column\n",
                "- GROUP BY\n",
                "    - Internally creates partitions\n",
                "    - It can return more information about each partition that can't be returned using distinct\n",
                "\n",
                "  \n",
                "\n",
                "## What Else can we return using Group By\n",
                "\n",
                "  \n",
                "\n",
                "- We can return GROUP KEY (It is unique and single)\n",
                "- We can also return Aggregate values from the group\n",
                "    - Count\n",
                "    - Average\n",
                "    - MIN"
            ],
            "metadata": {
                "azdata_cell_guid": "05e7a313-4052-4424-9b27-c922d9ed711d"
            },
            "attachments": {}
        },
        {
            "cell_type": "code",
            "source": [
                "SELECT\r\n",
                "    AUTHOR,\r\n",
                "    COUNT(*) AS BOOKS_WRITTEN,\r\n",
                "    AVG(RATING) AS AVG_RATING\r\n",
                "FROM\r\n",
                "    BOOKS\r\n",
                "GROUP BY\r\n",
                "    AUTHOR"
            ],
            "metadata": {
                "azdata_cell_guid": "95f305d0-5313-4bbc-9d55-156670e86794",
                "language": "sql",
                "tags": []
            },
            "outputs": [
                {
                    "output_type": "display_data",
                    "data": {
                        "text/html": "(5 rows affected)"
                    },
                    "metadata": {}
                },
                {
                    "output_type": "display_data",
                    "data": {
                        "text/html": "Total execution time: 00:00:00.015"
                    },
                    "metadata": {}
                },
                {
                    "output_type": "execute_result",
                    "metadata": {},
                    "execution_count": 45,
                    "data": {
                        "application/vnd.dataresource+json": {
                            "schema": {
                                "fields": [
                                    {
                                        "name": "AUTHOR"
                                    },
                                    {
                                        "name": "BOOKS_WRITTEN"
                                    },
                                    {
                                        "name": "AVG_RATING"
                                    }
                                ]
                            },
                            "data": [
                                {
                                    "AUTHOR": "Alexandre Dumas",
                                    "BOOKS_WRITTEN": "2",
                                    "AVG_RATING": "4.300000"
                                },
                                {
                                    "AUTHOR": "Anant Neelkanthan",
                                    "BOOKS_WRITTEN": "2",
                                    "AVG_RATING": "2.550000"
                                },
                                {
                                    "AUTHOR": "JK Rowling",
                                    "BOOKS_WRITTEN": "8",
                                    "AVG_RATING": "4.412500"
                                },
                                {
                                    "AUTHOR": "Ramdhari Singh Dinkar",
                                    "BOOKS_WRITTEN": "2",
                                    "AVG_RATING": "4.600000"
                                },
                                {
                                    "AUTHOR": "Vivek Dutta Mishra",
                                    "BOOKS_WRITTEN": "2",
                                    "AVG_RATING": "4.650000"
                                }
                            ]
                        },
                        "text/html": [
                            "<table>",
                            "<tr><th>AUTHOR</th><th>BOOKS_WRITTEN</th><th>AVG_RATING</th></tr>",
                            "<tr><td>Alexandre Dumas</td><td>2</td><td>4.300000</td></tr>",
                            "<tr><td>Anant Neelkanthan</td><td>2</td><td>2.550000</td></tr>",
                            "<tr><td>JK Rowling</td><td>8</td><td>4.412500</td></tr>",
                            "<tr><td>Ramdhari Singh Dinkar</td><td>2</td><td>4.600000</td></tr>",
                            "<tr><td>Vivek Dutta Mishra</td><td>2</td><td>4.650000</td></tr>",
                            "</table>"
                        ]
                    }
                }
            ],
            "execution_count": 45
        },
        {
            "cell_type": "code",
            "source": [
                "SELECT\r\n",
                "   TITLE\r\n",
                "FROM\r\n",
                "    BOOKS\r\n",
                "GROUP BY\r\n",
                "    AUTHOR"
            ],
            "metadata": {
                "azdata_cell_guid": "3e845c1b-5477-434e-afbd-63754526313b",
                "language": "sql"
            },
            "outputs": [
                {
                    "output_type": "error",
                    "evalue": "Msg 8120, Level 16, State 1, Line 2\r\nColumn 'BOOKS.TITLE' is invalid in the select list because it is not contained in either an aggregate function or the GROUP BY clause.",
                    "ename": "",
                    "traceback": []
                },
                {
                    "output_type": "display_data",
                    "data": {
                        "text/html": "Total execution time: 00:00:00.001"
                    },
                    "metadata": {}
                }
            ],
            "execution_count": 48
        }
    ]
}